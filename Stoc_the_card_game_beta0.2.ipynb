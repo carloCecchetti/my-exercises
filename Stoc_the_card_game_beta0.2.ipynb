{
 "cells": [
  {
   "cell_type": "markdown",
   "metadata": {},
   "source": [
    "Stoc: the card game 28/06/2020"
   ]
  },
  {
   "cell_type": "code",
   "execution_count": 262,
   "metadata": {},
   "outputs": [],
   "source": [
    "\"\"\"\n",
    "Deleted the feature to select the number of players because first of all the game must run at least pc vs player.\n",
    "I have problems with the first turn, but I know how to fix. Tomorrow I will fix it.\n",
    "\"\"\"\n",
    "import random\n",
    "\n",
    "suits = ('Hearts', 'Diamonds', 'Spades', 'Clubs')\n",
    "ranks = (\"Ace\",'Two', 'Three', 'Four', 'Five', 'Six', 'Seven', 'Jack', 'Queen', 'King')\n",
    "\n",
    "deck = []\n",
    "for suit in suits:\n",
    "    for rank in ranks:\n",
    "        deck.append(f\"{rank} of {suit}\")\n",
    "random.shuffle(deck)\n",
    "\n",
    "pl1_cov_hand = deck[:20]\n",
    "pl1_uncov_hand = []\n",
    "cpu_cov_hand = deck[20:]\n",
    "cpu_uncov_hand = []\n",
    "\n",
    "def pl1_play():\n",
    "    global pl1_cov_hand,pl1_uncov_hand,cpu_cov_hand,cpu_uncov_hand\n",
    "    \n",
    "    if len(pl1_cov_hand) == 0:\n",
    "        if len(pl1_uncov_hand) == 0:\n",
    "            print(\"Player 1 won\")\n",
    "        else:\n",
    "            pl1_cov_hand = pl1_uncov_hand\n",
    "            pl1_uncov_hand = []\n",
    "    \n",
    "    card = pl1_cov_hand.pop()\n",
    "    \n",
    "    cpu_card = cpu_uncov_hand[-1]\n",
    "    \n",
    "    try:\n",
    "        ranks.index(card.split(\" \")[0])-ranks.index(cpu_card.split(\" \")[0])==1\n",
    "        cpu_uncov_hand.append(card)\n",
    "    except:\n",
    "        pl1_uncov_hand.append(card)\n",
    "        \n",
    "    if ranks.index(card.split(\" \")[0])-ranks.index(cpu_card.split(\" \")[0])==1:\n",
    "        cpu_uncov_hand.append(card)\n",
    "    else:\n",
    "        pl1_uncov_hand.append(card)\n",
    "    \n",
    "    \n",
    "    print(f\"Card: {card}\\nCovered deck: {len(pl1_cov_hand)}\\tUncovered deck: {len(pl1_uncov_hand)}\\t Total card:{len(pl1_cov_hand)+len(pl1_uncov_hand)}\")\n",
    "    \n",
    "def cpu_play():\n",
    "    global pl1_cov_hand,pl1_uncov_hand,cpu_cov_hand,cpu_uncov_hand\n",
    "    \n",
    "    if len(cpu_cov_hand) == 0:\n",
    "        if len(cpu_uncov_hand) == 0:\n",
    "            print(\"Player 1 won\")\n",
    "        else:\n",
    "            cpu_cov_hand = cpu_uncov_hand\n",
    "            cpu_uncov_hand = []\n",
    "    \n",
    "    card = cpu_cov_hand.pop()\n",
    "    \n",
    "    pl1_card = pl1_uncov_hand[-1]\n",
    "    \n",
    "    try:\n",
    "        ranks.index(card.split(\" \")[0])-ranks.index(pl1_card.split(\" \")[0])==1\n",
    "        pl1_uncov_hand.append(card)\n",
    "    except:\n",
    "        cpu_uncov_hand.append(card)\n",
    "    \n",
    "    if ranks.index(card.split(\" \")[0])-ranks.index(pl1_card.split(\" \")[0])==1:\n",
    "        pl1_uncov_hand.append(card)\n",
    "    else:\n",
    "        cpu_uncov_hand.append(card)\n",
    "        \n",
    "    print(f\"Card: {card}\\nCovered deck: {len(cpu_cov_hand)}\\tUncovered deck: {len(cpu_uncov_hand)}\\t Total card:{len(cpu_cov_hand)+len(cpu_uncov_hand)}\")"
   ]
  },
  {
   "cell_type": "code",
   "execution_count": 263,
   "metadata": {},
   "outputs": [
    {
     "ename": "IndexError",
     "evalue": "list index out of range",
     "output_type": "error",
     "traceback": [
      "\u001b[1;31m---------------------------------------------------------------------------\u001b[0m",
      "\u001b[1;31mIndexError\u001b[0m                                Traceback (most recent call last)",
      "\u001b[1;32m<ipython-input-263-6bb69b153951>\u001b[0m in \u001b[0;36m<module>\u001b[1;34m\u001b[0m\n\u001b[1;32m----> 1\u001b[1;33m \u001b[0mpl1_play\u001b[0m\u001b[1;33m(\u001b[0m\u001b[1;33m)\u001b[0m\u001b[1;33m\u001b[0m\u001b[1;33m\u001b[0m\u001b[0m\n\u001b[0m",
      "\u001b[1;32m<ipython-input-262-aa242b549182>\u001b[0m in \u001b[0;36mpl1_play\u001b[1;34m()\u001b[0m\n\u001b[0;32m     11\u001b[0m     \u001b[0mcard\u001b[0m \u001b[1;33m=\u001b[0m \u001b[0mpl1_cov_hand\u001b[0m\u001b[1;33m.\u001b[0m\u001b[0mpop\u001b[0m\u001b[1;33m(\u001b[0m\u001b[1;33m)\u001b[0m\u001b[1;33m\u001b[0m\u001b[1;33m\u001b[0m\u001b[0m\n\u001b[0;32m     12\u001b[0m \u001b[1;33m\u001b[0m\u001b[0m\n\u001b[1;32m---> 13\u001b[1;33m     \u001b[0mcpu_card\u001b[0m \u001b[1;33m=\u001b[0m \u001b[0mcpu_uncov_hand\u001b[0m\u001b[1;33m[\u001b[0m\u001b[1;33m-\u001b[0m\u001b[1;36m1\u001b[0m\u001b[1;33m]\u001b[0m\u001b[1;33m\u001b[0m\u001b[1;33m\u001b[0m\u001b[0m\n\u001b[0m\u001b[0;32m     14\u001b[0m \u001b[1;33m\u001b[0m\u001b[0m\n\u001b[0;32m     15\u001b[0m     \u001b[1;32mtry\u001b[0m\u001b[1;33m:\u001b[0m\u001b[1;33m\u001b[0m\u001b[1;33m\u001b[0m\u001b[0m\n",
      "\u001b[1;31mIndexError\u001b[0m: list index out of range"
     ]
    }
   ],
   "source": [
    "pl1_play()"
   ]
  },
  {
   "cell_type": "code",
   "execution_count": 5,
   "metadata": {},
   "outputs": [],
   "source": [
    "\n"
   ]
  }
 ],
 "metadata": {
  "kernelspec": {
   "display_name": "Python 3",
   "language": "python",
   "name": "python3"
  },
  "language_info": {
   "codemirror_mode": {
    "name": "ipython",
    "version": 3
   },
   "file_extension": ".py",
   "mimetype": "text/x-python",
   "name": "python",
   "nbconvert_exporter": "python",
   "pygments_lexer": "ipython3",
   "version": "3.7.6"
  }
 },
 "nbformat": 4,
 "nbformat_minor": 4
}
