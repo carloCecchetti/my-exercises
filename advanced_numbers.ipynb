{
 "cells": [
  {
   "cell_type": "markdown",
   "metadata": {},
   "source": [
    "part 7.2 03/06/2020"
   ]
  },
  {
   "cell_type": "code",
   "execution_count": 14,
   "metadata": {},
   "outputs": [],
   "source": [
    "#re pattern syntax\n",
    "\"\"\"\n",
    "we can use metachar to selecet a certain type of patterns\n",
    "\"\"\"\n",
    "import re\n",
    "patterns = ['term1', 'term2']\n",
    "text = \"Long string bla bla with term1 and without the other term\""
   ]
  },
  {
   "cell_type": "code",
   "execution_count": 39,
   "metadata": {},
   "outputs": [],
   "source": [
    "def re_find(patterns,text):\n",
    "    for pattern in patterns:\n",
    "        print(f\"{pattern}\")\n",
    "        print(re.findall(pattern,text)) #print the list's value found in the string"
   ]
  },
  {
   "cell_type": "code",
   "execution_count": 54,
   "metadata": {},
   "outputs": [
    {
     "name": "stdout",
     "output_type": "stream",
     "text": [
      "ca*\n",
      "['c', 'caaaa', 'caa', 'ca', 'ca', 'ca', 'ca', 'ca', 'ca', 'ca', 'ca', 'c', 'c', 'c', 'c', 'caaa', 'caaa', 'caaa', 'ca', 'ca', 'caaaaa', 'caaaa']\n",
      "ca+\n",
      "['caaaa', 'caa', 'ca', 'ca', 'ca', 'ca', 'ca', 'ca', 'ca', 'ca', 'caaa', 'caaa', 'caaa', 'ca', 'ca', 'caaaaa', 'caaaa']\n",
      "ca?\n",
      "['c', 'ca', 'ca', 'ca', 'ca', 'ca', 'ca', 'ca', 'ca', 'ca', 'ca', 'c', 'c', 'c', 'c', 'ca', 'ca', 'ca', 'ca', 'ca', 'ca', 'ca']\n",
      "ca+?\n",
      "['ca', 'ca', 'ca', 'ca', 'ca', 'ca', 'ca', 'ca', 'ca', 'ca', 'ca', 'ca', 'ca', 'ca', 'ca', 'ca', 'ca']\n",
      "ca*?\n",
      "['c', 'c', 'c', 'c', 'c', 'c', 'c', 'c', 'c', 'c', 'c', 'c', 'c', 'c', 'c', 'c', 'c', 'c', 'c', 'c', 'c', 'c']\n",
      "ca??\n",
      "['c', 'c', 'c', 'c', 'c', 'c', 'c', 'c', 'c', 'c', 'c', 'c', 'c', 'c', 'c', 'c', 'c', 'c', 'c', 'c', 'c', 'c']\n",
      "ca{3}\n",
      "['caaa', 'caaa', 'caaa', 'caaa', 'caaa', 'caaa']\n",
      "ca{2,4}\n",
      "['caaaa', 'caa', 'caaa', 'caaa', 'caaa', 'caaaa', 'caaaa']\n"
     ]
    }
   ],
   "source": [
    "\"\"\"\n",
    "5 characters to express repetition in a pattern\n",
    "\n",
    "1. * repeated zero or more times\n",
    "2. + repeated at least one time\n",
    "3. ? reapeated 1 or 0 times\n",
    "4. pattern{<number of times>}\n",
    "5. pattenrn{<min number of times>,<max n of times>}\n",
    "\"\"\"\n",
    "text = \"c..caaaa.caa..acacacaca...cacaca...cacc....cccaaa...caaacaaa...caca....caaaaa...caaaa\"\n",
    "patterns =[\"ca*\", #c followed by 0 or more a\n",
    "           \"ca+\", #c followed by 1 or more a\n",
    "           \"ca?\", #c followed by 0 or 1 a\n",
    "           \"ca+?\", #c followed by only 1 a\n",
    "           \"ca*?\", #c \"\"\" only 0 a\n",
    "           \"ca??\", #Explanation in \"\"\" \"\"\"\n",
    "           \"ca{3}\", #c followed by 3 a\n",
    "           \"ca{2,4}\"] #c followed by a minimun of 2 a and a maximum of 4 a\n",
    "\"\"\"\n",
    "+, * and ? are greedy, which means they try to get as much part they can.\n",
    "+ and *, theorically can get patternes withh an infinite pattern. The ? max one char.\n",
    "By adding a ? after +,* or ? we transform them in non-greedy, so the minimum of + is 1, of * is 0 and the min of ? is 0.\n",
    "\"\"\"\n",
    "\n",
    "re_find(patterns,text)"
   ]
  },
  {
   "cell_type": "code",
   "execution_count": 61,
   "metadata": {},
   "outputs": [
    {
     "name": "stdout",
     "output_type": "stream",
     "text": [
      "[ab]\n",
      "['a', 'b', 'a', 'b', 'b', 'a', 'a', 'a', 'b', 'a', 'b', 'a', 'b']\n",
      "[ab]+\n",
      "['ababb', 'a', 'a', 'a', 'b', 'abab']\n"
     ]
    }
   ],
   "source": [
    "#we can also create our patterns\n",
    "text =\"ababb..avaeavb...eeeabab\"\n",
    "patterns = [\"[ab]\",\n",
    "            \"[ab]+\"]\n",
    "re_find(patterns,text)"
   ]
  },
  {
   "cell_type": "code",
   "execution_count": 87,
   "metadata": {},
   "outputs": [
    {
     "data": {
      "text/plain": [
       "'This message is full of interferences'"
      ]
     },
     "execution_count": 87,
     "metadata": {},
     "output_type": "execute_result"
    }
   ],
   "source": [
    "#exclusions via ^\n",
    "\"\"\"\n",
    "we can use ^<char> to exclude that char\n",
    "\"\"\"\n",
    "text = \"T&hi(&&s( m&es(sa&g&e (&&is& f&ull&& o&(f in(&&te&r((&&fe(ren(&c&es\"\n",
    "patterns = \"[^&(]\" #multiple chars after ^\n",
    "\n",
    "\"\".join(re.findall(patterns,text))"
   ]
  },
  {
   "cell_type": "code",
   "execution_count": 91,
   "metadata": {},
   "outputs": [
    {
     "name": "stdout",
     "output_type": "stream",
     "text": [
      "[a-z]\n",
      "['i', 'm', 'y', 'n', 'a', 'm', 'e', 's', 'a', 'r', 'l', 'o', 'l', 'o', 'e', 'h', 'i', 'n', 'a', 'b', 'u', 't', 'l', 'i', 'v', 'e', 'i', 'n', 't', 'a', 'l', 'y', 'h', 'o', 'p', 'e', 'c', 'a', 'n', 't', 'r', 'a', 'v', 'e', 'l', 't', 'h', 'e', 'r', 'e', 'a', 't', 'l', 'e', 'a', 's', 't', 'o', 'n', 'c', 'e', 'i', 'n', 'm', 'y', 'i', 'f', 'e']\n",
      "[A-Z]\n",
      "['H', 'C', 'I', 'V', 'C', 'I', 'I', 'I', 'I', 'L']\n",
      "[a-zA-Z]+\n",
      "['Hi', 'my', 'name', 's', 'Carlo', 'I', 'loVe', 'China', 'but', 'I', 'live', 'in', 'Italy', 'I', 'hope', 'I', 'can', 'travel', 'there', 'at', 'least', 'once', 'in', 'my', 'Life']\n",
      "[A-Z][a-z]+\n",
      "['Hi', 'Carlo', 'Ve', 'China', 'Italy', 'Life']\n"
     ]
    }
   ],
   "source": [
    "#char ranges\n",
    "\"\"\"\n",
    "It's a fast way to  to write all thhe accepted/unaccpted patterns.\n",
    "If we need to write a lot of patterns, for ex the entire alphabet, we can use this way\n",
    "\"\"\"\n",
    "text = \"Hi, my name's Carlo, I loVe China but I live in Italy. I hope I can travel there at least once in my Life\"\n",
    "patterns = [\"[a-z]\", #take only lower letters\n",
    "            \"[A-Z]\", #take only upper letters\n",
    "            \"[a-zA-Z]+\", #take both\n",
    "            \"[A-Z][a-z]+\" #take only words that contain both\n",
    "            ]\n",
    "re_find(patterns,text)"
   ]
  },
  {
   "cell_type": "code",
   "execution_count": 93,
   "metadata": {},
   "outputs": [
    {
     "name": "stdout",
     "output_type": "stream",
     "text": [
      "\\d+\n",
      "['12354']\n",
      "\\D+\n",
      "['Numbers:', ' and a #non-digits']\n",
      "\\s+\n",
      "[' ', ' ', ' ']\n",
      "\\S+\n",
      "['Numbers:12354', 'and', 'a', '#non-digits']\n",
      "\\w+\n",
      "['Numbers', '12354', 'and', 'a', 'non', 'digits']\n",
      "\\W+\n",
      "[':', ' ', ' ', ' #', '-']\n"
     ]
    }
   ],
   "source": [
    "#escape codes\n",
    "\"\"\"\n",
    "There are presetted specific type of char like digits, non-digits,whitespaces,etc\n",
    "\"\"\"\n",
    "text =\"Numbers:12354 and a #non-digits\"\n",
    "patterns = [r\"\\d+\", #only digits\n",
    "            r\"\\D+\", #non-digits\n",
    "            r\"\\s+\", #whitespaces\n",
    "            r\"\\S+\", #non-whitespace\n",
    "            r\"\\w+\", #alphanumeric\n",
    "            r\"\\W+\",] #non-alphanumeric \n",
    "re_find(patterns,text)"
   ]
  }
 ],
 "metadata": {
  "kernelspec": {
   "display_name": "Python 3",
   "language": "python",
   "name": "python3"
  },
  "language_info": {
   "codemirror_mode": {
    "name": "ipython",
    "version": 3
   },
   "file_extension": ".py",
   "mimetype": "text/x-python",
   "name": "python",
   "nbconvert_exporter": "python",
   "pygments_lexer": "ipython3",
   "version": "3.7.6"
  }
 },
 "nbformat": 4,
 "nbformat_minor": 4
}
