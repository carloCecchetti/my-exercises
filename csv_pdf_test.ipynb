{
 "cells": [
  {
   "cell_type": "markdown",
   "metadata": {},
   "source": [
    "CSV and PDF test 24/06/2020"
   ]
  },
  {
   "cell_type": "code",
   "execution_count": 40,
   "metadata": {},
   "outputs": [],
   "source": [
    "#Grab the Google Drive Link from .csv File.  Its along the diagonal from top left to bottom right\n",
    "import csv, PyPDF2\n",
    "file = open(\"find_the_link.csv\")"
   ]
  },
  {
   "cell_type": "code",
   "execution_count": 41,
   "metadata": {},
   "outputs": [],
   "source": [
    "reader = csv.reader(file)"
   ]
  },
  {
   "cell_type": "code",
   "execution_count": 42,
   "metadata": {},
   "outputs": [],
   "source": [
    "data_list = list(reader)"
   ]
  },
  {
   "cell_type": "code",
   "execution_count": 50,
   "metadata": {},
   "outputs": [],
   "source": [
    "link_in_list = []\n",
    "for x in range(len(data_list)):\n",
    "    link_in_list.append(data_list[x][x])"
   ]
  },
  {
   "cell_type": "code",
   "execution_count": 52,
   "metadata": {},
   "outputs": [
    {
     "data": {
      "text/plain": [
       "'https://drive.google.com/open?id=1G6SEgg018UB4_4xsAJJ5TdzrhmXipr4Q'"
      ]
     },
     "execution_count": 52,
     "metadata": {},
     "output_type": "execute_result"
    }
   ],
   "source": [
    "link = \"\"\n",
    "link.join(link_in_list)"
   ]
  },
  {
   "cell_type": "code",
   "execution_count": 53,
   "metadata": {},
   "outputs": [],
   "source": [
    "file.close()"
   ]
  },
  {
   "cell_type": "code",
   "execution_count": 54,
   "metadata": {},
   "outputs": [],
   "source": [
    "#find the phone number that is in the document.\n",
    "file = open(\"Find_the_Phone_Number.pdf\",\"br\")"
   ]
  },
  {
   "cell_type": "code",
   "execution_count": 55,
   "metadata": {},
   "outputs": [],
   "source": [
    "pdf_reader = PyPDF2.PdfFileReader(file)"
   ]
  },
  {
   "cell_type": "code",
   "execution_count": 62,
   "metadata": {},
   "outputs": [
    {
     "data": {
      "text/plain": [
       "17"
      ]
     },
     "execution_count": 62,
     "metadata": {},
     "output_type": "execute_result"
    }
   ],
   "source": [
    "pdf_reader.numPages"
   ]
  },
  {
   "cell_type": "code",
   "execution_count": null,
   "metadata": {},
   "outputs": [],
   "source": [
    "#let's get all the text\n",
    "text = \"\"\n",
    "for x in range(pdf_reader.numPages):\n",
    "    page_text = pdf_reader.getPage(x).extractText()\n",
    "    text = text + \"\" + page_text\n",
    "text"
   ]
  },
  {
   "cell_type": "code",
   "execution_count": 67,
   "metadata": {},
   "outputs": [
    {
     "data": {
      "text/plain": [
       "['000', '000', '000', '505', '503', '445']"
      ]
     },
     "execution_count": 67,
     "metadata": {},
     "output_type": "execute_result"
    }
   ],
   "source": [
    "import re\n",
    "pattern = r\"\\d{3}\" #the number may be format in xxx xxx xxxx. We are looking for a pattern which has 3 digits so we will find all the match xxx xxx xxx xxx\n",
    "re.findall(pattern,text) #using re"
   ]
  },
  {
   "cell_type": "code",
   "execution_count": 69,
   "metadata": {},
   "outputs": [
    {
     "name": "stdout",
     "output_type": "stream",
     "text": [
      "<re.Match object; span=(654, 657), match='000'>\n",
      "<re.Match object; span=(17799, 17802), match='000'>\n",
      "<re.Match object; span=(35047, 35050), match='000'>\n",
      "<re.Match object; span=(41794, 41797), match='505'>\n",
      "<re.Match object; span=(41798, 41801), match='503'>\n",
      "<re.Match object; span=(41802, 41805), match='445'>\n"
     ]
    }
   ],
   "source": [
    "for x in re.finditer(pattern,text):\n",
    "    print(x) #printing match location (the index)"
   ]
  },
  {
   "cell_type": "code",
   "execution_count": 76,
   "metadata": {},
   "outputs": [
    {
     "data": {
      "text/plain": [
       "'505.503.4455'"
      ]
     },
     "execution_count": 76,
     "metadata": {},
     "output_type": "execute_result"
    }
   ],
   "source": [
    "text[41794:41806] #[505 starting index: 445 ending index+1 because they are 4 digits]"
   ]
  },
  {
   "cell_type": "code",
   "execution_count": 77,
   "metadata": {},
   "outputs": [
    {
     "data": {
      "text/plain": [
       "['505.503.4455']"
      ]
     },
     "execution_count": 77,
     "metadata": {},
     "output_type": "execute_result"
    }
   ],
   "source": [
    "#now that we know that they are xxx.xxx.xxxx\n",
    "pattern = r\"\\d{3}.\\d{3}.\\d{4}\"\n",
    "re.findall(pattern,text)"
   ]
  },
  {
   "cell_type": "markdown",
   "metadata": {},
   "source": [
    "CSV and PDF test 24/06/2020"
   ]
  },
  {
   "cell_type": "code",
   "execution_count": 40,
   "metadata": {},
   "outputs": [],
   "source": [
    "#Grab the Google Drive Link from .csv File.  Its along the diagonal from top left to bottom right\n",
    "import csv, PyPDF2\n",
    "file = open(\"find_the_link.csv\")"
   ]
  },
  {
   "cell_type": "code",
   "execution_count": 41,
   "metadata": {},
   "outputs": [],
   "source": [
    "reader = csv.reader(file)"
   ]
  },
  {
   "cell_type": "code",
   "execution_count": 42,
   "metadata": {},
   "outputs": [],
   "source": [
    "data_list = list(reader)"
   ]
  },
  {
   "cell_type": "code",
   "execution_count": 50,
   "metadata": {},
   "outputs": [],
   "source": [
    "link_in_list = []\n",
    "for x in range(len(data_list)):\n",
    "    link_in_list.append(data_list[x][x])"
   ]
  },
  {
   "cell_type": "code",
   "execution_count": 52,
   "metadata": {},
   "outputs": [
    {
     "data": {
      "text/plain": [
       "'https://drive.google.com/open?id=1G6SEgg018UB4_4xsAJJ5TdzrhmXipr4Q'"
      ]
     },
     "execution_count": 52,
     "metadata": {},
     "output_type": "execute_result"
    }
   ],
   "source": [
    "link = \"\"\n",
    "link.join(link_in_list)"
   ]
  },
  {
   "cell_type": "code",
   "execution_count": 53,
   "metadata": {},
   "outputs": [],
   "source": [
    "file.close()"
   ]
  },
  {
   "cell_type": "code",
   "execution_count": 54,
   "metadata": {},
   "outputs": [],
   "source": [
    "#find the phone number that is in the document.\n",
    "file = open(\"Find_the_Phone_Number.pdf\",\"br\")"
   ]
  },
  {
   "cell_type": "code",
   "execution_count": 55,
   "metadata": {},
   "outputs": [],
   "source": [
    "pdf_reader = PyPDF2.PdfFileReader(file)"
   ]
  },
  {
   "cell_type": "code",
   "execution_count": 62,
   "metadata": {},
   "outputs": [
    {
     "data": {
      "text/plain": [
       "17"
      ]
     },
     "execution_count": 62,
     "metadata": {},
     "output_type": "execute_result"
    }
   ],
   "source": [
    "pdf_reader.numPages"
   ]
  },
  {
   "cell_type": "code",
   "execution_count": null,
   "metadata": {},
   "outputs": [],
   "source": [
    "#let's get all the text\n",
    "text = \"\"\n",
    "for x in range(pdf_reader.numPages):\n",
    "    page_text = pdf_reader.getPage(x).extractText()\n",
    "    text = text + \"\" + page_text\n",
    "text"
   ]
  },
  {
   "cell_type": "code",
   "execution_count": 67,
   "metadata": {},
   "outputs": [
    {
     "data": {
      "text/plain": [
       "['000', '000', '000', '505', '503', '445']"
      ]
     },
     "execution_count": 67,
     "metadata": {},
     "output_type": "execute_result"
    }
   ],
   "source": [
    "import re\n",
    "pattern = r\"\\d{3}\" #the number may be format in xxx xxx xxxx. We are looking for a pattern which has 3 digits so we will find all the match xxx xxx xxx xxx\n",
    "re.findall(pattern,text) #using re"
   ]
  },
  {
   "cell_type": "code",
   "execution_count": 69,
   "metadata": {},
   "outputs": [
    {
     "name": "stdout",
     "output_type": "stream",
     "text": [
      "<re.Match object; span=(654, 657), match='000'>\n",
      "<re.Match object; span=(17799, 17802), match='000'>\n",
      "<re.Match object; span=(35047, 35050), match='000'>\n",
      "<re.Match object; span=(41794, 41797), match='505'>\n",
      "<re.Match object; span=(41798, 41801), match='503'>\n",
      "<re.Match object; span=(41802, 41805), match='445'>\n"
     ]
    }
   ],
   "source": [
    "for x in re.finditer(pattern,text):\n",
    "    print(x) #printing match location (the index)"
   ]
  },
  {
   "cell_type": "code",
   "execution_count": 76,
   "metadata": {},
   "outputs": [
    {
     "data": {
      "text/plain": [
       "'505.503.4455'"
      ]
     },
     "execution_count": 76,
     "metadata": {},
     "output_type": "execute_result"
    }
   ],
   "source": [
    "text[41794:41806] #[505 starting index: 445 ending index+1 because they are 4 digits]"
   ]
  },
  {
   "cell_type": "code",
   "execution_count": 77,
   "metadata": {},
   "outputs": [
    {
     "data": {
      "text/plain": [
       "['505.503.4455']"
      ]
     },
     "execution_count": 77,
     "metadata": {},
     "output_type": "execute_result"
    }
   ],
   "source": [
    "#now that we know that they are xxx.xxx.xxxx\n",
    "pattern = r\"\\d{3}.\\d{3}.\\d{4}\"\n",
    "re.findall(pattern,text)"
   ]
  }
 ],
 "metadata": {
  "kernelspec": {
   "display_name": "Python 3",
   "language": "python",
   "name": "python3"
  },
  "language_info": {
   "codemirror_mode": {
    "name": "ipython",
    "version": 3
   },
   "file_extension": ".py",
   "mimetype": "text/x-python",
   "name": "python",
   "nbconvert_exporter": "python",
   "pygments_lexer": "ipython3",
   "version": "3.7.6"
  }
 },
 "nbformat": 4,
 "nbformat_minor": 4
}
