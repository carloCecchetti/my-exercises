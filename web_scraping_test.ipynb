{
 "cells": [
  {
   "cell_type": "markdown",
   "metadata": {},
   "source": [
    "Web Scraping test 21/06/2020"
   ]
  },
  {
   "cell_type": "code",
   "execution_count": 2,
   "metadata": {},
   "outputs": [],
   "source": [
    "#Import any libraries you think you'll need to scrape a website.\n",
    "import bs4,requests #you may add re to look for patterns and other libraries"
   ]
  },
  {
   "cell_type": "code",
   "execution_count": null,
   "metadata": {},
   "outputs": [],
   "source": [
    "#Use requests library and BeautifulSoup to connect to http://quotes.toscrape.com/ and get the HMTL text from the homepage.\n",
    "req = requests.get(\"http://quotes.toscrape.com/\") #sending the request\n",
    "soup = bs4.BeautifulSoup(req.text,\"lxml\") #making the soup\n",
    "soup"
   ]
  },
  {
   "cell_type": "code",
   "execution_count": 19,
   "metadata": {},
   "outputs": [
    {
     "name": "stdout",
     "output_type": "stream",
     "text": [
      "Albert Einstein\n",
      "J.K. Rowling\n",
      "Albert Einstein\n",
      "Jane Austen\n",
      "Marilyn Monroe\n",
      "Albert Einstein\n",
      "André Gide\n",
      "Thomas A. Edison\n",
      "Eleanor Roosevelt\n",
      "Steve Martin\n"
     ]
    }
   ],
   "source": [
    "#Get the names of all the authors on the first page.\n",
    "req = requests.get(\"http://quotes.toscrape.com/\") #sending the request\n",
    "soup = bs4.BeautifulSoup(req.text,\"lxml\") #making the soup\n",
    "for person in range(len(soup.select(\"small\"))):\n",
    "    authors = soup.select(\"small\")[person].getText()\n",
    "    print(authors)"
   ]
  },
  {
   "cell_type": "code",
   "execution_count": 18,
   "metadata": {},
   "outputs": [
    {
     "data": {
      "text/plain": [
       "10"
      ]
     },
     "execution_count": 18,
     "metadata": {},
     "output_type": "execute_result"
    }
   ],
   "source": [
    "len(soup.select(\"small\"))"
   ]
  },
  {
   "cell_type": "code",
   "execution_count": 38,
   "metadata": {},
   "outputs": [
    {
     "name": "stdout",
     "output_type": "stream",
     "text": [
      "['“The world as we have created it is a process of our thinking. It cannot be changed without changing our thinking.”', '“It is our choices, Harry, that show what we truly are, far more than our abilities.”', '“There are only two ways to live your life. One is as though nothing is a miracle. The other is as though everything is a miracle.”', '“The person, be it gentleman or lady, who has not pleasure in a good novel, must be intolerably stupid.”', \"“Imperfection is beauty, madness is genius and it's better to be absolutely ridiculous than absolutely boring.”\", '“Try not to become a man of success. Rather become a man of value.”', '“It is better to be hated for what you are than to be loved for what you are not.”', \"“I have not failed. I've just found 10,000 ways that won't work.”\", \"“A woman is like a tea bag; you never know how strong it is until it's in hot water.”\", '“A day without sunshine is like, you know, night.”']\n"
     ]
    }
   ],
   "source": [
    "#Create a list of all the quotes on the first page.\n",
    "#Just print them\n",
    "req = requests.get(\"http://quotes.toscrape.com/\") #sending the request\n",
    "soup = bs4.BeautifulSoup(req.text,\"lxml\") #making the soup\n",
    "for text in range(len(soup.select(\".text\"))):\n",
    "    phrases = soup.select(\".text\")[text].getText()\n",
    "    print(phrases)"
   ]
  },
  {
   "cell_type": "code",
   "execution_count": 52,
   "metadata": {},
   "outputs": [
    {
     "name": "stdout",
     "output_type": "stream",
     "text": [
      "['“The world as we have created it is a process of our thinking. It cannot be changed without changing our thinking.”', '“It is our choices, Harry, that show what we truly are, far more than our abilities.”', '“There are only two ways to live your life. One is as though nothing is a miracle. The other is as though everything is a miracle.”', '“The person, be it gentleman or lady, who has not pleasure in a good novel, must be intolerably stupid.”', \"“Imperfection is beauty, madness is genius and it's better to be absolutely ridiculous than absolutely boring.”\", '“Try not to become a man of success. Rather become a man of value.”', '“It is better to be hated for what you are than to be loved for what you are not.”', \"“I have not failed. I've just found 10,000 ways that won't work.”\", \"“A woman is like a tea bag; you never know how strong it is until it's in hot water.”\", '“A day without sunshine is like, you know, night.”']\n"
     ]
    }
   ],
   "source": [
    "#Create a list of all the quotes on the first page.\n",
    " #creating a list\n",
    "req = requests.get(\"http://quotes.toscrape.com/\") #sending the request\n",
    "soup = bs4.BeautifulSoup(req.text,\"lxml\") #making the soup\n",
    "phrases = []\n",
    "for text in range(len(soup.select(\".text\"))):\n",
    "    phrases.append(soup.select(\".text\")[text].getText())\n",
    "print(phrases)"
   ]
  },
  {
   "cell_type": "code",
   "execution_count": 49,
   "metadata": {},
   "outputs": [
    {
     "data": {
      "text/plain": [
       "[<div class=\"col-md-4 tags-box\">\n",
       " <h2>Top Ten tags</h2>\n",
       " <span class=\"tag-item\">\n",
       " <a class=\"tag\" href=\"/tag/love/\" style=\"font-size: 28px\">love</a>\n",
       " </span>\n",
       " <span class=\"tag-item\">\n",
       " <a class=\"tag\" href=\"/tag/inspirational/\" style=\"font-size: 26px\">inspirational</a>\n",
       " </span>\n",
       " <span class=\"tag-item\">\n",
       " <a class=\"tag\" href=\"/tag/life/\" style=\"font-size: 26px\">life</a>\n",
       " </span>\n",
       " <span class=\"tag-item\">\n",
       " <a class=\"tag\" href=\"/tag/humor/\" style=\"font-size: 24px\">humor</a>\n",
       " </span>\n",
       " <span class=\"tag-item\">\n",
       " <a class=\"tag\" href=\"/tag/books/\" style=\"font-size: 22px\">books</a>\n",
       " </span>\n",
       " <span class=\"tag-item\">\n",
       " <a class=\"tag\" href=\"/tag/reading/\" style=\"font-size: 14px\">reading</a>\n",
       " </span>\n",
       " <span class=\"tag-item\">\n",
       " <a class=\"tag\" href=\"/tag/friendship/\" style=\"font-size: 10px\">friendship</a>\n",
       " </span>\n",
       " <span class=\"tag-item\">\n",
       " <a class=\"tag\" href=\"/tag/friends/\" style=\"font-size: 8px\">friends</a>\n",
       " </span>\n",
       " <span class=\"tag-item\">\n",
       " <a class=\"tag\" href=\"/tag/truth/\" style=\"font-size: 8px\">truth</a>\n",
       " </span>\n",
       " <span class=\"tag-item\">\n",
       " <a class=\"tag\" href=\"/tag/simile/\" style=\"font-size: 6px\">simile</a>\n",
       " </span>\n",
       " </div>]"
      ]
     },
     "execution_count": 49,
     "metadata": {},
     "output_type": "execute_result"
    }
   ],
   "source": [
    "req = requests.get(\"http://quotes.toscrape.com/\") #sending the request\n",
    "soup = bs4.BeautifulSoup(req.text,\"lxml\") #making the soup\n",
    "soup.select(\".col-md-4.tags-box\")"
   ]
  },
  {
   "cell_type": "code",
   "execution_count": 65,
   "metadata": {},
   "outputs": [
    {
     "name": "stdout",
     "output_type": "stream",
     "text": [
      "love\n",
      "\n",
      "\n",
      "inspirational\n",
      "\n",
      "\n",
      "life\n",
      "\n",
      "\n",
      "humor\n",
      "\n",
      "\n",
      "books\n",
      "\n",
      "\n",
      "reading\n",
      "\n",
      "\n",
      "friendship\n",
      "\n",
      "\n",
      "friends\n",
      "\n",
      "\n",
      "truth\n",
      "\n",
      "\n",
      "simile\n",
      "\n",
      "\n"
     ]
    }
   ],
   "source": [
    "#Inspect the site and use Beautiful Soup to extract the top ten tags from the requests text shown on the top right from the home page (e.g Love,Inspirational,Life, etc...). \n",
    "#HINT: Keep/ in mind there are also tags underneath each quote, try to find a class only present in the top right tags, perhaps check the span\n",
    "req = requests.get(\"http://quotes.toscrape.com/\") #sending the request\n",
    "soup = bs4.BeautifulSoup(req.text,\"lxml\") #making the soup\n",
    "print(soup.select(\".col-md-4.tags-box\")[0].getText()[15:]) #.col-md-4.tags-box is the class that contains all the tags. I start to print the stuff from index 15 because we don't want Top Ten Tags"
   ]
  },
  {
   "cell_type": "code",
   "execution_count": 16,
   "metadata": {},
   "outputs": [
    {
     "name": "stdout",
     "output_type": "stream",
     "text": [
      "\n",
      "Page 1\n",
      "Albert Einstein\n",
      "J.K. Rowling\n",
      "Albert Einstein\n",
      "Jane Austen\n",
      "Marilyn Monroe\n",
      "Albert Einstein\n",
      "André Gide\n",
      "Thomas A. Edison\n",
      "Eleanor Roosevelt\n",
      "Steve Martin\n",
      "\n",
      "Page 2\n",
      "Marilyn Monroe\n",
      "J.K. Rowling\n",
      "Albert Einstein\n",
      "Bob Marley\n",
      "Dr. Seuss\n",
      "Douglas Adams\n",
      "Elie Wiesel\n",
      "Friedrich Nietzsche\n",
      "Mark Twain\n",
      "Allen Saunders\n",
      "\n",
      "Page 3\n",
      "Pablo Neruda\n",
      "Ralph Waldo Emerson\n",
      "Mother Teresa\n",
      "Garrison Keillor\n",
      "Jim Henson\n",
      "Dr. Seuss\n",
      "Albert Einstein\n",
      "J.K. Rowling\n",
      "Albert Einstein\n",
      "Bob Marley\n",
      "\n",
      "Page 4\n",
      "Dr. Seuss\n",
      "J.K. Rowling\n",
      "Bob Marley\n",
      "Mother Teresa\n",
      "J.K. Rowling\n",
      "Charles M. Schulz\n",
      "William Nicholson\n",
      "Albert Einstein\n",
      "Jorge Luis Borges\n",
      "George Eliot\n",
      "\n",
      "Page 5\n",
      "George R.R. Martin\n",
      "C.S. Lewis\n",
      "Marilyn Monroe\n",
      "Marilyn Monroe\n",
      "Albert Einstein\n",
      "Marilyn Monroe\n",
      "Marilyn Monroe\n",
      "Martin Luther King Jr.\n",
      "J.K. Rowling\n",
      "James Baldwin\n",
      "\n",
      "Page 6\n",
      "Jane Austen\n",
      "Eleanor Roosevelt\n",
      "Marilyn Monroe\n",
      "Albert Einstein\n",
      "Haruki Murakami\n",
      "Alexandre Dumas fils\n",
      "Stephenie Meyer\n",
      "Ernest Hemingway\n",
      "Helen Keller\n",
      "George Bernard Shaw\n",
      "\n",
      "Page 7\n",
      "Charles Bukowski\n",
      "Suzanne Collins\n",
      "Suzanne Collins\n",
      "C.S. Lewis\n",
      "J.R.R. Tolkien\n",
      "J.K. Rowling\n",
      "Ernest Hemingway\n",
      "Ralph Waldo Emerson\n",
      "Mark Twain\n",
      "Dr. Seuss\n",
      "\n",
      "Page 8\n",
      "Alfred Tennyson\n",
      "Charles Bukowski\n",
      "Terry Pratchett\n",
      "Dr. Seuss\n",
      "J.D. Salinger\n",
      "George Carlin\n",
      "John Lennon\n",
      "W.C. Fields\n",
      "Ayn Rand\n",
      "Mark Twain\n",
      "\n",
      "Page 9\n",
      "Albert Einstein\n",
      "Jane Austen\n",
      "J.K. Rowling\n",
      "Jane Austen\n",
      "Jane Austen\n",
      "C.S. Lewis\n",
      "C.S. Lewis\n",
      "Mark Twain\n",
      "Mark Twain\n",
      "C.S. Lewis\n",
      "\n",
      "Page 10\n",
      "J.K. Rowling\n",
      "Jimi Hendrix\n",
      "J.M. Barrie\n",
      "E.E. Cummings\n",
      "Khaled Hosseini\n",
      "Harper Lee\n",
      "Madeleine L'Engle\n",
      "Mark Twain\n",
      "Dr. Seuss\n",
      "George R.R. Martin\n",
      "\n",
      "\n",
      "No more pages\n"
     ]
    }
   ],
   "source": [
    "\"\"\"\n",
    "TASK: Loop through all the pages and get all the unique authors on the website. \n",
    "There are only 10 pages, but try to create a loop that is robust enough that it wouldn't matter to know the amount of pages.\n",
    "\"\"\"\n",
    "web_page = 0\n",
    "while True:\n",
    "    web_page += 1\n",
    "    req = requests.get(f\"http://quotes.toscrape.com/page/{str(web_page)}/\") #the var starts from 1 so it potentially can go from 1 to x\n",
    "    soup = bs4.BeautifulSoup(req.text,\"lxml\")\n",
    "    if \"No quotes found\" in str(soup): #but if there is this element in the text of the soup of the request, the code will stop.\n",
    "        print(\"\\n\\nNo more pages\")\n",
    "        break\n",
    "    \n",
    "    #pasting the previous code\n",
    "    print(f\"\\nPage {str(web_page)}\")\n",
    "    for person in range(len(soup.select(\"small\"))):\n",
    "        authors = soup.select(\"small\")[person].getText()\n",
    "        print(authors)"
   ]
  },
  {
   "cell_type": "code",
   "execution_count": 68,
   "metadata": {},
   "outputs": [
    {
     "name": "stdout",
     "output_type": "stream",
     "text": [
      "Albert Einstein\n",
      "J.K. Rowling\n",
      "Albert Einstein\n",
      "Jane Austen\n",
      "Marilyn Monroe\n",
      "Albert Einstein\n",
      "André Gide\n",
      "Thomas A. Edison\n",
      "Eleanor Roosevelt\n",
      "Steve Martin\n"
     ]
    }
   ],
   "source": [
    "for person in range(len(soup.select(\"small\"))):\n",
    "        authors = soup.select(\"small\")[person].getText()\n",
    "        print(authors)"
   ]
  },
  {
   "cell_type": "code",
   "execution_count": 12,
   "metadata": {},
   "outputs": [
    {
     "name": "stdout",
     "output_type": "stream",
     "text": [
      "error\n"
     ]
    }
   ],
   "source": [
    "req = requests.get(\"http://quotes.toscrape.com/page/44/\")\n",
    "if \"No quotes found\" in str(bs4.BeautifulSoup(req.text,\"lxml\")):\n",
    "    print(\"error\")\n"
   ]
  }
 ],
 "metadata": {
  "kernelspec": {
   "display_name": "Python 3",
   "language": "python",
   "name": "python3"
  },
  "language_info": {
   "codemirror_mode": {
    "name": "ipython",
    "version": 3
   },
   "file_extension": ".py",
   "mimetype": "text/x-python",
   "name": "python",
   "nbconvert_exporter": "python",
   "pygments_lexer": "ipython3",
   "version": "3.7.6"
  }
 },
 "nbformat": 4,
 "nbformat_minor": 4
}
