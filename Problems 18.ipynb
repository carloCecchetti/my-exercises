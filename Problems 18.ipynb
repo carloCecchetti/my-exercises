{
 "cells": [
  {
   "cell_type": "markdown",
   "metadata": {},
   "source": [
    "19/08/2020"
   ]
  },
  {
   "cell_type": "code",
   "execution_count": 20,
   "metadata": {},
   "outputs": [],
   "source": [
    "#substract five day from today\n",
    "import datetime\n",
    "def minus_five():\n",
    "    today = datetime.datetime.now()\n",
    "    print(f\"{today.day - 5}-{today.month}-{today.year}\")"
   ]
  },
  {
   "cell_type": "code",
   "execution_count": 21,
   "metadata": {},
   "outputs": [
    {
     "name": "stdout",
     "output_type": "stream",
     "text": [
      "15-8-2020\n"
     ]
    }
   ],
   "source": [
    "minus_five()"
   ]
  },
  {
   "cell_type": "code",
   "execution_count": 24,
   "metadata": {},
   "outputs": [
    {
     "data": {
      "text/plain": [
       "['Carlo', 'Italy']"
      ]
     },
     "execution_count": 24,
     "metadata": {},
     "output_type": "execute_result"
    }
   ],
   "source": [
    "#return all the words with 5 letters\n",
    "def five_letters(s):\n",
    "    words = s.split(\" \")\n",
    "    five = []\n",
    "    for word in words:\n",
    "        if len(word) == 5:\n",
    "            five.append(word)\n",
    "    return five\n",
    "\n",
    "five_letters(\"My name is Carlo and I'm from Italy\")"
   ]
  },
  {
   "cell_type": "code",
   "execution_count": 59,
   "metadata": {},
   "outputs": [
    {
     "data": {
      "text/plain": [
       "False"
      ]
     },
     "execution_count": 59,
     "metadata": {},
     "output_type": "execute_result"
    }
   ],
   "source": [
    "#check if a words contains a-z A-Z 0-9\n",
    "def check_char(s):\n",
    "    for l in s:\n",
    "        if not l.isalnum():\n",
    "            return False\n",
    "    return True\n",
    "            \n",
    "        \n",
    "check_char(\"a@adsa\")"
   ]
  }
 ],
 "metadata": {
  "kernelspec": {
   "display_name": "Python 3",
   "language": "python",
   "name": "python3"
  },
  "language_info": {
   "codemirror_mode": {
    "name": "ipython",
    "version": 3
   },
   "file_extension": ".py",
   "mimetype": "text/x-python",
   "name": "python",
   "nbconvert_exporter": "python",
   "pygments_lexer": "ipython3",
   "version": "3.7.6"
  }
 },
 "nbformat": 4,
 "nbformat_minor": 4
}
