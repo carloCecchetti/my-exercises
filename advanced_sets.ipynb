{
 "cells": [
  {
   "cell_type": "markdown",
   "metadata": {},
   "source": [
    "Advanced Set 06/06/2020"
   ]
  },
  {
   "cell_type": "code",
   "execution_count": 16,
   "metadata": {},
   "outputs": [
    {
     "data": {
      "text/plain": [
       "{1, 2}"
      ]
     },
     "execution_count": 16,
     "metadata": {},
     "output_type": "execute_result"
    }
   ],
   "source": [
    "\"\"\"\n",
    "Let's start by creating a set.\n",
    "remember  that a sat cannot have duplicated values\n",
    "\"\"\"\n",
    "s = set()\n",
    "s.add(1) #.add() is the methods that we use to add things to a set\n",
    "s.add(2)\n",
    "s"
   ]
  },
  {
   "cell_type": "code",
   "execution_count": 17,
   "metadata": {},
   "outputs": [
    {
     "data": {
      "text/plain": [
       "{1, 2}"
      ]
     },
     "execution_count": 17,
     "metadata": {},
     "output_type": "execute_result"
    }
   ],
   "source": [
    "s.add(1)\n",
    "s #nothing changed"
   ]
  },
  {
   "cell_type": "code",
   "execution_count": 18,
   "metadata": {},
   "outputs": [
    {
     "data": {
      "text/plain": [
       "{2}"
      ]
     },
     "execution_count": 18,
     "metadata": {},
     "output_type": "execute_result"
    }
   ],
   "source": [
    "#the opposite of .add() is .remove() which removes all the elements\n",
    "s.remove(1) #as arguments we write the value to remove\n",
    "s"
   ]
  },
  {
   "cell_type": "code",
   "execution_count": 19,
   "metadata": {},
   "outputs": [
    {
     "data": {
      "text/plain": [
       "{1, 2, 3, 4, 5, 6}"
      ]
     },
     "execution_count": 19,
     "metadata": {},
     "output_type": "execute_result"
    }
   ],
   "source": [
    "#.clear()\n",
    "s = {1,2,3,4,5,6}\n",
    "s"
   ]
  },
  {
   "cell_type": "code",
   "execution_count": 22,
   "metadata": {},
   "outputs": [
    {
     "data": {
      "text/plain": [
       "set()"
      ]
     },
     "execution_count": 22,
     "metadata": {},
     "output_type": "execute_result"
    }
   ],
   "source": [
    "s.clear() #remove all the elements\n",
    "s"
   ]
  },
  {
   "cell_type": "code",
   "execution_count": 28,
   "metadata": {},
   "outputs": [],
   "source": [
    "#.copy()\n",
    "s = {1,2,3,4,5,6}\n",
    "s_copy = s.copy() #copy and the paste the elements. Remember that changes to the original set DO NOT affect the copy"
   ]
  },
  {
   "cell_type": "code",
   "execution_count": 29,
   "metadata": {},
   "outputs": [
    {
     "name": "stdout",
     "output_type": "stream",
     "text": [
      "{1, 2, 3, 4, 5, 6}\n",
      "{1, 2, 3, 4, 5, 6}\n"
     ]
    }
   ],
   "source": [
    "print(s)\n",
    "print(s_copy)"
   ]
  },
  {
   "cell_type": "code",
   "execution_count": 32,
   "metadata": {},
   "outputs": [
    {
     "data": {
      "text/plain": [
       "{32}"
      ]
     },
     "execution_count": 32,
     "metadata": {},
     "output_type": "execute_result"
    }
   ],
   "source": [
    "#.difference()\n",
    "s.add(32) #we start with s and s_copy = {1,2,3,4,5,6}\n",
    "#s = {1,2,3,4,5,6,32}\n",
    "s.difference(s_copy) #return the values that are not in s_copy"
   ]
  },
  {
   "cell_type": "code",
   "execution_count": 36,
   "metadata": {},
   "outputs": [
    {
     "data": {
      "text/plain": [
       "{2, 5, 6}"
      ]
     },
     "execution_count": 36,
     "metadata": {},
     "output_type": "execute_result"
    }
   ],
   "source": [
    "#.difference_update() is an evolution of .difference\n",
    "#this function return only the differences by removing tha couples\n",
    "s = {1,2,3,4,5,6}\n",
    "s_copy = {1,3,4,7,8}\n",
    "s.difference_update(s_copy)\n",
    "s #1,3 and 4 got removed"
   ]
  },
  {
   "cell_type": "code",
   "execution_count": 41,
   "metadata": {},
   "outputs": [
    {
     "data": {
      "text/plain": [
       "{5, 6}"
      ]
     },
     "execution_count": 41,
     "metadata": {},
     "output_type": "execute_result"
    }
   ],
   "source": [
    "#.discard() it's similar to .remove()\n",
    "\"\"\"\n",
    "if you discard a value that doesn't exist nothing will happen.\n",
    "if you use .remone for nothing you'll get an error\n",
    "\"\"\"\n",
    "s.discard(2) \n",
    "s"
   ]
  },
  {
   "cell_type": "code",
   "execution_count": 45,
   "metadata": {},
   "outputs": [
    {
     "data": {
      "text/plain": [
       "{2, 4, 5}"
      ]
     },
     "execution_count": 45,
     "metadata": {},
     "output_type": "execute_result"
    }
   ],
   "source": [
    "#.intersection()\n",
    "s1 = {1,2,3,4,5}\n",
    "s2 = {2,4,5}\n",
    "s1.intersection(s2) #return only the values that are both in different set. s1 won't change"
   ]
  },
  {
   "cell_type": "code",
   "execution_count": 46,
   "metadata": {},
   "outputs": [],
   "source": [
    "#.intersection.update()\n",
    "\"\"\"\n",
    ".intesection() where the object changes his values\n",
    "\"\"\"\n",
    "s1 = {1,2,3,4,5}\n",
    "s2 = {2,4,5}\n",
    "s1.intersection_update(s2)"
   ]
  },
  {
   "cell_type": "code",
   "execution_count": 51,
   "metadata": {},
   "outputs": [
    {
     "name": "stdout",
     "output_type": "stream",
     "text": [
      "{2, 4, 5}\n",
      "{2, 4, 5}\n"
     ]
    }
   ],
   "source": [
    "print(s1) #s1 contains only the values that are inside s2\n",
    "print(s2) #also s2 changed"
   ]
  },
  {
   "cell_type": "code",
   "execution_count": 60,
   "metadata": {},
   "outputs": [],
   "source": [
    "#.isdisjoint()\n",
    "\"\"\"\n",
    "return True if there is no intersection between 2 sets\n",
    "\"\"\"\n",
    "s_1 = {1,2}\n",
    "s_2 = {1,2,4}\n",
    "s_3 = {5}"
   ]
  },
  {
   "cell_type": "code",
   "execution_count": 61,
   "metadata": {},
   "outputs": [
    {
     "data": {
      "text/plain": [
       "False"
      ]
     },
     "execution_count": 61,
     "metadata": {},
     "output_type": "execute_result"
    }
   ],
   "source": [
    "s_1.isdisjoint(s_2) #false because there is an intersection between the s_1 and s_2 sets"
   ]
  },
  {
   "cell_type": "code",
   "execution_count": 62,
   "metadata": {},
   "outputs": [
    {
     "data": {
      "text/plain": [
       "True"
      ]
     },
     "execution_count": 62,
     "metadata": {},
     "output_type": "execute_result"
    }
   ],
   "source": [
    "s_1.isdisjoint(s_3) #True because there is Null intersection"
   ]
  },
  {
   "cell_type": "code",
   "execution_count": 67,
   "metadata": {},
   "outputs": [
    {
     "name": "stdout",
     "output_type": "stream",
     "text": [
      "True\n",
      "True\n"
     ]
    }
   ],
   "source": [
    "#.issubeset() and .issuperset()\n",
    "\"\"\"\n",
    ".issubset() return True if there is a set that contains all the data of the parameters\n",
    ".issuperset() is the opposite\n",
    "\"\"\"\n",
    "s1 = {1,2,3,4,5}\n",
    "s2 = {1,2,3,4,5,6,7,8,9}\n",
    "print(s2.issuperset(s1)) #True because s2 conatins all the values of s1 \n",
    "print(s1.issubset(s2)) #s1's data are all stored in s2"
   ]
  },
  {
   "cell_type": "code",
   "execution_count": 70,
   "metadata": {},
   "outputs": [
    {
     "data": {
      "text/plain": [
       "{3, 5, 6}"
      ]
     },
     "execution_count": 70,
     "metadata": {},
     "output_type": "execute_result"
    }
   ],
   "source": [
    "#.symmetric_difference() is the opposit of .intersection()\n",
    "\"\"\"\n",
    "return the value that are different between the two sets\n",
    "\"\"\"\n",
    "s1= {1,2,3,4,5}\n",
    "s2 = {1,2,4,6}\n",
    "s1.symmetric_difference(s2) #3,5 are only in s1. 6 in s2"
   ]
  },
  {
   "cell_type": "code",
   "execution_count": 74,
   "metadata": {},
   "outputs": [
    {
     "name": "stdout",
     "output_type": "stream",
     "text": [
      "{3, 5, 6}\n"
     ]
    }
   ],
   "source": [
    "#as intersaction there is .symmetric_difference_update()\n",
    "s1.symmetric_difference_update(s2)\n",
    "print(s1) #s1 becomes the values that there are as difference in s1 and s2"
   ]
  },
  {
   "cell_type": "code",
   "execution_count": 78,
   "metadata": {},
   "outputs": [
    {
     "data": {
      "text/plain": [
       "{1, 2, 4, 5}"
      ]
     },
     "execution_count": 78,
     "metadata": {},
     "output_type": "execute_result"
    }
   ],
   "source": [
    "#.union()\n",
    "\"\"\"\n",
    "'sum' all the values of two sets\n",
    "\"\"\"\n",
    "s1 = {1,2}\n",
    "s2 = {1,4,5}\n",
    "s1.union(s2)"
   ]
  },
  {
   "cell_type": "code",
   "execution_count": 84,
   "metadata": {},
   "outputs": [
    {
     "name": "stdout",
     "output_type": "stream",
     "text": [
      "{1, 2, 4, 5}\n",
      "{1, 4, 5}\n"
     ]
    },
    {
     "data": {
      "text/plain": [
       "{1, 2, 4, 5}"
      ]
     },
     "execution_count": 84,
     "metadata": {},
     "output_type": "execute_result"
    }
   ],
   "source": [
    "#.update()\n",
    "\"\"\"\n",
    "return the update of union \n",
    "\"\"\"\n",
    "print(s1)\n",
    "print(s2)\n",
    "s1.update(s2)\n",
    "s1 #s1 becomes s1.union(s2)"
   ]
  },
  {
   "cell_type": "code",
   "execution_count": 92,
   "metadata": {},
   "outputs": [
    {
     "data": {
      "text/plain": [
       "1"
      ]
     },
     "execution_count": 92,
     "metadata": {},
     "output_type": "execute_result"
    }
   ],
   "source": [
    "#.pop()\n",
    "\"\"\"\n",
    "pop the first value and remove it from the set\n",
    "\"\"\"\n",
    "s1 = {1,2,3,4,5}\n",
    "s1.pop() #no parameters"
   ]
  },
  {
   "cell_type": "code",
   "execution_count": 93,
   "metadata": {},
   "outputs": [
    {
     "data": {
      "text/plain": [
       "{2, 3, 4, 5}"
      ]
     },
     "execution_count": 93,
     "metadata": {},
     "output_type": "execute_result"
    }
   ],
   "source": [
    "s1"
   ]
  }
 ],
 "metadata": {
  "kernelspec": {
   "display_name": "Python 3",
   "language": "python",
   "name": "python3"
  },
  "language_info": {
   "codemirror_mode": {
    "name": "ipython",
    "version": 3
   },
   "file_extension": ".py",
   "mimetype": "text/x-python",
   "name": "python",
   "nbconvert_exporter": "python",
   "pygments_lexer": "ipython3",
   "version": "3.7.6"
  }
 },
 "nbformat": 4,
 "nbformat_minor": 4
}
