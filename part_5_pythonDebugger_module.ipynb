{
 "cells": [
  {
   "cell_type": "markdown",
   "metadata": {},
   "source": [
    "part 5 31/05/2020"
   ]
  },
  {
   "cell_type": "code",
   "execution_count": 2,
   "metadata": {},
   "outputs": [],
   "source": [
    "#python debugger\n",
    "\"\"\"\n",
    "An implemented debugger module in python. A better way to find what's wrong in your code \n",
    "instead of using print statements\n",
    "\"\"\"\n",
    "import pdb"
   ]
  },
  {
   "cell_type": "code",
   "execution_count": null,
   "metadata": {},
   "outputs": [],
   "source": [
    "x = [1,3,4]\n",
    "y = 2\n",
    "z = 3\n",
    "\n",
    "res = z+y\n",
    "print(res)\n",
    "\n",
    "#pdb.set_trace()\n",
    "\"\"\"\n",
    "An enviroment will open at this point where you can do what you want\n",
    "\n",
    "pdb.set_trace() allows us to call and see what happen by calling things\n",
    "pdb.run() allows us to check what the statement does. You can move in with next or step\n",
    "pdb.runeval() is similar to run() but it also gives a value to our action\n",
    "\n",
    "some debugger commands:\n",
    "q: quit the bugger and continue the code\n",
    "h: without argument it print the available lists. With command as argument print info the command. help pdb print the documentation\n",
    "commands: return the commands \n",
    "s: run the code from the current line to the first point  stoppable\n",
    "n: same as s but stops inside at the next line the the current function\n",
    "r: until the var gets returned\n",
    "\"\"\"\n",
    "#pdb.run(\"a\")\n",
    "pdb.runeval(\"a\")\n",
    "\n",
    "res2 = z+x\n",
    "print(res2)"
   ]
  }
 ],
 "metadata": {
  "kernelspec": {
   "display_name": "Python 3",
   "language": "python",
   "name": "python3"
  },
  "language_info": {
   "codemirror_mode": {
    "name": "ipython",
    "version": 3
   },
   "file_extension": ".py",
   "mimetype": "text/x-python",
   "name": "python",
   "nbconvert_exporter": "python",
   "pygments_lexer": "ipython3",
   "version": "3.7.6"
  }
 },
 "nbformat": 4,
 "nbformat_minor": 4
}
