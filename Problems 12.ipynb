{
 "cells": [
  {
   "cell_type": "markdown",
   "metadata": {},
   "source": [
    "13/08/2020"
   ]
  },
  {
   "cell_type": "code",
   "execution_count": 17,
   "metadata": {},
   "outputs": [
    {
     "name": "stdout",
     "output_type": "stream",
     "text": [
      "file size: 763 bytes\n"
     ]
    }
   ],
   "source": [
    "#file size\n",
    "import os\n",
    "f = os.stat(\"test.txt\")\n",
    "f_size = f.st_size\n",
    "print(f\"file size: {f_size} bytes\")"
   ]
  },
  {
   "cell_type": "code",
   "execution_count": 60,
   "metadata": {},
   "outputs": [
    {
     "name": "stdout",
     "output_type": "stream",
     "text": [
      "What is Python language?                                                \n",
      "\n",
      "Python is a widely used high-level, general-purpose, interpreted, dynamic programming language.Its design philosophy emphasizes code readability, and its syntax allows programmers to express concepts in fewer lines of code than possible in \n",
      "\n",
      "languages such as C++ or Java. \n",
      "\n",
      "Python supports multiple programming paradigms, including object-oriented, imperative and functional programming or procedural styles.It features a dynamic type system and automatic memory management and has a large and comprehensive standard library.The best way we learn anything is by practice and exercise questions. We  have started this section for those (beginner to intermediate) who are familiar with Python.\n"
     ]
    }
   ],
   "source": [
    "#first lines read\n",
    "def lines_reader(file, n_lines):\n",
    "    f = open(file)\n",
    "    lines = f.readlines()\n",
    "    for i in range(n_lines):\n",
    "        print(lines[i])\n",
    "        \n",
    "lines_reader(\"test.txt\",4)"
   ]
  },
  {
   "cell_type": "code",
   "execution_count": 99,
   "metadata": {},
   "outputs": [],
   "source": [
    "#longer finder\n",
    "def longer_finder(file):\n",
    "    f = open(file) #opening\n",
    "    lines = f.readlines() #\"creating\" lines\n",
    "    words_str = \" \".join(lines) #getting words\n",
    "    words_list = words_str.split(\" \") #getting a list with all the world\n",
    "    longer = \" \"\n",
    "    \n",
    "    for i in words_list: #checking each word\n",
    "        if len(i) > len(longer):\n",
    "            longer = i\n",
    "    \n",
    "    print(longer)\n",
    "\n",
    "longer_finder(\"test.txt\")"
   ]
  },
  {
   "cell_type": "code",
   "execution_count": 130,
   "metadata": {},
   "outputs": [
    {
     "name": "stdout",
     "output_type": "stream",
     "text": [
      "Python is a widely used high-level, general-purpose, interpreted, dynamic programming language.Its design philosophy emphasizes code readability, and its syntax allows programmers to express concepts in fewer lines of code than possible in \n",
      "\n"
     ]
    }
   ],
   "source": [
    "#random line reader\n",
    "#just copying the first, removing the request of line a\n",
    "from random import randint\n",
    "def lines_reader(file):\n",
    "    f = open(file)\n",
    "    lines = f.readlines()\n",
    "    print(lines[randint(0,len(lines)-1)])\n",
    "        \n",
    "lines_reader(\"test.txt\")"
   ]
  }
 ],
 "metadata": {
  "kernelspec": {
   "display_name": "Python 3",
   "language": "python",
   "name": "python3"
  },
  "language_info": {
   "codemirror_mode": {
    "name": "ipython",
    "version": 3
   },
   "file_extension": ".py",
   "mimetype": "text/x-python",
   "name": "python",
   "nbconvert_exporter": "python",
   "pygments_lexer": "ipython3",
   "version": "3.7.6"
  }
 },
 "nbformat": 4,
 "nbformat_minor": 4
}
