{
 "cells": [
  {
   "cell_type": "markdown",
   "metadata": {},
   "source": [
    "08/08/2020"
   ]
  },
  {
   "cell_type": "code",
   "execution_count": 2,
   "metadata": {},
   "outputs": [
    {
     "name": "stdout",
     "output_type": "stream",
     "text": [
      "[40, 10, 80, 50, 20, 60, 30]\n"
     ]
    }
   ],
   "source": [
    "#remove duplicate\n",
    "a = [10,20,30,20,10,50,60,40,80,50,40]\n",
    "print(list(set(a)))"
   ]
  },
  {
   "cell_type": "code",
   "execution_count": 11,
   "metadata": {},
   "outputs": [
    {
     "data": {
      "text/plain": [
       "-2"
      ]
     },
     "execution_count": 11,
     "metadata": {},
     "output_type": "execute_result"
    }
   ],
   "source": [
    "#return the second smallest\n",
    "def sec_small(l):\n",
    "    l = list(set(l)) #removing duplicates\n",
    "    x = min(l) #getting the smallest\n",
    "    l.remove(x) #removing the smallest \n",
    "    return min(l) #returning the second smallest\n",
    "    \n",
    "sec_small([1,2,5,8,-2,-8,-8])"
   ]
  },
  {
   "cell_type": "code",
   "execution_count": 12,
   "metadata": {},
   "outputs": [
    {
     "data": {
      "text/plain": [
       "6"
      ]
     },
     "execution_count": 12,
     "metadata": {},
     "output_type": "execute_result"
    }
   ],
   "source": [
    "#list sum\n",
    "def l_sum(nums):\n",
    "    tot = 0\n",
    "    for i in nums:\n",
    "        tot += i\n",
    "    return tot\n",
    "\n",
    "l_sum([1,2,3])"
   ]
  }
 ],
 "metadata": {
  "kernelspec": {
   "display_name": "Python 3",
   "language": "python",
   "name": "python3"
  },
  "language_info": {
   "codemirror_mode": {
    "name": "ipython",
    "version": 3
   },
   "file_extension": ".py",
   "mimetype": "text/x-python",
   "name": "python",
   "nbconvert_exporter": "python",
   "pygments_lexer": "ipython3",
   "version": "3.7.6"
  }
 },
 "nbformat": 4,
 "nbformat_minor": 4
}
