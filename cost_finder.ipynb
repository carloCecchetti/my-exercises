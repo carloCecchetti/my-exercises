{
 "cells": [
  {
   "cell_type": "code",
   "execution_count": null,
   "metadata": {},
   "outputs": [],
   "source": [
    "#Find Cost of Tile to Cover B x H Floor\n",
    "\"\"\"\n",
    "just area * price\n",
    "the user writes tha base and height of a wall and the price of the paint/m2\n",
    "\"\"\"\n",
    "tile_cost = lambda b,h,p: print(b*h*p) #lambda is an anonymus function that take all the arguments but can do only one operation"
   ]
  }
 ],
 "metadata": {
  "kernelspec": {
   "display_name": "Python 3",
   "language": "python",
   "name": "python3"
  },
  "language_info": {
   "codemirror_mode": {
    "name": "ipython",
    "version": 3
   },
   "file_extension": ".py",
   "mimetype": "text/x-python",
   "name": "python",
   "nbconvert_exporter": "python",
   "pygments_lexer": "ipython3",
   "version": "3.7.6"
  }
 },
 "nbformat": 4,
 "nbformat_minor": 4
}
