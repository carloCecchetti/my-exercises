{
 "cells": [
  {
   "cell_type": "markdown",
   "metadata": {},
   "source": [
    "Advanced strings 05/06/2020"
   ]
  },
  {
   "cell_type": "code",
   "execution_count": 29,
   "metadata": {},
   "outputs": [],
   "source": [
    "s = \"hello world\""
   ]
  },
  {
   "cell_type": "code",
   "execution_count": 33,
   "metadata": {},
   "outputs": [
    {
     "name": "stdout",
     "output_type": "stream",
     "text": [
      "Hello world\n",
      "HELLO WORLD\n",
      "hello world\n",
      "Hello World\n"
     ]
    }
   ],
   "source": [
    "#about uppercase letters\n",
    "print(s.capitalize()) #upper case only the first letter of the first word\n",
    "print(s.upper()) #all the letter become uppercase\n",
    "print(s.lower()) #opposite of .upper()\n",
    "print(s.title()) #all the first letter of each word become uppercase"
   ]
  },
  {
   "cell_type": "code",
   "execution_count": 46,
   "metadata": {},
   "outputs": [
    {
     "name": "stdout",
     "output_type": "stream",
     "text": [
      "2\n",
      "1\n",
      "0\n"
     ]
    }
   ],
   "source": [
    "#count a value in a string\n",
    "print(s.count(\"o\")) #return the number of <o> in my string\n",
    "print(s.count(\"o\",5)) #start to count after the 6th letter\n",
    "print(s.count(\"d\",5,8)) #count from index[5] to index[8]"
   ]
  },
  {
   "cell_type": "code",
   "execution_count": 47,
   "metadata": {},
   "outputs": [
    {
     "name": "stdout",
     "output_type": "stream",
     "text": [
      "4\n",
      "7\n",
      "-1\n"
     ]
    }
   ],
   "source": [
    "#find a value in a string\n",
    "print(s.find(\"o\")) #return the first index of the value (chars, words, digits, ...) you are searching\n",
    "print(s.find(\"o\",5)) #as second parameter you write the starting index. In this case it'll start considering letter after the \"w\"\n",
    "print(s.find(\"o\",5,6)) #as 3rd parameter you write the end. In this case it search for \"o\" only in index \"o\". If there is no value the output will be -1"
   ]
  },
  {
   "cell_type": "code",
   "execution_count": 56,
   "metadata": {},
   "outputs": [
    {
     "name": "stdout",
     "output_type": "stream",
     "text": [
      "----------------------hello world----------------------\n"
     ]
    },
    {
     "data": {
      "text/plain": [
       "55"
      ]
     },
     "execution_count": 56,
     "metadata": {},
     "output_type": "execute_result"
    }
   ],
   "source": [
    "#special (useless) formatting functions\n",
    "print(s.center(55,\"-\")) #55 (first parameter) indicates the final lenghth. as second parameter you add the fillchar\n",
    "len(s.center(55,\"-\"))"
   ]
  },
  {
   "cell_type": "code",
   "execution_count": 80,
   "metadata": {},
   "outputs": [
    {
     "name": "stdout",
     "output_type": "stream",
     "text": [
      "hello\tworld\n",
      "\n",
      "hello\n",
      "world\n",
      "\n",
      "Carlo world is awesome \n"
     ]
    }
   ],
   "source": [
    "#\\ formatting\n",
    "print(\"hello\\tworld\") #\\t add a tab between words. \n",
    "print()\n",
    "print(\"hello\\nworld\") #print the words in different line\n",
    "print()\n",
    "print(\"hello world is awesome \\rCarlo\") #replace the first word with the word that follows \\r"
   ]
  },
  {
   "cell_type": "code",
   "execution_count": 117,
   "metadata": {},
   "outputs": [
    {
     "data": {
      "text/plain": [
       "False"
      ]
     },
     "execution_count": 117,
     "metadata": {},
     "output_type": "execute_result"
    }
   ],
   "source": [
    "#boolean \n",
    "s=\"hello  world\"\n",
    "s.isalnum() #returns true if the string is an alphanumeric. In this case the whitespace is not an alphanumeric char"
   ]
  },
  {
   "cell_type": "code",
   "execution_count": 118,
   "metadata": {},
   "outputs": [
    {
     "name": "stdout",
     "output_type": "stream",
     "text": [
      "True\n",
      "True\n"
     ]
    }
   ],
   "source": [
    "s=\"helloworld\"\n",
    "print(s.isalnum()) #True in this case there is no whitespace so all the letters can be defined as alphanumeri chars\n",
    "print(s.isalpha()) #True if all the char are alphabet chars"
   ]
  },
  {
   "cell_type": "code",
   "execution_count": 119,
   "metadata": {},
   "outputs": [
    {
     "data": {
      "text/plain": [
       "False"
      ]
     },
     "execution_count": 119,
     "metadata": {},
     "output_type": "execute_result"
    }
   ],
   "source": [
    "s=\"hello world\"\n",
    "s.isalpha() #whitespace is not an alphabetic char"
   ]
  },
  {
   "cell_type": "code",
   "execution_count": 120,
   "metadata": {},
   "outputs": [
    {
     "data": {
      "text/plain": [
       "False"
      ]
     },
     "execution_count": 120,
     "metadata": {},
     "output_type": "execute_result"
    }
   ],
   "source": [
    "s=\"hellowo2332rld\"\n",
    "s.isalpha() #there is no whitespace but there are some digits"
   ]
  },
  {
   "cell_type": "code",
   "execution_count": 121,
   "metadata": {},
   "outputs": [
    {
     "data": {
      "text/plain": [
       "True"
      ]
     },
     "execution_count": 121,
     "metadata": {},
     "output_type": "execute_result"
    }
   ],
   "source": [
    "s=\"helloworld\"\n",
    "s.isalpha() #True all the char are alphabetic"
   ]
  },
  {
   "cell_type": "code",
   "execution_count": 122,
   "metadata": {},
   "outputs": [
    {
     "data": {
      "text/plain": [
       "True"
      ]
     },
     "execution_count": 122,
     "metadata": {},
     "output_type": "execute_result"
    }
   ],
   "source": [
    "s=\"dsadflowo2332rld\"\n",
    "s.islower() #True if all letter are lower. No matter if there are numbers"
   ]
  },
  {
   "cell_type": "code",
   "execution_count": 123,
   "metadata": {},
   "outputs": [
    {
     "data": {
      "text/plain": [
       "False"
      ]
     },
     "execution_count": 123,
     "metadata": {},
     "output_type": "execute_result"
    }
   ],
   "source": [
    "s.isspace() #True if there is any whitespace"
   ]
  },
  {
   "cell_type": "code",
   "execution_count": 124,
   "metadata": {},
   "outputs": [
    {
     "data": {
      "text/plain": [
       "False"
      ]
     },
     "execution_count": 124,
     "metadata": {},
     "output_type": "execute_result"
    }
   ],
   "source": [
    "s=\"你好我叫Carlo，你叫什么？\"\n",
    "s.isspace() #True if it's \" \""
   ]
  },
  {
   "cell_type": "code",
   "execution_count": 125,
   "metadata": {},
   "outputs": [
    {
     "data": {
      "text/plain": [
       "False"
      ]
     },
     "execution_count": 125,
     "metadata": {},
     "output_type": "execute_result"
    }
   ],
   "source": [
    "s = \"Hello world\"\n",
    "s.istitle() #True if each first word's letter is uppercase"
   ]
  },
  {
   "cell_type": "code",
   "execution_count": 126,
   "metadata": {},
   "outputs": [
    {
     "data": {
      "text/plain": [
       "True"
      ]
     },
     "execution_count": 126,
     "metadata": {},
     "output_type": "execute_result"
    }
   ],
   "source": [
    "s = \"HELLO WORLD\"\n",
    "s.isupper() #True if all letters are uppercase"
   ]
  },
  {
   "cell_type": "code",
   "execution_count": 127,
   "metadata": {},
   "outputs": [
    {
     "data": {
      "text/plain": [
       "False"
      ]
     },
     "execution_count": 127,
     "metadata": {},
     "output_type": "execute_result"
    }
   ],
   "source": [
    "s.islower() #true if all letters are lowercase"
   ]
  },
  {
   "cell_type": "code",
   "execution_count": 133,
   "metadata": {},
   "outputs": [
    {
     "name": "stdout",
     "output_type": "stream",
     "text": [
      "False\n",
      "True\n"
     ]
    }
   ],
   "source": [
    "print(s.endswith(\"o\")) #True if the world finishes with the parameter's value\n",
    "print(s.endswith(\"O\",0,5)) #endswith(x,y,z). x:letter, y=starting index, z=ending index"
   ]
  },
  {
   "cell_type": "code",
   "execution_count": 140,
   "metadata": {},
   "outputs": [
    {
     "name": "stdout",
     "output_type": "stream",
     "text": [
      "['Hello,', 'my', \"name's\", 'Carlo', 'and', \"I'm\", 'a', 'student']\n",
      "['Hello, my n', \"me's C\", 'rlo ', \"nd I'm \", ' student']\n"
     ]
    }
   ],
   "source": [
    "#built-in regular expresison operation\n",
    "#.split()\n",
    "\"\"\"\n",
    "split a string and add piecies of string to a list\n",
    "\"\"\"\n",
    "s = \"Hello, my name's Carlo and I'm a student\"\n",
    "print(s.split(\" \")) #as parameter you write where to split the string\n",
    "print(s.split(\"a\"))"
   ]
  },
  {
   "cell_type": "code",
   "execution_count": 144,
   "metadata": {},
   "outputs": [
    {
     "name": "stdout",
     "output_type": "stream",
     "text": [
      "(\"Hello, my name's \", 'C', \"arlo and I'm a student\")\n"
     ]
    }
   ],
   "source": [
    "#.partition()\n",
    "s.partition(\"C\") #\"My name's Carlo\".partition(\"C\") = My name's|C|arlo "
   ]
  }
 ],
 "metadata": {
  "kernelspec": {
   "display_name": "Python 3",
   "language": "python",
   "name": "python3"
  },
  "language_info": {
   "codemirror_mode": {
    "name": "ipython",
    "version": 3
   },
   "file_extension": ".py",
   "mimetype": "text/x-python",
   "name": "python",
   "nbconvert_exporter": "python",
   "pygments_lexer": "ipython3",
   "version": "3.7.6"
  }
 },
 "nbformat": 4,
 "nbformat_minor": 4
}
