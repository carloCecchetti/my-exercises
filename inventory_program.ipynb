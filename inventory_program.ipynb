{
 "cells": [
  {
   "cell_type": "code",
   "execution_count": 2,
   "metadata": {},
   "outputs": [],
   "source": [
    "#Check if Palindrome \n",
    "\"\"\"\n",
    "if string read in reverse = reverse:\n",
    "    print the given word is pandrome\n",
    "\"\"\"\n",
    "\n",
    "def pal(string):\n",
    "    if string.lower()[::-1]==string.lower():\n",
    "        print(f\"{string} is palindrome\")"
   ]
  }
 ],
 "metadata": {
  "kernelspec": {
   "display_name": "Python 3",
   "language": "python",
   "name": "python3"
  },
  "language_info": {
   "codemirror_mode": {
    "name": "ipython",
    "version": 3
   },
   "file_extension": ".py",
   "mimetype": "text/x-python",
   "name": "python",
   "nbconvert_exporter": "python",
   "pygments_lexer": "ipython3",
   "version": "3.7.6"
  }
 },
 "nbformat": 4,
 "nbformat_minor": 4
}
