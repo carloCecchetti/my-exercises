{
 "cells": [
  {
   "cell_type": "code",
   "execution_count": 2,
   "metadata": {},
   "outputs": [],
   "source": [
    "#vowels counter\n",
    "\"\"\"\n",
    "outputs the number of vowels in a str.\n",
    "\n",
    "check every char\n",
    "    if the char is one of the list char\n",
    "        vow_counter + 1\n",
    "return the counter\n",
    "\"\"\"\n",
    "def vow_cou(string):\n",
    "    vow_counter = 0\n",
    "    \n",
    "    for i in string:\n",
    "        if i.lower() in [\"a\",\"e\",\"i\",\"o\",\"u\"]:\n",
    "            vow_counter += 1\n",
    "    return vow_counter"
   ]
  }
 ],
 "metadata": {
  "kernelspec": {
   "display_name": "Python 3",
   "language": "python",
   "name": "python3"
  },
  "language_info": {
   "codemirror_mode": {
    "name": "ipython",
    "version": 3
   },
   "file_extension": ".py",
   "mimetype": "text/x-python",
   "name": "python",
   "nbconvert_exporter": "python",
   "pygments_lexer": "ipython3",
   "version": "3.7.6"
  }
 },
 "nbformat": 4,
 "nbformat_minor": 4
}
