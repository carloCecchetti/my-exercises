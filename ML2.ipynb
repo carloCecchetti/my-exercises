{
 "cells": [
  {
   "cell_type": "markdown",
   "metadata": {},
   "source": [
    "There are many types of classifier  \n",
    "1. Artificial Neural Network  \n",
    "1. Support Vector Machine  \n",
    "1. Lion\n",
    "1. Bears\n",
    "1. Bears \n",
    "I started with decision tree because they are easy to read and understand. It's one of the few alrithms that are interpretable.  \n",
    "\n",
    "## Iris  \n",
    "[**Iris**](https://en.wikipedia.org/wiki/Iris_flower_data_set#Data_set) is a classic machine learning problem. It consists in distiguish different types of flowers based on different measurements.  \n",
    "The data set includes 3 different types of different flowers.\n",
    "The link bring you to a wikipedia page where there's a graph with 150 example for 4 measures (600 in total) of the 3 flowers.  \n",
    "Working with already trained algorithm is really useful"
   ]
  },
  {
   "cell_type": "code",
   "execution_count": 5,
   "metadata": {},
   "outputs": [
    {
     "name": "stdout",
     "output_type": "stream",
     "text": [
      "['sepal length (cm)', 'sepal width (cm)', 'petal length (cm)', 'petal width (cm)']\n",
      "['setosa' 'versicolor' 'virginica']\n"
     ]
    }
   ],
   "source": [
    "from sklearn.datasets import load_iris\n",
    "iris = load_iris()\n",
    "print(iris.feature_names) #names of features\n",
    "print(iris.target_names) #names of labels (flowers' name we are expecting)"
   ]
  },
  {
   "cell_type": "code",
   "execution_count": 45,
   "metadata": {},
   "outputs": [
    {
     "name": "stdout",
     "output_type": "stream",
     "text": [
      "[[5.1 3.5 1.4 0.2]\n",
      " [5.  3.  1.6 0.2]\n",
      " [7.  3.2 4.7 1.4]\n",
      " [6.6 3.  4.4 1.4]\n",
      " [6.3 3.3 6.  2.5]\n",
      " [7.2 3.2 6.  1.8]]\n"
     ]
    }
   ],
   "source": [
    "print(iris.data[::25]) #Index for a better output. First two features are for type 0, seconds paair for type 1 and the last one for type 2"
   ]
  },
  {
   "cell_type": "code",
   "execution_count": 46,
   "metadata": {},
   "outputs": [
    {
     "name": "stdout",
     "output_type": "stream",
     "text": [
      "[0 0 1 1 2 2]\n"
     ]
    }
   ],
   "source": [
    "print(iris.target[::25]) #0 as output means Setosa"
   ]
  },
  {
   "cell_type": "code",
   "execution_count": 48,
   "metadata": {},
   "outputs": [
    {
     "name": "stdout",
     "output_type": "stream",
     "text": [
      "Example: 1: label 0, features [5.1 3.5 1.4 0.2]\n",
      "Example: 2: label 0, features [4.9 3.  1.4 0.2]\n",
      "Example: 3: label 0, features [4.7 3.2 1.3 0.2]\n",
      "Example: 4: label 0, features [4.6 3.1 1.5 0.2]\n",
      "Example: 5: label 0, features [5.  3.6 1.4 0.2]\n",
      "Example: 6: label 0, features [5.4 3.9 1.7 0.4]\n",
      "Example: 7: label 0, features [4.6 3.4 1.4 0.3]\n",
      "Example: 8: label 0, features [5.  3.4 1.5 0.2]\n",
      "Example: 9: label 0, features [4.4 2.9 1.4 0.2]\n",
      "Example: 10: label 0, features [4.9 3.1 1.5 0.1]\n",
      "Example: 11: label 0, features [5.4 3.7 1.5 0.2]\n",
      "Example: 12: label 0, features [4.8 3.4 1.6 0.2]\n",
      "Example: 13: label 0, features [4.8 3.  1.4 0.1]\n",
      "Example: 14: label 0, features [4.3 3.  1.1 0.1]\n",
      "Example: 15: label 0, features [5.8 4.  1.2 0.2]\n",
      "Example: 16: label 0, features [5.7 4.4 1.5 0.4]\n",
      "Example: 17: label 0, features [5.4 3.9 1.3 0.4]\n",
      "Example: 18: label 0, features [5.1 3.5 1.4 0.3]\n",
      "Example: 19: label 0, features [5.7 3.8 1.7 0.3]\n",
      "Example: 20: label 0, features [5.1 3.8 1.5 0.3]\n",
      "Example: 21: label 0, features [5.4 3.4 1.7 0.2]\n",
      "Example: 22: label 0, features [5.1 3.7 1.5 0.4]\n",
      "Example: 23: label 0, features [4.6 3.6 1.  0.2]\n",
      "Example: 24: label 0, features [5.1 3.3 1.7 0.5]\n",
      "Example: 25: label 0, features [4.8 3.4 1.9 0.2]\n"
     ]
    }
   ],
   "source": [
    "for i in range(25): #should be range(len(iris.target)), still for a more readable output\n",
    "    print(f\"Example: {i + 1}: label {iris.target[i]}, features {iris.data[i]}\")"
   ]
  },
  {
   "cell_type": "code",
   "execution_count": 34,
   "metadata": {},
   "outputs": [],
   "source": [
    "import numpy as np #to remove stuff from array\n",
    "iris = load_iris()\n",
    "idx = [0,50,100] #indexes of first labels and feature of each type of flower in the iris.data array and iris.target.\n",
    "\n",
    "#training data\n",
    "train_target = np.delete(iris.target, idx) #I removed 3 flowers (Data and labels) to have never seen situation from the testing data\n",
    "train_data = np.delete(iris.data, idx, axis = 0 )\n",
    "\n",
    "#testing data \n",
    "testing_target = iris.target[idx] #the removed flowers will be tested\n",
    "testing_data = iris.data[idx]"
   ]
  },
  {
   "cell_type": "code",
   "execution_count": 35,
   "metadata": {},
   "outputs": [],
   "source": [
    "#Training\n",
    "from sklearn import tree\n",
    "clf = tree.DecisionTreeClassifier()\n",
    "clf = clf.fit(train_data, train_target)"
   ]
  },
  {
   "cell_type": "code",
   "execution_count": 37,
   "metadata": {},
   "outputs": [
    {
     "name": "stdout",
     "output_type": "stream",
     "text": [
      "[0 1 2]\n"
     ]
    }
   ],
   "source": [
    "#Test/Prediction\n",
    "print(clf.predict(testing_data))"
   ]
  }
 ],
 "metadata": {
  "kernelspec": {
   "display_name": "Python 3",
   "language": "python",
   "name": "python3"
  },
  "language_info": {
   "codemirror_mode": {
    "name": "ipython",
    "version": 3
   },
   "file_extension": ".py",
   "mimetype": "text/x-python",
   "name": "python",
   "nbconvert_exporter": "python",
   "pygments_lexer": "ipython3",
   "version": "3.8.3"
  }
 },
 "nbformat": 4,
 "nbformat_minor": 4
}
