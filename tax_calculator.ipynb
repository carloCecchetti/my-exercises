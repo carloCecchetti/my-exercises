{
 "cells": [
  {
   "cell_type": "code",
   "execution_count": 1,
   "metadata": {},
   "outputs": [],
   "source": [
    "#tax calculator\n",
    "\"\"\"\n",
    "gets as int inpu the price without tax\n",
    "the percentual of tax\n",
    "print the tax's value \n",
    "print price without tax + tax\n",
    "print price without tax - tax\n",
    "\"\"\"\n",
    "def tax_calc():\n",
    "    no_tax=float(input(\"Enter the price tax excluded\"))\n",
    "    tax=float(input(\"Enter tax percentual\\nex:(10)%\"))\n",
    "    print(\"\\nTax = \", no_tax*tax/100, \" $\\nTotal (no_tax+tax) = \", no_tax+no_tax*tax/100, \" $\\nTotal (no_tax+tax) = \", no_tax-no_tax*tax/100, \" $\")"
   ]
  },
  {
   "cell_type": "code",
   "execution_count": null,
   "metadata": {},
   "outputs": [],
   "source": []
  }
 ],
 "metadata": {
  "kernelspec": {
   "display_name": "Python 3",
   "language": "python",
   "name": "python3"
  },
  "language_info": {
   "codemirror_mode": {
    "name": "ipython",
    "version": 3
   },
   "file_extension": ".py",
   "mimetype": "text/x-python",
   "name": "python",
   "nbconvert_exporter": "python",
   "pygments_lexer": "ipython3",
   "version": "3.7.6"
  }
 },
 "nbformat": 4,
 "nbformat_minor": 4
}
