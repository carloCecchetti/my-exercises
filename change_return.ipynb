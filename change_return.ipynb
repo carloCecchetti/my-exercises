{
 "cells": [
  {
   "cell_type": "code",
   "execution_count": null,
   "metadata": {},
   "outputs": [],
   "source": [
    "#Change Return Program\n",
    "\"\"\"\n",
    "The user enters a cost and then the amount of money given. \n",
    "The program will figure out the change and the number of quarters, dimes, nickels, pennies needed for the change.\n",
    "\"\"\"\n",
    "def change_retun(cost, given):\n",
    "    \n",
    "    change = (given-cost)*100  #*100 = dollars to cents\n",
    "    quarters=0 #how many quarters can fit in the change\n",
    "    dimes=0  #how many dimes can fit in the change\n",
    "    nickels=0  #how many nickels can fit in the change\n",
    "    pennies=0  #how many pennies can fit in the change\n",
    "    \n",
    "    #calcs how many times a certain values fits in the change\n",
    "    while change-25>=0: \n",
    "        quarters += 1\n",
    "        change -= 25\n",
    "    while change-10>=0:\n",
    "        dimes += 1\n",
    "        change -= 10\n",
    "    while change-5>=0:\n",
    "        nickels += 1\n",
    "        change1 -= 5\n",
    "    while change-1>=0:\n",
    "        pennies+= 1\n",
    "        change -= 1\n",
    "        \n",
    "    print(\"The change is: \\n\", given-cost, \"$ = \", int((given-cost)*100), \"cents \\n\") #we used given-cost instead of change var because change var changed during while loops \n",
    "    #how many coins of a certain value and how much is the sum of the coins\n",
    "    print(quarters, \"quarters\", \" = \", 25*quarters/100, \"$\") \n",
    "    print(dimes, \"dimes\ = \", 10*dimes/100, \"$\")\n",
    "    print(nickels, \"nickels\ = \", 5*nickels/100, \"$\")\n",
    "    print(pennies, \"pennies\ = \", pennies/100, \"$\")"
   ]
  }
 ],
 "metadata": {
  "kernelspec": {
   "display_name": "Python 3",
   "language": "python",
   "name": "python3"
  },
  "language_info": {
   "codemirror_mode": {
    "name": "ipython",
    "version": 3
   },
   "file_extension": ".py",
   "mimetype": "text/x-python",
   "name": "python",
   "nbconvert_exporter": "python",
   "pygments_lexer": "ipython3",
   "version": "3.7.6"
  }
 },
 "nbformat": 4,
 "nbformat_minor": 4
}
