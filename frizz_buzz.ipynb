{
 "cells": [
  {
   "cell_type": "code",
   "execution_count": 2,
   "metadata": {},
   "outputs": [],
   "source": [
    "#frizz buzz\n",
    "\"\"\"\n",
    "Multiple of 3 = Frizz\n",
    "Multiple of 5 = Buzz\n",
    "Multiple of 3 and 5 = FrizzBuzz\n",
    "\"\"\"\n",
    "def f_b(n):\n",
    "    fri_buz=[]\n",
    "    for i in range(1,n):\n",
    "        if i%5==0 and i%3==0:\n",
    "            fri_buz.append(\"FrizzBuzz\")\n",
    "        elif i%3==0:\n",
    "            fri_buz.append(\"Frizz\")\n",
    "        elif i%5==0:\n",
    "            fri_buz.append(\"Buzz\")\n",
    "        else:\n",
    "            fri_buz.append(i)\n",
    "    print(fri_buz)"
   ]
  }
 ],
 "metadata": {
  "kernelspec": {
   "display_name": "Python 3",
   "language": "python",
   "name": "python3"
  },
  "language_info": {
   "codemirror_mode": {
    "name": "ipython",
    "version": 3
   },
   "file_extension": ".py",
   "mimetype": "text/x-python",
   "name": "python",
   "nbconvert_exporter": "python",
   "pygments_lexer": "ipython3",
   "version": "3.7.6"
  }
 },
 "nbformat": 4,
 "nbformat_minor": 4
}
