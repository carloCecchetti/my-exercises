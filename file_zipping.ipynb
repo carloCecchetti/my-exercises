{
 "cells": [
  {
   "cell_type": "markdown",
   "metadata": {},
   "source": [
    "File zipping 16/06/2020"
   ]
  },
  {
   "cell_type": "code",
   "execution_count": 36,
   "metadata": {},
   "outputs": [],
   "source": [
    "#first of all we create our file\n",
    "\"\"\"\n",
    "open(<file name>,<mode>). As mode you can write:\n",
    "    \"r\" that can only read the file and return an error if it doesn't find any file\n",
    "    \"w\" write on a file and creates the the file if it doesn't find one\n",
    "    \"a\" makes the same work of \"w\" but instead of \"reset\" the file when you open a file in \"w\" mode, this mode just appends the content\n",
    "    \"x\" just create the file. If there is a file with the same name return an error\n",
    "\"\"\"\n",
    "file = open(\"OurFile.txt\",\"w\")"
   ]
  },
  {
   "cell_type": "code",
   "execution_count": 37,
   "metadata": {},
   "outputs": [
    {
     "data": {
      "text/plain": [
       "True"
      ]
     },
     "execution_count": 37,
     "metadata": {},
     "output_type": "execute_result"
    }
   ],
   "source": [
    "file.writable() #.writeable() returns True if the file is opened in a writable mode. \"a\" mode is a writable mode"
   ]
  },
  {
   "cell_type": "code",
   "execution_count": 38,
   "metadata": {},
   "outputs": [
    {
     "data": {
      "text/plain": [
       "34"
      ]
     },
     "execution_count": 38,
     "metadata": {},
     "output_type": "execute_result"
    }
   ],
   "source": [
    "file.write(\"Our text in a string\\nHello World!\\n\") #I add \\n at the end because if we want to add something in the future we are alredy at the next line"
   ]
  },
  {
   "cell_type": "code",
   "execution_count": 39,
   "metadata": {},
   "outputs": [],
   "source": [
    "file.close() #remember to close"
   ]
  },
  {
   "cell_type": "code",
   "execution_count": 40,
   "metadata": {},
   "outputs": [],
   "source": [
    "\"\"\"\n",
    "We write a long long text and we want to compress it\n",
    "\"\"\"\n",
    "import zipfile"
   ]
  },
  {
   "cell_type": "code",
   "execution_count": 41,
   "metadata": {},
   "outputs": [],
   "source": [
    "zipped_file = zipfile.ZipFile(\"zipped_text.zip\",\"a\") #instead of open() we used ZipFile() method"
   ]
  },
  {
   "cell_type": "code",
   "execution_count": 42,
   "metadata": {},
   "outputs": [],
   "source": [
    "\"\"\"\n",
    ".write(<file name>,<arcname>,<compress_type>,<compressslevel>) does:\n",
    "take <file name> and write it in zipped_file.txt\n",
    "arcname stands for archive name\n",
    "\"\"\"\n",
    "zipped_file.write(\"OurFile.txt\",compress_type=zipfile.ZIP_DEFLATED) "
   ]
  },
  {
   "cell_type": "code",
   "execution_count": 43,
   "metadata": {},
   "outputs": [],
   "source": [
    "zipped_file.close()"
   ]
  },
  {
   "cell_type": "code",
   "execution_count": 45,
   "metadata": {},
   "outputs": [],
   "source": [
    "\"\"\"\n",
    "Now we want to read our long text so we need to unzip it\n",
    "\"\"\"\n",
    "unzip_file = zipfile.ZipFile(\"zipped_text.zip\",\"r\")"
   ]
  },
  {
   "cell_type": "code",
   "execution_count": 48,
   "metadata": {},
   "outputs": [],
   "source": [
    "\"\"\"\n",
    "after this we have to options:\n",
    ".extract() and .extractall()\n",
    "both takes 3 args:\n",
    "    member, path, pwd\n",
    "in extract() we have to define the member parameter and we have path = None and pwd = None\n",
    "in extractall() we have to define the path and member and pwd are None.\n",
    "the path indicates in what folder the unzipped files will go\n",
    "pwd is the password for ecrypt files\n",
    "\"\"\"\n",
    "unzip_file.extractall(\"Unzipped files folder\")"
   ]
  },
  {
   "cell_type": "code",
   "execution_count": 51,
   "metadata": {},
   "outputs": [],
   "source": [
    "\"\"\"\n",
    "usually, when you zip and unzip files, you work with a folders, not single files. \n",
    "For this work there is another better module:\n",
    "        shutil\n",
    "which stands for shell utility\n",
    "I'm gonna to zip the folder where i've unzipped the OurText.txt file\n",
    "\"\"\"\n",
    "import shutil"
   ]
  },
  {
   "cell_type": "code",
   "execution_count": 54,
   "metadata": {},
   "outputs": [
    {
     "data": {
      "text/plain": [
       "'C:\\\\Users\\\\carlo\\\\OneDrive\\\\Desktop\\\\Coding'"
      ]
     },
     "execution_count": 54,
     "metadata": {},
     "output_type": "execute_result"
    }
   ],
   "source": [
    "pwd #find our directory"
   ]
  },
  {
   "cell_type": "code",
   "execution_count": 55,
   "metadata": {},
   "outputs": [],
   "source": [
    "directory = 'C:\\\\Users\\\\carlo\\\\OneDrive\\\\Desktop\\\\Coding\\\\Unzipped files folder' #and I add the folder's name\n",
    "zipped_file = \"OurTextZipped\" #Where di we want to put our archive"
   ]
  },
  {
   "cell_type": "code",
   "execution_count": 56,
   "metadata": {},
   "outputs": [
    {
     "data": {
      "text/plain": [
       "'C:\\\\Users\\\\carlo\\\\OneDrive\\\\Desktop\\\\Coding\\\\OurTextZipped.zip'"
      ]
     },
     "execution_count": 56,
     "metadata": {},
     "output_type": "execute_result"
    }
   ],
   "source": [
    "\"\"\"\n",
    ".make_archive() takes a lot of args\n",
    "base_name -> archive location\n",
    "format -> the \"extension\" .zip or .tar\n",
    "root_dir=None -> the directory to zip (where the folder to zip is)\n",
    "base_dir=None\n",
    "verbose=0\n",
    "dry_run=0\n",
    "owner=None ->  used when creating a tar archive. By default, uses the current owner and group.\n",
    "group=None ->  used when creating a tar archive. By default, uses the current owner and group.\n",
    "logger=None\n",
    "\"\"\"\n",
    "shutil.make_archive(\"OurTextZipped\",\"zip\",'C:\\\\Users\\\\carlo\\\\OneDrive\\\\Desktop\\\\Coding\\\\Unzipped files folder') #notice that now there is OurTextZipped.zip"
   ]
  },
  {
   "cell_type": "code",
   "execution_count": 63,
   "metadata": {},
   "outputs": [],
   "source": [
    "\"\"\"\n",
    ".unpack_archive()\n",
    "filename -> archive name \n",
    "extract_dir=None -> where to put the unzipped stuff\n",
    "format=None -> what is the archive's format. If not provided will use the archive's extension\n",
    "\"\"\"\n",
    "shutil.unpack_archive(\"OurTextZipped.zip\",\"Unzipped using shutil\",\"zip\")"
   ]
  },
  {
   "cell_type": "code",
   "execution_count": 66,
   "metadata": {},
   "outputs": [],
   "source": [
    "#testing\n",
    "import shutil\n",
    "import os"
   ]
  },
  {
   "cell_type": "code",
   "execution_count": 67,
   "metadata": {},
   "outputs": [
    {
     "data": {
      "text/plain": [
       "'C:\\\\Users\\\\carlo\\\\OneDrive\\\\Desktop\\\\Coding'"
      ]
     },
     "execution_count": 67,
     "metadata": {},
     "output_type": "execute_result"
    }
   ],
   "source": [
    "pwd"
   ]
  },
  {
   "cell_type": "code",
   "execution_count": 69,
   "metadata": {},
   "outputs": [],
   "source": [
    "x = shutil.unpack_archive(\"unzip_me_for_instructions.zip\",'C:\\\\Users\\\\carlo\\\\OneDrive\\\\Desktop\\\\Coding\\\\instructions folder')"
   ]
  },
  {
   "cell_type": "code",
   "execution_count": 74,
   "metadata": {},
   "outputs": [
    {
     "name": "stdout",
     "output_type": "stream",
     "text": [
      "Good work on unzipping the file!\n",
      "You should now see 5 folders, each with a lot of random .txt files.\n",
      "Within one of these text files is a telephone number formated ###-###-#### \n",
      "Use the Python os module and regular expressions to iterate through each file, open it, and search for a telephone number.\n",
      "Good luck!\n"
     ]
    }
   ],
   "source": [
    "with open('C:\\\\Users\\\\carlo\\\\OneDrive\\\\Desktop\\\\Coding\\\\instructions folder\\\\extracted_content\\\\Instructions.txt') as x:\n",
    "    print(x.read())"
   ]
  }
 ],
 "metadata": {
  "kernelspec": {
   "display_name": "Python 3",
   "language": "python",
   "name": "python3"
  },
  "language_info": {
   "codemirror_mode": {
    "name": "ipython",
    "version": 3
   },
   "file_extension": ".py",
   "mimetype": "text/x-python",
   "name": "python",
   "nbconvert_exporter": "python",
   "pygments_lexer": "ipython3",
   "version": "3.7.6"
  }
 },
 "nbformat": 4,
 "nbformat_minor": 4
}
