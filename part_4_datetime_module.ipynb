{
 "cells": [
  {
   "cell_type": "markdown",
   "metadata": {},
   "source": [
    "part 4 30/05/2020"
   ]
  },
  {
   "cell_type": "code",
   "execution_count": 12,
   "metadata": {},
   "outputs": [],
   "source": [
    "#datetime\n",
    "\"\"\"\n",
    "In honor of today's spacex's launch\n",
    "Datetime allow us to get, sotre and manage datetime information\n",
    "\"\"\"\n",
    "import datetime"
   ]
  },
  {
   "cell_type": "code",
   "execution_count": 26,
   "metadata": {},
   "outputs": [],
   "source": [
    "#time\n",
    "t=datetime.time(3,22,14)"
   ]
  },
  {
   "cell_type": "code",
   "execution_count": 27,
   "metadata": {},
   "outputs": [
    {
     "name": "stdout",
     "output_type": "stream",
     "text": [
      "03:22:14\n",
      "3\n",
      "22\n",
      "14\n",
      "0\n",
      "0:00:00.000001\n",
      "None\n",
      "23:59:59.999999\n",
      "00:00:00\n"
     ]
    }
   ],
   "source": [
    "print(t) #what we write when we call datetime.time(hours,minutes,secs,millisecs)\n",
    "print(t.hour) #calling only hour\n",
    "print(t.minute) #calling only minutes\n",
    "print(t.second)\n",
    "print(t.microsecond)\n",
    "\n",
    "print(t.resolution)\n",
    "print(t.tzinfo) #time info (it's day/night for ex)\n",
    "print(t.max) \n",
    "print(t.min)"
   ]
  },
  {
   "cell_type": "code",
   "execution_count": 35,
   "metadata": {},
   "outputs": [
    {
     "name": "stdout",
     "output_type": "stream",
     "text": [
      "2020-05-31\n",
      "2020\n",
      "5\n",
      "31\n"
     ]
    }
   ],
   "source": [
    "#dates\n",
    "\"\"\"\n",
    "It's the same as datetime.date\n",
    "\"\"\"\n",
    "d = datetime.date.today()\n",
    "print(d)\n",
    "print(d.year)\n",
    "print(d.month)\n",
    "print(d.day)"
   ]
  },
  {
   "cell_type": "code",
   "execution_count": 40,
   "metadata": {},
   "outputs": [
    {
     "name": "stdout",
     "output_type": "stream",
     "text": [
      "9999-12-31\n",
      "0001-01-01\n",
      "1 day, 0:00:00\n"
     ]
    }
   ],
   "source": [
    "print(d.max)\n",
    "print(d.min)\n",
    "print(d.resolution)"
   ]
  },
  {
   "cell_type": "code",
   "execution_count": 49,
   "metadata": {},
   "outputs": [
    {
     "name": "stdout",
     "output_type": "stream",
     "text": [
      "2020-05-30\n"
     ]
    }
   ],
   "source": [
    "d1 = datetime.date(2020,5,30)\n",
    "print(d1)"
   ]
  },
  {
   "cell_type": "code",
   "execution_count": 50,
   "metadata": {},
   "outputs": [
    {
     "name": "stdout",
     "output_type": "stream",
     "text": [
      "2045-05-30\n"
     ]
    }
   ],
   "source": [
    "d2=d1.replace(year=2045) #replace() will get the previous datetime and change only what you write in the parameter\n",
    "print(d2)"
   ]
  },
  {
   "cell_type": "code",
   "execution_count": 51,
   "metadata": {},
   "outputs": [
    {
     "name": "stdout",
     "output_type": "stream",
     "text": [
      "9131 days, 0:00:00\n"
     ]
    }
   ],
   "source": [
    "print(d2-d1) #you calculate the differences of day between d2 and d1"
   ]
  }
 ],
 "metadata": {
  "kernelspec": {
   "display_name": "Python 3",
   "language": "python",
   "name": "python3"
  },
  "language_info": {
   "codemirror_mode": {
    "name": "ipython",
    "version": 3
   },
   "file_extension": ".py",
   "mimetype": "text/x-python",
   "name": "python",
   "nbconvert_exporter": "python",
   "pygments_lexer": "ipython3",
   "version": "3.7.6"
  }
 },
 "nbformat": 4,
 "nbformat_minor": 4
}
