{
 "cells": [
  {
   "cell_type": "code",
   "execution_count": null,
   "metadata": {},
   "outputs": [],
   "source": [
    "\"\"\"\n",
    "for each number n\n",
    "divide it by all the number before it:\n",
    "n=5\n",
    "first for loop will use 1,2,3,4,5\n",
    "the second does 1/1; 2/1 and 2/2; 3/1, 3/2, 3/3; etc. etc.\n",
    "\"\"\"\n",
    "\n",
    "def prime(n):\n",
    "    \n",
    "    for num_under_n in range(1, n + 1):\n",
    "        \n",
    "        z = 1 #for the divors counter\n",
    "        \n",
    "        for x in range(2, num_under_n + 1): #starts from 2 because every number is divisible by 1 \n",
    "            if num_under_n % x == 0: \n",
    "                z += 1 #when there is a divisor of num_under_n\n",
    "        \n",
    "        if z == 2: #number of divisor (1 and itself)\n",
    "            print(num_under_n)"
   ]
  }
 ],
 "metadata": {
  "kernelspec": {
   "display_name": "Python 3",
   "language": "python",
   "name": "python3"
  },
  "language_info": {
   "codemirror_mode": {
    "name": "ipython",
    "version": 3
   },
   "file_extension": ".py",
   "mimetype": "text/x-python",
   "name": "python",
   "nbconvert_exporter": "python",
   "pygments_lexer": "ipython3",
   "version": "3.7.6"
  }
 },
 "nbformat": 4,
 "nbformat_minor": 4
}
