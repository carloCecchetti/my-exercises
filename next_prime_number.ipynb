{
 "cells": [
  {
   "cell_type": "code",
   "execution_count": 1,
   "metadata": {},
   "outputs": [],
   "source": [
    "\"\"\"\n",
    "for each number n\n",
    "divide it by all the number before it:\n",
    "n=5\n",
    "first for loop will use 1,2,3,4,5\n",
    "the second does 1/1; 2/1 and 2/2; 3/1, 3/2, 3/3; etc. etc.\n",
    "\"\"\"\n",
    "\n",
    "def prime(n):\n",
    "    \n",
    "    for num_under_n in range(1, n + 1):\n",
    "        \n",
    "        z = 1 #for the divors counter\n",
    "        \n",
    "        for x in range(2, num_under_n + 1): #starts from 2 because every number is divisible by 1 \n",
    "            if num_under_n % x == 0: \n",
    "                z += 1 #when there is a divisor of num_under_n\n",
    "        \n",
    "        if z == 2: #number of divisor (1 and itself)\n",
    "            print(num_under_n)"
   ]
  },
  {
   "cell_type": "code",
   "execution_count": 2,
   "metadata": {},
   "outputs": [
    {
     "name": "stdout",
     "output_type": "stream",
     "text": [
      "2\n"
     ]
    },
    {
     "name": "stdin",
     "output_type": "stream",
     "text": [
      "Quit? y to quit y\n"
     ]
    }
   ],
   "source": [
    "#Next Prime Number\n",
    "def next_prime_number(n):\n",
    "    i = 1\n",
    "    d=0\n",
    "    while i != \"y\":\n",
    "        x = n/2\n",
    "        for y in range(1,int(x)):\n",
    "            if n%y==0:\n",
    "                d+=1\n",
    "        print(d)\n",
    "        i=input(\"Quit? y to quit\")\n",
    "        \n",
    "            \n",
    "            \n",
    "next_prime_number(10)"
   ]
  },
  {
   "cell_type": "code",
   "execution_count": 35,
   "metadata": {},
   "outputs": [
    {
     "ename": "IndentationError",
     "evalue": "unexpected indent (<ipython-input-35-78940761e87f>, line 12)",
     "output_type": "error",
     "traceback": [
      "\u001b[1;36m  File \u001b[1;32m\"<ipython-input-35-78940761e87f>\"\u001b[1;36m, line \u001b[1;32m12\u001b[0m\n\u001b[1;33m    if a == \"y\":\u001b[0m\n\u001b[1;37m    ^\u001b[0m\n\u001b[1;31mIndentationError\u001b[0m\u001b[1;31m:\u001b[0m unexpected indent\n"
     ]
    }
   ],
   "source": [
    "n = 1\n",
    "i = 0\n",
    "\n",
    "for z in range(1,int(n/2+1)):\n",
    "    if n%z==0:\n",
    "        i += 1\n",
    "    \n",
    "if i < 2:\n",
    "    print(n)\n",
    "n += 1 \n",
    "a = input(\"continue? \")\n",
    "    if a == \"y\":\n",
    "        continue"
   ]
  },
  {
   "cell_type": "code",
   "execution_count": null,
   "metadata": {},
   "outputs": [],
   "source": []
  },
  {
   "cell_type": "code",
   "execution_count": null,
   "metadata": {},
   "outputs": [],
   "source": []
  }
 ],
 "metadata": {
  "kernelspec": {
   "display_name": "Python 3",
   "language": "python",
   "name": "python3"
  },
  "language_info": {
   "codemirror_mode": {
    "name": "ipython",
    "version": 3
   },
   "file_extension": ".py",
   "mimetype": "text/x-python",
   "name": "python",
   "nbconvert_exporter": "python",
   "pygments_lexer": "ipython3",
   "version": "3.7.6"
  }
 },
 "nbformat": 4,
 "nbformat_minor": 4
}
