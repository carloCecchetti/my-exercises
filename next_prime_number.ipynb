{
 "cells": [
  {
   "cell_type": "code",
   "execution_count": null,
   "metadata": {},
   "outputs": [],
   "source": [
    "#Next Prime Number\n",
    "\"\"\"\n",
    "This program outputs prime numbers in sequence (2,3,5,7) \n",
    "'till the user input \"y\" for \"yes to quit\"\n",
    "\n",
    "if the library says that n is prime\n",
    "    print \"prime number after {the previous n value} is {n value}\"\n",
    "    old_n = n\n",
    "else repeat the code with n+1\n",
    "when a number gets printed it asks if you want to quit\n",
    "\"\"\"\n",
    "\n",
    "import sympy\n",
    "\n",
    "def prime_printer(n):\n",
    "    old_n = 0 #declaring variable, x is useless, just to make the output prettier\n",
    "    \n",
    "    while True:\n",
    "        n+=1\n",
    "        if sympy.isprime(n): #this library checks if a num is prime\n",
    "            print(f\"prime number after {old_n} is {n}\")\n",
    "            old_n=n\n",
    "        else:\n",
    "            continue #so we do not ask to continue or not every new n but only when n is a prime number\n",
    "        if input(\"Quit? y to quit, return to continue\") == \"y\":\n",
    "            break #quit the loop, stops the code"
   ]
  }
 ],
 "metadata": {
  "kernelspec": {
   "display_name": "Python 3",
   "language": "python",
   "name": "python3"
  },
  "language_info": {
   "codemirror_mode": {
    "name": "ipython",
    "version": 3
   },
   "file_extension": ".py",
   "mimetype": "text/x-python",
   "name": "python",
   "nbconvert_exporter": "python",
   "pygments_lexer": "ipython3",
   "version": "3.7.6"
  }
 },
 "nbformat": 4,
 "nbformat_minor": 4
}
