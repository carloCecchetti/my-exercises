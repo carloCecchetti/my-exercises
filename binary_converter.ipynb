{
 "cells": [
  {
   "cell_type": "code",
   "execution_count": null,
   "metadata": {},
   "outputs": [],
   "source": [
    "#Binary to Decimal and Back Converter \n",
    "\"\"\"\n",
    "dec_bi:\n",
    "it converts a decimal numbers inot a binary one\n",
    "I use the method that checks division's rest\n",
    "I declare the string that will be printed where we add the 1 or the 0 each while loop's lap\n",
    "'till the number = 0:\n",
    "    if the rest of n / 2 is 0:\n",
    "        add a 0 to the string\n",
    "        the number is now the half\n",
    "    else:\n",
    "        add a 1 to the string\n",
    "        the number is the half -0.50 which is the rest of the division\n",
    "after all the string is printed in reverse because we have to read in reverse if we use divisons' method\n",
    "P.S. I used str insted of integers values because if we add an int(value) to an int(value) the result is a sum. \n",
    "Binary system is a position writing\n",
    "\n",
    "bi_dec:\n",
    "dec is the resul\n",
    "index is the index to elevate 2 \n",
    "aswell in the prevoius program, binary numbers must be read reversed so thhe loop is ::-1\n",
    "if the selected character in the string is 1:\n",
    "    dec = 2**index of the selected one\n",
    "    index += 1 \n",
    "\"\"\"\n",
    "def dec_bi(n):\n",
    "    bi_str = \"\"\n",
    "    \n",
    "    while n != 0:\n",
    "        \n",
    "        if n%2 == 0:\n",
    "            bi_str += \"0\"\n",
    "            n/=2\n",
    "        else:\n",
    "            bi_str += \"1\"\n",
    "            n = n/2-0.5\n",
    "        continue\n",
    "    \n",
    "    print(bi_str[::-1])\n",
    "        \n",
    "\n",
    "def bi_dec(n):\n",
    "    dec=0\n",
    "    index = 0\n",
    "    \n",
    "    for i in str(n)[::-1]:\n",
    "        if i == \"1\":\n",
    "            dec += 2**index\n",
    "        index += 1\n",
    "    \n",
    "    return dec "
   ]
  }
 ],
 "metadata": {
  "kernelspec": {
   "display_name": "Python 3",
   "language": "python",
   "name": "python3"
  },
  "language_info": {
   "codemirror_mode": {
    "name": "ipython",
    "version": 3
   },
   "file_extension": ".py",
   "mimetype": "text/x-python",
   "name": "python",
   "nbconvert_exporter": "python",
   "pygments_lexer": "ipython3",
   "version": "3.7.6"
  }
 },
 "nbformat": 4,
 "nbformat_minor": 4
}
