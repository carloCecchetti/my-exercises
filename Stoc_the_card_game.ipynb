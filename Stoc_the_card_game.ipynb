{
 "cells": [
  {
   "cell_type": "markdown",
   "metadata": {},
   "source": [
    "Stoc: the card game 27/06/2020"
   ]
  },
  {
   "cell_type": "code",
   "execution_count": 5,
   "metadata": {},
   "outputs": [],
   "source": [
    "\"\"\"\n",
    "This is a card game invented by my granddad.\n",
    "This is just a draft\n",
    "\"\"\"\n",
    "import random\n",
    "\n",
    "suits = ('Hearts', 'Diamonds', 'Spades', 'Clubs')\n",
    "ranks = (\"Ace\",'Two', 'Three', 'Four', 'Five', 'Six', 'Seven', 'Jack', 'Queen', 'King')\n",
    "\n",
    "deck = []\n",
    "for suit in suits:\n",
    "    for rank in ranks:\n",
    "        deck.append(f\"{rank} of {suit}\")\n",
    "random.shuffle(deck)\n",
    "\n",
    "pl1_hand = []\n",
    "pl2_hand = []\n",
    "pl3_hand = []\n",
    "pl4_hand = []\n",
    "\n",
    "def how_many():\n",
    "    n_players = int(input(\"How many players? \"))\n",
    "    if n_players == 2:\n",
    "        pl1_hand = deck[:20]\n",
    "        pl2_hand = deck[20:]\n",
    "    elif n_players == 4:\n",
    "        pl1_hand = deck[:10]\n",
    "        pl2_hand = deck[10:20]\n",
    "        pl3_hand = deck[20:30]\n",
    "        pl4_hand = deck[30:]\n",
    "        \n"
   ]
  }
 ],
 "metadata": {
  "kernelspec": {
   "display_name": "Python 3",
   "language": "python",
   "name": "python3"
  },
  "language_info": {
   "codemirror_mode": {
    "name": "ipython",
    "version": 3
   },
   "file_extension": ".py",
   "mimetype": "text/x-python",
   "name": "python",
   "nbconvert_exporter": "python",
   "pygments_lexer": "ipython3",
   "version": "3.7.6"
  }
 },
 "nbformat": 4,
 "nbformat_minor": 4
}
