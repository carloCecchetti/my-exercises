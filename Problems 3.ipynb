{
 "cells": [
  {
   "cell_type": "markdown",
   "metadata": {},
   "source": [
    "04/08/2020"
   ]
  },
  {
   "cell_type": "code",
   "execution_count": 4,
   "metadata": {},
   "outputs": [
    {
     "name": "stdout",
     "output_type": "stream",
     "text": [
      "Letters: 3; Digits: 2\n"
     ]
    }
   ],
   "source": [
    "#AlphaNum counter\n",
    "def alphanum_counter(text):\n",
    "    digits = letters = 0\n",
    "    for i in text:\n",
    "        if i.isdigit():\n",
    "            digits += 1\n",
    "        elif i.isalpha():\n",
    "            letters += 1\n",
    "    print(f\"Letters: {letters}; Digits: {digits}\")\n",
    "\n",
    "alphanum_counter(\"fff33\") #calling func"
   ]
  },
  {
   "cell_type": "code",
   "execution_count": 6,
   "metadata": {},
   "outputs": [
    {
     "name": "stdout",
     "output_type": "stream",
     "text": [
      "Evens: 4; Odds: 5\n"
     ]
    }
   ],
   "source": [
    "#EvenOdder\n",
    "def evenodd(nums):\n",
    "    evens = odds = 0\n",
    "    for n in nums:\n",
    "        if n % 2 == 0:\n",
    "            evens += 1\n",
    "        else:\n",
    "            odds += 1\n",
    "    print(f\"Evens: {evens}; Odds: {odds}\")\n",
    "\n",
    "evenodd((1, 2, 3, 4, 5, 6, 7, 8, 9)) #calling func"
   ]
  },
  {
   "cell_type": "code",
   "execution_count": 15,
   "metadata": {},
   "outputs": [
    {
     "name": "stdout",
     "output_type": "stream",
     "text": [
      "1\n",
      "1\n",
      "2\n",
      "3\n",
      "5\n",
      "8\n",
      "13\n",
      "21\n",
      "34\n"
     ]
    }
   ],
   "source": [
    "#Fibonacci\n",
    "def fib(n):\n",
    "    a = 0\n",
    "    b = 1\n",
    "    while b<n:\n",
    "        print(b)\n",
    "        a, b = b, a+b #This is the only way (fast) to follow the formula. You cannot put this on multiple line because the a or b value will change during the process of assigning the values. You should use several lines to remember a/b value to reassign to a/b if you want to make it clearer\n",
    "        \n",
    "fib(50) #calling func"
   ]
  },
  {
   "cell_type": "code",
   "execution_count": 17,
   "metadata": {},
   "outputs": [
    {
     "name": "stdout",
     "output_type": "stream",
     "text": [
      "[1505, 1540, 1575, 1610, 1645, 1680, 1715, 1750, 1785, 1820, 1855, 1890, 1925, 1960, 1995, 2030, 2065, 2100, 2135, 2170, 2205, 2240, 2275, 2310, 2345, 2380, 2415, 2450, 2485, 2520, 2555, 2590, 2625, 2660, 2695]\n"
     ]
    }
   ],
   "source": [
    "#Write a Python program to find those numbers which are divisible by 7 and multiple of 5, between 1500 and 2700\n",
    "def finder():\n",
    "    numbers = []\n",
    "    for x in range(1500,2701):\n",
    "        if x % 7 == 0 and x % 5 == 0:\n",
    "            numbers.append(x)\n",
    "    print(numbers)\n",
    "\n",
    "finder() #calling func      "
   ]
  }
 ],
 "metadata": {
  "kernelspec": {
   "display_name": "Python 3",
   "language": "python",
   "name": "python3"
  },
  "language_info": {
   "codemirror_mode": {
    "name": "ipython",
    "version": 3
   },
   "file_extension": ".py",
   "mimetype": "text/x-python",
   "name": "python",
   "nbconvert_exporter": "python",
   "pygments_lexer": "ipython3",
   "version": "3.7.6"
  }
 },
 "nbformat": 4,
 "nbformat_minor": 4
}
