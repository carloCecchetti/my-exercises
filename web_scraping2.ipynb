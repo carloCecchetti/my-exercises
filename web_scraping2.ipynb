{
 "cells": [
  {
   "cell_type": "markdown",
   "metadata": {},
   "source": [
    "Web Scraping 18/06/2020"
   ]
  },
  {
   "cell_type": "code",
   "execution_count": 1,
   "metadata": {},
   "outputs": [],
   "source": [
    "import bs4,requests\n",
    "page = requests.get(\"https://en.wikipedia.org/wiki/Python_(programming_language)\")"
   ]
  },
  {
   "cell_type": "code",
   "execution_count": 2,
   "metadata": {},
   "outputs": [
    {
     "data": {
      "text/plain": [
       "requests.models.Response"
      ]
     },
     "execution_count": 2,
     "metadata": {},
     "output_type": "execute_result"
    }
   ],
   "source": [
    "type(page)"
   ]
  },
  {
   "cell_type": "code",
   "execution_count": null,
   "metadata": {},
   "outputs": [],
   "source": [
    "page.text\n",
    "#long str"
   ]
  },
  {
   "cell_type": "code",
   "execution_count": 4,
   "metadata": {},
   "outputs": [],
   "source": [
    "soup = bs4.BeautifulSoup(page.text,\"lxml\")"
   ]
  },
  {
   "cell_type": "code",
   "execution_count": 5,
   "metadata": {},
   "outputs": [
    {
     "data": {
      "text/plain": [
       "[<title>Python (programming language) - Wikipedia</title>]"
      ]
     },
     "execution_count": 5,
     "metadata": {},
     "output_type": "execute_result"
    }
   ],
   "source": [
    "soup.select(\"title\")"
   ]
  },
  {
   "cell_type": "code",
   "execution_count": 6,
   "metadata": {},
   "outputs": [
    {
     "data": {
      "text/plain": [
       "'Python (programming language) - Wikipedia'"
      ]
     },
     "execution_count": 6,
     "metadata": {},
     "output_type": "execute_result"
    }
   ],
   "source": [
    "soup.select(\"title\")[0].getText()"
   ]
  },
  {
   "cell_type": "code",
   "execution_count": 7,
   "metadata": {},
   "outputs": [
    {
     "name": "stdout",
     "output_type": "stream",
     "text": [
      "History\n",
      "Features and philosophy\n",
      "Syntax and semantics\n",
      "Indentation\n",
      "Statements and control flow\n",
      "Expressions\n",
      "Methods\n",
      "Typing\n",
      "Mathematics\n",
      "Python programming examples\n",
      "Libraries\n",
      "Development environments\n",
      "Implementations\n",
      "Reference implementation\n",
      "Other implementations\n",
      "Unsupported implementations\n",
      "Cross-compilers to other languages\n",
      "Performance\n",
      "Development\n",
      "Naming\n",
      "API documentation generators\n",
      "Uses\n",
      "Languages influenced by Python\n",
      "See also\n",
      "References\n",
      "Sources\n",
      "Further reading\n",
      "External links\n"
     ]
    }
   ],
   "source": [
    "\"\"\"\n",
    "The difficult thing is that we have to know the synatx to write inside .select() module\n",
    "we need to know the css syntax\n",
    ".select(\"tag name\") if we are looking for a a tag\n",
    ".select(\"#id name\") to select a tag\n",
    ".select(\".class name\") for class\n",
    ".select()\n",
    "\"\"\"\n",
    "soup.select(\".toctext\") #we are calling a class\n",
    "for i in soup.select(\".toctext\"):\n",
    "    print(i.text)"
   ]
  },
  {
   "cell_type": "markdown",
   "metadata": {},
   "source": [
    "Web Scraping 18/06/2020"
   ]
  },
  {
   "cell_type": "code",
   "execution_count": 8,
   "metadata": {},
   "outputs": [],
   "source": [
    "#starting by importing what we need\n",
    "import requests,bs4"
   ]
  },
  {
   "cell_type": "code",
   "execution_count": 9,
   "metadata": {},
   "outputs": [],
   "source": [
    "#let's get the source of the link\n",
    "req = requests.get(\"https://www.wikipedia.org/\")"
   ]
  },
  {
   "cell_type": "code",
   "execution_count": 10,
   "metadata": {},
   "outputs": [],
   "source": [
    "#make it in readable HTML\n",
    "soup = bs4.BeautifulSoup(req.text,\"lxml\")"
   ]
  },
  {
   "cell_type": "code",
   "execution_count": 11,
   "metadata": {},
   "outputs": [
    {
     "data": {
      "text/plain": [
       "[<strong class=\"jsl10n localized-slogan\" data-jsl10n=\"slogan\">The Free Encyclopedia</strong>,\n",
       " <strong>English</strong>,\n",
       " <strong>æ¥æ¬èª</strong>,\n",
       " <strong>EspaÃ±ol</strong>,\n",
       " <strong>Deutsch</strong>,\n",
       " <strong>Ð ÑÑÑÐºÐ¸Ð¹</strong>,\n",
       " <strong>FranÃ§ais</strong>,\n",
       " <strong>Italiano</strong>,\n",
       " <strong>ä¸­æ</strong>,\n",
       " <strong>PortuguÃªs</strong>,\n",
       " <strong>Polski</strong>,\n",
       " <strong class=\"jsl10n\" data-jsl10n=\"app-links.title\">\n",
       " <a class=\"jsl10n\" data-jsl10n=\"app-links.url\" href=\"https://en.wikipedia.org/wiki/List_of_Wikipedia_mobile_applications\">\n",
       " Download Wikipedia for Android or iOS\n",
       " </a>\n",
       " </strong>]"
      ]
     },
     "execution_count": 11,
     "metadata": {},
     "output_type": "execute_result"
    }
   ],
   "source": [
    "#selecting only strong tags\n",
    "soup.select(\"strong\")"
   ]
  },
  {
   "cell_type": "code",
   "execution_count": 12,
   "metadata": {},
   "outputs": [
    {
     "name": "stdout",
     "output_type": "stream",
     "text": [
      "English\n",
      "æ¥æ¬èª\n",
      "EspaÃ±ol\n",
      "Deutsch\n",
      "Ð ÑÑÑÐºÐ¸Ð¹\n",
      "FranÃ§ais\n",
      "Italiano\n",
      "ä¸­æ\n",
      "PortuguÃªs\n",
      "Polski\n"
     ]
    }
   ],
   "source": [
    "#print the languages\n",
    "for i in range(1,11):\n",
    "    print(soup.select(\"strong\")[i].getText())"
   ]
  },
  {
   "cell_type": "code",
   "execution_count": 13,
   "metadata": {},
   "outputs": [],
   "source": [
    "#let's grap images\n",
    "req = requests.get(\"https://en.wikipedia.org/wiki/Brown-eared_bulbul\")"
   ]
  },
  {
   "cell_type": "code",
   "execution_count": 14,
   "metadata": {},
   "outputs": [],
   "source": [
    "soup = bs4.BeautifulSoup(req.text,\"lxml\")"
   ]
  },
  {
   "cell_type": "code",
   "execution_count": 15,
   "metadata": {},
   "outputs": [
    {
     "data": {
      "text/plain": [
       "<bound method Tag.get_text of <img alt=\"\" class=\"thumbimage\" data-file-height=\"640\" data-file-width=\"800\" decoding=\"async\" height=\"176\" src=\"//upload.wikimedia.org/wikipedia/commons/thumb/1/18/Brown-eared_Bulbul._Ixos_amaurotis_squamiceps.jpg/220px-Brown-eared_Bulbul._Ixos_amaurotis_squamiceps.jpg\" srcset=\"//upload.wikimedia.org/wikipedia/commons/thumb/1/18/Brown-eared_Bulbul._Ixos_amaurotis_squamiceps.jpg/330px-Brown-eared_Bulbul._Ixos_amaurotis_squamiceps.jpg 1.5x, //upload.wikimedia.org/wikipedia/commons/thumb/1/18/Brown-eared_Bulbul._Ixos_amaurotis_squamiceps.jpg/440px-Brown-eared_Bulbul._Ixos_amaurotis_squamiceps.jpg 2x\" width=\"220\"/>>"
      ]
     },
     "execution_count": 15,
     "metadata": {},
     "output_type": "execute_result"
    }
   ],
   "source": [
    "soup.select(\"img\")[3].getText #let's search for its src URL"
   ]
  },
  {
   "cell_type": "code",
   "execution_count": 16,
   "metadata": {},
   "outputs": [
    {
     "data": {
      "text/plain": [
       "[<img alt=\"\" class=\"thumbimage\" data-file-height=\"640\" data-file-width=\"800\" decoding=\"async\" height=\"176\" src=\"//upload.wikimedia.org/wikipedia/commons/thumb/1/18/Brown-eared_Bulbul._Ixos_amaurotis_squamiceps.jpg/220px-Brown-eared_Bulbul._Ixos_amaurotis_squamiceps.jpg\" srcset=\"//upload.wikimedia.org/wikipedia/commons/thumb/1/18/Brown-eared_Bulbul._Ixos_amaurotis_squamiceps.jpg/330px-Brown-eared_Bulbul._Ixos_amaurotis_squamiceps.jpg 1.5x, //upload.wikimedia.org/wikipedia/commons/thumb/1/18/Brown-eared_Bulbul._Ixos_amaurotis_squamiceps.jpg/440px-Brown-eared_Bulbul._Ixos_amaurotis_squamiceps.jpg 2x\" width=\"220\"/>]"
      ]
     },
     "execution_count": 16,
     "metadata": {},
     "output_type": "execute_result"
    }
   ],
   "source": [
    "soup.select(\".thumbimage\")"
   ]
  },
  {
   "cell_type": "code",
   "execution_count": 17,
   "metadata": {},
   "outputs": [],
   "source": [
    "computer = soup.select(\".thumbimage\")[0]"
   ]
  },
  {
   "cell_type": "code",
   "execution_count": 18,
   "metadata": {},
   "outputs": [
    {
     "data": {
      "text/plain": [
       "<img alt=\"\" class=\"thumbimage\" data-file-height=\"640\" data-file-width=\"800\" decoding=\"async\" height=\"176\" src=\"//upload.wikimedia.org/wikipedia/commons/thumb/1/18/Brown-eared_Bulbul._Ixos_amaurotis_squamiceps.jpg/220px-Brown-eared_Bulbul._Ixos_amaurotis_squamiceps.jpg\" srcset=\"//upload.wikimedia.org/wikipedia/commons/thumb/1/18/Brown-eared_Bulbul._Ixos_amaurotis_squamiceps.jpg/330px-Brown-eared_Bulbul._Ixos_amaurotis_squamiceps.jpg 1.5x, //upload.wikimedia.org/wikipedia/commons/thumb/1/18/Brown-eared_Bulbul._Ixos_amaurotis_squamiceps.jpg/440px-Brown-eared_Bulbul._Ixos_amaurotis_squamiceps.jpg 2x\" width=\"220\"/>"
      ]
     },
     "execution_count": 18,
     "metadata": {},
     "output_type": "execute_result"
    }
   ],
   "source": [
    "computer "
   ]
  },
  {
   "cell_type": "code",
   "execution_count": null,
   "metadata": {},
   "outputs": [],
   "source": [
    "computer[\"src\"]"
   ]
  },
  {
   "cell_type": "code",
   "execution_count": 19,
   "metadata": {},
   "outputs": [],
   "source": [
    "ima_link = requests.get(\"https://upload.wikimedia.org/wikipedia/commons/thumb/1/18/Brown-eared_Bulbul._Ixos_amaurotis_squamiceps.jpg/220px-Brown-eared_Bulbul._Ixos_amaurotis_squamiceps.jpg\")"
   ]
  },
  {
   "cell_type": "code",
   "execution_count": null,
   "metadata": {},
   "outputs": [],
   "source": [
    "ima_link.content\n",
    "#long string with pixel's values"
   ]
  },
  {
   "cell_type": "code",
   "execution_count": 20,
   "metadata": {},
   "outputs": [
    {
     "data": {
      "text/plain": [
       "11506"
      ]
     },
     "execution_count": 20,
     "metadata": {},
     "output_type": "execute_result"
    }
   ],
   "source": [
    "f = open(\"my_photo.jpg\",\"wb\")\n",
    "f.write(ima_link.content)"
   ]
  },
  {
   "cell_type": "code",
   "execution_count": 21,
   "metadata": {},
   "outputs": [],
   "source": [
    "f.close()"
   ]
  }
 ],
 "metadata": {
  "kernelspec": {
   "display_name": "Python 3",
   "language": "python",
   "name": "python3"
  },
  "language_info": {
   "codemirror_mode": {
    "name": "ipython",
    "version": 3
   },
   "file_extension": ".py",
   "mimetype": "text/x-python",
   "name": "python",
   "nbconvert_exporter": "python",
   "pygments_lexer": "ipython3",
   "version": "3.7.6"
  }
 },
 "nbformat": 4,
 "nbformat_minor": 4
}
