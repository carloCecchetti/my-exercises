{
 "cells": [
  {
   "cell_type": "code",
   "execution_count": 3,
   "id": "expired-championship",
   "metadata": {},
   "outputs": [],
   "source": [
    "import cv2 as cv\n",
    "import numpy as np\n",
    "\n",
    "def show_image(windName = \"img\", img = img, waitKey = 0):\n",
    "    cv.imshow(windName, img)\n",
    "    cv.waitKey(0)\n",
    "    cv.destroyAllWindows()\n",
    "\n",
    "#drawing shapes\n",
    "img = np.zeros((720,1280,3)) #creating a black image in numpy\n",
    "                 #pt1(start),pt2(end),   color,thickness, type of line \n",
    "img = cv.line(img,(800,450),(1600,900),(0,0,255),10,cv.LINE_AA)\n",
    "\n",
    "img = cv.rectangle(img,(40,40),(900,500),(3,0,10),15,cv.LINE_8)\n",
    "                #centreCoords, radius\n",
    "img = cv.circle(img,(40,40),100,(0,2,2),8,cv.LINE_4)\n",
    "\n",
    "img = cv.ellipse(img,(256,256),(100,50),45,45,360,(0,255,0),-1, cv.LINE_AA)\n",
    "\n",
    "show_image(\"img\", img)"
   ]
  },
  {
   "cell_type": "code",
   "execution_count": 4,
   "id": "statewide-lawyer",
   "metadata": {},
   "outputs": [],
   "source": [
    "#drawing polygon\n",
    "#creating the base image\n",
    "img2 = np.zeros((720,1280,3))\n",
    "                #point1, point2,  point3,   point4, ... coordinates\n",
    "pts2 = np.array([[50,5],[200,350],[950,510],[750,230]], np.int32)\n",
    "        #base image, points, True = close the polygon, color, thickness\n",
    "img2 = cv.polylines(img2,[pts2],True,(0,255,255),7)\n",
    "\n",
    "show_image(\"img2\", img2)"
   ]
  },
  {
   "cell_type": "code",
   "execution_count": 5,
   "id": "every-contamination",
   "metadata": {},
   "outputs": [],
   "source": [
    "#this is basically the same code as the previous cell but there's a difference next comment\n",
    "img3 = np.zeros((720,1280,3))\n",
    "pts3 = np.array([[150,5],[20,350],[90,510],[750,20]], np.int32)\n",
    "                        #lsit of list of points: multiple polygons\n",
    "img3 = cv.polylines(img3,[pts3,pts2],True,(255,0,255),7)\n",
    "\n",
    "show_image(\"img3\", img3)"
   ]
  },
  {
   "cell_type": "code",
   "execution_count": 6,
   "id": "motivated-greene",
   "metadata": {},
   "outputs": [],
   "source": [
    "#Adding text\n",
    "imgText = np.zeros((720,1280,3))\n",
    "                         #coordinates                                                                                                                   LINE_AA is often the best                                                         \n",
    "cv.putText(img = imgText, org = (190,400), text = \"Text in CV2\", fontFace = cv.FONT_HERSHEY_SIMPLEX, fontScale = 5, color = (255,0,122), thickness = 3, lineType = cv.LINE_AA)\n",
    "show_image(\"imgText\", imgText)"
   ]
  },
  {
   "cell_type": "markdown",
   "id": "generous-guidance",
   "metadata": {},
   "source": [
    "### Mouse events"
   ]
  },
  {
   "cell_type": "code",
   "execution_count": 7,
   "id": "seventh-continuity",
   "metadata": {},
   "outputs": [
    {
     "name": "stdout",
     "output_type": "stream",
     "text": [
      "['EVENT_FLAG_ALTKEY', 'EVENT_FLAG_CTRLKEY', 'EVENT_FLAG_LBUTTON', 'EVENT_FLAG_MBUTTON', 'EVENT_FLAG_RBUTTON', 'EVENT_FLAG_SHIFTKEY', 'EVENT_LBUTTONDBLCLK', 'EVENT_LBUTTONDOWN', 'EVENT_LBUTTONUP', 'EVENT_MBUTTONDBLCLK', 'EVENT_MBUTTONDOWN', 'EVENT_MBUTTONUP', 'EVENT_MOUSEHWHEEL', 'EVENT_MOUSEMOVE', 'EVENT_MOUSEWHEEL', 'EVENT_RBUTTONDBLCLK', 'EVENT_RBUTTONDOWN', 'EVENT_RBUTTONUP']\n"
     ]
    }
   ],
   "source": [
    "import cv2 as cv\n",
    "events = [i for i in dir(cv) if \"EVENT\" in i]\n",
    "print(events)"
   ]
  },
  {
   "cell_type": "code",
   "execution_count": 46,
   "id": "normal-hazard",
   "metadata": {},
   "outputs": [],
   "source": [
    "import cv2 as cv\n",
    "import numpy as np\n",
    "\n",
    "#callback function to draw circles where you click\n",
    "def draw_circle(event, x, y, flags, param):\n",
    "    if event == cv.EVENT_LBUTTONDOWN:\n",
    "        cv.circle(img, (x, y), 20, (20,39,0))\n",
    "        \n",
    "img = np.zeros((720,1280,3))\n",
    "\n",
    "cv.namedWindow(\"Mouse circles\")\n",
    "\n",
    "cv.setMouseCallback(\"Mouse circles\", draw_circle) \n",
    "\n",
    "while True:\n",
    "    cv.imshow(\"Mouse circles\", img)\n",
    "    if cv.waitKey(20) == 113:\n",
    "        break\n",
    "\n",
    "cv.destroyAllWindows()"
   ]
  },
  {
   "cell_type": "code",
   "execution_count": 48,
   "id": "connected-burner",
   "metadata": {},
   "outputs": [
    {
     "name": "stdout",
     "output_type": "stream",
     "text": [
      "0 1271 719 0 None\n",
      "0 1270 719 0 None\n",
      "0 1270 718 0 None\n",
      "0 1270 717 0 None\n",
      "0 1269 717 0 None\n",
      "0 1268 717 0 None\n",
      "0 1268 716 0 None\n",
      "0 1267 716 0 None\n",
      "0 1267 715 0 None\n",
      "0 1267 714 0 None\n",
      "0 1266 714 0 None\n",
      "1 1266 714 1 None\n",
      "4 1266 714 0 None\n",
      "0 1266 714 0 None\n",
      "1 1266 714 1 None\n",
      "4 1266 714 0 None\n",
      "0 1266 714 0 None\n",
      "7 1266 714 1 None\n",
      "4 1266 714 0 None\n",
      "0 1265 714 0 None\n",
      "0 1264 714 0 None\n",
      "0 1264 713 0 None\n",
      "0 1264 712 0 None\n",
      "0 1265 712 0 None\n",
      "0 1265 711 0 None\n",
      "0 1266 711 0 None\n",
      "0 1267 711 0 None\n",
      "0 1267 712 0 None\n",
      "0 1267 713 0 None\n",
      "1 1267 713 1 None\n",
      "4 1267 713 0 None\n",
      "0 1267 713 0 None\n",
      "7 1267 713 1 None\n",
      "4 1267 713 0 None\n",
      "0 1268 714 0 None\n",
      "0 1268 715 0 None\n",
      "0 1269 715 0 None\n",
      "0 1269 716 0 None\n",
      "0 1269 717 0 None\n",
      "0 1270 718 0 None\n",
      "0 1270 719 0 None\n"
     ]
    }
   ],
   "source": [
    "def tomato(event, x , y, flags, param):\n",
    "    print(event, x , y, flags, param)\n",
    "\n",
    "cv.namedWindow(\"Mouse circles\")\n",
    "\n",
    "cv.setMouseCallback(\"Mouse circles\", tomato) #this function put as parameters of the fucntion event: what keystroke has been pressed each new func call, x and y are the coordinates, flags\n",
    "\n",
    "while True:\n",
    "    cv.imshow(\"Mouse circles\", img)\n",
    "    if cv.waitKey(20) == 113:\n",
    "        break\n",
    "\n",
    "cv.destroyAllWindows()"
   ]
  }
 ],
 "metadata": {
  "kernelspec": {
   "display_name": "Python 3",
   "language": "python",
   "name": "python3"
  },
  "language_info": {
   "codemirror_mode": {
    "name": "ipython",
    "version": 3
   },
   "file_extension": ".py",
   "mimetype": "text/x-python",
   "name": "python",
   "nbconvert_exporter": "python",
   "pygments_lexer": "ipython3",
   "version": "3.8.5"
  }
 },
 "nbformat": 4,
 "nbformat_minor": 5
}
