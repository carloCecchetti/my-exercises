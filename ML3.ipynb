{
 "cells": [
  {
   "cell_type": "markdown",
   "metadata": {},
   "source": [
    "# The better the features you provide, the better the classifier will be  \n",
    "Get good features is one of the most important part of the job  \n",
    "## But what's a good feature?\n",
    "Classifiers are good with multiple features, otherwise using if statements would be faster and easier.  \n",
    "To choose good features you should avoid useful features.  \n",
    "### Avoid generalizations\n",
    "Men are usually higher than women, but this doesn't mean that every woman is lower than a man, so, given two measures, you cannot tell which is the woman and which is the man.  \n",
    "### Avoid redundant features  \n",
    "It's useless to add the height in centimeter and in meters, the AI may count that feature twice giving it more importance.\n",
    "### Features easy to udnerstand\n",
    "Easier features are easier to learn (and easier to explain to the machine)."
   ]
  },
  {
   "cell_type": "markdown",
   "metadata": {},
   "source": [
    "--------------------------------------------------------------------------------------------------------------------"
   ]
  },
  {
   "cell_type": "markdown",
   "metadata": {},
   "source": [
    "Imaging we already have the data set to train our algorithm, but how can we sure that it works and how accurate it is? A way to do so is to split our data in to groups:  \n",
    "### **Training Set and Testing Set**"
   ]
  },
  {
   "cell_type": "code",
   "execution_count": 67,
   "metadata": {},
   "outputs": [],
   "source": [
    "from sklearn import datasets\n",
    "iris = datasets.load_iris() #Loading features and labels about iris"
   ]
  },
  {
   "cell_type": "code",
   "execution_count": 68,
   "metadata": {},
   "outputs": [
    {
     "data": {
      "text/plain": [
       "'\\nwhy x and y?\\nbecause you can think of f(x) = y which means:\\nthe function of the input(features) is the output(label)\\n'"
      ]
     },
     "execution_count": 68,
     "metadata": {},
     "output_type": "execute_result"
    }
   ],
   "source": [
    "x = iris.data\n",
    "y = iris.target\n",
    "\"\"\"\n",
    "why x and y?\n",
    "because you can think of f(x) = y which means:\n",
    "the function of the input(features) is the output(label)\n",
    "\"\"\""
   ]
  },
  {
   "cell_type": "code",
   "execution_count": 69,
   "metadata": {},
   "outputs": [],
   "source": [
    "#x and y are now our data, but which is the training set and which the testing set?\n",
    "from sklearn.model_selection import train_test_split\n",
    "x_train, x_test, y_train, y_test = train_test_split(x, y, test_size = 0.5)\n",
    "#this means that X-train and y_train are going to be our training test and X_test and y_test are going to be the testing set\n",
    "#test_size means the proportion. It can be a number from 0.0 to 1.0. If it's 1, all the data is going to be used for test, 0.5, half and a half, 0 means nothing goes in testing test"
   ]
  },
  {
   "cell_type": "code",
   "execution_count": 71,
   "metadata": {},
   "outputs": [
    {
     "data": {
      "text/plain": [
       "DecisionTreeClassifier()"
      ]
     },
     "execution_count": 71,
     "metadata": {},
     "output_type": "execute_result"
    }
   ],
   "source": [
    "from sklearn import tree \n",
    "clf = tree.DecisionTreeClassifier() #creating our tree\n",
    "clf.fit(x_train, y_train) #training, making it find patterns between x_train (features) and y_train(labels)"
   ]
  },
  {
   "cell_type": "code",
   "execution_count": 72,
   "metadata": {},
   "outputs": [
    {
     "name": "stdout",
     "output_type": "stream",
     "text": [
      "[0 1 0 0 2 1 0 1 1 2 2 2 1 2 2 0 2 1 2 2 1 2 2 1 2 2 0 0 2 2 1 1 1 1 2 0 1\n",
      " 0 0 0 2 1 2 0 2 2 1 0 1 1 1 0 0 0 0 1 1 2 1 1 1 0 1 0 1 1 0 2 2 2 0 2 1 0\n",
      " 2]\n"
     ]
    }
   ],
   "source": [
    "predictions = clf.predict(x_test) #running the algorithm\n",
    "print(predictions)"
   ]
  },
  {
   "cell_type": "code",
   "execution_count": 74,
   "metadata": {},
   "outputs": [
    {
     "data": {
      "text/plain": [
       "0.96"
      ]
     },
     "execution_count": 74,
     "metadata": {},
     "output_type": "execute_result"
    }
   ],
   "source": [
    "from sklearn.metrics import accuracy_score\n",
    "accuracy_score(y_test, predictions) #testing the accuracy"
   ]
  },
  {
   "cell_type": "code",
   "execution_count": 78,
   "metadata": {},
   "outputs": [
    {
     "data": {
      "text/plain": [
       "0.9733333333333334"
      ]
     },
     "execution_count": 78,
     "metadata": {},
     "output_type": "execute_result"
    }
   ],
   "source": [
    "#now let's do the same thing but with another classifier\n",
    "from sklearn.neighbors import KNeighborsClassifier\n",
    "clf = KNeighborsClassifier()\n",
    "clf.fit(x_train, y_train)\n",
    "predictions = clf.predict(x_test)\n",
    "accuracy_score(y_test, predictions)\n",
    "#In my case, KNeighbors is more accurate, but this may change due to random randomness  "
   ]
  },
  {
   "cell_type": "markdown",
   "metadata": {},
   "source": [
    "## f(x) = y\n",
    "\n",
    "def classify(features):  \n",
    "  - do stuff\n",
    "  - return label  \n",
    "  \n",
    "  \n",
    "In machine learning we want an algorithm that \"writes\" this for itself by learning from data.\n",
    "To create an algorithm we don't start from scratch, but from a model, a prototype.  \n",
    "Models have parameters that we can adjust with training data.  \n",
    "[Check this site to have some fun while understanding what happens](http://playground.tensorflow.org/?utm_campaign=ai_series_pipeline_051116&utm_source=gdev&utm_medium=yt-desc#activation=tanh&batchSize=10&dataset=circle&regDataset=reg-plane&learningRate=0.03&regularizationRate=0&noise=0&networkShape=4,2&seed=0.28426&showTestData=false&discretize=false&percTrainData=50&x=true&y=true&xTimesY=false&xSquared=false&ySquared=false&cosX=false&sinX=false&cosY=false&sinY=false&collectStats=false&problem=classification&initZero=false&hideText=false)\n"
   ]
  },
  {
   "cell_type": "code",
   "execution_count": null,
   "metadata": {},
   "outputs": [],
   "source": []
  }
 ],
 "metadata": {
  "kernelspec": {
   "display_name": "Python 3",
   "language": "python",
   "name": "python3"
  },
  "language_info": {
   "codemirror_mode": {
    "name": "ipython",
    "version": 3
   },
   "file_extension": ".py",
   "mimetype": "text/x-python",
   "name": "python",
   "nbconvert_exporter": "python",
   "pygments_lexer": "ipython3",
   "version": "3.8.3"
  }
 },
 "nbformat": 4,
 "nbformat_minor": 4
}
