{
 "cells": [
  {
   "cell_type": "markdown",
   "metadata": {},
   "source": [
    "Stoc 02/07/2020"
   ]
  },
  {
   "cell_type": "code",
   "execution_count": 3,
   "metadata": {},
   "outputs": [],
   "source": [
    "\"\"\"\n",
    "Rewriting\n",
    "I rewrited it in a cleaner way and in a workin way. Now spades cards goes in spades when printed out.\n",
    "The only thing that remains is a way to change the function on playing:\n",
    "A player continues to draw cards untill the drawn card goes on its uncovered deck.\n",
    "I need to make something that says:\n",
    "if pl1_uncov_deck.append() gets executed, change the player so cpu starts draw cards.\n",
    "\"\"\"\n",
    "import random\n",
    "from termcolor import colored\n",
    "from IPython.display import clear_output\n",
    "\n",
    "suits = ('Hearts', 'Diamonds', 'Spades', 'Clubs')\n",
    "ranks = (\"Ace\",'Two', 'Three', 'Four', 'Five', 'Six', 'Seven', 'Jack', 'Queen', 'King')\n",
    "values = {'Ace':1, 'Two':2, 'Three':3, 'Four':4, 'Five':5, 'Six':6, 'Seven':7, 'Jack':8, 'Queen':9, 'King':10}\n",
    "\n",
    "deck = []\n",
    "for suit in suits:\n",
    "    for rank in ranks:\n",
    "        deck.append(f\"{rank} of {suit}\")\n",
    "random.shuffle(deck)\n",
    "\n",
    "pl1_cov_deck = deck[:20]\n",
    "pl1_uncov_deck = []\n",
    "cpu_cov_deck = deck[20:]\n",
    "cpu_uncov_deck = []\n",
    "\n",
    "hearts = []\n",
    "diamonds = []\n",
    "spades = []\n",
    "clubs = []\n",
    "        \n",
    "def card_manage_general(card):\n",
    "    if card == \"Ace of Hearts\" or len(hearts) != 0 and card.split(\" \")[2] == \"Hearts\" and values[card.split(\" \")[0]] == values[hearts[-1].split(\" \")[0]]+1: \n",
    "        hearts.append(card)\n",
    "        return True\n",
    "    elif card == \"Ace of Diamonds\" or len(diamonds) != 0 and card.split(\" \")[2] == \"Diamonds\" and values[card.split(\" \")[0]] == values[diamonds[-1].split(\" \")[0]]+1: \n",
    "        diamonds.append(card)\n",
    "        return True\n",
    "    elif card == \"Ace of Spades\" or len(spades) != 0 and card.split(\" \")[2] == \"Spades\" and values[card.split(\" \")[0]] == values[spades[-1].split(\" \")[0]]+1: \n",
    "        spades.append(card)\n",
    "        return True\n",
    "    elif card == \"Ace of Clubs\" or len(clubs) != 0 and card.split(\" \")[2] == \"Clubs\" and values[card.split(\" \")[0]] == values[clubs[-1].split(\" \")[0]]+1: \n",
    "        clubs.append(card)\n",
    "        return True\n",
    "def card_manage_pl1(card):\n",
    "    executed = card_manage_general(card)\n",
    "    if len(cpu_uncov_deck) != 0 and values[card.split(\" \")[0]] == values[cpu_uncov_deck[-1].split(\" \")[0]]+1 and executed != True:\n",
    "        cpu_uncov_deck.append(card)\n",
    "    elif executed != True:\n",
    "        pl1_uncov_deck.append(card)\n",
    "def card_manage_cpu(card):\n",
    "    executed = card_manage_general(card)\n",
    "    if len(pl1_uncov_deck) != 0 and values[card.split(\" \")[0]] == values[pl1_uncov_deck[-1].split(\" \")[0]]+1 and executed != True:\n",
    "        pl1_uncov_deck.append(card)\n",
    "    elif executed != True:\n",
    "        cpu_uncov_deck.append(card)\n",
    "        \n",
    "\n",
    "def pl1_plays():\n",
    "    if len(pl1_uncov_deck) != 0:\n",
    "        card = pl1_uncov_deck.pop()\n",
    "        print(card)\n",
    "        card_manage_pl1(card)\n",
    "        \n",
    "    card = pl1_cov_deck.pop()\n",
    "    print(card)\n",
    "    card_manage_pl1(card)\n",
    "  \n",
    "        \n",
    "def cpu_plays():\n",
    "    if len(cpu_uncov_deck) != 0:\n",
    "        card = cpu_uncov_deck.pop()\n",
    "        card_manage_cpu(card)\n",
    "        \n",
    "    card = cpu_cov_deck.pop()\n",
    "    card_manage_cpu(card)\n",
    "    \n",
    "              \n",
    " "
   ]
  },
  {
   "cell_type": "code",
   "execution_count": 4,
   "metadata": {},
   "outputs": [
    {
     "data": {
      "text/plain": [
       "['Seven of Clubs',\n",
       " 'Two of Diamonds',\n",
       " 'Three of Spades',\n",
       " 'Five of Diamonds',\n",
       " 'Seven of Hearts',\n",
       " 'Jack of Diamonds',\n",
       " 'Three of Hearts',\n",
       " 'Ace of Diamonds',\n",
       " 'Queen of Spades',\n",
       " 'Jack of Clubs',\n",
       " 'King of Hearts',\n",
       " 'Ace of Spades',\n",
       " 'Six of Diamonds',\n",
       " 'King of Spades',\n",
       " 'Three of Diamonds',\n",
       " 'Five of Spades',\n",
       " 'Three of Clubs',\n",
       " 'Six of Clubs',\n",
       " 'King of Diamonds',\n",
       " 'Six of Hearts']"
      ]
     },
     "execution_count": 4,
     "metadata": {},
     "output_type": "execute_result"
    }
   ],
   "source": [
    "pl1_cov_deck"
   ]
  },
  {
   "cell_type": "code",
   "execution_count": 5,
   "metadata": {},
   "outputs": [
    {
     "data": {
      "text/plain": [
       "[]"
      ]
     },
     "execution_count": 5,
     "metadata": {},
     "output_type": "execute_result"
    }
   ],
   "source": [
    "pl1_uncov_deck"
   ]
  },
  {
   "cell_type": "code",
   "execution_count": 6,
   "metadata": {},
   "outputs": [
    {
     "data": {
      "text/plain": [
       "['Four of Diamonds',\n",
       " 'Six of Spades',\n",
       " 'Queen of Diamonds',\n",
       " 'Seven of Spades',\n",
       " 'Four of Hearts',\n",
       " 'Ace of Clubs',\n",
       " 'Four of Spades',\n",
       " 'Ace of Hearts',\n",
       " 'Two of Hearts',\n",
       " 'Queen of Clubs',\n",
       " 'Two of Clubs',\n",
       " 'Five of Hearts',\n",
       " 'Jack of Spades',\n",
       " 'Seven of Diamonds',\n",
       " 'Jack of Hearts',\n",
       " 'Two of Spades',\n",
       " 'King of Clubs',\n",
       " 'Queen of Hearts',\n",
       " 'Four of Clubs',\n",
       " 'Five of Clubs']"
      ]
     },
     "execution_count": 6,
     "metadata": {},
     "output_type": "execute_result"
    }
   ],
   "source": [
    "cpu_cov_deck"
   ]
  },
  {
   "cell_type": "code",
   "execution_count": 7,
   "metadata": {},
   "outputs": [
    {
     "data": {
      "text/plain": [
       "[]"
      ]
     },
     "execution_count": 7,
     "metadata": {},
     "output_type": "execute_result"
    }
   ],
   "source": [
    "cpu_uncov_deck"
   ]
  },
  {
   "cell_type": "code",
   "execution_count": 8,
   "metadata": {},
   "outputs": [],
   "source": [
    "def formatting():    \n",
    "    if len(hearts) == 0:\n",
    "        last_heart_card = colored(\"No card for HEARTS\", \"green\")\n",
    "    else:\n",
    "        last_heart_card = hearts[-1]\n",
    "\n",
    "    if len(clubs) == 0:\n",
    "        last_club_card = colored(\"No card for CLUBS\", \"green\")\n",
    "    else:\n",
    "        last_club_card = clubs[-1]\n",
    "\n",
    "    if len(spades) == 0:\n",
    "        last_spade_card = colored(\"No card for SPADES\", \"green\")\n",
    "    else:\n",
    "        last_spade_card = spades[-1]\n",
    "\n",
    "    if len(diamonds) == 0:\n",
    "        last_diamond_card = colored(\"No card for DIAMONDS\", \"green\")\n",
    "    else:\n",
    "        last_diamond_card = colored(diamonds[-1],\"red\")\n",
    "        \n",
    "    if len(cpu_uncov_deck) == 0:\n",
    "        last_cpu_card = colored(\"First Turn\",\"green\")\n",
    "    else:\n",
    "        if cpu_uncov_deck[-1].split(\" \")[-1] == \"Spades\" or cpu_uncov_deck[-1].split(\" \")[-1] == \"Clubs\":\n",
    "            last_cpu_card = colored(cpu_uncov_deck[-1],\"blue\")\n",
    "        else:\n",
    "            last_cpu_card = colored(cpu_uncov_deck[-1],\"red\")\n",
    "    \n",
    "    if len(pl1_uncov_deck) == 0:\n",
    "        last_pl1_card = colored(\"First Turn\",\"green\")\n",
    "    else:\n",
    "        if pl1_uncov_deck[-1].split(\" \")[-1] == \"Spades\" or pl1_uncov_deck[-1].split(\" \")[-1] == \"Clubs\":\n",
    "            last_pl1_card = colored(pl1_uncov_deck[-1],\"blue\")\n",
    "        else:\n",
    "            last_pl1_card = colored(pl1_uncov_deck[-1],\"red\")\n",
    "\n",
    "\n",
    "    print(f\"Table:\\n\\t\\t\\t{last_cpu_card}\\n\\t{last_heart_card}\\t\\t{last_club_card}\\n\\t{last_spade_card}\\t\\t{last_diamond_card}\\n\\t\\t\\t{last_pl1_card}\")"
   ]
  },
  {
   "cell_type": "code",
   "execution_count": 45,
   "metadata": {},
   "outputs": [
    {
     "name": "stdout",
     "output_type": "stream",
     "text": [
      "Jack of Spades\n",
      "King of Hearts\n"
     ]
    }
   ],
   "source": [
    "pl1_plays()\n"
   ]
  },
  {
   "cell_type": "code",
   "execution_count": 48,
   "metadata": {},
   "outputs": [
    {
     "name": "stdout",
     "output_type": "stream",
     "text": [
      "Table:\n",
      "\t\t\t\u001b[34mTwo of Clubs\u001b[0m\n",
      "\t\u001b[32mNo card for HEARTS\u001b[0m\t\t\u001b[32mNo card for CLUBS\u001b[0m\n",
      "\tAce of Spades\t\t\u001b[32mNo card for DIAMONDS\u001b[0m\n",
      "\t\t\t\u001b[31mKing of Hearts\u001b[0m\n"
     ]
    }
   ],
   "source": [
    "formatting()"
   ]
  },
  {
   "cell_type": "code",
   "execution_count": 47,
   "metadata": {},
   "outputs": [],
   "source": [
    "cpu_plays()"
   ]
  }
 ],
 "metadata": {
  "kernelspec": {
   "display_name": "Python 3",
   "language": "python",
   "name": "python3"
  },
  "language_info": {
   "codemirror_mode": {
    "name": "ipython",
    "version": 3
   },
   "file_extension": ".py",
   "mimetype": "text/x-python",
   "name": "python",
   "nbconvert_exporter": "python",
   "pygments_lexer": "ipython3",
   "version": "3.7.6"
  }
 },
 "nbformat": 4,
 "nbformat_minor": 4
}
