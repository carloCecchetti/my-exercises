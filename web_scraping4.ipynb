{
 "cells": [
  {
   "cell_type": "markdown",
   "metadata": {},
   "source": [
    "Web Scraping 20/06/2020"
   ]
  },
  {
   "cell_type": "code",
   "execution_count": 1,
   "metadata": {},
   "outputs": [],
   "source": [
    "import requests,bs4"
   ]
  },
  {
   "cell_type": "code",
   "execution_count": 8,
   "metadata": {},
   "outputs": [
    {
     "name": "stdout",
     "output_type": "stream",
     "text": [
      "\n",
      "Page 1 of 50\n",
      "\n",
      "Page 2 of 50\n",
      "\n",
      "Page 3 of 50\n"
     ]
    }
   ],
   "source": [
    "import requests,bs4\n",
    "\n",
    "for page in range(0,3):\n",
    "    req = requests.get(f\"http://books.toscrape.com/catalogue/page-{int(page)}.html\")\n",
    "    soup = bs4.BeautifulSoup(req.text,\"lxml\")\n",
    "    \n",
    "    soup.select(\".col-xs-6 col-sm-4 col-md-3 col-lg-3\")\n",
    "    \n",
    "    \n",
    "    \n",
    "    print()\n",
    "    print(f\"Page {page+1} of 50\")\n",
    "#As you can see I lefted the Rating"
   ]
  },
  {
   "cell_type": "code",
   "execution_count": 11,
   "metadata": {},
   "outputs": [],
   "source": [
    "req = requests.get(f\"http://books.toscrape.com/catalogue/page-1.html\")\n",
    "soup = bs4.BeautifulSoup(req.text,\"lxml\")\n",
    "books = soup.select(\".product_pod\")"
   ]
  },
  {
   "cell_type": "code",
   "execution_count": 12,
   "metadata": {},
   "outputs": [
    {
     "data": {
      "text/plain": [
       "<article class=\"product_pod\">\n",
       "<div class=\"image_container\">\n",
       "<a href=\"a-light-in-the-attic_1000/index.html\"><img alt=\"A Light in the Attic\" class=\"thumbnail\" src=\"../media/cache/2c/da/2cdad67c44b002e7ead0cc35693c0e8b.jpg\"/></a>\n",
       "</div>\n",
       "<p class=\"star-rating Three\">\n",
       "<i class=\"icon-star\"></i>\n",
       "<i class=\"icon-star\"></i>\n",
       "<i class=\"icon-star\"></i>\n",
       "<i class=\"icon-star\"></i>\n",
       "<i class=\"icon-star\"></i>\n",
       "</p>\n",
       "<h3><a href=\"a-light-in-the-attic_1000/index.html\" title=\"A Light in the Attic\">A Light in the ...</a></h3>\n",
       "<div class=\"product_price\">\n",
       "<p class=\"price_color\">Â£51.77</p>\n",
       "<p class=\"instock availability\">\n",
       "<i class=\"icon-ok\"></i>\n",
       "    \n",
       "        In stock\n",
       "    \n",
       "</p>\n",
       "<form>\n",
       "<button class=\"btn btn-primary btn-block\" data-loading-text=\"Adding...\" type=\"submit\">Add to basket</button>\n",
       "</form>\n",
       "</div>\n",
       "</article>"
      ]
     },
     "execution_count": 12,
     "metadata": {},
     "output_type": "execute_result"
    }
   ],
   "source": [
    "\"\"\"\n",
    "For each element in the books list we have all the information of the book. \n",
    "\"\"\"\n",
    "books[0]"
   ]
  },
  {
   "cell_type": "code",
   "execution_count": 13,
   "metadata": {},
   "outputs": [
    {
     "name": "stdout",
     "output_type": "stream",
     "text": [
      "A Light in the ... rate: 3 of 5 stars\n",
      "Tipping the Velvet rate: 1 of 5 stars\n",
      "Soumission rate: 1 of 5 stars\n",
      "Sharp Objects rate: 4 of 5 stars\n",
      "Sapiens: A Brief History ... rate: 5 of 5 stars\n",
      "The Requiem Red rate: 1 of 5 stars\n",
      "The Dirty Little Secrets ... rate: 4 of 5 stars\n",
      "The Coming Woman: A ... rate: 3 of 5 stars\n",
      "The Boys in the ... rate: 4 of 5 stars\n",
      "The Black Maria rate: 1 of 5 stars\n",
      "Starving Hearts (Triangular Trade ... rate: 2 of 5 stars\n",
      "Shakespeare's Sonnets rate: 4 of 5 stars\n",
      "Set Me Free rate: 5 of 5 stars\n",
      "Scott Pilgrim's Precious Little ... rate: 5 of 5 stars\n",
      "Rip it Up and ... rate: 5 of 5 stars\n",
      "Our Band Could Be ... rate: 3 of 5 stars\n",
      "Olio rate: 1 of 5 stars\n",
      "Mesaerion: The Best Science ... rate: 1 of 5 stars\n",
      "Libertarianism for Beginners rate: 2 of 5 stars\n",
      "It's Only the Himalayas rate: 2 of 5 stars\n"
     ]
    }
   ],
   "source": [
    "\"\"\"\n",
    "A way to check tha rating is by checking if a class is in the .prodcut_pod class.\n",
    "This is a way that may not work on other side. As always, web scraping scripts are different for each site\n",
    "Anyway, in this way we are searching if the class which says the rating is in the string of the information of a book\n",
    "\"\"\"\n",
    "for i in range(len(books)):\n",
    "    title = soup.select(\"h3\")[i].getText()\n",
    "    if \"star-rating One\" in str(books[i]):\n",
    "        print(f\"{title} rate: 1 of 5 stars\")\n",
    "    elif \"star-rating Two\" in str(books[i]):\n",
    "        print(f\"{title} rate: 2 of 5 stars\")\n",
    "    elif \"star-rating Three\" in str(books[i]):\n",
    "        print(f\"{title} rate: 3 of 5 stars\")\n",
    "    elif \"star-rating Four\" in str(books[i]):\n",
    "        print(f\"{title} rate: 4 of 5 stars\")\n",
    "    else:\n",
    "        print(f\"{title} rate: 5 of 5 stars\")"
   ]
  },
  {
   "cell_type": "code",
   "execution_count": 14,
   "metadata": {},
   "outputs": [
    {
     "name": "stdout",
     "output_type": "stream",
     "text": [
      "1\n",
      "\n",
      "\n",
      "\n",
      "\n",
      "A Light in the Attic rate: 3 of 5 stars\n",
      "Tipping the Velvet rate: 1 of 5 stars\n",
      "Soumission rate: 1 of 5 stars\n",
      "Sharp Objects rate: 4 of 5 stars\n",
      "Sapiens: A Brief History of Humankind rate: 5 of 5 stars\n",
      "The Requiem Red rate: 1 of 5 stars\n",
      "The Dirty Little Secrets of Getting Your Dream Job rate: 4 of 5 stars\n",
      "The Coming Woman: A Novel Based on the Life of the Infamous Feminist, Victoria Woodhull rate: 3 of 5 stars\n",
      "The Boys in the Boat: Nine Americans and Their Epic Quest for Gold at the 1936 Berlin Olympics rate: 4 of 5 stars\n",
      "The Black Maria rate: 1 of 5 stars\n",
      "Starving Hearts (Triangular Trade Trilogy, #1) rate: 2 of 5 stars\n",
      "Shakespeare's Sonnets rate: 4 of 5 stars\n",
      "Set Me Free rate: 5 of 5 stars\n",
      "Scott Pilgrim's Precious Little Life (Scott Pilgrim #1) rate: 5 of 5 stars\n",
      "Rip it Up and Start Again rate: 5 of 5 stars\n",
      "Our Band Could Be Your Life: Scenes from the American Indie Underground, 1981-1991 rate: 3 of 5 stars\n",
      "Olio rate: 1 of 5 stars\n",
      "Mesaerion: The Best Science Fiction Stories 1800-1849 rate: 1 of 5 stars\n",
      "Libertarianism for Beginners rate: 2 of 5 stars\n",
      "It's Only the Himalayas rate: 2 of 5 stars\n"
     ]
    }
   ],
   "source": [
    "\"\"\"\n",
    "As you can see, the books.select() returns a list.\n",
    "If there is a class or a tag or whatelse .select() appends the text to a list.\n",
    "If the class is in the checked book, the list lenghth grows to 1 so:\n",
    "if the list generated by checking the elements defined by the class .star-rating.Three (remember dots instead of spaces while calling classes) has a lenght if 1:\n",
    "    it means that it's its rate\n",
    "\"\"\"\n",
    "print(len(books[0].select(\".star-rating.Three\")))\n",
    "print(\"\\n\\n\\n\")\n",
    "\n",
    "req = requests.get(f\"http://books.toscrape.com/catalogue/page-1.html\")\n",
    "soup = bs4.BeautifulSoup(req.text,\"lxml\")\n",
    "books = soup.select(\".product_pod\")\n",
    "for i in range(len(books)):\n",
    "    \n",
    "    title = books[i].select(\"a\")[1][\"title\"] #the title is the books[i of the loop in the list] and we are selecting the second element that return in the list generated by <a> tag. Then we explained that we want the title\n",
    "   \n",
    "    if len(books[i].select(\".star-rating.One\")) == 1:\n",
    "        print(f\"{title} rate: 1 of 5 stars\")\n",
    "    elif len(books[i].select(\".star-rating.Two\")) == 1:\n",
    "        print(f\"{title} rate: 2 of 5 stars\")\n",
    "    elif len(books[i].select(\".star-rating.Three\")) == 1:\n",
    "        print(f\"{title} rate: 3 of 5 stars\")\n",
    "    elif len(books[i].select(\".star-rating.Four\")) == 1:\n",
    "        print(f\"{title} rate: 4 of 5 stars\")\n",
    "    else:\n",
    "        print(f\"{title} rate: 5 of 5 stars\")"
   ]
  },
  {
   "cell_type": "code",
   "execution_count": 15,
   "metadata": {},
   "outputs": [],
   "source": [
    "req = requests.get(f\"http://books.toscrape.com/catalogue/page-1.html\")\n",
    "soup = bs4.BeautifulSoup(req.text,\"lxml\")\n",
    "books = soup.select(\".product_pod\")"
   ]
  },
  {
   "cell_type": "code",
   "execution_count": 16,
   "metadata": {},
   "outputs": [
    {
     "data": {
      "text/plain": [
       "[<a href=\"a-light-in-the-attic_1000/index.html\"><img alt=\"A Light in the Attic\" class=\"thumbnail\" src=\"../media/cache/2c/da/2cdad67c44b002e7ead0cc35693c0e8b.jpg\"/></a>,\n",
       " <a href=\"a-light-in-the-attic_1000/index.html\" title=\"A Light in the Attic\">A Light in the ...</a>]"
      ]
     },
     "execution_count": 16,
     "metadata": {},
     "output_type": "execute_result"
    }
   ],
   "source": [
    "#what's in <a> tag\n",
    "books[0].select(\"a\")"
   ]
  },
  {
   "cell_type": "code",
   "execution_count": 17,
   "metadata": {},
   "outputs": [
    {
     "data": {
      "text/plain": [
       "<a href=\"a-light-in-the-attic_1000/index.html\" title=\"A Light in the Attic\">A Light in the ...</a>"
      ]
     },
     "execution_count": 17,
     "metadata": {},
     "output_type": "execute_result"
    }
   ],
   "source": [
    "#what we need of <a> tag\n",
    "books[0].select(\"a\")[1] #the second element, where the title is"
   ]
  },
  {
   "cell_type": "code",
   "execution_count": 18,
   "metadata": {},
   "outputs": [
    {
     "data": {
      "text/plain": [
       "'A Light in the Attic'"
      ]
     },
     "execution_count": 18,
     "metadata": {},
     "output_type": "execute_result"
    }
   ],
   "source": [
    "#specifieng that we need the title that appers in the second element of the list of <a> tag of the books[index of the soup.select(\".product-pod\")] list\n",
    "books[0].select(\"a\")[1][\"title\"]"
   ]
  },
  {
   "cell_type": "code",
   "execution_count": 19,
   "metadata": {},
   "outputs": [
    {
     "name": "stdout",
     "output_type": "stream",
     "text": [
      "\n",
      "\n",
      "Page 1 of 50\n",
      "TITLE: A Light in the Attic PRICE : £51.77 RATING: 3 of 5 stars\n",
      "TITLE: Tipping the Velvet PRICE : £53.74 RATING: 1 of 5 stars\n",
      "TITLE: Soumission PRICE : £50.10 RATING: 1 of 5 stars\n",
      "TITLE: Sharp Objects PRICE : £47.82 RATING: 4 of 5 stars\n",
      "TITLE: Sapiens: A Brief History of Humankind PRICE : £54.23 RATING: 5 of 5 stars\n",
      "TITLE: The Requiem Red PRICE : £22.65 RATING: 1 of 5 stars\n",
      "TITLE: The Dirty Little Secrets of Getting Your Dream Job PRICE : £33.34 RATING: 4 of 5 stars\n",
      "TITLE: The Coming Woman: A Novel Based on the Life of the Infamous Feminist, Victoria Woodhull PRICE : £17.93 RATING: 3 of 5 stars\n",
      "TITLE: The Boys in the Boat: Nine Americans and Their Epic Quest for Gold at the 1936 Berlin Olympics PRICE : £22.60 RATING: 4 of 5 stars\n",
      "TITLE: The Black Maria PRICE : £52.15 RATING: 1 of 5 stars\n",
      "TITLE: Starving Hearts (Triangular Trade Trilogy, #1) PRICE : £13.99 RATING: 2 of 5 stars\n",
      "TITLE: Shakespeare's Sonnets PRICE : £20.66 RATING: 4 of 5 stars\n",
      "TITLE: Set Me Free PRICE : £17.46 RATING: 5 of 5 stars\n",
      "TITLE: Scott Pilgrim's Precious Little Life (Scott Pilgrim #1) PRICE : £52.29 RATING: 5 of 5 stars\n",
      "TITLE: Rip it Up and Start Again PRICE : £35.02 RATING: 5 of 5 stars\n",
      "TITLE: Our Band Could Be Your Life: Scenes from the American Indie Underground, 1981-1991 PRICE : £57.25 RATING: 3 of 5 stars\n",
      "TITLE: Olio PRICE : £23.88 RATING: 1 of 5 stars\n",
      "TITLE: Mesaerion: The Best Science Fiction Stories 1800-1849 PRICE : £37.59 RATING: 1 of 5 stars\n",
      "TITLE: Libertarianism for Beginners PRICE : £51.33 RATING: 2 of 5 stars\n",
      "TITLE: It's Only the Himalayas PRICE : £45.17 RATING: 2 of 5 stars\n",
      "\n",
      "\n",
      "Page 2 of 50\n",
      "TITLE: In Her Wake PRICE : £12.84 RATING: 1 of 5 stars\n",
      "TITLE: How Music Works PRICE : £37.32 RATING: 2 of 5 stars\n",
      "TITLE: Foolproof Preserving: A Guide to Small Batch Jams, Jellies, Pickles, Condiments, and More: A Foolproof Guide to Making Small Batch Jams, Jellies, Pickles, Condiments, and More PRICE : £30.52 RATING: 3 of 5 stars\n",
      "TITLE: Chase Me (Paris Nights #2) PRICE : £25.27 RATING: 5 of 5 stars\n",
      "TITLE: Black Dust PRICE : £34.53 RATING: 5 of 5 stars\n",
      "TITLE: Birdsong: A Story in Pictures PRICE : £54.64 RATING: 3 of 5 stars\n",
      "TITLE: America's Cradle of Quarterbacks: Western Pennsylvania's Football Factory from Johnny Unitas to Joe Montana PRICE : £22.50 RATING: 3 of 5 stars\n",
      "TITLE: Aladdin and His Wonderful Lamp PRICE : £53.13 RATING: 3 of 5 stars\n",
      "TITLE: Worlds Elsewhere: Journeys Around Shakespeareâs Globe PRICE : £40.30 RATING: 5 of 5 stars\n",
      "TITLE: Wall and Piece PRICE : £44.18 RATING: 4 of 5 stars\n",
      "TITLE: The Four Agreements: A Practical Guide to Personal Freedom PRICE : £17.66 RATING: 5 of 5 stars\n",
      "TITLE: The Five Love Languages: How to Express Heartfelt Commitment to Your Mate PRICE : £31.05 RATING: 3 of 5 stars\n",
      "TITLE: The Elephant Tree PRICE : £23.82 RATING: 5 of 5 stars\n",
      "TITLE: The Bear and the Piano PRICE : £36.89 RATING: 1 of 5 stars\n",
      "TITLE: Sophie's World PRICE : £15.94 RATING: 5 of 5 stars\n",
      "TITLE: Penny Maybe PRICE : £33.29 RATING: 3 of 5 stars\n",
      "TITLE: Maude (1883-1993):She Grew Up with the country PRICE : £18.02 RATING: 2 of 5 stars\n",
      "TITLE: In a Dark, Dark Wood PRICE : £19.63 RATING: 1 of 5 stars\n",
      "TITLE: Behind Closed Doors PRICE : £52.22 RATING: 4 of 5 stars\n",
      "TITLE: You can't bury them all: Poems PRICE : £33.63 RATING: 2 of 5 stars\n"
     ]
    }
   ],
   "source": [
    "#Now let's put all together\n",
    "\"\"\"\n",
    "This script returns\n",
    "Page <number of page> of 50\n",
    "Title: <book's title> Price:<book's price> Rating:<book's rating>\n",
    "Ran with the for loop that goes from 1 to 3\n",
    "\"\"\"\n",
    "\n",
    "import requests,bs4\n",
    "\n",
    "for page in range(1,3):\n",
    "    req = requests.get(f\"http://books.toscrape.com/catalogue/page-{int(page)}.html\") #tha page is the fine by a number inside the ling changed for each loop\n",
    "    soup = bs4.BeautifulSoup(req.text,\"lxml\")\n",
    "    books = soup.select(\".product_pod\") #the class that contains all the info\n",
    "    price = soup.select(\".price_color\") #for each page we store the prices in a list\n",
    "    \n",
    "    print(f\"\\n\\nPage {page} of 50\") #just for formatting\n",
    "    \n",
    "    for i in range(len(books)): #the len(books) is 20 because there are 20 books/page\n",
    "    \n",
    "        title = books[i].select(\"a\")[1][\"title\"] #the title is the books[i of the loop in the list] and we are selecting the second element that return in the list generated by <a> tag. Then we explained that we want the title\n",
    "        \n",
    "        #if the lenght of the book's[i] of the page where i is defined by the for loop there is a class for x stars rate, it will append that class to a list that will grow to 1 so it means that the rate is x stars' class\n",
    "        if len(books[i].select(\".star-rating.One\")) == 1:\n",
    "            print(f\"TITLE: {title} PRICE : {price[i].getText()[1:]} RATING: 1 of 5 stars\") #the price starts from index [1:] because there is this char \"Â\" without the index \n",
    "        elif len(books[i].select(\".star-rating.Two\")) == 1:\n",
    "            print(f\"TITLE: {title} PRICE : {price[i].getText()[1:]} RATING: 2 of 5 stars\")\n",
    "        elif len(books[i].select(\".star-rating.Three\")) == 1:\n",
    "            print(f\"TITLE: {title} PRICE : {price[i].getText()[1:]} RATING: 3 of 5 stars\")\n",
    "        elif len(books[i].select(\".star-rating.Four\")) == 1:\n",
    "            print(f\"TITLE: {title} PRICE : {price[i].getText()[1:]} RATING: 4 of 5 stars\")\n",
    "        else:\n",
    "            print(f\"TITLE: {title} PRICE : {price[i].getText()[1:]} RATING: 5 of 5 stars\")"
   ]
  },
  {
   "cell_type": "code",
   "execution_count": 23,
   "metadata": {},
   "outputs": [
    {
     "name": "stdout",
     "output_type": "stream",
     "text": [
      "[<p class=\"price_color\">Â£12.84</p>, <p class=\"price_color\">Â£37.32</p>, <p class=\"price_color\">Â£30.52</p>, <p class=\"price_color\">Â£25.27</p>, <p class=\"price_color\">Â£34.53</p>, <p class=\"price_color\">Â£54.64</p>, <p class=\"price_color\">Â£22.50</p>, <p class=\"price_color\">Â£53.13</p>, <p class=\"price_color\">Â£40.30</p>, <p class=\"price_color\">Â£44.18</p>, <p class=\"price_color\">Â£17.66</p>, <p class=\"price_color\">Â£31.05</p>, <p class=\"price_color\">Â£23.82</p>, <p class=\"price_color\">Â£36.89</p>, <p class=\"price_color\">Â£15.94</p>, <p class=\"price_color\">Â£33.29</p>, <p class=\"price_color\">Â£18.02</p>, <p class=\"price_color\">Â£19.63</p>, <p class=\"price_color\">Â£52.22</p>, <p class=\"price_color\">Â£33.63</p>]\n"
     ]
    }
   ],
   "source": [
    "price = soup.select(\".price_color\")\n",
    "print(price)"
   ]
  }
 ],
 "metadata": {
  "kernelspec": {
   "display_name": "Python 3",
   "language": "python",
   "name": "python3"
  },
  "language_info": {
   "codemirror_mode": {
    "name": "ipython",
    "version": 3
   },
   "file_extension": ".py",
   "mimetype": "text/x-python",
   "name": "python",
   "nbconvert_exporter": "python",
   "pygments_lexer": "ipython3",
   "version": "3.7.6"
  }
 },
 "nbformat": 4,
 "nbformat_minor": 4
}
