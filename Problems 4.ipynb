{
 "cells": [
  {
   "cell_type": "markdown",
   "metadata": {},
   "source": [
    "05/08/2020"
   ]
  },
  {
   "cell_type": "code",
   "execution_count": 13,
   "metadata": {},
   "outputs": [],
   "source": [
    "#Validator\n",
    "import re\n",
    "def validator():\n",
    "    while True:\n",
    "        password = input(\"Input your password\")\n",
    "        \n",
    "        if (len(password)<6 or len(password)>12):\n",
    "            break\n",
    "        elif not re.search(\"[a-z]\",password): #search a list in the password string\n",
    "            break\n",
    "        elif not re.search(\"[0-9]\",password):\n",
    "            break\n",
    "        elif not re.search(\"[A-Z]\",password):\n",
    "            break\n",
    "        elif not re.search(\"[$#@]\",password):\n",
    "            break\n",
    "        elif re.search(\"\\s\",password):\n",
    "            break\n",
    "        else:\n",
    "            print(\"Valid Password\")\n",
    "            break\n",
    "        \n",
    "        print(\"Retry\")\n",
    "        continue"
   ]
  },
  {
   "cell_type": "code",
   "execution_count": 14,
   "metadata": {},
   "outputs": [
    {
     "name": "stdout",
     "output_type": "stream",
     "text": [
      "Input your passwordaf83@ADS\n",
      "Valid Password\n"
     ]
    }
   ],
   "source": [
    "validator()"
   ]
  },
  {
   "cell_type": "code",
   "execution_count": 15,
   "metadata": {},
   "outputs": [
    {
     "name": "stdout",
     "output_type": "stream",
     "text": [
      "Input your password332\n"
     ]
    }
   ],
   "source": [
    "validator()"
   ]
  },
  {
   "cell_type": "code",
   "execution_count": 16,
   "metadata": {},
   "outputs": [],
   "source": [
    "#Triangle type\n",
    "def trian():\n",
    "    l1 = input(\"l1: \")\n",
    "    l2 = input(\"l2: \")\n",
    "    l3 = input(\"l3: \")\n",
    "    \n",
    "    if l1 == l2 == l3:\n",
    "        print(\"Euquiteral\")\n",
    "    elif l1 == l2 != l3  or l1 == l3 != l2 or l1 != l2 == l3:\n",
    "        print(\"Isosceles\")\n",
    "    else:\n",
    "        print(\"Scalene\")"
   ]
  },
  {
   "cell_type": "code",
   "execution_count": 18,
   "metadata": {},
   "outputs": [
    {
     "name": "stdout",
     "output_type": "stream",
     "text": [
      "l1: 8\n",
      "l2: 8\n",
      "l3: 8\n",
      "Euquiteral\n"
     ]
    }
   ],
   "source": [
    "trian()"
   ]
  },
  {
   "cell_type": "code",
   "execution_count": 19,
   "metadata": {},
   "outputs": [
    {
     "name": "stdout",
     "output_type": "stream",
     "text": [
      "l1: 6\n",
      "l2: 4\n",
      "l3: 6\n",
      "Isosceles\n"
     ]
    }
   ],
   "source": [
    "trian()"
   ]
  },
  {
   "cell_type": "code",
   "execution_count": 20,
   "metadata": {},
   "outputs": [
    {
     "name": "stdout",
     "output_type": "stream",
     "text": [
      "l1: 5\n",
      "l2: 6\n",
      "l3: 7\n",
      "Scalene\n"
     ]
    }
   ],
   "source": [
    "trian()"
   ]
  },
  {
   "cell_type": "code",
   "execution_count": 21,
   "metadata": {},
   "outputs": [
    {
     "name": "stdout",
     "output_type": "stream",
     "text": [
      "Letter: l\n",
      "l is a consonant\n"
     ]
    }
   ],
   "source": [
    "#wovel - consonant\n",
    "def wovnsonant():\n",
    "    l = input(\"Letter: \")\n",
    "    if l in [\"a\",\"e\",\"i\",\"o\",\"u\"]:\n",
    "        print(f\"{l} is a wovel\")\n",
    "    else:\n",
    "        print(f\"{l} is a consonant\")\n",
    "        \n",
    "wovnsonant()"
   ]
  },
  {
   "cell_type": "code",
   "execution_count": 22,
   "metadata": {},
   "outputs": [
    {
     "name": "stdout",
     "output_type": "stream",
     "text": [
      "Letter: u\n",
      "u is a wovel\n"
     ]
    }
   ],
   "source": [
    "wovnsonant()"
   ]
  }
 ],
 "metadata": {
  "kernelspec": {
   "display_name": "Python 3",
   "language": "python",
   "name": "python3"
  },
  "language_info": {
   "codemirror_mode": {
    "name": "ipython",
    "version": 3
   },
   "file_extension": ".py",
   "mimetype": "text/x-python",
   "name": "python",
   "nbconvert_exporter": "python",
   "pygments_lexer": "ipython3",
   "version": "3.7.6"
  }
 },
 "nbformat": 4,
 "nbformat_minor": 4
}
