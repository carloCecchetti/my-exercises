{
 "cells": [
  {
   "cell_type": "markdown",
   "metadata": {},
   "source": [
    "#### **Reading** and **Rescaling** Images and Video"
   ]
  },
  {
   "cell_type": "code",
   "execution_count": 1,
   "metadata": {},
   "outputs": [],
   "source": [
    "import cv2 as cv\n",
    "#images visualization\n",
    "img = cv.imread('example.jpg') #\"opening\" an image\n",
    "cv.imshow(\"test\", img) #showing img (the opened image) in a window called \"test\"\n",
    "cv.waitKey() #waiting for a key to be pressed before continuing\n",
    "cv.destroyAllWindows() #closing the windows"
   ]
  },
  {
   "cell_type": "code",
   "execution_count": 3,
   "metadata": {},
   "outputs": [],
   "source": [
    "cv.imshow(\"3 seconds test\", img) \n",
    "cv.waitKey(3000) #now it waits 3000ms before continuing the code\n",
    "cv.destroyAllWindows() "
   ]
  },
  {
   "cell_type": "code",
   "execution_count": 4,
   "metadata": {},
   "outputs": [],
   "source": [
    "cap = cv.VideoCapture(\"kawaii.mp4\") #\"opening\" our video\n",
    "while True:\n",
    "    frame = cap.read()[1] #.read() grabs a new frame each loop. Index 1 because VideoCapture() ---> frame variable gives a tuple (True, array containg frames info)\n",
    "    cv.imshow(\"Video\", frame) #showing each frame as image (which is what they are)\n",
    "    if cv.waitKey(40) != -1: #waiting 40ms for a key except that key is unicode value -1. Without this, the video window would close at first frame after running the cell because of return \n",
    "        break #break means no more new frames \n",
    "        \n",
    "cap.release() #closes video file or capturing device\n",
    "cv.destroyAllWindows()"
   ]
  },
  {
   "cell_type": "code",
   "execution_count": 5,
   "metadata": {},
   "outputs": [
    {
     "name": "stdin",
     "output_type": "stream",
     "text": [
      " 🯹\n"
     ]
    },
    {
     "name": "stdout",
     "output_type": "stream",
     "text": [
      "130041\n"
     ]
    }
   ],
   "source": [
    "print(ord(input()))"
   ]
  },
  {
   "cell_type": "code",
   "execution_count": 2,
   "metadata": {},
   "outputs": [],
   "source": [
    "#rescaling\n",
    "def rescale(frame, scale = 0.5):\n",
    "    width = int(frame.shape[1] * scale)\n",
    "    heigh = int(frame.shape[0] * scale)\n",
    "    \n",
    "    dim = (width, heigh)\n",
    "    \n",
    "    return cv.resize(frame, dim, interpolation=cv.INTER_AREA)\n",
    "\n",
    "cap = cv.VideoCapture(\"kawaii.mp4\") \n",
    "while True:\n",
    "    frame = cap.read()[1] \n",
    "    \n",
    "    resized_frame = rescale(frame, 0.3)\n",
    "    \n",
    "    cv.imshow(\"Video\", frame) \n",
    "    cv.imshow(\"Resized_video\", resized_frame) #remember to rename the winname otherwise you will have this window appearing and disappearing\n",
    "    if cv.waitKey(40) != -1: \n",
    "        break \n",
    "        \n",
    "cap.release() \n",
    "cv.destroyAllWindows()"
   ]
  },
  {
   "cell_type": "code",
   "execution_count": null,
   "metadata": {},
   "outputs": [],
   "source": [
    "#here's a pretty funny video player where you can rescale each frame\n",
    "while True:\n",
    "    frame = cap.read()[1] \n",
    "    resized_frame = rescale(frame, float(input()))\n",
    "    cv.imshow(\"Resized_video\", resized_frame) \n",
    "    if cv.waitKey(40) != -1: \n",
    "        break \n",
    "        \n",
    "cap.release() \n",
    "cv.destroyAllWindows()"
   ]
  },
  {
   "cell_type": "code",
   "execution_count": 5,
   "metadata": {},
   "outputs": [],
   "source": [
    "#resizing also works with images obv\n",
    "img = cv.imread('example.jpg') \n",
    "resized_img = rescale(img, 0.1)\n",
    "cv.imshow(\"test\", img)\n",
    "cv.imshow(\"resized test\", resized_img) \n",
    "cv.waitKey()\n",
    "cv.destroyAllWindows()"
   ]
  }
 ],
 "metadata": {
  "kernelspec": {
   "display_name": "Python 3",
   "language": "python",
   "name": "python3"
  },
  "language_info": {
   "codemirror_mode": {
    "name": "ipython",
    "version": 3
   },
   "file_extension": ".py",
   "mimetype": "text/x-python",
   "name": "python",
   "nbconvert_exporter": "python",
   "pygments_lexer": "ipython3",
   "version": "3.8.3"
  }
 },
 "nbformat": 4,
 "nbformat_minor": 4
}
