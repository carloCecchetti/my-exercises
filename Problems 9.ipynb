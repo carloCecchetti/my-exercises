{
 "cells": [
  {
   "cell_type": "markdown",
   "metadata": {},
   "source": [
    "10/08/2020"
   ]
  },
  {
   "cell_type": "code",
   "execution_count": 5,
   "metadata": {},
   "outputs": [
    {
     "name": "stdout",
     "output_type": "stream",
     "text": [
      "<a>Hello World!</a>\n"
     ]
    }
   ],
   "source": [
    "#HTML tag\n",
    "def tagger(tag, text):\n",
    "    print(f\"<{tag}>{text}</{tag}>\")\n",
    "\n",
    "tagger(\"a\",\"Hello World!\")"
   ]
  },
  {
   "cell_type": "code",
   "execution_count": 6,
   "metadata": {},
   "outputs": [
    {
     "data": {
      "text/plain": [
       "[5, 'NiHao']"
      ]
     },
     "execution_count": 6,
     "metadata": {},
     "output_type": "execute_result"
    }
   ],
   "source": [
    "#Return the longest word\n",
    "def long(l):\n",
    "    longer = [0,\" \"]\n",
    "    for x in l:\n",
    "        if len(x) > longer[0]:\n",
    "            longer[0] = len(x)\n",
    "            longer[1] = x\n",
    "    return longer\n",
    "\n",
    "long([\"Hi\",\"Hola\",\"Ciao\",\"NiHao\",\"Salut\"])"
   ]
  },
  {
   "cell_type": "code",
   "execution_count": 16,
   "metadata": {},
   "outputs": [
    {
     "data": {
      "text/plain": [
       "'M name is Carlo'"
      ]
     },
     "execution_count": 16,
     "metadata": {},
     "output_type": "execute_result"
    }
   ],
   "source": [
    "#remove the index char\n",
    "def remover(text,position):\n",
    "    return text[:position-1] + text[position:] #index based on numbers of counted letters, so i put a -1 at first index\n",
    "            \n",
    "remover(\"My name is Carlo\", 2) "
   ]
  },
  {
   "cell_type": "code",
   "execution_count": 33,
   "metadata": {},
   "outputs": [
    {
     "data": {
      "text/plain": [
       "['15', \"I'm\", 'and', 'Carlo', 'is', 'name', 'My']"
      ]
     },
     "execution_count": 33,
     "metadata": {},
     "output_type": "execute_result"
    }
   ],
   "source": [
    "#revert words in a phrase\n",
    "def reverter(text):\n",
    "    list_of_text = text.split()\n",
    "    \n",
    "    return list_of_text[::-1]\n",
    "\n",
    "reverter(\"My name is Carlo and I'm 15\")"
   ]
  },
  {
   "cell_type": "code",
   "execution_count": 39,
   "metadata": {},
   "outputs": [
    {
     "data": {
      "text/plain": [
       "25"
      ]
     },
     "execution_count": 39,
     "metadata": {},
     "output_type": "execute_result"
    }
   ],
   "source": [
    "#string length\n",
    "def length(s):\n",
    "    return len(s)\n",
    "\n",
    "length(\"wojiao Carlo，nijiaoshenne?\")"
   ]
  },
  {
   "cell_type": "code",
   "execution_count": 97,
   "metadata": {},
   "outputs": [
    {
     "data": {
      "text/plain": [
       "{'the': 2,\n",
       " 'quick': 1,\n",
       " 'brown': 1,\n",
       " 'fox': 1,\n",
       " 'jumps': 1,\n",
       " 'over': 1,\n",
       " 'lazy': 1,\n",
       " 'dog.': 1}"
      ]
     },
     "execution_count": 97,
     "metadata": {},
     "output_type": "execute_result"
    }
   ],
   "source": [
    "#words' freq\n",
    "def word_freq(s):\n",
    "    freq = {}\n",
    "    words = s.split()\n",
    "    for x in words:\n",
    "        if x in freq:\n",
    "            freq[x] += 1\n",
    "        else:\n",
    "            freq.update( {x : 1} )\n",
    "    \n",
    "    return freq\n",
    "\n",
    "word_freq(\"the quick brown fox jumps over the lazy dog.\")\n"
   ]
  }
 ],
 "metadata": {
  "kernelspec": {
   "display_name": "Python 3",
   "language": "python",
   "name": "python3"
  },
  "language_info": {
   "codemirror_mode": {
    "name": "ipython",
    "version": 3
   },
   "file_extension": ".py",
   "mimetype": "text/x-python",
   "name": "python",
   "nbconvert_exporter": "python",
   "pygments_lexer": "ipython3",
   "version": "3.7.6"
  }
 },
 "nbformat": 4,
 "nbformat_minor": 4
}
