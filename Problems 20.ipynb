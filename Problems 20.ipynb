{
 "cells": [
  {
   "cell_type": "markdown",
   "metadata": {},
   "source": [
    "21/08/2020"
   ]
  },
  {
   "cell_type": "code",
   "execution_count": 43,
   "metadata": {},
   "outputs": [
    {
     "name": "stdout",
     "output_type": "stream",
     "text": [
      "4\n",
      "6\n",
      "8\n",
      "9\n",
      "10\n"
     ]
    }
   ],
   "source": [
    "#find what number is missing\n",
    "def miss_number(numbers):\n",
    "    for i in [x for x in range(1, max(numbers)+1)]:\n",
    "        if i not in numbers:\n",
    "            print(i)\n",
    "            \n",
    "miss_number([1,2,3,5,7,11])"
   ]
  },
  {
   "cell_type": "code",
   "execution_count": 71,
   "metadata": {},
   "outputs": [
    {
     "data": {
      "text/plain": [
       "[5, 6, 7, 1, 2, 3, 4]"
      ]
     },
     "execution_count": 71,
     "metadata": {},
     "output_type": "execute_result"
    }
   ],
   "source": [
    "#rotate of a given number of steps\n",
    "def rotate(numbers, steps):\n",
    "    for i in range(1, steps + 1):\n",
    "        popped = numbers.pop()\n",
    "        numbers.insert(0,popped)\n",
    "    return numbers\n",
    "rotate([1,2,3,4,5,6,7], 3)"
   ]
  },
  {
   "cell_type": "code",
   "execution_count": 84,
   "metadata": {},
   "outputs": [
    {
     "data": {
      "text/plain": [
       "'Index 2 = 11 and index 4 = 15'"
      ]
     },
     "execution_count": 84,
     "metadata": {},
     "output_type": "execute_result"
    }
   ],
   "source": [
    "#array-sum\n",
    "def sum_two(numbers, result):\n",
    "    for i in range(len(numbers)):\n",
    "        for j in range(i, len(numbers)):\n",
    "            if numbers[i] + numbers[j] == result:\n",
    "                return f\"Index {i} = {numbers[i]} and index {j} = {numbers[j]}\"\n",
    "\n",
    "def sum_two_simple(numbers, result):\n",
    "    for i in numbers:\n",
    "        for j in numbers:\n",
    "            if i + j == result:\n",
    "                return f\"Index {numbers.index(i)} = {i} and index {numbers.index(j)} = {j}\"\n",
    "            \n",
    "sum_two([2,7,11,13,15,13], 26)"
   ]
  }
 ],
 "metadata": {
  "kernelspec": {
   "display_name": "Python 3",
   "language": "python",
   "name": "python3"
  },
  "language_info": {
   "codemirror_mode": {
    "name": "ipython",
    "version": 3
   },
   "file_extension": ".py",
   "mimetype": "text/x-python",
   "name": "python",
   "nbconvert_exporter": "python",
   "pygments_lexer": "ipython3",
   "version": "3.7.6"
  }
 },
 "nbformat": 4,
 "nbformat_minor": 4
}
