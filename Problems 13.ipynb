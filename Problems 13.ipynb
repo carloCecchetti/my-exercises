{
 "cells": [
  {
   "cell_type": "markdown",
   "metadata": {},
   "source": [
    "14/08/2020"
   ]
  },
  {
   "cell_type": "code",
   "execution_count": 8,
   "metadata": {},
   "outputs": [
    {
     "name": "stdout",
     "output_type": "stream",
     "text": [
      "200.96\n",
      "50.24\n"
     ]
    }
   ],
   "source": [
    "#Circle area and perimeter\n",
    "class circle:\n",
    "    def __init__(self, r): #initiating the radius\n",
    "        self.r = r\n",
    "    \n",
    "    def area(self): #the function to calculate the area\n",
    "        return self.r ** 2 * 3.14\n",
    "    \n",
    "    def perimeter(self): #the function to calculate the perimeter\n",
    "        return self.r * 2 * 3.14\n",
    "    \n",
    "circle_1 = circle(8)\n",
    "print(circle_1.area())\n",
    "print(circle_1.perimeter())"
   ]
  }
 ],
 "metadata": {
  "kernelspec": {
   "display_name": "Python 3",
   "language": "python",
   "name": "python3"
  },
  "language_info": {
   "codemirror_mode": {
    "name": "ipython",
    "version": 3
   },
   "file_extension": ".py",
   "mimetype": "text/x-python",
   "name": "python",
   "nbconvert_exporter": "python",
   "pygments_lexer": "ipython3",
   "version": "3.7.6"
  }
 },
 "nbformat": 4,
 "nbformat_minor": 4
}
