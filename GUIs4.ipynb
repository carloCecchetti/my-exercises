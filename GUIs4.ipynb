{
 "cells": [
  {
   "cell_type": "markdown",
   "metadata": {},
   "source": [
    "GUIs4 10/06/2020"
   ]
  },
  {
   "cell_type": "code",
   "execution_count": 1,
   "metadata": {},
   "outputs": [],
   "source": [
    "\"\"\"\n",
    "style vs layout.\n",
    "style allows us to is general to all widgets and cannot give us specific way to modify our widgets.\n",
    "layout, based on HTML and CSS, is more specific for each widgets. \n",
    "Because of this feature, requires a knowledge in web development (HTML and CSS)\n",
    "\"\"\"\n",
    "import ipywidgets as widgets\n",
    "from IPython.display import display"
   ]
  },
  {
   "cell_type": "code",
   "execution_count": 2,
   "metadata": {},
   "outputs": [
    {
     "data": {
      "application/vnd.jupyter.widget-view+json": {
       "model_id": "cce13e77dba84533a401723e01447109",
       "version_major": 2,
       "version_minor": 0
      },
      "text/plain": [
       "IntSlider(value=5)"
      ]
     },
     "metadata": {},
     "output_type": "display_data"
    }
   ],
   "source": [
    "w = widgets.IntSlider(5)\n",
    "display(w)"
   ]
  },
  {
   "cell_type": "code",
   "execution_count": 3,
   "metadata": {},
   "outputs": [
    {
     "data": {
      "text/plain": [
       "['_model_module',\n",
       " '_model_module_version',\n",
       " '_model_name',\n",
       " '_view_count',\n",
       " '_view_module',\n",
       " '_view_module_version',\n",
       " '_view_name',\n",
       " 'align_content',\n",
       " 'align_items',\n",
       " 'align_self',\n",
       " 'border',\n",
       " 'bottom',\n",
       " 'display',\n",
       " 'flex',\n",
       " 'flex_flow',\n",
       " 'grid_area',\n",
       " 'grid_auto_columns',\n",
       " 'grid_auto_flow',\n",
       " 'grid_auto_rows',\n",
       " 'grid_column',\n",
       " 'grid_gap',\n",
       " 'grid_row',\n",
       " 'grid_template_areas',\n",
       " 'grid_template_columns',\n",
       " 'grid_template_rows',\n",
       " 'height',\n",
       " 'justify_content',\n",
       " 'justify_items',\n",
       " 'left',\n",
       " 'margin',\n",
       " 'max_height',\n",
       " 'max_width',\n",
       " 'min_height',\n",
       " 'min_width',\n",
       " 'object_fit',\n",
       " 'object_position',\n",
       " 'order',\n",
       " 'overflow',\n",
       " 'overflow_x',\n",
       " 'overflow_y',\n",
       " 'padding',\n",
       " 'right',\n",
       " 'top',\n",
       " 'visibility',\n",
       " 'width']"
      ]
     },
     "execution_count": 3,
     "metadata": {},
     "output_type": "execute_result"
    }
   ],
   "source": [
    "w.layout.keys #all the stuff we can change with layout"
   ]
  },
  {
   "cell_type": "code",
   "execution_count": 4,
   "metadata": {},
   "outputs": [
    {
     "data": {
      "application/vnd.jupyter.widget-view+json": {
       "model_id": "a8281bd54da04212a1cd0448295ce891",
       "version_major": 2,
       "version_minor": 0
      },
      "text/plain": [
       "Button(description='(50% width, 80px height) button', layout=Layout(height='55px', width='100%'), style=Button…"
      ]
     },
     "metadata": {},
     "output_type": "display_data"
    }
   ],
   "source": [
    "b = widgets.Button(description='(50% width, 80px height) button',\n",
    "           layout=widgets.Layout(width='100%', height='55px'))\n",
    "b"
   ]
  },
  {
   "cell_type": "code",
   "execution_count": 12,
   "metadata": {},
   "outputs": [
    {
     "data": {
      "application/vnd.jupyter.widget-view+json": {
       "model_id": "d3404c7e53e34006bdb66a1ef7e31a57",
       "version_major": 2,
       "version_minor": 0
      },
      "text/plain": [
       "IntSlider(value=15, description='Int Slider')"
      ]
     },
     "metadata": {},
     "output_type": "display_data"
    }
   ],
   "source": [
    "#this is how we can copy a layout\n",
    "x = widgets.IntSlider(15,description = \"Int Slider\")\n",
    "display(x)\n",
    "x.layout=w.layout"
   ]
  },
  {
   "cell_type": "code",
   "execution_count": 13,
   "metadata": {},
   "outputs": [
    {
     "data": {
      "application/vnd.jupyter.widget-view+json": {
       "model_id": "71f2065c2f6649dda0b9b8539cd7e80c",
       "version_major": 2,
       "version_minor": 0
      },
      "text/plain": [
       "Button(button_style='warning', description='Button', style=ButtonStyle())"
      ]
     },
     "metadata": {},
     "output_type": "display_data"
    }
   ],
   "source": [
    "widgets.Button(description=\"Button\",button_style=\"warning\")"
   ]
  },
  {
   "cell_type": "code",
   "execution_count": 17,
   "metadata": {},
   "outputs": [
    {
     "data": {
      "text/plain": [
       "['_model_module',\n",
       " '_model_module_version',\n",
       " '_model_name',\n",
       " '_view_count',\n",
       " '_view_module',\n",
       " '_view_module_version',\n",
       " '_view_name',\n",
       " 'button_color',\n",
       " 'font_weight']"
      ]
     },
     "execution_count": 17,
     "metadata": {},
     "output_type": "execute_result"
    }
   ],
   "source": [
    "#now we are going to talk about style\n",
    "b1=widgets.Button(description=\"Style button\")\n",
    "b1.style.keys #this what we can change in style"
   ]
  },
  {
   "cell_type": "code",
   "execution_count": 18,
   "metadata": {},
   "outputs": [
    {
     "data": {
      "application/vnd.jupyter.widget-view+json": {
       "model_id": "035d65e021c14c1abd352c33594471e8",
       "version_major": 2,
       "version_minor": 0
      },
      "text/plain": [
       "Button(description='Style button', style=ButtonStyle())"
      ]
     },
     "metadata": {},
     "output_type": "display_data"
    }
   ],
   "source": [
    "display(b1)\n",
    "b1.style.button_color = \"violet\""
   ]
  },
  {
   "cell_type": "code",
   "execution_count": 19,
   "metadata": {},
   "outputs": [
    {
     "data": {
      "application/vnd.jupyter.widget-view+json": {
       "model_id": "41365f79089a4596affee874462b245c",
       "version_major": 2,
       "version_minor": 0
      },
      "text/plain": [
       "Button(description='b1 copy', style=ButtonStyle(button_color='violet'))"
      ]
     },
     "metadata": {},
     "output_type": "display_data"
    }
   ],
   "source": [
    "#we can make a style copy of b1\n",
    "b2 = widgets.Button(description=\"b1 copy\")\n",
    "b2.style = b1.style #I'm not calling .style.<option>. Im' saying that b2'style = b1's style\n",
    "display(b2)"
   ]
  },
  {
   "cell_type": "code",
   "execution_count": 21,
   "metadata": {},
   "outputs": [
    {
     "data": {
      "text/plain": [
       "['_model_module',\n",
       " '_model_module_version',\n",
       " '_model_name',\n",
       " '_view_count',\n",
       " '_view_module',\n",
       " '_view_module_version',\n",
       " '_view_name',\n",
       " 'description_width',\n",
       " 'handle_color']"
      ]
     },
     "execution_count": 21,
     "metadata": {},
     "output_type": "execute_result"
    }
   ],
   "source": [
    "slider = widgets.FloatSlider(3.7,description =\"clock ratio\",min=2.8,max=5.4,step = 0.05)\n",
    "slider.style.keys"
   ]
  },
  {
   "cell_type": "code",
   "execution_count": 22,
   "metadata": {},
   "outputs": [
    {
     "data": {
      "application/vnd.jupyter.widget-view+json": {
       "model_id": "6e5ff958991d4b9dbfb3f95b99e5adf9",
       "version_major": 2,
       "version_minor": 0
      },
      "text/plain": [
       "FloatSlider(value=3.7, description='clock ratio', max=5.4, min=2.8, step=0.05, style=SliderStyle(handle_color=…"
      ]
     },
     "metadata": {},
     "output_type": "display_data"
    }
   ],
   "source": [
    "slider.style.handle_color = \"orange\"\n",
    "display(slider)"
   ]
  },
  {
   "cell_type": "code",
   "execution_count": 23,
   "metadata": {},
   "outputs": [
    {
     "data": {
      "text/plain": [
       "['_model_module',\n",
       " '_model_module_version',\n",
       " '_model_name',\n",
       " '_view_count',\n",
       " '_view_module',\n",
       " '_view_module_version',\n",
       " '_view_name',\n",
       " 'bar_color',\n",
       " 'description_width']"
      ]
     },
     "execution_count": 23,
     "metadata": {},
     "output_type": "execute_result"
    }
   ],
   "source": [
    "progress = widgets.FloatProgress(34,description = \"Loading\")\n",
    "progress.style.keys"
   ]
  },
  {
   "cell_type": "code",
   "execution_count": 24,
   "metadata": {},
   "outputs": [
    {
     "data": {
      "application/vnd.jupyter.widget-view+json": {
       "model_id": "62fde22ca28c429286636fc06472a5a3",
       "version_major": 2,
       "version_minor": 0
      },
      "text/plain": [
       "FloatProgress(value=34.0, description='Loading', style=ProgressStyle(bar_color='blue', description_width='16%'…"
      ]
     },
     "metadata": {},
     "output_type": "display_data"
    }
   ],
   "source": [
    "progress.style.bar_color = \"blue\"\n",
    "progress.style.description_width = \"16%\" #how much show the description. 100% = all the line is for the description, 0% = 0 space for the descr\n",
    "display(progress)"
   ]
  }
 ],
 "metadata": {
  "kernelspec": {
   "display_name": "Python 3",
   "language": "python",
   "name": "python3"
  },
  "language_info": {
   "codemirror_mode": {
    "name": "ipython",
    "version": 3
   },
   "file_extension": ".py",
   "mimetype": "text/x-python",
   "name": "python",
   "nbconvert_exporter": "python",
   "pygments_lexer": "ipython3",
   "version": "3.7.6"
  }
 },
 "nbformat": 4,
 "nbformat_minor": 4
}
