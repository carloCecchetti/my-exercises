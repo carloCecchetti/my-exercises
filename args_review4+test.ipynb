{
 "cells": [
  {
   "cell_type": "markdown",
   "metadata": {},
   "source": [
    "Iterators and Generators 15/06/2020"
   ]
  },
  {
   "cell_type": "code",
   "execution_count": 7,
   "metadata": {},
   "outputs": [],
   "source": [
    "\"\"\"\n",
    "Generators allows us to use a value and then pick up another where it stopped\n",
    "The differecne between funcs and generators is the using of yield statement\n",
    "\n",
    "They are very similar to a normal func\n",
    "\n",
    "Return statement would return a value and exit the func. \n",
    "Generators will resume the execution considering the last value\n",
    "\n",
    "Instead of store all the datas, generetors can be suspended (state suspension)\n",
    "\n",
    "Since generetators have this features they are realy usefull with the managing of big amount of datas.\n",
    "\"\"\"\n",
    "def gen(n):\n",
    "    x = 1\n",
    "    while x<n+1:\n",
    "        yield f\"{x}**2 = {x**2}\"\n",
    "        x += 1"
   ]
  },
  {
   "cell_type": "code",
   "execution_count": 8,
   "metadata": {},
   "outputs": [
    {
     "name": "stdout",
     "output_type": "stream",
     "text": [
      "1**2 = 1\n",
      "2**2 = 4\n",
      "3**2 = 9\n"
     ]
    }
   ],
   "source": [
    "for i in gen(3):\n",
    "    print(i)"
   ]
  },
  {
   "cell_type": "code",
   "execution_count": 59,
   "metadata": {},
   "outputs": [],
   "source": [
    "def gen(n):\n",
    "    for x in range(1,n+1):\n",
    "        yield f\"{x}**2 = {x**2}\""
   ]
  },
  {
   "cell_type": "code",
   "execution_count": 60,
   "metadata": {},
   "outputs": [],
   "source": [
    "x = gen(4)"
   ]
  },
  {
   "cell_type": "code",
   "execution_count": 61,
   "metadata": {},
   "outputs": [
    {
     "name": "stdout",
     "output_type": "stream",
     "text": [
      "1**2 = 1\n"
     ]
    }
   ],
   "source": [
    "print(x.__next__())"
   ]
  },
  {
   "cell_type": "code",
   "execution_count": 62,
   "metadata": {},
   "outputs": [
    {
     "name": "stdout",
     "output_type": "stream",
     "text": [
      "2**2 = 4\n"
     ]
    }
   ],
   "source": [
    "print(x.__next__())"
   ]
  },
  {
   "cell_type": "code",
   "execution_count": 63,
   "metadata": {},
   "outputs": [
    {
     "name": "stdout",
     "output_type": "stream",
     "text": [
      "1**2 = 1\n",
      "2**2 = 4\n",
      "3**2 = 9\n",
      "4**2 = 16\n"
     ]
    }
   ],
   "source": [
    "for i in gen(4):\n",
    "    print(i)"
   ]
  },
  {
   "cell_type": "code",
   "execution_count": 64,
   "metadata": {},
   "outputs": [],
   "source": [
    "#how it should go with return statement\n",
    "\"\"\"\n",
    "The advantage is that with yield python doesn't have to store any list or any value.\n",
    "Return must return a list and remebers it. With big amount of values this is crucial\n",
    "\"\"\"\n",
    "def gen(n):\n",
    "    out = []\n",
    "    for x in range(1,n+1):\n",
    "        out.append(f\"{x}**2 = {x**2}\")\n",
    "    return out"
   ]
  },
  {
   "cell_type": "code",
   "execution_count": 65,
   "metadata": {},
   "outputs": [
    {
     "name": "stdout",
     "output_type": "stream",
     "text": [
      "1**2 = 1\n",
      "2**2 = 4\n",
      "3**2 = 9\n",
      "4**2 = 16\n"
     ]
    }
   ],
   "source": [
    "for i in gen(4):\n",
    "    print(i)"
   ]
  },
  {
   "cell_type": "code",
   "execution_count": 81,
   "metadata": {},
   "outputs": [],
   "source": [
    "#fibonacci generator\n",
    "def genfib(n):\n",
    "    a,b = 1,1\n",
    "    for i in range(n):\n",
    "        yield a\n",
    "        a,b = b,a+b"
   ]
  },
  {
   "cell_type": "code",
   "execution_count": 82,
   "metadata": {},
   "outputs": [
    {
     "name": "stdout",
     "output_type": "stream",
     "text": [
      "1\n",
      "1\n",
      "2\n",
      "3\n",
      "5\n",
      "8\n",
      "13\n",
      "21\n",
      "34\n",
      "55\n"
     ]
    }
   ],
   "source": [
    "for i in genfib(10):\n",
    "    print(i)"
   ]
  },
  {
   "cell_type": "code",
   "execution_count": 86,
   "metadata": {},
   "outputs": [],
   "source": [
    "#with return it would be\n",
    "\"\"\"\n",
    "With small numbers as 10 you cannot notice the difference, but imaging storing a list of squares from 1 to 100000000000.\n",
    "With generators you don't have to store the values, so here we can see the potentiality of this statement\n",
    "\"\"\"\n",
    "def fibon(n):\n",
    "    a,b = 0,1\n",
    "    fib = []\n",
    "    for x in range(n):\n",
    "        a,b = b,a+b\n",
    "        fib.append(a)\n",
    "    return fib\n",
    "        \n",
    "    "
   ]
  },
  {
   "cell_type": "code",
   "execution_count": 88,
   "metadata": {},
   "outputs": [
    {
     "name": "stdout",
     "output_type": "stream",
     "text": [
      "1\n",
      "1\n",
      "2\n",
      "3\n",
      "5\n",
      "8\n",
      "13\n",
      "21\n",
      "34\n",
      "55\n"
     ]
    }
   ],
   "source": [
    "for i in fibon(10):\n",
    "    print(i)"
   ]
  },
  {
   "cell_type": "code",
   "execution_count": 99,
   "metadata": {},
   "outputs": [],
   "source": [
    "#let's see what next() and iter() does to understand generators at all\n",
    "\"\"\"\n",
    "next() return the next step of a loop\n",
    "\"\"\"\n",
    "def gen():\n",
    "    for x in range(3):\n",
    "        yield x"
   ]
  },
  {
   "cell_type": "code",
   "execution_count": 100,
   "metadata": {},
   "outputs": [],
   "source": [
    "x = gen()"
   ]
  },
  {
   "cell_type": "code",
   "execution_count": 101,
   "metadata": {},
   "outputs": [
    {
     "name": "stdout",
     "output_type": "stream",
     "text": [
      "0\n"
     ]
    }
   ],
   "source": [
    "print(next(x))"
   ]
  },
  {
   "cell_type": "code",
   "execution_count": 102,
   "metadata": {},
   "outputs": [
    {
     "name": "stdout",
     "output_type": "stream",
     "text": [
      "1\n"
     ]
    }
   ],
   "source": [
    "print(next(x))"
   ]
  },
  {
   "cell_type": "code",
   "execution_count": 103,
   "metadata": {},
   "outputs": [
    {
     "name": "stdout",
     "output_type": "stream",
     "text": [
      "2\n"
     ]
    }
   ],
   "source": [
    "print(next(x))"
   ]
  },
  {
   "cell_type": "code",
   "execution_count": 104,
   "metadata": {},
   "outputs": [
    {
     "ename": "StopIteration",
     "evalue": "",
     "output_type": "error",
     "traceback": [
      "\u001b[1;31m---------------------------------------------------------------------------\u001b[0m",
      "\u001b[1;31mStopIteration\u001b[0m                             Traceback (most recent call last)",
      "\u001b[1;32m<ipython-input-104-ff675a2ee99e>\u001b[0m in \u001b[0;36m<module>\u001b[1;34m\u001b[0m\n\u001b[1;32m----> 1\u001b[1;33m \u001b[0mprint\u001b[0m\u001b[1;33m(\u001b[0m\u001b[0mnext\u001b[0m\u001b[1;33m(\u001b[0m\u001b[0mx\u001b[0m\u001b[1;33m)\u001b[0m\u001b[1;33m)\u001b[0m\u001b[1;33m\u001b[0m\u001b[1;33m\u001b[0m\u001b[0m\n\u001b[0m",
      "\u001b[1;31mStopIteration\u001b[0m: "
     ]
    }
   ],
   "source": [
    "print(next(x)) #here we have an error because there is no value"
   ]
  },
  {
   "cell_type": "code",
   "execution_count": 105,
   "metadata": {},
   "outputs": [
    {
     "ename": "TypeError",
     "evalue": "'str' object is not an iterator",
     "output_type": "error",
     "traceback": [
      "\u001b[1;31m---------------------------------------------------------------------------\u001b[0m",
      "\u001b[1;31mTypeError\u001b[0m                                 Traceback (most recent call last)",
      "\u001b[1;32m<ipython-input-105-af3fbe20a333>\u001b[0m in \u001b[0;36m<module>\u001b[1;34m\u001b[0m\n\u001b[0;32m      6\u001b[0m \u001b[1;33m\u001b[0m\u001b[0m\n\u001b[0;32m      7\u001b[0m \u001b[0ms\u001b[0m \u001b[1;33m=\u001b[0m \u001b[1;34m\"No iteratos\"\u001b[0m\u001b[1;33m\u001b[0m\u001b[1;33m\u001b[0m\u001b[0m\n\u001b[1;32m----> 8\u001b[1;33m \u001b[0mnext\u001b[0m\u001b[1;33m(\u001b[0m\u001b[0ms\u001b[0m\u001b[1;33m)\u001b[0m\u001b[1;33m\u001b[0m\u001b[1;33m\u001b[0m\u001b[0m\n\u001b[0m",
      "\u001b[1;31mTypeError\u001b[0m: 'str' object is not an iterator"
     ]
    }
   ],
   "source": [
    "\"\"\"\n",
    "Iterables dataypes are different to iterators\n",
    "An iterable can be a string and you cannot use next(). Before this you must use iter() to create iterators\n",
    "an iterator can be a func\n",
    "\"\"\"\n",
    "\n",
    "s = \"No iteratos\"\n",
    "next(s)"
   ]
  },
  {
   "cell_type": "code",
   "execution_count": 106,
   "metadata": {},
   "outputs": [
    {
     "data": {
      "text/plain": [
       "'N'"
      ]
     },
     "execution_count": 106,
     "metadata": {},
     "output_type": "execute_result"
    }
   ],
   "source": [
    "\"\"\"\n",
    "iter() keyword create iterators to the datatypes that don't have any\n",
    "\"\"\"\n",
    "next(iter(s))"
   ]
  },
  {
   "cell_type": "code",
   "execution_count": 109,
   "metadata": {},
   "outputs": [],
   "source": [
    "#let's test\n",
    "\"\"\"\n",
    "Create a generator that generates the squares of numbers up to some number N.\n",
    "\"\"\"\n",
    "def squares(n):\n",
    "    for i in range(n+1):\n",
    "        yield i**2"
   ]
  },
  {
   "cell_type": "code",
   "execution_count": 110,
   "metadata": {},
   "outputs": [
    {
     "name": "stdout",
     "output_type": "stream",
     "text": [
      "0\n",
      "1\n",
      "4\n",
      "9\n",
      "16\n",
      "25\n",
      "36\n",
      "49\n",
      "64\n",
      "81\n",
      "100\n"
     ]
    }
   ],
   "source": [
    "for x in squares(10):\n",
    "    print(x)"
   ]
  },
  {
   "cell_type": "code",
   "execution_count": 119,
   "metadata": {},
   "outputs": [],
   "source": [
    "#Create a generator that yields \"n\" random numbers between a low and high number (that are inputs).\n",
    "from random import randint\n",
    "def rand_num(minvalue,maxvalue,times):\n",
    "    \"\"\"\n",
    "    minvalue: minimum value\n",
    "    maxvalue: maximum value\n",
    "    times: how many numbers\n",
    "    \"\"\"\n",
    "    for i in range(times):\n",
    "        yield randint(minvalue,maxvalue)"
   ]
  },
  {
   "cell_type": "code",
   "execution_count": 120,
   "metadata": {},
   "outputs": [
    {
     "name": "stdout",
     "output_type": "stream",
     "text": [
      "21619\n",
      "5260\n",
      "32711\n",
      "37100\n",
      "5305\n",
      "16229\n",
      "3409\n",
      "566\n",
      "1819\n",
      "23841\n",
      "28265\n",
      "36317\n"
     ]
    }
   ],
   "source": [
    "for num in rand_num(1,43234,12):\n",
    "    print(num)"
   ]
  },
  {
   "cell_type": "code",
   "execution_count": 121,
   "metadata": {},
   "outputs": [
    {
     "data": {
      "text/plain": [
       "'h'"
      ]
     },
     "execution_count": 121,
     "metadata": {},
     "output_type": "execute_result"
    }
   ],
   "source": [
    "#Use the iter() function to convert the string below into an iterator\n",
    "s = \"hello\"\n",
    "next(iter(s))"
   ]
  },
  {
   "cell_type": "code",
   "execution_count": 2,
   "metadata": {},
   "outputs": [],
   "source": [
    "#Explain a use case for a generator using a yield statement where you would not want to use a normal function with a return statement\n",
    "def multitable(n,times=10):\n",
    "    for i in range(times+1):\n",
    "        yield n*i"
   ]
  },
  {
   "cell_type": "code",
   "execution_count": null,
   "metadata": {},
   "outputs": [],
   "source": [
    "for i in multitable(20342243,442): #imaging storing a list with more than 442 long elements \n",
    "    print(i)\n",
    "#I cleared the output"
   ]
  },
  {
   "cell_type": "code",
   "execution_count": null,
   "metadata": {},
   "outputs": [],
   "source": [
    "#Can you explain what gencomp is in the code below?\n",
    "\"\"\"\n",
    "We have a list\n",
    "We create another list with comprhension which says: take only the items in my_list list but only if they are > 3\n",
    "Print each element of gencomp list\n",
    "\"\"\"\n",
    "\n",
    "my_list = [1,2,3,4,5]\n",
    "\n",
    "gencomp = (item for item in my_list if item > 3)\n",
    "\n",
    "for item in gencomp:\n",
    "    print(item)"
   ]
  }
 ],
 "metadata": {
  "kernelspec": {
   "display_name": "Python 3",
   "language": "python",
   "name": "python3"
  },
  "language_info": {
   "codemirror_mode": {
    "name": "ipython",
    "version": 3
   },
   "file_extension": ".py",
   "mimetype": "text/x-python",
   "name": "python",
   "nbconvert_exporter": "python",
   "pygments_lexer": "ipython3",
   "version": "3.7.6"
  }
 },
 "nbformat": 4,
 "nbformat_minor": 4
}
