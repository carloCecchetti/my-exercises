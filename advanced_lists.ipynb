{
 "cells": [
  {
   "cell_type": "markdown",
   "metadata": {},
   "source": [
    "Advanced List 07/06/2020"
   ]
  },
  {
   "cell_type": "code",
   "execution_count": 211,
   "metadata": {},
   "outputs": [],
   "source": [
    "#list comprhension\n",
    "l = [x for x in range(1,11)]"
   ]
  },
  {
   "cell_type": "code",
   "execution_count": 183,
   "metadata": {},
   "outputs": [
    {
     "data": {
      "text/plain": [
       "[1, 2, 3, 4, 5, 6, 7, 8, 9, 10]"
      ]
     },
     "execution_count": 183,
     "metadata": {},
     "output_type": "execute_result"
    }
   ],
   "source": [
    "l"
   ]
  },
  {
   "cell_type": "code",
   "execution_count": 210,
   "metadata": {},
   "outputs": [
    {
     "name": "stdout",
     "output_type": "stream",
     "text": [
      "2 10 ['index 0 value', 4, 7, 10]\n"
     ]
    }
   ],
   "source": [
    "#list indexing\n",
    "print(l[2],l[-1],l[::3])"
   ]
  },
  {
   "cell_type": "code",
   "execution_count": 185,
   "metadata": {},
   "outputs": [
    {
     "data": {
      "text/plain": [
       "[['our', 'first', 'list'], ['in', 'a', 'list'], ['we', 'are', 'nested']]"
      ]
     },
     "execution_count": 185,
     "metadata": {},
     "output_type": "execute_result"
    }
   ],
   "source": [
    "#nested list\n",
    "nes_list = [[\"our\",\"first\",\"list\"],[\"in\",\"a\",\"list\"],[\"we\",\"are\",\"nested\"]]\n",
    "nes_list"
   ]
  },
  {
   "cell_type": "code",
   "execution_count": 186,
   "metadata": {},
   "outputs": [
    {
     "data": {
      "text/plain": [
       "[1, 2, 3, 4, 5, 6, 7, 8, 9, 10, ['List are addable'], 11]"
      ]
     },
     "execution_count": 186,
     "metadata": {},
     "output_type": "execute_result"
    }
   ],
   "source": [
    "#.append()\n",
    "\"\"\"\n",
    "allows us to add an element to the list of any datatype: str,int,float,set,list,dict,...\n",
    "\"\"\"\n",
    "l.append([\"List are addable\"])\n",
    "l.append(11)\n",
    "l"
   ]
  },
  {
   "cell_type": "code",
   "execution_count": 187,
   "metadata": {},
   "outputs": [],
   "source": [
    "#del keyword\n",
    "\"\"\"\n",
    "allows us to delete the indexed element.\n",
    "if nothing as indexing the list disappears\n",
    "\"\"\"\n",
    "del l[-2]"
   ]
  },
  {
   "cell_type": "code",
   "execution_count": 188,
   "metadata": {},
   "outputs": [
    {
     "data": {
      "text/plain": [
       "[1, 2, 3, 4, 5, 6, 7, 8, 9, 10, 11]"
      ]
     },
     "execution_count": 188,
     "metadata": {},
     "output_type": "execute_result"
    }
   ],
   "source": [
    "l"
   ]
  },
  {
   "cell_type": "code",
   "execution_count": 189,
   "metadata": {},
   "outputs": [
    {
     "ename": "NameError",
     "evalue": "name 'list_that_will_diasappear' is not defined",
     "output_type": "error",
     "traceback": [
      "\u001b[1;31m---------------------------------------------------------------------------\u001b[0m",
      "\u001b[1;31mNameError\u001b[0m                                 Traceback (most recent call last)",
      "\u001b[1;32m<ipython-input-189-1c98e79b0665>\u001b[0m in \u001b[0;36m<module>\u001b[1;34m\u001b[0m\n\u001b[0;32m      1\u001b[0m \u001b[0mlist_that_will_diasappear\u001b[0m \u001b[1;33m=\u001b[0m \u001b[1;33m[\u001b[0m\u001b[1;36m1\u001b[0m\u001b[1;33m,\u001b[0m\u001b[1;36m2\u001b[0m\u001b[1;33m,\u001b[0m\u001b[1;36m3\u001b[0m\u001b[1;33m,\u001b[0m\u001b[1;36m4\u001b[0m\u001b[1;33m]\u001b[0m\u001b[1;33m\u001b[0m\u001b[1;33m\u001b[0m\u001b[0m\n\u001b[0;32m      2\u001b[0m \u001b[1;32mdel\u001b[0m \u001b[0mlist_that_will_diasappear\u001b[0m\u001b[1;33m\u001b[0m\u001b[1;33m\u001b[0m\u001b[0m\n\u001b[1;32m----> 3\u001b[1;33m \u001b[0mprint\u001b[0m\u001b[1;33m(\u001b[0m\u001b[0mlist_that_will_diasappear\u001b[0m\u001b[1;33m)\u001b[0m\u001b[1;33m\u001b[0m\u001b[1;33m\u001b[0m\u001b[0m\n\u001b[0m",
      "\u001b[1;31mNameError\u001b[0m: name 'list_that_will_diasappear' is not defined"
     ]
    }
   ],
   "source": [
    "list_that_will_diasappear = [1,2,3,4]\n",
    "del list_that_will_diasappear\n",
    "print(list_that_will_diasappear) #obviously an error will occur"
   ]
  },
  {
   "cell_type": "code",
   "execution_count": 248,
   "metadata": {},
   "outputs": [
    {
     "name": "stdout",
     "output_type": "stream",
     "text": [
      "Starting list: [1, 2, 3, 4, 5, 6, 7, 8, 9, 10]\n",
      ".append()\n",
      "[1, 2, 3, 4, 5, 6, 7, 8, 9, 10, 11]\n",
      ".copy()\n",
      "copied list: [1, 2, 3, 4, 5, 6, 7, 8, 9, 10, 11]\n",
      ".count()\n",
      "1\n",
      ".index()\n",
      ".pop()\n",
      "[1, 2, 3, 4, 5, 6, 7, 8, 9, 10]\n",
      ".remove()\n",
      "[2, 3, 4, 5, 6, 7, 8, 9, 10]\n",
      ".reverse()\n",
      "[10, 9, 8, 7, 6, 5, 4, 3, 2]\n",
      "Now that we have been reverse all the elements, we are going to re-reverse them with l[::-1]\n",
      "[2, 3, 4, 5, 6, 7, 8, 9, 10]\n",
      ".sort()\n",
      "let's change our list in [1, 4, 5, 62, 8, 2, 42, 63, 65, 13]\n",
      "Our list becomes [1, 4, 5, 62, 8, 2, 42, 63, 65, 13]\n",
      "['Carlo', 'Faraday', 'Gates', 'Hawking', 'Jobs', 'armostrong', 'kafka', 'musk']\n"
     ]
    }
   ],
   "source": [
    "\"\"\"\n",
    "The easiest one will be explained here\n",
    ".append(<value>) add to the list the given value\n",
    ".clear() remove all the elements\n",
    ".copy() return a copy (as the prevoius .copy())\n",
    ".count(value) return how many times the given value repeats\n",
    ".index(<value>) return value's index\n",
    ".pop(<index>) remove the index's value. If non index given it will use the index -1\n",
    ".remove(<index>) remove the given value from the list. Error if no value given\n",
    ".reverse() reverse the list. This is a change that will persist\n",
    ".sort() trasform a dirdered list into a alphabetical ordered list (from strings that start with \"A\" to strings that finish in \"Z\" and frmo \"a\" to \"z\") or a numeral ordered list (from smallest number to the biggest one).\n",
    "\n",
    "\"\"\"\n",
    "l = [x for x in range(1,11)]\n",
    "print(\"Starting list:\",l)\n",
    "#.append()\n",
    "print(\".append()\")\n",
    "l.append(11)\n",
    "print(l)\n",
    "#.copy()\n",
    "print(\".copy()\")\n",
    "lcopy=l.copy()\n",
    "print(\"copied list:\", lcopy)\n",
    "#.countp\n",
    "print(\".count()\")\n",
    "print(l.count(10))\n",
    "#.index\n",
    "print(\".index()\")\n",
    "l.index(4)\n",
    "#.pop()\n",
    "print(\".pop()\")\n",
    "l.pop()\n",
    "print(l)\n",
    "#.remove()\n",
    "print(\".remove()\")\n",
    "l.remove(1)\n",
    "print(l)\n",
    "#.reverse()\n",
    "print(\".reverse()\")\n",
    "l.reverse()\n",
    "print(l)\n",
    "print(\"Now that we have been reverse all the elements, we are going to re-reverse them with l[::-1]\")\n",
    "print(l[::-1])\n",
    "#.sort\n",
    "print(\".sort()\")\n",
    "disordered_l=[1,4,5,62,8,2,42,63,65,13]\n",
    "print(\"let's change our list in\",disordered_l)\n",
    "l.sort()\n",
    "print(\"Our list becomes\",disordered_l)\n",
    "disordered_l=[\"Carlo\",\"kafka\",\"Faraday\",\"Hawking\",\"musk\",\"Gates\",\"Jobs\",\"armostrong\"]\n",
    "disordered_l.sort()\n",
    "print(disordered_l (\"In ascii there we find the upper case letter at first than there are the lower case\"))"
   ]
  },
  {
   "cell_type": "code",
   "execution_count": 249,
   "metadata": {},
   "outputs": [
    {
     "data": {
      "text/plain": [
       "['h', 'e', 'l', 'l', 'o', ' ', 'w', 'o', 'r', 'l', 'd', '!']"
      ]
     },
     "execution_count": 249,
     "metadata": {},
     "output_type": "execute_result"
    }
   ],
   "source": [
    "#now let's pass to the 2 function that I find more complicated\n",
    "#.exted()\n",
    "\"\"\"\n",
    "append each value of an iterable datatype (str,list,...)\n",
    "\"\"\"\n",
    "l = []\n",
    "l.extend(\"hello world!\")\n",
    "l\n"
   ]
  },
  {
   "cell_type": "code",
   "execution_count": 252,
   "metadata": {},
   "outputs": [
    {
     "data": {
      "text/plain": [
       "[1, 2, 3, \"let's add the 5 at index -2\", 4, 6]"
      ]
     },
     "execution_count": 252,
     "metadata": {},
     "output_type": "execute_result"
    }
   ],
   "source": [
    "#.insert()\n",
    "\"\"\"\n",
    "add at the given index the given value\n",
    "\"\"\"\n",
    "l=[1,2,3,4,6]\n",
    "l.insert(-2,\"let's add the 5 at index -2\")\n",
    "l"
   ]
  }
 ],
 "metadata": {
  "kernelspec": {
   "display_name": "Python 3",
   "language": "python",
   "name": "python3"
  },
  "language_info": {
   "codemirror_mode": {
    "name": "ipython",
    "version": 3
   },
   "file_extension": ".py",
   "mimetype": "text/x-python",
   "name": "python",
   "nbconvert_exporter": "python",
   "pygments_lexer": "ipython3",
   "version": "3.7.6"
  }
 },
 "nbformat": 4,
 "nbformat_minor": 4
}
