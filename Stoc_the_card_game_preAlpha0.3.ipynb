{
 "cells": [
  {
   "cell_type": "markdown",
   "metadata": {},
   "source": [
    "Stoc 29/06/2020"
   ]
  },
  {
   "cell_type": "code",
   "execution_count": 120,
   "metadata": {},
   "outputs": [],
   "source": [
    "\"\"\"\n",
    "I fixed yesterdays turn but i've figured out that there are tons of passages each turn so I need more time to code.\n",
    "\"\"\"\n",
    "import random\n",
    "\n",
    "suits = ('Hearts', 'Diamonds', 'Spades', 'Clubs')\n",
    "ranks = (\"Ace\",'Two', 'Three', 'Four', 'Five', 'Six', 'Seven', 'Jack', 'Queen', 'King')\n",
    "\n",
    "deck = []\n",
    "for suit in suits:\n",
    "    for rank in ranks:\n",
    "        deck.append(f\"{rank} of {suit}\")\n",
    "random.shuffle(deck)\n",
    "\n",
    "pl1_cov_hand = deck[:20]\n",
    "pl1_uncov_hand = []\n",
    "cpu_cov_hand = deck[20:]\n",
    "cpu_uncov_hand = []\n",
    "hearts = []\n",
    "diamonds = []\n",
    "spades = []\n",
    "clubs = []\n",
    "\n",
    "def pl1_card_manage(card):\n",
    "    cpu_card = cpu_uncov_hand[-1]\n",
    "    \n",
    "    if ranks.index(card.split(\" \")[0])-ranks.index(cpu_card.split(\" \")[0])==1:\n",
    "        cpu_uncov_hand.append(card)\n",
    "    else:\n",
    "        pl1_uncov_hand.append(card)\n",
    "\n",
    "def cpu_card_manage():\n",
    "    if ranks.index(card.split(\" \")[0])-ranks.index(pl1_card.split(\" \")[0])==1:\n",
    "        pl1_uncov_hand.append(card)\n",
    "    else:\n",
    "        cpu_uncov_hand.append(card)\n",
    "    \n",
    "\n",
    "def pl1_play():\n",
    "    \"\"\"\n",
    "    Changing globally\n",
    "    Check if the player won\n",
    "    draw a card\n",
    "    check what to do with the card\n",
    "    \"\"\"\n",
    "    #changing global lists\n",
    "    global pl1_cov_hand,pl1_uncov_hand,cpu_cov_hand,cpu_uncov_hand\n",
    "    \n",
    "    #this for loop checks if the player won or has to turn the deck\n",
    "    if len(pl1_cov_hand) == 0:\n",
    "        if len(pl1_uncov_hand) == 0:\n",
    "            print(\"Player 1 won\")\n",
    "        else:\n",
    "            pl1_cov_hand = pl1_uncov_hand\n",
    "            pl1_uncov_hand = []\n",
    "        \n",
    "    card = pl1_cov_hand.pop()\n",
    "            \n",
    "    if len(pl1_uncov_hand) != 0:\n",
    "        pl1_card_manage(card)\n",
    "    else:\n",
    "        pl1_uncov_hand.append(card)\n",
    "\n",
    "    \n",
    "    print(f\"Card: {card}\\nCovered deck: {len(pl1_cov_hand)}\\tUncovered deck: {len(pl1_uncov_hand)}\\t Total card:{len(pl1_cov_hand)+len(pl1_uncov_hand)}\")\n",
    "    \n",
    "\n",
    "    \n",
    "def cpu_play():\n",
    "    global pl1_cov_hand,pl1_uncov_hand,cpu_cov_hand,cpu_uncov_hand\n",
    "    \n",
    "    if len(cpu_cov_hand) == 0:\n",
    "        if len(cpu_uncov_hand) == 0:\n",
    "            print(\"Player 1 won\")\n",
    "        else:\n",
    "            cpu_cov_hand = cpu_uncov_hand\n",
    "            cpu_uncov_hand = []\n",
    "    \n",
    "    card = cpu_cov_hand.pop()\n",
    "    \n",
    "    if len(pl1_uncov_hand) != 0: #because at the first turn there is no showed cards, it checks if there is a card. If yes check if you can put the drawn card on the last cpu's card, else add to yours. If there is no card (second else) just add to your cards\n",
    "        pl1_card = pl1_uncov_hand[-1]\n",
    "        if ranks.index(card.split(\" \")[0])-ranks.index(pl1_card.split(\" \")[0])==1:\n",
    "            pl1_uncov_hand.append(card)\n",
    "        else:\n",
    "            cpu_uncov_hand.append(card)\n",
    "    else:\n",
    "        cpu_uncov_hand.append(card)\n",
    "        \n",
    "    print(f\"Card: {card}\\nCovered deck: {len(cpu_cov_hand)}\\tUncovered deck: {len(cpu_uncov_hand)}\\t Total card:{len(cpu_cov_hand)+len(cpu_uncov_hand)}\")"
   ]
  },
  {
   "cell_type": "code",
   "execution_count": 122,
   "metadata": {},
   "outputs": [
    {
     "ename": "IndexError",
     "evalue": "list index out of range",
     "output_type": "error",
     "traceback": [
      "\u001b[1;31m---------------------------------------------------------------------------\u001b[0m",
      "\u001b[1;31mIndexError\u001b[0m                                Traceback (most recent call last)",
      "\u001b[1;32m<ipython-input-122-c10e77e4f197>\u001b[0m in \u001b[0;36m<module>\u001b[1;34m\u001b[0m\n\u001b[1;32m----> 1\u001b[1;33m \u001b[0mpl1_play\u001b[0m\u001b[1;33m(\u001b[0m\u001b[1;33m)\u001b[0m\u001b[1;33m\u001b[0m\u001b[1;33m\u001b[0m\u001b[0m\n\u001b[0m\u001b[0;32m      2\u001b[0m \u001b[0mprint\u001b[0m\u001b[1;33m(\u001b[0m\u001b[0mpl1_cov_hand\u001b[0m\u001b[1;33m)\u001b[0m\u001b[1;33m\u001b[0m\u001b[1;33m\u001b[0m\u001b[0m\n\u001b[0;32m      3\u001b[0m \u001b[0mprint\u001b[0m\u001b[1;33m(\u001b[0m\u001b[1;34m\"\\n\\n\"\u001b[0m\u001b[1;33m)\u001b[0m\u001b[1;33m\u001b[0m\u001b[1;33m\u001b[0m\u001b[0m\n\u001b[0;32m      4\u001b[0m \u001b[0mprint\u001b[0m\u001b[1;33m(\u001b[0m\u001b[0mpl1_uncov_hand\u001b[0m\u001b[1;33m)\u001b[0m\u001b[1;33m\u001b[0m\u001b[1;33m\u001b[0m\u001b[0m\n",
      "\u001b[1;32m<ipython-input-120-1bdbc3846365>\u001b[0m in \u001b[0;36mpl1_play\u001b[1;34m()\u001b[0m\n\u001b[0;32m     59\u001b[0m \u001b[1;33m\u001b[0m\u001b[0m\n\u001b[0;32m     60\u001b[0m     \u001b[1;32mif\u001b[0m \u001b[0mlen\u001b[0m\u001b[1;33m(\u001b[0m\u001b[0mpl1_uncov_hand\u001b[0m\u001b[1;33m)\u001b[0m \u001b[1;33m!=\u001b[0m \u001b[1;36m0\u001b[0m\u001b[1;33m:\u001b[0m\u001b[1;33m\u001b[0m\u001b[1;33m\u001b[0m\u001b[0m\n\u001b[1;32m---> 61\u001b[1;33m         \u001b[0mpl1_card_manage\u001b[0m\u001b[1;33m(\u001b[0m\u001b[0mcard\u001b[0m\u001b[1;33m)\u001b[0m\u001b[1;33m\u001b[0m\u001b[1;33m\u001b[0m\u001b[0m\n\u001b[0m\u001b[0;32m     62\u001b[0m     \u001b[1;32melse\u001b[0m\u001b[1;33m:\u001b[0m\u001b[1;33m\u001b[0m\u001b[1;33m\u001b[0m\u001b[0m\n\u001b[0;32m     63\u001b[0m         \u001b[0mpl1_uncov_hand\u001b[0m\u001b[1;33m.\u001b[0m\u001b[0mappend\u001b[0m\u001b[1;33m(\u001b[0m\u001b[0mcard\u001b[0m\u001b[1;33m)\u001b[0m\u001b[1;33m\u001b[0m\u001b[1;33m\u001b[0m\u001b[0m\n",
      "\u001b[1;32m<ipython-input-120-1bdbc3846365>\u001b[0m in \u001b[0;36mpl1_card_manage\u001b[1;34m(card)\u001b[0m\n\u001b[0;32m     24\u001b[0m \u001b[1;33m\u001b[0m\u001b[0m\n\u001b[0;32m     25\u001b[0m \u001b[1;32mdef\u001b[0m \u001b[0mpl1_card_manage\u001b[0m\u001b[1;33m(\u001b[0m\u001b[0mcard\u001b[0m\u001b[1;33m)\u001b[0m\u001b[1;33m:\u001b[0m\u001b[1;33m\u001b[0m\u001b[1;33m\u001b[0m\u001b[0m\n\u001b[1;32m---> 26\u001b[1;33m     \u001b[0mcpu_card\u001b[0m \u001b[1;33m=\u001b[0m \u001b[0mcpu_uncov_hand\u001b[0m\u001b[1;33m[\u001b[0m\u001b[1;33m-\u001b[0m\u001b[1;36m1\u001b[0m\u001b[1;33m]\u001b[0m\u001b[1;33m\u001b[0m\u001b[1;33m\u001b[0m\u001b[0m\n\u001b[0m\u001b[0;32m     27\u001b[0m \u001b[1;33m\u001b[0m\u001b[0m\n\u001b[0;32m     28\u001b[0m     \u001b[1;32mif\u001b[0m \u001b[0mranks\u001b[0m\u001b[1;33m.\u001b[0m\u001b[0mindex\u001b[0m\u001b[1;33m(\u001b[0m\u001b[0mcard\u001b[0m\u001b[1;33m.\u001b[0m\u001b[0msplit\u001b[0m\u001b[1;33m(\u001b[0m\u001b[1;34m\" \"\u001b[0m\u001b[1;33m)\u001b[0m\u001b[1;33m[\u001b[0m\u001b[1;36m0\u001b[0m\u001b[1;33m]\u001b[0m\u001b[1;33m)\u001b[0m\u001b[1;33m-\u001b[0m\u001b[0mranks\u001b[0m\u001b[1;33m.\u001b[0m\u001b[0mindex\u001b[0m\u001b[1;33m(\u001b[0m\u001b[0mcpu_card\u001b[0m\u001b[1;33m.\u001b[0m\u001b[0msplit\u001b[0m\u001b[1;33m(\u001b[0m\u001b[1;34m\" \"\u001b[0m\u001b[1;33m)\u001b[0m\u001b[1;33m[\u001b[0m\u001b[1;36m0\u001b[0m\u001b[1;33m]\u001b[0m\u001b[1;33m)\u001b[0m\u001b[1;33m==\u001b[0m\u001b[1;36m1\u001b[0m\u001b[1;33m:\u001b[0m\u001b[1;33m\u001b[0m\u001b[1;33m\u001b[0m\u001b[0m\n",
      "\u001b[1;31mIndexError\u001b[0m: list index out of range"
     ]
    }
   ],
   "source": [
    "pl1_play()\n",
    "print(pl1_cov_hand)\n",
    "print(\"\\n\\n\")\n",
    "print(pl1_uncov_hand)"
   ]
  },
  {
   "cell_type": "code",
   "execution_count": 114,
   "metadata": {},
   "outputs": [
    {
     "name": "stdout",
     "output_type": "stream",
     "text": [
      "Card: Jack of Hearts\n",
      "Covered deck: 19\tUncovered deck: 1\t Total card:20\n",
      "['Seven of Spades', 'Five of Hearts', 'Seven of Hearts', 'Four of Clubs', 'King of Hearts', 'Queen of Diamonds', 'King of Spades', 'Two of Hearts', 'Four of Diamonds', 'Three of Diamonds', 'Three of Hearts', 'Three of Clubs', 'Four of Hearts', 'Six of Spades', 'Seven of Clubs', 'Jack of Clubs', 'Six of Hearts', 'Five of Spades', 'Four of Spades']\n",
      "\n",
      "\n",
      "\n",
      "['Jack of Hearts']\n"
     ]
    }
   ],
   "source": [
    "cpu_play()\n",
    "print(cpu_cov_hand)\n",
    "print(\"\\n\\n\")\n",
    "print(cpu_uncov_hand)"
   ]
  },
  {
   "cell_type": "code",
   "execution_count": 40,
   "metadata": {},
   "outputs": [],
   "source": [
    "\"\"\"\n",
    "Redo:\n",
    "Do I have uncovered card? \n",
    "Yes:\n",
    "    Consider it\n",
    "    Manage it\n",
    "    Can I put the card in the middle?\n",
    "    Yes:\n",
    "        Add it in the middle and remove from mines\n",
    "        Draw another card\n",
    "    No:\n",
    "        Does cpu have uncovered cards?\n",
    "        Yes:\n",
    "            Can I put the card to cpu uncovered card?\n",
    "            Yes:\n",
    "                Add it to cpu uncovered and remove from mines\n",
    "            No:\n",
    "                Add to my uncovered card\n",
    "        \n",
    "No:\n",
    "    Draw a card from covered cards\n",
    "    Manage it\n",
    "    Can I put the card in the middle?\n",
    "    Yes:\n",
    "        Add it in the middle and remove from mines\n",
    "        Draw another card\n",
    "    No:\n",
    "        Does cpu have uncovered cards?\n",
    "        Yes:\n",
    "            Can I put the card to cpu uncovered card?\n",
    "            Yes:\n",
    "                Add it to cpu uncovered and remove from mines\n",
    "            No:\n",
    "                Add to my uncovered card\n",
    "\"\"\"\n",
    "#making and shuffling the deck\n",
    "import random\n",
    "\n",
    "suits = ('Hearts', 'Diamonds', 'Spades', 'Clubs')\n",
    "ranks = (\"Ace\",'Two', 'Three', 'Four', 'Five', 'Six', 'Seven', 'Jack', 'Queen', 'King')\n",
    "\n",
    "deck = []\n",
    "for suit in suits:\n",
    "    for rank in ranks:\n",
    "        deck.append(f\"{rank} of {suit}\")\n",
    "random.shuffle(deck)\n",
    "    \n",
    "pl1_cov_hand = deck[:20]\n",
    "pl1_uncov_hand = []\n",
    "cpu_cov_hand = deck[20:]\n",
    "cpu_uncov_hand = []\n",
    "\n",
    "hearts = []\n",
    "diamonds = []\n",
    "spades = []\n",
    "clubs = []\n",
    "\n",
    " "
   ]
  },
  {
   "cell_type": "code",
   "execution_count": 12,
   "metadata": {},
   "outputs": [],
   "source": [
    "import random\n",
    "\n",
    "suits = ('Hearts', 'Diamonds', 'Spades', 'Clubs')\n",
    "ranks = (\"Ace\",'Two', 'Three', 'Four', 'Five', 'Six', 'Seven', 'Jack', 'Queen', 'King')\n",
    "\n",
    "deck = []\n",
    "for suit in suits:\n",
    "    for rank in ranks:\n",
    "        deck.append(f\"{rank} of {suit}\")\n",
    "random.shuffle(deck)\n",
    "    \n",
    "pl1_cov_hand = deck[:20]\n",
    "pl1_uncov_hand = []\n",
    "cpu_cov_hand = deck[20:]\n",
    "cpu_uncov_hand = []\n",
    "\n",
    "hearts = []\n",
    "diamonds = []\n",
    "spades = []\n",
    "clubs = []\n",
    "\n",
    "\n",
    "def pl1_manage(card):\n",
    "    global pl1_cov_hand,pl1_uncov_hand,cpu_cov_hand,cpu_uncov_hand,hearts,diamonds,spades,clubs\n",
    "    \n",
    "    if ranks.index(card.split(\" \")[0])+1-len(hearts) == 1 and card.split(\" \")[2] == \"Hearts\":\n",
    "        hearts.append(card)\n",
    "    elif ranks.index(card.split(\" \")[0])+1-len(diamonds) == 1 and card.split(\" \")[2] == \"Hearts\":\n",
    "        diamonds.append(card)\n",
    "    elif ranks.index(card.split(\" \")[0])+1-len(spades) == 1 and card.split(\" \")[2] == \"Hearts\":\n",
    "        spades.append(card)\n",
    "    elif ranks.index(card.split(\" \")[0])+1-len(clubs) == 1 and card.split(\" \")[2] == \"Hearts\":\n",
    "        clubs.append(card)\n",
    "    elif len(cpu_uncov_hand) != 0 and ranks.index(card.split(\" \")[0])-ranks.index(cpu_card.split(\" \")[0])==1:\n",
    "        cpu_uncov_hand.append(card)\n",
    "    else:\n",
    "        pl1_uncov_hand.append(card)\n",
    "        \n",
    "def cpu_manage(card):\n",
    "    global pl1_cov_hand,pl1_uncov_hand,cpu_cov_hand,cpu_uncov_hand,hearts,diamonds,spades,clubs\n",
    "    \n",
    "    if ranks.index(card.split(\" \")[0])-len(hearts) == 1 and card.split(\" \")[2] == \"Hearts\":\n",
    "        hearts.append(card)\n",
    "    elif ranks.index(card.split(\" \")[0])-len(diamonds) == 1 and card.split(\" \")[2] == \"Hearts\":\n",
    "        diamonds.append(card)\n",
    "    elif ranks.index(card.split(\" \")[0])-len(spades) == 1 and card.split(\" \")[2] == \"Hearts\":\n",
    "        spades.append(card)\n",
    "    elif ranks.index(card.split(\" \")[0])-len(clubs) == 1 and card.split(\" \")[2] == \"Hearts\":\n",
    "        clubs.append(card)\n",
    "    elif len(cpu_uncov_hand) != 0 and ranks.index(card.split(\" \")[0])-ranks.index(pl1_card.split(\" \")[0])==1:\n",
    "        pl1_uncov_hand.append(card)\n",
    "    else:\n",
    "        cpu_uncov_hand.append(card)\n",
    "        \n",
    "\n",
    "def checker():\n",
    "    global pl1_cov_hand,pl1_uncov_hand,cpu_cov_hand,cpu_uncov_hand\n",
    "    if len(pl1_cov_hand) == 0 and len(pl1_uncov_hand) == 0:\n",
    "        print(\"Player 1 WON!!!!\")\n",
    "    elif len(cpu_cov_hand) == 0 and len(cpu_uncov_hand) == 0:\n",
    "        print(\"CPU WON!!!!\")\n",
    "    elif len(pl1_cov_hand) == 0:\n",
    "        pl1_cov_hand = pl1_uncov_hand\n",
    "        pl1_uncov_hand = []\n",
    "    elif len(cpu_cov_hand) == 0:\n",
    "        cpu_cov_hand, cpu_uncov_hand = cpu_uncov_hand, []\n",
    "       \n",
    "        \n",
    "def pl1_plays():\n",
    "    if len(pl1_uncov_hand) != 0:\n",
    "        card = pl1_uncov_hand.pop()\n",
    "    else:\n",
    "        card = pl1_cov_hand.pop()\n",
    "    pl1_manage(card)\n",
    "    \n",
    "    print(f\"{len(pl1_cov_hand)}\\t{len(pl1_uncov_hand)}\")\n",
    "\n",
    "\"\"\"\n",
    "def pl1_plays():\n",
    "    \n",
    "    \n",
    "    if len(pl1_uncov_hand) != 0:\n",
    "        if len(cpu_uncov_hand)!= 0:\n",
    "            cpu_card = cpu_uncov_hand.pop()\n",
    "        card = pl1_uncov_hand.pop()\n",
    "        pl1_manage(card)\n",
    "        card = pl1_cov_hand.pop()\n",
    "        pl1_manage(card)\n",
    "        print(pl1_cov_hand,len(pl1_cov_hand),len(pl1_uncov_hand))\n",
    "    else:\n",
    "        if len(cpu_uncov_hand) != 0:\n",
    "            cpu_card = cpu_uncov_hand.pop()\n",
    "        print(pl1_cov_hand,len(pl1_cov_hand),len(pl1_uncov_hand))\n",
    "        card = pl1_cov_hand.pop()\n",
    "        pl1_manage(card)\n",
    "    \n",
    "        \n",
    "            \n",
    "    checker()\n",
    "\"\"\"            \n",
    "            \n",
    "def cpu_plays():\n",
    "    \n",
    "    \n",
    "    if len(cpu_uncov_hand) != 0:\n",
    "        if len(pl1_uncov_hand)!= 0:\n",
    "            pl1_card = pl1_uncov_hand.pop()\n",
    "        card = cpu_uncov_hand.pop()\n",
    "        cpu_manage(card)\n",
    "        card = cpu_cov_hand.pop()\n",
    "        cpu_manage(card)\n",
    "        print(cpu_cov_hand,len(cpu_cov_hand),len(cpu_uncov_hand))\n",
    "    else:\n",
    "        if len(pl1_uncov_hand) != 0:\n",
    "            pl1_card = pl1_uncov_hand.pop()\n",
    "        print(cpu_cov_hand,len(cpu_cov_hand),len(cpu_uncov_hand))\n",
    "        card = cpu_cov_hand.pop()\n",
    "        cpu_manage(card)\n",
    "    \n",
    "    checker()\n",
    "    \n",
    "    print(f\"{len(pl1_cov_hand)}\\t{pl1_uncov_hand}\")\n",
    "        \n",
    "    \n",
    "    \n",
    "\n",
    "    "
   ]
  },
  {
   "cell_type": "code",
   "execution_count": 15,
   "metadata": {},
   "outputs": [
    {
     "name": "stdout",
     "output_type": "stream",
     "text": [
      "19\t1\n"
     ]
    }
   ],
   "source": [
    "pl1_plays()"
   ]
  },
  {
   "cell_type": "code",
   "execution_count": 85,
   "metadata": {},
   "outputs": [
    {
     "ename": "NameError",
     "evalue": "name 'pl1_card' is not defined",
     "output_type": "error",
     "traceback": [
      "\u001b[1;31m---------------------------------------------------------------------------\u001b[0m",
      "\u001b[1;31mNameError\u001b[0m                                 Traceback (most recent call last)",
      "\u001b[1;32m<ipython-input-85-7cceb13a636b>\u001b[0m in \u001b[0;36m<module>\u001b[1;34m\u001b[0m\n\u001b[1;32m----> 1\u001b[1;33m \u001b[0mcpu_plays\u001b[0m\u001b[1;33m(\u001b[0m\u001b[1;33m)\u001b[0m\u001b[1;33m\u001b[0m\u001b[1;33m\u001b[0m\u001b[0m\n\u001b[0m",
      "\u001b[1;32m<ipython-input-77-316d57782a16>\u001b[0m in \u001b[0;36mcpu_plays\u001b[1;34m()\u001b[0m\n\u001b[0;32m     99\u001b[0m         \u001b[0mcpu_manage\u001b[0m\u001b[1;33m(\u001b[0m\u001b[0mcard\u001b[0m\u001b[1;33m)\u001b[0m\u001b[1;33m\u001b[0m\u001b[1;33m\u001b[0m\u001b[0m\n\u001b[0;32m    100\u001b[0m         \u001b[0mcard\u001b[0m \u001b[1;33m=\u001b[0m \u001b[0mcpu_cov_hand\u001b[0m\u001b[1;33m.\u001b[0m\u001b[0mpop\u001b[0m\u001b[1;33m(\u001b[0m\u001b[1;33m)\u001b[0m\u001b[1;33m\u001b[0m\u001b[1;33m\u001b[0m\u001b[0m\n\u001b[1;32m--> 101\u001b[1;33m         \u001b[0mcpu_manage\u001b[0m\u001b[1;33m(\u001b[0m\u001b[0mcard\u001b[0m\u001b[1;33m)\u001b[0m\u001b[1;33m\u001b[0m\u001b[1;33m\u001b[0m\u001b[0m\n\u001b[0m\u001b[0;32m    102\u001b[0m         \u001b[0mprint\u001b[0m\u001b[1;33m(\u001b[0m\u001b[0mcpu_cov_hand\u001b[0m\u001b[1;33m,\u001b[0m\u001b[0mlen\u001b[0m\u001b[1;33m(\u001b[0m\u001b[0mcpu_cov_hand\u001b[0m\u001b[1;33m)\u001b[0m\u001b[1;33m,\u001b[0m\u001b[0mlen\u001b[0m\u001b[1;33m(\u001b[0m\u001b[0mcpu_uncov_hand\u001b[0m\u001b[1;33m)\u001b[0m\u001b[1;33m)\u001b[0m\u001b[1;33m\u001b[0m\u001b[1;33m\u001b[0m\u001b[0m\n\u001b[0;32m    103\u001b[0m     \u001b[1;32melse\u001b[0m\u001b[1;33m:\u001b[0m\u001b[1;33m\u001b[0m\u001b[1;33m\u001b[0m\u001b[0m\n",
      "\u001b[1;32m<ipython-input-77-316d57782a16>\u001b[0m in \u001b[0;36mcpu_manage\u001b[1;34m(card)\u001b[0m\n\u001b[0;32m     47\u001b[0m     \u001b[1;32melif\u001b[0m \u001b[0mranks\u001b[0m\u001b[1;33m.\u001b[0m\u001b[0mindex\u001b[0m\u001b[1;33m(\u001b[0m\u001b[0mcard\u001b[0m\u001b[1;33m.\u001b[0m\u001b[0msplit\u001b[0m\u001b[1;33m(\u001b[0m\u001b[1;34m\" \"\u001b[0m\u001b[1;33m)\u001b[0m\u001b[1;33m[\u001b[0m\u001b[1;36m0\u001b[0m\u001b[1;33m]\u001b[0m\u001b[1;33m)\u001b[0m\u001b[1;33m-\u001b[0m\u001b[0mlen\u001b[0m\u001b[1;33m(\u001b[0m\u001b[0mclubs\u001b[0m\u001b[1;33m)\u001b[0m \u001b[1;33m==\u001b[0m \u001b[1;36m1\u001b[0m \u001b[1;32mand\u001b[0m \u001b[0mcard\u001b[0m\u001b[1;33m.\u001b[0m\u001b[0msplit\u001b[0m\u001b[1;33m(\u001b[0m\u001b[1;34m\" \"\u001b[0m\u001b[1;33m)\u001b[0m\u001b[1;33m[\u001b[0m\u001b[1;36m2\u001b[0m\u001b[1;33m]\u001b[0m \u001b[1;33m==\u001b[0m \u001b[1;34m\"Hearts\"\u001b[0m\u001b[1;33m:\u001b[0m\u001b[1;33m\u001b[0m\u001b[1;33m\u001b[0m\u001b[0m\n\u001b[0;32m     48\u001b[0m         \u001b[0mclubs\u001b[0m\u001b[1;33m.\u001b[0m\u001b[0mappend\u001b[0m\u001b[1;33m(\u001b[0m\u001b[0mcard\u001b[0m\u001b[1;33m)\u001b[0m\u001b[1;33m\u001b[0m\u001b[1;33m\u001b[0m\u001b[0m\n\u001b[1;32m---> 49\u001b[1;33m     \u001b[1;32melif\u001b[0m \u001b[0mlen\u001b[0m\u001b[1;33m(\u001b[0m\u001b[0mcpu_uncov_hand\u001b[0m\u001b[1;33m)\u001b[0m \u001b[1;33m!=\u001b[0m \u001b[1;36m0\u001b[0m \u001b[1;32mand\u001b[0m \u001b[0mranks\u001b[0m\u001b[1;33m.\u001b[0m\u001b[0mindex\u001b[0m\u001b[1;33m(\u001b[0m\u001b[0mcard\u001b[0m\u001b[1;33m.\u001b[0m\u001b[0msplit\u001b[0m\u001b[1;33m(\u001b[0m\u001b[1;34m\" \"\u001b[0m\u001b[1;33m)\u001b[0m\u001b[1;33m[\u001b[0m\u001b[1;36m0\u001b[0m\u001b[1;33m]\u001b[0m\u001b[1;33m)\u001b[0m\u001b[1;33m-\u001b[0m\u001b[0mranks\u001b[0m\u001b[1;33m.\u001b[0m\u001b[0mindex\u001b[0m\u001b[1;33m(\u001b[0m\u001b[0mpl1_card\u001b[0m\u001b[1;33m.\u001b[0m\u001b[0msplit\u001b[0m\u001b[1;33m(\u001b[0m\u001b[1;34m\" \"\u001b[0m\u001b[1;33m)\u001b[0m\u001b[1;33m[\u001b[0m\u001b[1;36m0\u001b[0m\u001b[1;33m]\u001b[0m\u001b[1;33m)\u001b[0m\u001b[1;33m==\u001b[0m\u001b[1;36m1\u001b[0m\u001b[1;33m:\u001b[0m\u001b[1;33m\u001b[0m\u001b[1;33m\u001b[0m\u001b[0m\n\u001b[0m\u001b[0;32m     50\u001b[0m         \u001b[0mpl1_uncov_hand\u001b[0m\u001b[1;33m.\u001b[0m\u001b[0mappend\u001b[0m\u001b[1;33m(\u001b[0m\u001b[0mcard\u001b[0m\u001b[1;33m)\u001b[0m\u001b[1;33m\u001b[0m\u001b[1;33m\u001b[0m\u001b[0m\n\u001b[0;32m     51\u001b[0m     \u001b[1;32melse\u001b[0m\u001b[1;33m:\u001b[0m\u001b[1;33m\u001b[0m\u001b[1;33m\u001b[0m\u001b[0m\n",
      "\u001b[1;31mNameError\u001b[0m: name 'pl1_card' is not defined"
     ]
    }
   ],
   "source": [
    "cpu_plays()"
   ]
  },
  {
   "cell_type": "code",
   "execution_count": 82,
   "metadata": {},
   "outputs": [
    {
     "name": "stdout",
     "output_type": "stream",
     "text": [
      "[] [] [] [] \n",
      " 19 []\n"
     ]
    }
   ],
   "source": [
    "print(hearts,spades,clubs,diamonds,\"\\n\",len(cpu_cov_hand), cpu_uncov_hand)"
   ]
  },
  {
   "cell_type": "code",
   "execution_count": 56,
   "metadata": {},
   "outputs": [
    {
     "data": {
      "text/plain": [
       "0"
      ]
     },
     "execution_count": 56,
     "metadata": {},
     "output_type": "execute_result"
    }
   ],
   "source": [
    "ranks.index(\"Ace of Hearts\".split(\" \")[0])"
   ]
  },
  {
   "cell_type": "code",
   "execution_count": 119,
   "metadata": {},
   "outputs": [],
   "source": [
    "import random\n",
    "\n",
    "suits = ('Hearts', 'Diamonds', 'Spades', 'Clubs')\n",
    "ranks = (\"Ace\",'Two', 'Three', 'Four', 'Five', 'Six', 'Seven', 'Jack', 'Queen', 'King')\n",
    "values = {'Ace':1, 'Two':2, 'Three':3, 'Four':4, 'Five':5, 'Six':6, 'Seven':7, 'Jack':8, 'Queen':9, 'King':10}\n",
    "\n",
    "deck = []\n",
    "for suit in suits:\n",
    "    for rank in ranks:\n",
    "        deck.append(f\"{rank} of {suit}\")\n",
    "random.shuffle(deck)\n",
    "    \n",
    "pl1_cov_deck = deck[:20]\n",
    "pl1_uncov_deck = []\n",
    "cpu_cov_deck = deck[20:]\n",
    "cpu_uncov_deck = []\n",
    "\n",
    "hearts = []\n",
    "diamonds = []\n",
    "spades = []\n",
    "clubs = []\n",
    "\n",
    "def pl1_plays():\n",
    "    global pl1_cov_deck, pl1_uncov_deck,cpu_uncov_deck\n",
    "    card = pl1_cov_deck.pop()\n",
    "    if len(cpu_uncov_deck) != 0:\n",
    "        if values.get(card.split(\" \")[0]) - values.get(cpu_uncov_deck.pop().split())[0] == 1:\n",
    "            cpu_uncov_deck.append(card)\n",
    "    else:\n",
    "        pl1_uncov_deck.append(card)\n",
    "    if len(pl1_cov_deck) == 0 and len(pl1_uncov_deck) != 0:\n",
    "        pl1_cov_deck = pl1_uncov_deck.copy()\n",
    "        pl1_uncov_deck.clear()\n",
    "        \n",
    "def cpu_plays():\n",
    "    global cpu_cov_deck, cpu_uncov_deck,pl1_uncov_deck\n",
    "    card = cpu_cov_deck.pop()\n",
    "    \n",
    "    if values.get(card.split(\" \")[0]) - values.get(pl1_uncov_deck.pop().split())[0] == 1:\n",
    "            pl1_uncov_deck.append(card)\n",
    "    else:\n",
    "        cpu_uncov_deck.append(card)\n",
    "    if len(cpu_cov_deck) == 0 and len(cpu_uncov_deck) != 0:\n",
    "        cpu_cov_deck = cpu_uncov_deck.copy()\n",
    "        cpu_uncov_deck.clear()\n",
    "    "
   ]
  },
  {
   "cell_type": "code",
   "execution_count": 120,
   "metadata": {},
   "outputs": [],
   "source": [
    "pl1_plays()"
   ]
  },
  {
   "cell_type": "code",
   "execution_count": 121,
   "metadata": {},
   "outputs": [
    {
     "ename": "TypeError",
     "evalue": "unhashable type: 'list'",
     "output_type": "error",
     "traceback": [
      "\u001b[1;31m---------------------------------------------------------------------------\u001b[0m",
      "\u001b[1;31mTypeError\u001b[0m                                 Traceback (most recent call last)",
      "\u001b[1;32m<ipython-input-121-7cceb13a636b>\u001b[0m in \u001b[0;36m<module>\u001b[1;34m\u001b[0m\n\u001b[1;32m----> 1\u001b[1;33m \u001b[0mcpu_plays\u001b[0m\u001b[1;33m(\u001b[0m\u001b[1;33m)\u001b[0m\u001b[1;33m\u001b[0m\u001b[1;33m\u001b[0m\u001b[0m\n\u001b[0m",
      "\u001b[1;32m<ipython-input-119-fb77d902c298>\u001b[0m in \u001b[0;36mcpu_plays\u001b[1;34m()\u001b[0m\n\u001b[0;32m     37\u001b[0m     \u001b[0mcard\u001b[0m \u001b[1;33m=\u001b[0m \u001b[0mcpu_cov_deck\u001b[0m\u001b[1;33m.\u001b[0m\u001b[0mpop\u001b[0m\u001b[1;33m(\u001b[0m\u001b[1;33m)\u001b[0m\u001b[1;33m\u001b[0m\u001b[1;33m\u001b[0m\u001b[0m\n\u001b[0;32m     38\u001b[0m \u001b[1;33m\u001b[0m\u001b[0m\n\u001b[1;32m---> 39\u001b[1;33m     \u001b[1;32mif\u001b[0m \u001b[0mvalues\u001b[0m\u001b[1;33m.\u001b[0m\u001b[0mget\u001b[0m\u001b[1;33m(\u001b[0m\u001b[0mcard\u001b[0m\u001b[1;33m.\u001b[0m\u001b[0msplit\u001b[0m\u001b[1;33m(\u001b[0m\u001b[1;34m\" \"\u001b[0m\u001b[1;33m)\u001b[0m\u001b[1;33m[\u001b[0m\u001b[1;36m0\u001b[0m\u001b[1;33m]\u001b[0m\u001b[1;33m)\u001b[0m \u001b[1;33m-\u001b[0m \u001b[0mvalues\u001b[0m\u001b[1;33m.\u001b[0m\u001b[0mget\u001b[0m\u001b[1;33m(\u001b[0m\u001b[0mpl1_uncov_deck\u001b[0m\u001b[1;33m.\u001b[0m\u001b[0mpop\u001b[0m\u001b[1;33m(\u001b[0m\u001b[1;33m)\u001b[0m\u001b[1;33m.\u001b[0m\u001b[0msplit\u001b[0m\u001b[1;33m(\u001b[0m\u001b[1;33m)\u001b[0m\u001b[1;33m)\u001b[0m\u001b[1;33m[\u001b[0m\u001b[1;36m0\u001b[0m\u001b[1;33m]\u001b[0m \u001b[1;33m==\u001b[0m \u001b[1;36m1\u001b[0m\u001b[1;33m:\u001b[0m\u001b[1;33m\u001b[0m\u001b[1;33m\u001b[0m\u001b[0m\n\u001b[0m\u001b[0;32m     40\u001b[0m             \u001b[0mpl1_uncov_deck\u001b[0m\u001b[1;33m.\u001b[0m\u001b[0mappend\u001b[0m\u001b[1;33m(\u001b[0m\u001b[0mcard\u001b[0m\u001b[1;33m)\u001b[0m\u001b[1;33m\u001b[0m\u001b[1;33m\u001b[0m\u001b[0m\n\u001b[0;32m     41\u001b[0m     \u001b[1;32melse\u001b[0m\u001b[1;33m:\u001b[0m\u001b[1;33m\u001b[0m\u001b[1;33m\u001b[0m\u001b[0m\n",
      "\u001b[1;31mTypeError\u001b[0m: unhashable type: 'list'"
     ]
    }
   ],
   "source": [
    "cpu_plays()"
   ]
  },
  {
   "cell_type": "code",
   "execution_count": 84,
   "metadata": {},
   "outputs": [
    {
     "data": {
      "text/plain": [
       "19"
      ]
     },
     "execution_count": 84,
     "metadata": {},
     "output_type": "execute_result"
    }
   ],
   "source": [
    "len(pl1_cov_deck)"
   ]
  },
  {
   "cell_type": "code",
   "execution_count": 85,
   "metadata": {},
   "outputs": [
    {
     "data": {
      "text/plain": [
       "['Ace of Hearts']"
      ]
     },
     "execution_count": 85,
     "metadata": {},
     "output_type": "execute_result"
    }
   ],
   "source": [
    "pl1_uncov_deck"
   ]
  },
  {
   "cell_type": "code",
   "execution_count": 91,
   "metadata": {},
   "outputs": [
    {
     "ename": "IndexError",
     "evalue": "pop from empty list",
     "output_type": "error",
     "traceback": [
      "\u001b[1;31m---------------------------------------------------------------------------\u001b[0m",
      "\u001b[1;31mIndexError\u001b[0m                                Traceback (most recent call last)",
      "\u001b[1;32m<ipython-input-91-7cceb13a636b>\u001b[0m in \u001b[0;36m<module>\u001b[1;34m\u001b[0m\n\u001b[1;32m----> 1\u001b[1;33m \u001b[0mcpu_plays\u001b[0m\u001b[1;33m(\u001b[0m\u001b[1;33m)\u001b[0m\u001b[1;33m\u001b[0m\u001b[1;33m\u001b[0m\u001b[0m\n\u001b[0m",
      "\u001b[1;32m<ipython-input-80-a8354e963d1b>\u001b[0m in \u001b[0;36mcpu_plays\u001b[1;34m()\u001b[0m\n\u001b[0;32m     37\u001b[0m     \u001b[0mcard\u001b[0m \u001b[1;33m=\u001b[0m \u001b[0mcpu_cov_deck\u001b[0m\u001b[1;33m.\u001b[0m\u001b[0mpop\u001b[0m\u001b[1;33m(\u001b[0m\u001b[1;33m)\u001b[0m\u001b[1;33m\u001b[0m\u001b[1;33m\u001b[0m\u001b[0m\n\u001b[0;32m     38\u001b[0m \u001b[1;33m\u001b[0m\u001b[0m\n\u001b[1;32m---> 39\u001b[1;33m     \u001b[1;32mif\u001b[0m \u001b[0mvalues\u001b[0m\u001b[1;33m.\u001b[0m\u001b[0mget\u001b[0m\u001b[1;33m(\u001b[0m\u001b[0mcard\u001b[0m\u001b[1;33m.\u001b[0m\u001b[0msplit\u001b[0m\u001b[1;33m(\u001b[0m\u001b[1;34m\" \"\u001b[0m\u001b[1;33m)\u001b[0m\u001b[1;33m[\u001b[0m\u001b[1;36m0\u001b[0m\u001b[1;33m]\u001b[0m\u001b[1;33m)\u001b[0m \u001b[1;33m-\u001b[0m \u001b[0mvalues\u001b[0m\u001b[1;33m.\u001b[0m\u001b[0mget\u001b[0m\u001b[1;33m(\u001b[0m\u001b[0mpl1_uncov_deck\u001b[0m\u001b[1;33m.\u001b[0m\u001b[0mpop\u001b[0m\u001b[1;33m(\u001b[0m\u001b[1;33m)\u001b[0m\u001b[1;33m.\u001b[0m\u001b[0msplit\u001b[0m\u001b[1;33m)\u001b[0m\u001b[1;33m[\u001b[0m\u001b[1;36m0\u001b[0m\u001b[1;33m]\u001b[0m \u001b[1;33m==\u001b[0m \u001b[1;36m1\u001b[0m\u001b[1;33m:\u001b[0m\u001b[1;33m\u001b[0m\u001b[1;33m\u001b[0m\u001b[0m\n\u001b[0m\u001b[0;32m     40\u001b[0m             \u001b[0mpl1_uncov_deck\u001b[0m\u001b[1;33m.\u001b[0m\u001b[0mappend\u001b[0m\u001b[1;33m(\u001b[0m\u001b[0mcard\u001b[0m\u001b[1;33m)\u001b[0m\u001b[1;33m\u001b[0m\u001b[1;33m\u001b[0m\u001b[0m\n\u001b[0;32m     41\u001b[0m     \u001b[1;32melse\u001b[0m\u001b[1;33m:\u001b[0m\u001b[1;33m\u001b[0m\u001b[1;33m\u001b[0m\u001b[0m\n",
      "\u001b[1;31mIndexError\u001b[0m: pop from empty list"
     ]
    }
   ],
   "source": [
    "cpu_plays()"
   ]
  },
  {
   "cell_type": "code",
   "execution_count": 262,
   "metadata": {},
   "outputs": [],
   "source": [
    "values.get(card.split(\" \")[0]) - values.get(cpu_uncov_deck.pop().split())[0] == 1:"
   ]
  },
  {
   "cell_type": "code",
   "execution_count": 263,
   "metadata": {},
   "outputs": [
    {
     "ename": "IndexError",
     "evalue": "list index out of range",
     "output_type": "error",
     "traceback": [
      "\u001b[1;31m---------------------------------------------------------------------------\u001b[0m",
      "\u001b[1;31mIndexError\u001b[0m                                Traceback (most recent call last)",
      "\u001b[1;32m<ipython-input-263-6bb69b153951>\u001b[0m in \u001b[0;36m<module>\u001b[1;34m\u001b[0m\n\u001b[1;32m----> 1\u001b[1;33m \u001b[0mpl1_play\u001b[0m\u001b[1;33m(\u001b[0m\u001b[1;33m)\u001b[0m\u001b[1;33m\u001b[0m\u001b[1;33m\u001b[0m\u001b[0m\n\u001b[0m",
      "\u001b[1;32m<ipython-input-262-aa242b549182>\u001b[0m in \u001b[0;36mpl1_play\u001b[1;34m()\u001b[0m\n\u001b[0;32m     11\u001b[0m     \u001b[0mcard\u001b[0m \u001b[1;33m=\u001b[0m \u001b[0mpl1_cov_hand\u001b[0m\u001b[1;33m.\u001b[0m\u001b[0mpop\u001b[0m\u001b[1;33m(\u001b[0m\u001b[1;33m)\u001b[0m\u001b[1;33m\u001b[0m\u001b[1;33m\u001b[0m\u001b[0m\n\u001b[0;32m     12\u001b[0m \u001b[1;33m\u001b[0m\u001b[0m\n\u001b[1;32m---> 13\u001b[1;33m     \u001b[0mcpu_card\u001b[0m \u001b[1;33m=\u001b[0m \u001b[0mcpu_uncov_hand\u001b[0m\u001b[1;33m[\u001b[0m\u001b[1;33m-\u001b[0m\u001b[1;36m1\u001b[0m\u001b[1;33m]\u001b[0m\u001b[1;33m\u001b[0m\u001b[1;33m\u001b[0m\u001b[0m\n\u001b[0m\u001b[0;32m     14\u001b[0m \u001b[1;33m\u001b[0m\u001b[0m\n\u001b[0;32m     15\u001b[0m     \u001b[1;32mtry\u001b[0m\u001b[1;33m:\u001b[0m\u001b[1;33m\u001b[0m\u001b[1;33m\u001b[0m\u001b[0m\n",
      "\u001b[1;31mIndexError\u001b[0m: list index out of range"
     ]
    }
   ],
   "source": [
    "pl1_play()"
   ]
  },
  {
   "cell_type": "code",
   "execution_count": 5,
   "metadata": {},
   "outputs": [],
   "source": [
    "\n"
   ]
  }
 ],
 "metadata": {
  "kernelspec": {
   "display_name": "Python 3",
   "language": "python",
   "name": "python3"
  },
  "language_info": {
   "codemirror_mode": {
    "name": "ipython",
    "version": 3
   },
   "file_extension": ".py",
   "mimetype": "text/x-python",
   "name": "python",
   "nbconvert_exporter": "python",
   "pygments_lexer": "ipython3",
   "version": "3.7.6"
  }
 },
 "nbformat": 4,
 "nbformat_minor": 4
}
