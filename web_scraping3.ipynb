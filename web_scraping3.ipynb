{
 "cells": [
  {
   "cell_type": "markdown",
   "metadata": {},
   "source": [
    "Web Scraping 19/06/2020"
   ]
  },
  {
   "cell_type": "code",
   "execution_count": 26,
   "metadata": {},
   "outputs": [
    {
     "name": "stdout",
     "output_type": "stream",
     "text": [
      "\n",
      "Page 1 of 50\n",
      "Title: A Light in the ...\tPrice: Â£51.77\tRating:\n",
      "\n",
      "Title: Tipping the Velvet\tPrice: Â£53.74\tRating:\n",
      "\n",
      "Title: Soumission\tPrice: Â£50.10\tRating:\n",
      "\n",
      "Title: Sharp Objects\tPrice: Â£47.82\tRating:\n",
      "\n",
      "Title: Sapiens: A Brief History ...\tPrice: Â£54.23\tRating:\n",
      "\n",
      "Title: The Requiem Red\tPrice: Â£22.65\tRating:\n",
      "\n",
      "Title: The Dirty Little Secrets ...\tPrice: Â£33.34\tRating:\n",
      "\n",
      "Title: The Coming Woman: A ...\tPrice: Â£17.93\tRating:\n",
      "\n",
      "Title: The Boys in the ...\tPrice: Â£22.60\tRating:\n",
      "\n",
      "Title: The Black Maria\tPrice: Â£52.15\tRating:\n",
      "\n",
      "Title: Starving Hearts (Triangular Trade ...\tPrice: Â£13.99\tRating:\n",
      "\n",
      "Title: Shakespeare's Sonnets\tPrice: Â£20.66\tRating:\n",
      "\n",
      "Title: Set Me Free\tPrice: Â£17.46\tRating:\n",
      "\n",
      "Title: Scott Pilgrim's Precious Little ...\tPrice: Â£52.29\tRating:\n",
      "\n",
      "Title: Rip it Up and ...\tPrice: Â£35.02\tRating:\n",
      "\n",
      "Title: Our Band Could Be ...\tPrice: Â£57.25\tRating:\n",
      "\n",
      "Title: Olio\tPrice: Â£23.88\tRating:\n",
      "\n",
      "Title: Mesaerion: The Best Science ...\tPrice: Â£37.59\tRating:\n",
      "\n",
      "Title: Libertarianism for Beginners\tPrice: Â£51.33\tRating:\n",
      "\n",
      "Title: It's Only the Himalayas\tPrice: Â£45.17\tRating:\n",
      "\n",
      "\n",
      "Page 2 of 50\n"
     ]
    }
   ],
   "source": [
    "\"\"\"\n",
    "Realistically, when we web scrape, we want to grab multiple information and also from different sites\n",
    "A site to practice web scraping is www.toscrape.com\n",
    "\"\"\"\n",
    "import requests,bs4\n",
    "\n",
    "for page in range(0,51):\n",
    "    req = requests.get(f\"http://books.toscrape.com/catalogue/page-{int(page)}.html\")\n",
    "    soup = bs4.BeautifulSoup(req.text,\"lxml\")\n",
    "    \n",
    "    title_counter = len(soup.select(\"h3\"))\n",
    "    title_list = []\n",
    "    for title in range(title_counter):\n",
    "        title_list.append(soup.select(\"h3\")[title].getText())\n",
    "\n",
    "    price_counter = len(soup.select(\".price_color\"))   \n",
    "    price_list = []\n",
    "    for price in range(price_counter):\n",
    "        price_list.append(soup.select(\".price_color\")[price].getText())\n",
    "\n",
    "    rating_counter = len(soup.select(\".price_color\"))   \n",
    "    rating_list = []\n",
    "    for rate in range(rating_counter):\n",
    "        price_list.append(soup.select(\".price_color\")[rate].getText())\n",
    "\n",
    "    for x in range(price_counter):\n",
    "        print(f\"Title: {title_list[x]}\\tPrice: {price_list[x]}\\tRating:\\n\")\n",
    "    \n",
    "    print()\n",
    "    print(f\"Page {page+1} of 50\")\n",
    "#As you can see I lefted the Rating stuff empty. Tomorrow I'll make a better version of this script. It depends from site to site. Because I understood after all that all the information are in a main class, tomorrow I'll use this \"feature\" to make a faster and more complete script.\n",
    "#The important thing is that we can see a lot of pages by using a for loop and the format module"
   ]
  }
 ],
 "metadata": {
  "kernelspec": {
   "display_name": "Python 3",
   "language": "python",
   "name": "python3"
  },
  "language_info": {
   "codemirror_mode": {
    "name": "ipython",
    "version": 3
   },
   "file_extension": ".py",
   "mimetype": "text/x-python",
   "name": "python",
   "nbconvert_exporter": "python",
   "pygments_lexer": "ipython3",
   "version": "3.7.6"
  }
 },
 "nbformat": 4,
 "nbformat_minor": 4
}
