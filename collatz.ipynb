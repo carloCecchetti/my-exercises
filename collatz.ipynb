{
 "cells": [
  {
   "cell_type": "code",
   "execution_count": 15,
   "metadata": {},
   "outputs": [],
   "source": [
    "#collatz conjecture\n",
    "\"\"\"\n",
    "Find the number of steps it takes to reach one using the following process: \n",
    "If n is even, divide it by 2. If n is odd, multiply it by 3 and add 1.\n",
    "\n",
    "till the number is 1: \n",
    "    if it's even \n",
    "        devide it by 2\n",
    "    else\n",
    "        devide it by 3 then add 1  \n",
    "\"\"\"\n",
    "\n",
    "def collatz(n):\n",
    "    counter = 0\n",
    "    \n",
    "    while n != 1:\n",
    "        if n % 2 == 0:\n",
    "            n/=2\n",
    "        else:\n",
    "            n=n*3+1\n",
    "        counter += 1\n",
    "        continue\n",
    "    \n",
    "    return counter"
   ]
  }
 ],
 "metadata": {
  "kernelspec": {
   "display_name": "Python 3",
   "language": "python",
   "name": "python3"
  },
  "language_info": {
   "codemirror_mode": {
    "name": "ipython",
    "version": 3
   },
   "file_extension": ".py",
   "mimetype": "text/x-python",
   "name": "python",
   "nbconvert_exporter": "python",
   "pygments_lexer": "ipython3",
   "version": "3.7.6"
  }
 },
 "nbformat": 4,
 "nbformat_minor": 4
}
