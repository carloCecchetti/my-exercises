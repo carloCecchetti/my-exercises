{
 "cells": [
  {
   "cell_type": "markdown",
   "metadata": {},
   "source": [
    "Collection module 27/05/2020"
   ]
  },
  {
   "cell_type": "code",
   "execution_count": 4,
   "metadata": {},
   "outputs": [
    {
     "data": {
      "text/plain": [
       "Counter({1: 4, 11: 1, 2: 6, 3: 4, 4: 1, 213: 1, 33: 1, 23: 1})"
      ]
     },
     "execution_count": 4,
     "metadata": {},
     "output_type": "execute_result"
    }
   ],
   "source": [
    "\"\"\"\n",
    "It implements a bounce of different datatype (counter,dafault,order, dict int)\n",
    "\"\"\"\n",
    "#1 Counter (A dictionary subclass)\n",
    "from collections import Counter\n",
    "l=[1,1,1,11,2,3,3,4,213,1,2,33,2,23,3,3,2,2,2]\n",
    "Counter(l)\n",
    "#Counter({value:frequency (4 elements with 1 as value)}"
   ]
  },
  {
   "cell_type": "code",
   "execution_count": 6,
   "metadata": {},
   "outputs": [
    {
     "data": {
      "text/plain": [
       "Counter({'d': 6, 's': 5, 'a': 5})"
      ]
     },
     "execution_count": 6,
     "metadata": {},
     "output_type": "execute_result"
    }
   ],
   "source": [
    "#how does it work with strings?\n",
    "s = \"dsadasdasdasdasd\"\n",
    "Counter(s)\n",
    "#Counter({value:frequency (6 elements with \"d\" as value)}"
   ]
  },
  {
   "cell_type": "code",
   "execution_count": 29,
   "metadata": {},
   "outputs": [
    {
     "data": {
      "text/plain": [
       "Counter({'My': 1,\n",
       "         'good': 2,\n",
       "         'name': 1,\n",
       "         'is': 2,\n",
       "         'Carlo': 1,\n",
       "         'and': 1,\n",
       "         'Italy': 1,\n",
       "         'a': 1,\n",
       "         'place': 1})"
      ]
     },
     "execution_count": 29,
     "metadata": {},
     "output_type": "execute_result"
    }
   ],
   "source": [
    "#with phrases\n",
    "s = \"My good name is Carlo and Italy is a good place\"\n",
    "word = s.split() #we list the word in word list\n",
    "Counter(word)"
   ]
  },
  {
   "cell_type": "code",
   "execution_count": 30,
   "metadata": {},
   "outputs": [
    {
     "data": {
      "text/plain": [
       "[('good', 2), ('is', 2), ('My', 1), ('name', 1)]"
      ]
     },
     "execution_count": 30,
     "metadata": {},
     "output_type": "execute_result"
    }
   ],
   "source": [
    "#other counter methods\n",
    "c = Counter(word)\n",
    "c.most_common(4) #create a list with tuples as elements. In the tuples we can found the four(the parameter) most common words"
   ]
  },
  {
   "cell_type": "code",
   "execution_count": 31,
   "metadata": {},
   "outputs": [
    {
     "data": {
      "text/plain": [
       "11"
      ]
     },
     "execution_count": 31,
     "metadata": {},
     "output_type": "execute_result"
    }
   ],
   "source": [
    "sum(c.values()) #numbers of word"
   ]
  },
  {
   "cell_type": "code",
   "execution_count": 32,
   "metadata": {},
   "outputs": [],
   "source": [
    "c.clear() #resets the counter"
   ]
  },
  {
   "cell_type": "code",
   "execution_count": 33,
   "metadata": {},
   "outputs": [
    {
     "data": {
      "text/plain": [
       "0"
      ]
     },
     "execution_count": 33,
     "metadata": {},
     "output_type": "execute_result"
    }
   ],
   "source": [
    "sum(c.values()) #infact there is no value"
   ]
  },
  {
   "cell_type": "code",
   "execution_count": 36,
   "metadata": {},
   "outputs": [],
   "source": [
    "#recreating the counter\n",
    "s = \"My good name is Carlo and Italy is a good place\"\n",
    "word = s.split() \n",
    "c = Counter(word)"
   ]
  },
  {
   "cell_type": "code",
   "execution_count": 39,
   "metadata": {},
   "outputs": [
    {
     "name": "stdout",
     "output_type": "stream",
     "text": [
      "{'a', 'My', 'and', 'Italy', 'name', 'Carlo', 'good', 'is', 'place'}\n",
      "['My', 'good', 'name', 'is', 'Carlo', 'and', 'Italy', 'a', 'place']\n",
      "{'My': 1, 'good': 2, 'name': 1, 'is': 2, 'Carlo': 1, 'and': 1, 'Italy': 1, 'a': 1, 'place': 1}\n",
      "dict_items([('My', 1), ('good', 2), ('name', 1), ('is', 2), ('Carlo', 1), ('and', 1), ('Italy', 1), ('a', 1), ('place', 1)])\n"
     ]
    }
   ],
   "source": [
    "#transorm the result in sets, lists or dictionaries\n",
    "print(set(c))\n",
    "print(list(c))\n",
    "print(dict(c))"
   ]
  },
  {
   "cell_type": "code",
   "execution_count": 41,
   "metadata": {},
   "outputs": [
    {
     "name": "stdout",
     "output_type": "stream",
     "text": [
      "dict_items([('My', 1), ('good', 2), ('name', 1), ('is', 2), ('Carlo', 1), ('and', 1), ('Italy', 1), ('a', 1), ('place', 1)])\n"
     ]
    }
   ],
   "source": [
    "print(c.items()) #get a list instead of a tuple as result of Counter()"
   ]
  },
  {
   "cell_type": "code",
   "execution_count": 45,
   "metadata": {},
   "outputs": [
    {
     "data": {
      "text/plain": [
       "('My', 1)"
      ]
     },
     "execution_count": 45,
     "metadata": {},
     "output_type": "execute_result"
    }
   ],
   "source": [
    "c.most_common()[2] #index the most_common method"
   ]
  },
  {
   "cell_type": "code",
   "execution_count": 49,
   "metadata": {},
   "outputs": [
    {
     "data": {
      "text/plain": [
       "Counter({'My': 1,\n",
       "         'good': 2,\n",
       "         'name': 1,\n",
       "         'is': 2,\n",
       "         'Carlo': 1,\n",
       "         'and': 1,\n",
       "         'Italy': 1,\n",
       "         'a': 1,\n",
       "         'place': 1})"
      ]
     },
     "execution_count": 49,
     "metadata": {},
     "output_type": "execute_result"
    }
   ],
   "source": [
    "c += Counter() #this gets used to remove words with 0 freq\n",
    "c"
   ]
  }
 ],
 "metadata": {
  "kernelspec": {
   "display_name": "Python 3",
   "language": "python",
   "name": "python3"
  },
  "language_info": {
   "codemirror_mode": {
    "name": "ipython",
    "version": 3
   },
   "file_extension": ".py",
   "mimetype": "text/x-python",
   "name": "python",
   "nbconvert_exporter": "python",
   "pygments_lexer": "ipython3",
   "version": "3.7.6"
  }
 },
 "nbformat": 4,
 "nbformat_minor": 4
}
