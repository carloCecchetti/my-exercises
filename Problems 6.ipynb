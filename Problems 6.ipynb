{
 "cells": [
  {
   "cell_type": "markdown",
   "metadata": {},
   "source": [
    "07/08/2020"
   ]
  },
  {
   "cell_type": "code",
   "execution_count": 7,
   "metadata": {},
   "outputs": [
    {
     "name": "stdout",
     "output_type": "stream",
     "text": [
      "{'Black'}\n"
     ]
    }
   ],
   "source": [
    "#find items in common\n",
    "l1 = [\"Red\",\"Green\",\"Blue\",\"Grey\",\"Black\"]\n",
    "l2 = [\"Purple\",\"White\",\"Black\"]\n",
    "print(set(l1) & set(l2))"
   ]
  },
  {
   "cell_type": "code",
   "execution_count": 8,
   "metadata": {},
   "outputs": [
    {
     "name": "stdout",
     "output_type": "stream",
     "text": [
      "{'Red', 'Blue', 'Green', 'Grey'}\n"
     ]
    }
   ],
   "source": [
    "#the opposite of & is -\n",
    "print(set(l1) - set(l2))"
   ]
  },
  {
   "cell_type": "code",
   "execution_count": 9,
   "metadata": {},
   "outputs": [
    {
     "data": {
      "text/plain": [
       "34"
      ]
     },
     "execution_count": 9,
     "metadata": {},
     "output_type": "execute_result"
    }
   ],
   "source": [
    "#find max number in a list\n",
    "def max_finder(l):\n",
    "    return max(l)\n",
    "\n",
    "max_finder([1,34,5])"
   ]
  },
  {
   "cell_type": "code",
   "execution_count": 11,
   "metadata": {},
   "outputs": [
    {
     "data": {
      "text/plain": [
       "{1: 2, 2: 3, 3: 5, 4: 4, 5: 3}"
      ]
     },
     "execution_count": 11,
     "metadata": {},
     "output_type": "execute_result"
    }
   ],
   "source": [
    "#frequency calculator\n",
    "def freq_calc(l):\n",
    "    freq = {}\n",
    "    \n",
    "    for x in l:\n",
    "        if x not in freq:\n",
    "            x_freq = l.count(x)\n",
    "            freq.update( {x : x_freq} )\n",
    "            \n",
    "    return freq\n",
    "\n",
    "freq_calc([1,2,3,4,5,1,4,3,2,4,5,3,2,3,4,3,5])"
   ]
  }
 ],
 "metadata": {
  "kernelspec": {
   "display_name": "Python 3",
   "language": "python",
   "name": "python3"
  },
  "language_info": {
   "codemirror_mode": {
    "name": "ipython",
    "version": 3
   },
   "file_extension": ".py",
   "mimetype": "text/x-python",
   "name": "python",
   "nbconvert_exporter": "python",
   "pygments_lexer": "ipython3",
   "version": "3.7.6"
  }
 },
 "nbformat": 4,
 "nbformat_minor": 4
}
