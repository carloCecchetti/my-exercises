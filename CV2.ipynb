{
 "cells": [
  {
   "cell_type": "code",
   "execution_count": 52,
   "metadata": {},
   "outputs": [],
   "source": [
    "import cv2 as cv\n",
    "import numpy as np\n",
    "cap = cv.VideoCapture(\"dolwaiii.mp4\")\n",
    "while True:\n",
    "    frame = cap.read()[1]\n",
    "    #gray = cv.cvtColor(frame, cv.COLOR_BGR2HSV)\n",
    "    cv.imshow(\"video\", frame)\n",
    "    if cv.waitKey(30) == 113:\n",
    "        break\n",
    "        \n",
    "cap.release() #closes video file or capturing device\n",
    "cv.destroyAllWindows()"
   ]
  },
  {
   "cell_type": "code",
   "execution_count": 50,
   "metadata": {},
   "outputs": [
    {
     "name": "stdout",
     "output_type": "stream",
     "text": [
      "30.0\n"
     ]
    }
   ],
   "source": [
    "from IPython.display import clear_output\n",
    "cap = cv.VideoCapture(0)\n",
    "while True:\n",
    "    print(cap.get(5))\n",
    "    frame = cap.read()[1]\n",
    "    gray = cv.cvtColor(frame, cv.COLOR_BGR2HSV)\n",
    "    cv.imshow(\"video\", frame)\n",
    "    if cv.waitKey(30) == 113:\n",
    "        break\n",
    "    clear_output(wait=True) #cleaning output to avoid fps spam\n",
    "        \n",
    "cap.release() #closes video file or capturing device\n",
    "cv.destroyAllWindows()"
   ]
  },
  {
   "cell_type": "code",
   "execution_count": 48,
   "metadata": {},
   "outputs": [],
   "source": [
    "#saving videos\n",
    "\n",
    "#cap\n",
    "cap = cv.VideoCapture(0) \n",
    "\n",
    "fourcc = cv.VideoWriter_fourcc(*\"DIVX\") #setting decode\n",
    "out = cv2.VideoWriter('CV2_it_works_as_I_want.avi',fourcc, 30.0, (640,480)) #\"File name\", decode, fps, res\n",
    "\n",
    "while True:\n",
    "    ret, frame = cap.read()\n",
    "    if ret:\n",
    "        frame = cv.cvtColor(frame, cv.COLOR_HLS2RGB)\n",
    "        frame = cv.flip(frame, 1)\n",
    "        out.write(frame)\n",
    "        cv.imshow(\"frame\", frame)\n",
    "        if cv.waitKey(30) == 113:\n",
    "            break\n",
    "\n",
    "#closing all            \n",
    "cap.release()\n",
    "out.release()\n",
    "cv.destroyAllWindows()"
   ]
  }
 ],
 "metadata": {
  "kernelspec": {
   "display_name": "Python 3",
   "language": "python",
   "name": "python3"
  },
  "language_info": {
   "codemirror_mode": {
    "name": "ipython",
    "version": 3
   },
   "file_extension": ".py",
   "mimetype": "text/x-python",
   "name": "python",
   "nbconvert_exporter": "python",
   "pygments_lexer": "ipython3",
   "version": "3.8.5"
  }
 },
 "nbformat": 4,
 "nbformat_minor": 4
}
