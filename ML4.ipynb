{
 "cells": [
  {
   "cell_type": "code",
   "execution_count": 52,
   "metadata": {},
   "outputs": [
    {
     "data": {
      "text/plain": [
       "0.4"
      ]
     },
     "execution_count": 52,
     "metadata": {},
     "output_type": "execute_result"
    }
   ],
   "source": [
    "#Let's build our own KNN Classifier\n",
    "#KNN stands for k-nearest neighbors. In a few words, its work is based on the number of near neighbour\n",
    "\n",
    "import random #module to pick a random item from y_train set\n",
    "\n",
    "class myOwnKNN():\n",
    "    \n",
    "    def fit(self, x_train, y_train):\n",
    "        #fit function to train the model\n",
    "        self.x_train = x_train\n",
    "        self.y_train = y_train\n",
    "        \n",
    "    def predict(self, x_test):\n",
    "        #predict function to classify\n",
    "        predictions = []\n",
    "        for row in x_test:\n",
    "            label = random.choice(self.y_train)\n",
    "            predictions.append(label)\n",
    "            \n",
    "        return predictions\n",
    "#loading dataset\n",
    "from sklearn import datasets\n",
    "iris = datasets.load_iris()\n",
    "\n",
    "x = iris.data\n",
    "y = iris.target\n",
    "#spliting in a half sets\n",
    "from sklearn.model_selection import train_test_split\n",
    "x_train, x_test, y_train, y_test = train_test_split(x, y, test_size = 0.5)\n",
    "\n",
    "#Now we should import our classifier, but since we're creating one, we won't import our classifier, we will create our model\n",
    "clf = myOwnKNN() \n",
    "#then we used .fit() to train\n",
    "clf.fit(x_train, y_train)\n",
    "#and .predict() to test\n",
    "predictions = clf.predict(x_test)\n",
    "\n",
    "from sklearn.metrics import accuracy_score\n",
    "accuracy_score(y_test, predictions)\n",
    "#accuracy is around 26% and 40% ≈ 33%. This is because we the dataset contains 100 labels divided in 3 flowers (3 different outputs) -> 100/3 = 33"
   ]
  },
  {
   "cell_type": "code",
   "execution_count": 95,
   "metadata": {},
   "outputs": [
    {
     "data": {
      "text/plain": [
       "0.96"
      ]
     },
     "execution_count": 95,
     "metadata": {},
     "output_type": "execute_result"
    }
   ],
   "source": [
    "#now let's make it work as a KNN does\n",
    "#Let's build our own KNN Classifier\n",
    "#KNN stands for k-nearest neighbors. In a few words, its work is based on the number of near neighbour\n",
    "\n",
    "from scipy.spatial import distance\n",
    "\n",
    "def euc(a,b):\n",
    "    #this will be the function that will get the nearest dot to another \n",
    "    return distance.euclidean(a,b) \n",
    "\n",
    "class myOwnKNN():\n",
    "    \n",
    "    def fit(self, x_train, y_train):\n",
    "        #fit function to train the model\n",
    "        self.x_train = x_train\n",
    "        self.y_train = y_train\n",
    "        \n",
    "    def predict(self, x_test):\n",
    "        #predict function to classify\n",
    "        predictions = []\n",
    "        for row in x_test:\n",
    "            label = self.closest(row)\n",
    "            predictions.append(label)\n",
    "            \n",
    "        return predictions\n",
    "            \n",
    "    def closest(self, row):\n",
    "        \"\"\"\n",
    "        It starts from label = self.closest(row)\n",
    "        takes row which is an iteration of x_test\n",
    "        compares it with the dist from euc(row and every iteration of x_train)\n",
    "        if the new dist calculated is lower than the previous one\n",
    "        it becomes the best_dist which will become best_index\n",
    "        \"\"\"\n",
    "        #function that the model will use to select the label. Before we've used random.choice()\n",
    "        #setting \"default values\"\n",
    "        best_dist = euc(row, self.x_train[0])\n",
    "        best_index = 0\n",
    "        for i in range(1, len(self.x_train)):\n",
    "            dist = euc(row, self.x_train[i])\n",
    "            if dist < best_dist:\n",
    "                best_dist = dist\n",
    "                best_index = i\n",
    "        return self.y_train[best_index]         \n",
    "        \n",
    "#loading dataset\n",
    "from sklearn import datasets\n",
    "iris = datasets.load_iris()\n",
    "\n",
    "x = iris.data\n",
    "y = iris.target\n",
    "#spliting in a half sets\n",
    "from sklearn.model_selection import train_test_split\n",
    "x_train, x_test, y_train, y_test = train_test_split(x, y, test_size = 0.5)\n",
    "\n",
    "#Now we should import our classifier, but since we're creating one, we won't import our classifier, we will create our model\n",
    "clf = myOwnKNN() \n",
    "#then we used .fit() to train\n",
    "clf.fit(x_train, y_train)\n",
    "#and .predict() to test\n",
    "predictions = clf.predict(x_test)\n",
    "\n",
    "from sklearn.metrics import accuracy_score\n",
    "accuracy_score(y_test, predictions)\n",
    "#now the accuray is really higher, above 90%"
   ]
  }
 ],
 "metadata": {
  "kernelspec": {
   "display_name": "Python 3",
   "language": "python",
   "name": "python3"
  },
  "language_info": {
   "codemirror_mode": {
    "name": "ipython",
    "version": 3
   },
   "file_extension": ".py",
   "mimetype": "text/x-python",
   "name": "python",
   "nbconvert_exporter": "python",
   "pygments_lexer": "ipython3",
   "version": "3.8.3"
  }
 },
 "nbformat": 4,
 "nbformat_minor": 4
}
