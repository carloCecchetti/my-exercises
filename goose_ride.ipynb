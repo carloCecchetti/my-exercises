{
 "cells": [
  {
   "cell_type": "code",
   "execution_count": 2,
   "metadata": {},
   "outputs": [
    {
     "name": "stdout",
     "output_type": "stream",
     "text": [
      "3\n",
      "5\n",
      "Total: 8\n",
      "Carlo WON.\n",
      "You beat Stefano!\n"
     ]
    },
    {
     "name": "stdin",
     "output_type": "stream",
     "text": [
      "Continue?  \n"
     ]
    },
    {
     "ename": "IndexError",
     "evalue": "string index out of range",
     "output_type": "error",
     "traceback": [
      "\u001b[1;31m---------------------------------------------------------------------------\u001b[0m",
      "\u001b[1;31mIndexError\u001b[0m                                Traceback (most recent call last)",
      "\u001b[1;32m<ipython-input-2-75e183cd18e7>\u001b[0m in \u001b[0;36m<module>\u001b[1;34m\u001b[0m\n\u001b[0;32m     76\u001b[0m         \u001b[1;32mwhile\u001b[0m \u001b[0mplaying\u001b[0m\u001b[1;33m==\u001b[0m\u001b[1;32mTrue\u001b[0m\u001b[1;33m:\u001b[0m\u001b[1;33m\u001b[0m\u001b[1;33m\u001b[0m\u001b[0m\n\u001b[0;32m     77\u001b[0m             \u001b[0mdicetosspl1\u001b[0m \u001b[1;33m=\u001b[0m \u001b[0mDiceTossPlayer1\u001b[0m\u001b[1;33m(\u001b[0m\u001b[1;33m)\u001b[0m\u001b[1;33m\u001b[0m\u001b[1;33m\u001b[0m\u001b[0m\n\u001b[1;32m---> 78\u001b[1;33m             \u001b[0mpos_check\u001b[0m\u001b[1;33m(\u001b[0m\u001b[1;33m)\u001b[0m\u001b[1;33m\u001b[0m\u001b[1;33m\u001b[0m\u001b[0m\n\u001b[0m\u001b[0;32m     79\u001b[0m             \u001b[0mprint\u001b[0m\u001b[1;33m(\u001b[0m\u001b[1;34mf\"{player_1} is at {starting.position_pl1}\"\u001b[0m\u001b[1;33m)\u001b[0m\u001b[1;33m\u001b[0m\u001b[1;33m\u001b[0m\u001b[0m\n\u001b[0;32m     80\u001b[0m             \u001b[0minput\u001b[0m\u001b[1;33m(\u001b[0m\u001b[1;33m)\u001b[0m\u001b[1;33m\u001b[0m\u001b[1;33m\u001b[0m\u001b[0m\n",
      "\u001b[1;32m<ipython-input-2-75e183cd18e7>\u001b[0m in \u001b[0;36mpos_check\u001b[1;34m()\u001b[0m\n\u001b[0;32m     59\u001b[0m     \u001b[1;32melif\u001b[0m \u001b[0mstarting\u001b[0m\u001b[1;33m.\u001b[0m\u001b[0mposition_pl1\u001b[0m \u001b[1;33m==\u001b[0m \u001b[1;36m90\u001b[0m\u001b[1;33m:\u001b[0m\u001b[1;33m\u001b[0m\u001b[1;33m\u001b[0m\u001b[0m\n\u001b[0;32m     60\u001b[0m         \u001b[0mprint\u001b[0m\u001b[1;33m(\u001b[0m\u001b[1;34mf\"{player_1} WON.\\nYou beat {player_2}!\"\u001b[0m\u001b[1;33m)\u001b[0m\u001b[1;33m\u001b[0m\u001b[1;33m\u001b[0m\u001b[0m\n\u001b[1;32m---> 61\u001b[1;33m         \u001b[0mreplay\u001b[0m\u001b[1;33m(\u001b[0m\u001b[1;33m)\u001b[0m\u001b[1;33m\u001b[0m\u001b[1;33m\u001b[0m\u001b[0m\n\u001b[0m\u001b[0;32m     62\u001b[0m     \u001b[1;32melif\u001b[0m \u001b[0mstarting\u001b[0m\u001b[1;33m.\u001b[0m\u001b[0mposition_pl2\u001b[0m \u001b[1;33m>\u001b[0m \u001b[1;36m90\u001b[0m\u001b[1;33m:\u001b[0m\u001b[1;33m\u001b[0m\u001b[1;33m\u001b[0m\u001b[0m\n\u001b[0;32m     63\u001b[0m         \u001b[0mprint\u001b[0m\u001b[1;33m(\u001b[0m\u001b[1;34mf\"{player_2} passed the end.\\nGet back of {starting.position_pl2-90}\"\u001b[0m\u001b[1;33m)\u001b[0m\u001b[1;33m\u001b[0m\u001b[1;33m\u001b[0m\u001b[0m\n",
      "\u001b[1;32m<ipython-input-2-75e183cd18e7>\u001b[0m in \u001b[0;36mreplay\u001b[1;34m()\u001b[0m\n\u001b[0;32m     47\u001b[0m     \u001b[1;32mglobal\u001b[0m \u001b[0mplaying\u001b[0m\u001b[1;33m\u001b[0m\u001b[1;33m\u001b[0m\u001b[0m\n\u001b[0;32m     48\u001b[0m \u001b[1;33m\u001b[0m\u001b[0m\n\u001b[1;32m---> 49\u001b[1;33m     \u001b[1;32mif\u001b[0m \u001b[0minput\u001b[0m\u001b[1;33m(\u001b[0m\u001b[1;34m\"Continue? \"\u001b[0m\u001b[1;33m)\u001b[0m\u001b[1;33m.\u001b[0m\u001b[0mlower\u001b[0m\u001b[1;33m(\u001b[0m\u001b[1;33m)\u001b[0m\u001b[1;33m[\u001b[0m\u001b[1;36m0\u001b[0m\u001b[1;33m]\u001b[0m\u001b[1;33m==\u001b[0m\u001b[1;34m\"y\"\u001b[0m\u001b[1;33m:\u001b[0m\u001b[1;33m\u001b[0m\u001b[1;33m\u001b[0m\u001b[0m\n\u001b[0m\u001b[0;32m     50\u001b[0m             \u001b[0mplaying\u001b[0m \u001b[1;33m=\u001b[0m \u001b[1;32mTrue\u001b[0m\u001b[1;33m\u001b[0m\u001b[1;33m\u001b[0m\u001b[0m\n\u001b[0;32m     51\u001b[0m             \u001b[0mStarting\u001b[0m\u001b[1;33m(\u001b[0m\u001b[1;33m)\u001b[0m \u001b[1;31m#just resetting the self.position var\u001b[0m\u001b[1;33m\u001b[0m\u001b[1;33m\u001b[0m\u001b[0m\n",
      "\u001b[1;31mIndexError\u001b[0m: string index out of range"
     ]
    }
   ],
   "source": [
    "#goose ride\n",
    "\"\"\"\n",
    "I had nothing to do during the night between 26/05/2020 and 27\n",
    "I started to write this game 3 days ago but each try sucked.\n",
    "Now that I've retry from 0, it works. \n",
    "I know it's not the best, but at least works.\n",
    "\n",
    "-Carlo Cecchetti\n",
    "\"\"\"\n",
    "\n",
    "from random import randint #dice\n",
    "from IPython.display import clear_output #output board cleaner\n",
    "\n",
    "playing = True\n",
    "player_1 = input(\"Enter a nickname for Player1\\nPress enter if none\")\n",
    "if player_1 == \"\":\n",
    "    player_1 = \"Player1\"\n",
    "player_2 = input(\"Enter a nickname for Player2\\nPress enter if none\")\n",
    "if player_2 == \"\":\n",
    "    player_2 = \"Player2\"\n",
    "\n",
    "class Starting:\n",
    "    def __init__(self):\n",
    "        \n",
    "        self.position_pl1 = 0\n",
    "        self.position_pl2 = 0\n",
    "#Starting and DiceTossPlayer are in different classes because we toss the dices each time but we reset positions var at the beginning of each game   \n",
    "class DiceTossPlayer1:\n",
    "    def __init__(self):\n",
    "        self.dice1 = randint(1,6)\n",
    "        self.dice2 = randint(1,6)\n",
    "        \n",
    "        print(f\"{self.dice1}\\n{self.dice2}\\nTotal: {self.dice1+self.dice2}\")\n",
    "        \n",
    "        starting.position_pl1+= self.dice1+self.dice2\n",
    "        \n",
    "class DiceTossPlayer2:\n",
    "    def __init__(self):\n",
    "        self.dice1 = randint(1,6)\n",
    "        self.dice2 = randint(1,6)\n",
    "        \n",
    "        print(f\"{self.dice1}\\n{self.dice2}\\nTotal: {self.dice1+self.dice2}\")\n",
    "        \n",
    "        starting.position_pl2+= self.dice1+self.dice2\n",
    "        \n",
    "def replay():\n",
    "    global playing\n",
    "    \n",
    "    if input(\"Continue? \").lower()[0]==\"y\":\n",
    "            playing = True\n",
    "            Starting() #just resetting the self.position var\n",
    "    else:\n",
    "        playing = False\n",
    "        \n",
    "def pos_check():\n",
    "    if starting.position_pl1 > 90:\n",
    "        print(f\"{player_1} passed the end.\\nGet back of {starting.position_pl1-90}\")\n",
    "        starting.position_pl1 = 90-(starting.position_pl1-90) \n",
    "    elif starting.position_pl1 == 90:\n",
    "        print(f\"{player_1} WON.\\nYou beat {player_2}!\")\n",
    "        replay()\n",
    "    elif starting.position_pl2 > 90:\n",
    "        print(f\"{player_2} passed the end.\\nGet back of {starting.position_pl2-90}\")\n",
    "        starting.position_pl2 = 90-(starting.position_pl2-90) \n",
    "    elif starting.position_pl2 == 90:\n",
    "        print(f\"{player_2} WON!\\nYou beat {player_1}\")\n",
    "        replay()\n",
    "\n",
    "\n",
    "starting=Starting()    \n",
    "\n",
    "who_starts = input(f\"Who is going to start? (enter 1 for {player_1} or 2 for {player_2})\")\n",
    "    \n",
    "while playing == True:    \n",
    "    if who_starts == \"1\":\n",
    "        while playing==True:\n",
    "            dicetosspl1 = DiceTossPlayer1()\n",
    "            pos_check()\n",
    "            print(f\"{player_1} is at {starting.position_pl1}\")\n",
    "            input()\n",
    "            dicetosspl2 = DiceTossPlayer2()\n",
    "            pos_check()\n",
    "            print(f\"{player_2} is at {starting.position_pl2}\")\n",
    "            input()\n",
    "            clear_output(wait=True)\n",
    "    \n",
    "    else:\n",
    "        while playing==True:\n",
    "            dicetosspl2 = DiceTossPlayer2()\n",
    "            print(f\"{player_2} is at {starting.position_pl2}\")\n",
    "            pos_check()\n",
    "            input()\n",
    "            dicetosspl1 = DiceTossPlayer1()\n",
    "            pos_check()\n",
    "            input()\n",
    "            clear_output(wait=True)"
   ]
  },
  {
   "cell_type": "code",
   "execution_count": null,
   "metadata": {},
   "outputs": [],
   "source": []
  }
 ],
 "metadata": {
  "kernelspec": {
   "display_name": "Python 3",
   "language": "python",
   "name": "python3"
  },
  "language_info": {
   "codemirror_mode": {
    "name": "ipython",
    "version": 3
   },
   "file_extension": ".py",
   "mimetype": "text/x-python",
   "name": "python",
   "nbconvert_exporter": "python",
   "pygments_lexer": "ipython3",
   "version": "3.7.6"
  }
 },
 "nbformat": 4,
 "nbformat_minor": 4
}
