{
 "cells": [
  {
   "cell_type": "code",
   "execution_count": null,
   "metadata": {},
   "outputs": [],
   "source": [
    "#calculator\n",
    "\"\"\"\n",
    "the worst calculator, but it works.\n",
    "I think this piece of code doesn't need any explanation\n",
    "\"\"\"\n",
    "def calc(n1=0,op=0,n2=0):\n",
    "    n1 = int(input(\"first number: \"))\n",
    "    op = input(\"operator: \")\n",
    "    n2 = int(input(\"second number: \"))\n",
    "    \n",
    "    if op == \"+\":\n",
    "        print(n1 + n2)\n",
    "    elif op == \"-\":\n",
    "        print(n1-n2)\n",
    "    elif op == \"*\":\n",
    "        print(n1*n2)\n",
    "    else:\n",
    "        print(n1/n2)"
   ]
  }
 ],
 "metadata": {
  "kernelspec": {
   "display_name": "Python 3",
   "language": "python",
   "name": "python3"
  },
  "language_info": {
   "codemirror_mode": {
    "name": "ipython",
    "version": 3
   },
   "file_extension": ".py",
   "mimetype": "text/x-python",
   "name": "python",
   "nbconvert_exporter": "python",
   "pygments_lexer": "ipython3",
   "version": "3.7.6"
  }
 },
 "nbformat": 4,
 "nbformat_minor": 4
}
