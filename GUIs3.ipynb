{
 "cells": [
  {
   "cell_type": "markdown",
   "metadata": {},
   "source": [
    "GUIs 3 09/06/2020"
   ]
  },
  {
   "cell_type": "code",
   "execution_count": 1,
   "metadata": {},
   "outputs": [],
   "source": [
    "import ipywidgets as widgets"
   ]
  },
  {
   "cell_type": "code",
   "execution_count": 3,
   "metadata": {},
   "outputs": [
    {
     "name": "stdout",
     "output_type": "stream",
     "text": [
      "Layout\n",
      "Accordion\n",
      "Audio\n",
      "BoundedFloatText\n",
      "BoundedIntText\n",
      "Box\n",
      "Button\n",
      "ButtonStyle\n",
      "Checkbox\n",
      "ColorPicker\n",
      "Combobox\n",
      "ControllerAxis\n",
      "ControllerButton\n",
      "Controller\n",
      "DOMWidget\n",
      "DatePicker\n",
      "DescriptionStyle\n",
      "DirectionalLink\n",
      "Dropdown\n",
      "FileUpload\n",
      "FloatLogSlider\n",
      "FloatProgress\n",
      "FloatRangeSlider\n",
      "FloatSlider\n",
      "FloatText\n",
      "GridBox\n",
      "HBox\n",
      "HTMLMath\n",
      "HTML\n",
      "Image\n",
      "IntProgress\n",
      "IntRangeSlider\n",
      "IntSlider\n",
      "IntText\n",
      "Label\n",
      "Link\n",
      "Password\n",
      "Play\n",
      "ProgressStyle\n",
      "RadioButtons\n",
      "Select\n",
      "SelectMultiple\n",
      "SelectionRangeSlider\n",
      "SelectionSlider\n",
      "SliderStyle\n",
      "Tab\n",
      "Text\n",
      "Textarea\n",
      "ToggleButton\n",
      "ToggleButtons\n",
      "ToggleButtonsStyle\n",
      "VBox\n",
      "Valid\n",
      "Video\n",
      "Output\n"
     ]
    }
   ],
   "source": [
    "#These are all of the possible GUI widgets\n",
    "for x in widgets.Widget.widget_types.items():\n",
    "    print(x[0][2][:-5]) #we used index because we want only their names"
   ]
  },
  {
   "cell_type": "code",
   "execution_count": 4,
   "metadata": {},
   "outputs": [
    {
     "data": {
      "application/vnd.jupyter.widget-view+json": {
       "model_id": "5b95d773d86a480ca1cbcb553081e22c",
       "version_major": 2,
       "version_minor": 0
      },
      "text/plain": [
       "IntSlider(value=0, description='IntSlider', max=10, orientation='vertical')"
      ]
     },
     "metadata": {},
     "output_type": "display_data"
    },
    {
     "data": {
      "application/vnd.jupyter.widget-view+json": {
       "model_id": "f088161cb5424231a6335ddb00049213",
       "version_major": 2,
       "version_minor": 0
      },
      "text/plain": [
       "FloatSlider(value=0.0, description='FloatSlider', max=10.0, step=0.5)"
      ]
     },
     "metadata": {},
     "output_type": "display_data"
    }
   ],
   "source": [
    "#ten of this widgets diplay numeric results\n",
    "#IntSlider and FloatSlider\n",
    "intslider = widgets.IntSlider(0,0,10,1,description=\"IntSlider\",orientation=\"vertical\") #(value,min,max,step,..,..)\n",
    "display(intslider)\n",
    "\n",
    "floatslider = widgets.FloatSlider(value=0,min=0,max=10,step=0.5,description=\"FloatSlider\")\n",
    "display(floatslider)"
   ]
  },
  {
   "cell_type": "code",
   "execution_count": 5,
   "metadata": {},
   "outputs": [
    {
     "data": {
      "application/vnd.jupyter.widget-view+json": {
       "model_id": "c95ba45aad8e49edabb8b276f41ce234",
       "version_major": 2,
       "version_minor": 0
      },
      "text/plain": [
       "IntRangeSlider(value=(-5, 5), description='IntRangeSlider', max=257, min=-258, orientation='vertical')"
      ]
     },
     "metadata": {},
     "output_type": "display_data"
    },
    {
     "data": {
      "application/vnd.jupyter.widget-view+json": {
       "model_id": "53c0b7d9901b46e3814c003e7bccd93e",
       "version_major": 2,
       "version_minor": 0
      },
      "text/plain": [
       "FloatRangeSlider(value=(-5.0, 5.0), description='FloatRangeSlider', max=257.0, min=-258.0, step=1.0)"
      ]
     },
     "metadata": {},
     "output_type": "display_data"
    }
   ],
   "source": [
    "#IntRangeSlider and FloatRangeSlider\n",
    "\"\"\"\n",
    "A slider with to options. The values between is the range\n",
    "\"\"\"\n",
    "intrangeslider = widgets.IntRangeSlider(value=(-5,5),min=-258,max=257,step=1,description=\"IntRangeSlider\",orientation=\"vertical\") #value is between parentesis as a tuple because we have to values\n",
    "display(intrangeslider)\n",
    "\n",
    "floatrangeslider = widgets.FloatRangeSlider(value=(-5,5),min=-258,max=257,step=1,description=\"FloatRangeSlider\")\n",
    "display(floatrangeslider)"
   ]
  },
  {
   "cell_type": "code",
   "execution_count": 6,
   "metadata": {},
   "outputs": [
    {
     "data": {
      "application/vnd.jupyter.widget-view+json": {
       "model_id": "e659561137d84e66ba1c05e268b9fb30",
       "version_major": 2,
       "version_minor": 0
      },
      "text/plain": [
       "IntProgress(value=69, bar_style='success', description='Loading')"
      ]
     },
     "metadata": {},
     "output_type": "display_data"
    },
    {
     "data": {
      "application/vnd.jupyter.widget-view+json": {
       "model_id": "668063ff2a3647a48579774577eb8284",
       "version_major": 2,
       "version_minor": 0
      },
      "text/plain": [
       "FloatProgress(value=23.0, bar_style='danger', description='Downloading')"
      ]
     },
     "metadata": {},
     "output_type": "display_data"
    }
   ],
   "source": [
    "#IntProgress and FloatProgress\n",
    "\"\"\"\n",
    "A charging bar\n",
    "\"\"\"\n",
    "intprogressslider = widgets.IntProgress(69,0,100,1,description=\"Loading\",bar_style=\"success\") \n",
    "display(intprogressslider)\n",
    "\n",
    "floatprogressslider = widgets.FloatProgress(value=23,min=0,max=100,step=1,description=\"Downloading\",bar_style=\"danger\") \n",
    "display(floatprogressslider)"
   ]
  },
  {
   "cell_type": "code",
   "execution_count": 7,
   "metadata": {},
   "outputs": [
    {
     "data": {
      "application/vnd.jupyter.widget-view+json": {
       "model_id": "49c70e7f27c24c97978004dfec509302",
       "version_major": 2,
       "version_minor": 0
      },
      "text/plain": [
       "IntText(value=24)"
      ]
     },
     "metadata": {},
     "output_type": "display_data"
    },
    {
     "data": {
      "application/vnd.jupyter.widget-view+json": {
       "model_id": "518c52f136214300bba243b3fd7f088f",
       "version_major": 2,
       "version_minor": 0
      },
      "text/plain": [
       "FloatText(value=55.2)"
      ]
     },
     "metadata": {},
     "output_type": "display_data"
    }
   ],
   "source": [
    "#IntText and FloatText\n",
    "\"\"\"\n",
    "We can write number as text\n",
    "\"\"\"\n",
    "inttext = widgets.IntText(24)\n",
    "display(inttext)\n",
    "\n",
    "floattext = widgets.FloatText(55.2)\n",
    "display(floattext)"
   ]
  },
  {
   "cell_type": "code",
   "execution_count": 8,
   "metadata": {},
   "outputs": [
    {
     "data": {
      "application/vnd.jupyter.widget-view+json": {
       "model_id": "58b6ff1392ef4b82a9c148f83e2e09dd",
       "version_major": 2,
       "version_minor": 0
      },
      "text/plain": [
       "ToggleButton(value=False, button_style='info', description='Wi-Fi')"
      ]
     },
     "metadata": {},
     "output_type": "display_data"
    },
    {
     "data": {
      "application/vnd.jupyter.widget-view+json": {
       "model_id": "c0b6833ef73f4b428dce36c9cfa8133d",
       "version_major": 2,
       "version_minor": 0
      },
      "text/plain": [
       "ToggleButtons(button_style='info', description='Connected:', options=('Wifi', 'Radio', 'Mobile Datas'), value=…"
      ]
     },
     "metadata": {},
     "output_type": "display_data"
    }
   ],
   "source": [
    "#passing to widgets the work with boolean values. They are 3\n",
    "#ToggleButton and ToggleButtons\n",
    "\"\"\"\n",
    "ToggleButton allows us to create only one clickabe button\n",
    "ToggleButton accepts a list ase options\n",
    "\"\"\"\n",
    "button = widgets.ToggleButton(False,description=\"Wi-Fi\",button_style=\"info\") #(value,what's inside the button,color)\n",
    "display(button)\n",
    "buttons = widgets.ToggleButtons(options=['Wifi', 'Radio', 'Mobile Datas'],description=\"Connected:\",button_style=\"info\")\n",
    "display(buttons)"
   ]
  },
  {
   "cell_type": "code",
   "execution_count": 9,
   "metadata": {},
   "outputs": [
    {
     "data": {
      "application/vnd.jupyter.widget-view+json": {
       "model_id": "01c3da0380e846c899466a77013d8ef9",
       "version_major": 2,
       "version_minor": 0
      },
      "text/plain": [
       "Checkbox(value=False, description=\"I'm over 18 years old\")"
      ]
     },
     "metadata": {},
     "output_type": "display_data"
    }
   ],
   "source": [
    "#Checkbox\n",
    "check = widgets.Checkbox(False,description=\"I'm over 18 years old\",indent=True)\n",
    "display(check)"
   ]
  },
  {
   "cell_type": "code",
   "execution_count": 10,
   "metadata": {},
   "outputs": [
    {
     "data": {
      "application/vnd.jupyter.widget-view+json": {
       "model_id": "c695732da4fd44e28de726718e99675b",
       "version_major": 2,
       "version_minor": 0
      },
      "text/plain": [
       "Button(button_style='danger', description='Go in year 2024!', icon='calendar-o', style=ButtonStyle())"
      ]
     },
     "metadata": {},
     "output_type": "display_data"
    }
   ],
   "source": [
    "#Button\n",
    "\"\"\"\n",
    "Just a clickable button\n",
    "\"\"\"\n",
    "button = widgets.Button(description=\"Go in year 2024!\",icon = \"fa-calendar-o\",button_style = \"danger\")\n",
    "display(button)"
   ]
  },
  {
   "cell_type": "code",
   "execution_count": 11,
   "metadata": {},
   "outputs": [
    {
     "data": {
      "application/vnd.jupyter.widget-view+json": {
       "model_id": "f379060ef5fb4948a5a284329d0e3785",
       "version_major": 2,
       "version_minor": 0
      },
      "text/plain": [
       "Valid(value=False, description='200.00$')"
      ]
     },
     "metadata": {},
     "output_type": "display_data"
    }
   ],
   "source": [
    "#Valid (only read indicator)\n",
    "valid = widgets.Valid(value=False,description=\"200.00$\")\n",
    "display(valid)"
   ]
  },
  {
   "cell_type": "code",
   "execution_count": 12,
   "metadata": {},
   "outputs": [
    {
     "data": {
      "application/vnd.jupyter.widget-view+json": {
       "model_id": "89ae7392860d432fbe6b6a6336c98955",
       "version_major": 2,
       "version_minor": 0
      },
      "text/plain": [
       "Dropdown(description='Drive Mode', options=('Eco', 'Urban', 'Turbo'), value='Eco')"
      ]
     },
     "metadata": {},
     "output_type": "display_data"
    }
   ],
   "source": [
    "#passing to select widgets\n",
    "#Dropdown. There is also Select which is very very similar\n",
    "\"\"\"\n",
    "Display a menù with preselected options\n",
    "\"\"\"\n",
    "dropdown = widgets.Dropdown( options=[\"Eco\",\"Urban\",\"Turbo\"],description=\"Drive Mode\")\n",
    "display(dropdown)"
   ]
  },
  {
   "cell_type": "code",
   "execution_count": 13,
   "metadata": {},
   "outputs": [
    {
     "data": {
      "application/vnd.jupyter.widget-view+json": {
       "model_id": "ae4bd5729a8449f2847f1b879e90180a",
       "version_major": 2,
       "version_minor": 0
      },
      "text/plain": [
       "Dropdown(description='Drive Mode', options={1: 'Eco', 2: 'Urban', 3: 'Turbo'}, value='Eco')"
      ]
     },
     "metadata": {},
     "output_type": "display_data"
    }
   ],
   "source": [
    "#Dropdown works also with dictionaries\n",
    "dropdown = widgets.Dropdown( options={1:\"Eco\",2:\"Urban\",3:\"Turbo\"},description=\"Drive Mode\")\n",
    "display(dropdown)"
   ]
  },
  {
   "cell_type": "code",
   "execution_count": 14,
   "metadata": {},
   "outputs": [
    {
     "data": {
      "application/vnd.jupyter.widget-view+json": {
       "model_id": "b7e304a103e34790b7fc4401f3293533",
       "version_major": 2,
       "version_minor": 0
      },
      "text/plain": [
       "RadioButtons(description='Enginge type', options=('Electric', 'Diesel', 'Gasoline', 'Hyhdrogen'), value='Elect…"
      ]
     },
     "metadata": {},
     "output_type": "display_data"
    },
    {
     "data": {
      "application/vnd.jupyter.widget-view+json": {
       "model_id": "6b93437ac3d14c39b034b138443c3ed1",
       "version_major": 2,
       "version_minor": 0
      },
      "text/plain": [
       "RadioButtons(description='Enginge type', options={1: 'Electric', 2: 'Diesel', 3: 'Gasoline', 4: 'Hyhdrogen'}, …"
      ]
     },
     "metadata": {},
     "output_type": "display_data"
    }
   ],
   "source": [
    "#RadioButtons\n",
    "\"\"\"\n",
    "Display selectable checkboxes\n",
    "\"\"\"\n",
    "radio = widgets.RadioButtons(description=\"Enginge type\",options=[\"Electric\",\"Diesel\",\"Gasoline\",\"Hyhdrogen\"])\n",
    "display(radio)\n",
    "#it work also with dicts\n",
    "radiodict = widgets.RadioButtons(description=\"Enginge type\",options={1:\"Electric\",2:\"Diesel\",3:\"Gasoline\",4:\"Hyhdrogen\"})\n",
    "display(radiodict)"
   ]
  },
  {
   "cell_type": "code",
   "execution_count": 15,
   "metadata": {},
   "outputs": [
    {
     "data": {
      "application/vnd.jupyter.widget-view+json": {
       "model_id": "3a1bf4be3b09479d97170c0469ce7909",
       "version_major": 2,
       "version_minor": 0
      },
      "text/plain": [
       "SelectionSlider(description='My Pet:', options=('None', 'Cat', 'Dog', 'Bunny', 'Monkey', 'Furry'), value='None…"
      ]
     },
     "metadata": {},
     "output_type": "display_data"
    }
   ],
   "source": [
    "#SelectionSlider. Work also with dicts\n",
    "selectslider = widgets.SelectionSlider(value=\"None\",description=\"My Pet:\",options=[\"None\",\"Cat\",\"Dog\",\"Bunny\",\"Monkey\",\"Furry\"])\n",
    "display(selectslider)"
   ]
  },
  {
   "cell_type": "code",
   "execution_count": 16,
   "metadata": {},
   "outputs": [
    {
     "data": {
      "application/vnd.jupyter.widget-view+json": {
       "model_id": "2b137a18d6a844f58ebf8ed3d0bdc055",
       "version_major": 2,
       "version_minor": 0
      },
      "text/plain": [
       "SelectMultiple(description='Car Brand:', index=(0,), options=('None', 'General Motors', 'Fiat', 'Alfa Romeo', …"
      ]
     },
     "metadata": {},
     "output_type": "display_data"
    }
   ],
   "source": [
    "#SelectMultiple\n",
    "selmultiple = widgets.SelectMultiple(value=[\"None\"],description=\"Car Brand:\",options=[\"None\",\"General Motors\",\"Fiat\",\"Alfa Romeo\",\"Ford\",\"Lamborghini\",\"Renault\",\"Ferrari\",\"Maserati\",\"Toyota\",\"Honda\",\"BMW\",\"Mercedes\"])\n",
    "display(selmultiple)"
   ]
  },
  {
   "cell_type": "code",
   "execution_count": 17,
   "metadata": {},
   "outputs": [
    {
     "data": {
      "application/vnd.jupyter.widget-view+json": {
       "model_id": "9ccd728a4bf546f9aa60f9f28edbe093",
       "version_major": 2,
       "version_minor": 0
      },
      "text/plain": [
       "Text(value='', description='Your String:', placeholder='Write something')"
      ]
     },
     "metadata": {},
     "output_type": "display_data"
    }
   ],
   "source": [
    "#Text widgets. There are two widgets for input and HTML or HTMLMatch to display string as HTML\n",
    "#Text\n",
    "\"\"\"\n",
    "Allows you to write a string and to read it\n",
    "\"\"\"\n",
    "text = widgets.Text(placeholder=\"Write something\",description=\"Your String:\")\n",
    "display(text)"
   ]
  },
  {
   "cell_type": "code",
   "execution_count": 18,
   "metadata": {},
   "outputs": [
    {
     "data": {
      "application/vnd.jupyter.widget-view+json": {
       "model_id": "80521175b7064a5cb3452d3ade450601",
       "version_major": 2,
       "version_minor": 0
      },
      "text/plain": [
       "Textarea(value='', description='Your String:', placeholder='Write something')"
      ]
     },
     "metadata": {},
     "output_type": "display_data"
    }
   ],
   "source": [
    "#Textarea\n",
    "\"\"\"\n",
    "It's the same of Text but here you can modify the measures of the textbox\n",
    "\"\"\"\n",
    "textarea = widgets.Textarea(placeholder=\"Write something\",description=\"Your String:\")\n",
    "display(textarea)"
   ]
  },
  {
   "cell_type": "code",
   "execution_count": 19,
   "metadata": {},
   "outputs": [
    {
     "data": {
      "application/vnd.jupyter.widget-view+json": {
       "model_id": "ad7958bd71ce402bb4896e5e84af4f30",
       "version_major": 2,
       "version_minor": 0
      },
      "text/plain": [
       "HTML(value='My name is <a href=https://docs.python.org/3/contents.html>Carlo</a>', description='Small easter e…"
      ]
     },
     "metadata": {},
     "output_type": "display_data"
    }
   ],
   "source": [
    "#Going on HTML\n",
    "#HTML\n",
    "\"\"\"\n",
    "Allows us to use HTML tags to write text\n",
    "\"\"\"\n",
    "html = widgets.HTML(\"My name is <a href=https://docs.python.org/3/contents.html>Carlo</a>\",placeholder=\"My name\",description=\"Small easter egg:\")\n",
    "display(html)"
   ]
  },
  {
   "cell_type": "code",
   "execution_count": 20,
   "metadata": {},
   "outputs": [
    {
     "data": {
      "application/vnd.jupyter.widget-view+json": {
       "model_id": "888ef19e691c48fdbb59c9915e66e52c",
       "version_major": 2,
       "version_minor": 0
      },
      "text/plain": [
       "HTMLMath(value='\\\\(1102^2\\\\) ')"
      ]
     },
     "metadata": {},
     "output_type": "display_data"
    }
   ],
   "source": [
    "#HTMLMath\n",
    "\"\"\"\n",
    "Allows us to write mathematics in HTML\n",
    "\"\"\"\n",
    "htmlmath = widgets.HTMLMath(\"\\(1102^2\\) \")\n",
    "display(htmlmath)"
   ]
  },
  {
   "cell_type": "code",
   "execution_count": null,
   "metadata": {},
   "outputs": [],
   "source": [
    "#About images\n",
    "#Image\n",
    "\"\"\"\n",
    "How to open a photo\n",
    "\"\"\"\n",
    "file = open(\"images/fireworks.png\")\n",
    "image = file.read()\n",
    "widgets.Image(value=image,format=\"png\",width=1600,height=900)\n",
    "#I don't have any photo"
   ]
  }
 ],
 "metadata": {
  "kernelspec": {
   "display_name": "Python 3",
   "language": "python",
   "name": "python3"
  },
  "language_info": {
   "codemirror_mode": {
    "name": "ipython",
    "version": 3
   },
   "file_extension": ".py",
   "mimetype": "text/x-python",
   "name": "python",
   "nbconvert_exporter": "python",
   "pygments_lexer": "ipython3",
   "version": "3.7.6"
  }
 },
 "nbformat": 4,
 "nbformat_minor": 4
}
