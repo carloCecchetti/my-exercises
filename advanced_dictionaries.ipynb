{
 "cells": [
  {
   "cell_type": "markdown",
   "metadata": {},
   "source": [
    "Advanced Dictionaries 07/06/2020"
   ]
  },
  {
   "cell_type": "code",
   "execution_count": 84,
   "metadata": {},
   "outputs": [],
   "source": [
    "d = {\"k1\":1,\"k2\":2} #our dict"
   ]
  },
  {
   "cell_type": "code",
   "execution_count": 121,
   "metadata": {},
   "outputs": [
    {
     "data": {
      "text/plain": [
       "{1: 1, 2: 4, 3: 9, 4: 16, 5: 25}"
      ]
     },
     "execution_count": 121,
     "metadata": {},
     "output_type": "execute_result"
    }
   ],
   "source": [
    "#dictionary comprhension\n",
    "\"\"\"\n",
    "as list, dictionaries support commprehension to creat them in a faster way\n",
    "\"\"\"\n",
    "d = {x:x**2 for x in range(1,6)}\n",
    "\"\"\"\n",
    "for x in range(1,10)\n",
    "key = x\n",
    "value = x**2\n",
    "\n",
    "x=1\n",
    "key = \"1\"\n",
    "value = 1**2\n",
    "\n",
    "{key:value <way to create keys and values>}\n",
    "\"\"\"\n",
    "d"
   ]
  },
  {
   "cell_type": "code",
   "execution_count": 122,
   "metadata": {},
   "outputs": [
    {
     "data": {
      "text/plain": [
       "{0: 3, 1: 4}"
      ]
     },
     "execution_count": 122,
     "metadata": {},
     "output_type": "execute_result"
    }
   ],
   "source": [
    "{k:v for k,v in zip(range(2),range(3,5))}"
   ]
  },
  {
   "cell_type": "code",
   "execution_count": 123,
   "metadata": {},
   "outputs": [
    {
     "name": "stdout",
     "output_type": "stream",
     "text": [
      "(1, 1)\n",
      "(2, 4)\n",
      "(3, 9)\n",
      "(4, 16)\n",
      "(5, 25)\n",
      "\n",
      "1\n",
      "2\n",
      "3\n",
      "4\n",
      "5\n",
      "\n",
      "1\n",
      "4\n",
      "9\n",
      "16\n",
      "25\n",
      "\n"
     ]
    }
   ],
   "source": [
    "#iterations\n",
    "\"\"\"\n",
    ".items() return a tuple (key,value)\n",
    "\"\"\"\n",
    "for keynvalue in d.items():\n",
    "    print(keynvalue)  \n",
    "print()\n",
    "\"\"\"\n",
    ".keys() return only the keys\n",
    "\"\"\"\n",
    "for key in d.keys():\n",
    "    print(key)\n",
    "print()\n",
    "\"\"\"\n",
    ".values() return only the values\n",
    "\"\"\"\n",
    "for value in d.values():\n",
    "    print(value)\n",
    "print()"
   ]
  },
  {
   "cell_type": "code",
   "execution_count": 124,
   "metadata": {},
   "outputs": [
    {
     "name": "stdout",
     "output_type": "stream",
     "text": [
      "{} {1: 1, 2: 4, 3: 9, 4: 16, 5: 25}\n"
     ]
    }
   ],
   "source": [
    "#as sets dicts have .copy()\n",
    "\"\"\"\n",
    "create a copy of the original dictionary. The copy won't be affected by any change in the original one\n",
    "\"\"\"\n",
    "dcopy = d.copy()\n",
    "#we have also .clear() with remove all the keys (so also the values)\n",
    "d.clear()\n",
    "print(d,dcopy) #d is empty, bcopy isn't"
   ]
  },
  {
   "cell_type": "code",
   "execution_count": 125,
   "metadata": {},
   "outputs": [
    {
     "data": {
      "text/plain": [
       "{'1': 'the value will be the sameblabla',\n",
       " '2': 'the value will be the sameblabla',\n",
       " '3': 'the value will be the sameblabla',\n",
       " '4': 'the value will be the sameblabla'}"
      ]
     },
     "execution_count": 125,
     "metadata": {},
     "output_type": "execute_result"
    }
   ],
   "source": [
    "#.fromkeys()\n",
    "\"\"\"\n",
    "create keys with by itereting the first parameter and as value it'll assign the second parameter\n",
    "\"\"\"\n",
    "d.fromkeys(\"1234\",\"the value will be the same\"\"blabla\")"
   ]
  },
  {
   "cell_type": "code",
   "execution_count": 126,
   "metadata": {},
   "outputs": [
    {
     "data": {
      "text/plain": [
       "16"
      ]
     },
     "execution_count": 126,
     "metadata": {},
     "output_type": "execute_result"
    }
   ],
   "source": [
    "#.get()\n",
    "\"\"\"\n",
    "Return the value of the written key. If the key doesn't exist nothing will be printed (no error) \n",
    "\"\"\"\n",
    "dcopy.get(4)"
   ]
  },
  {
   "cell_type": "code",
   "execution_count": 127,
   "metadata": {},
   "outputs": [
    {
     "data": {
      "text/plain": [
       "{1: 1, 2: 4, 3: 9, 5: 25}"
      ]
     },
     "execution_count": 127,
     "metadata": {},
     "output_type": "execute_result"
    }
   ],
   "source": [
    "#.pop()\n",
    "\"\"\"\n",
    "remove the key and return the value of the written key\n",
    "\"\"\"\n",
    "dcopy.pop(4)\n",
    "dcopy #there is no key called 4"
   ]
  },
  {
   "cell_type": "code",
   "execution_count": 128,
   "metadata": {},
   "outputs": [
    {
     "data": {
      "text/plain": [
       "(5, 25)"
      ]
     },
     "execution_count": 128,
     "metadata": {},
     "output_type": "execute_result"
    }
   ],
   "source": [
    "#.popitem()\n",
    "\"\"\"\n",
    "pop the last item and return only key,value as a tuple\n",
    "\"\"\"\n",
    "dcopy.popitem()"
   ]
  },
  {
   "cell_type": "code",
   "execution_count": 129,
   "metadata": {},
   "outputs": [
    {
     "data": {
      "text/plain": [
       "(3, 9)"
      ]
     },
     "execution_count": 129,
     "metadata": {},
     "output_type": "execute_result"
    }
   ],
   "source": [
    "dcopy.popitem() #remember that key 4 got removed by .pop(4)"
   ]
  },
  {
   "cell_type": "code",
   "execution_count": 130,
   "metadata": {},
   "outputs": [
    {
     "data": {
      "text/plain": [
       "16"
      ]
     },
     "execution_count": 130,
     "metadata": {},
     "output_type": "execute_result"
    }
   ],
   "source": [
    "#.setdefault()\n",
    "\"\"\"\n",
    "add (key,value) if the key written doesn't exist\n",
    "it also return the value added\n",
    "\"\"\"\n",
    "dcopy.setdefault(4,4**2)"
   ]
  },
  {
   "cell_type": "code",
   "execution_count": 131,
   "metadata": {},
   "outputs": [
    {
     "data": {
      "text/plain": [
       "{1: 1, 2: 4, 4: 16}"
      ]
     },
     "execution_count": 131,
     "metadata": {},
     "output_type": "execute_result"
    }
   ],
   "source": [
    "dcopy #key 3 and key 5 got removed. The key 4 got added by .setdefault()"
   ]
  },
  {
   "cell_type": "code",
   "execution_count": 144,
   "metadata": {},
   "outputs": [
    {
     "name": "stdout",
     "output_type": "stream",
     "text": [
      "{1: 1, 2: 4}\n",
      "{1: 4, 2: 7, 3: 12, 4: 19}\n"
     ]
    }
   ],
   "source": [
    "#.update()\n",
    "\"\"\"\n",
    "If d1's key exist in d: d's keys will get d1's values\n",
    "if d1's key DO NOT exist in d: add to d the d1's keys with thei value\n",
    "\"\"\"\n",
    "d = {x:x**2 for x in range(1,3)}\n",
    "d1 = {x:x**2+3 for x in range(1,5)}\n",
    "print(d)\n",
    "print(d1)"
   ]
  },
  {
   "cell_type": "code",
   "execution_count": 145,
   "metadata": {},
   "outputs": [
    {
     "data": {
      "text/plain": [
       "{1: 4, 2: 7, 3: 12, 4: 19}"
      ]
     },
     "execution_count": 145,
     "metadata": {},
     "output_type": "execute_result"
    }
   ],
   "source": [
    "d.update(d1)\n",
    "\"\"\"\n",
    "d keys (1,2) became d1 keys and earn the others d1 keys that do not exist in d\n",
    "\"\"\"\n",
    "d"
   ]
  },
  {
   "cell_type": "code",
   "execution_count": 150,
   "metadata": {},
   "outputs": [
    {
     "data": {
      "text/plain": [
       "7"
      ]
     },
     "execution_count": 150,
     "metadata": {},
     "output_type": "execute_result"
    }
   ],
   "source": [
    "#you can index dictionaries\n",
    "d[2]"
   ]
  },
  {
   "cell_type": "markdown",
   "metadata": {},
   "source": [
    "Advanced Dictionaries 07/06/2020"
   ]
  },
  {
   "cell_type": "code",
   "execution_count": 84,
   "metadata": {},
   "outputs": [],
   "source": [
    "d = {\"k1\":1,\"k2\":2} #our dict"
   ]
  },
  {
   "cell_type": "code",
   "execution_count": 121,
   "metadata": {},
   "outputs": [
    {
     "data": {
      "text/plain": [
       "{1: 1, 2: 4, 3: 9, 4: 16, 5: 25}"
      ]
     },
     "execution_count": 121,
     "metadata": {},
     "output_type": "execute_result"
    }
   ],
   "source": [
    "#dictionary comprhension\n",
    "\"\"\"\n",
    "as list, dictionaries support commprehension to creat them in a faster way\n",
    "\"\"\"\n",
    "d = {x:x**2 for x in range(1,6)}\n",
    "\"\"\"\n",
    "for x in range(1,10)\n",
    "key = x\n",
    "value = x**2\n",
    "\n",
    "x=1\n",
    "key = \"1\"\n",
    "value = 1**2\n",
    "\n",
    "{key:value <way to create keys and values>}\n",
    "\"\"\"\n",
    "d"
   ]
  },
  {
   "cell_type": "code",
   "execution_count": 122,
   "metadata": {},
   "outputs": [
    {
     "data": {
      "text/plain": [
       "{0: 3, 1: 4}"
      ]
     },
     "execution_count": 122,
     "metadata": {},
     "output_type": "execute_result"
    }
   ],
   "source": [
    "{k:v for k,v in zip(range(2),range(3,5))}"
   ]
  },
  {
   "cell_type": "code",
   "execution_count": 123,
   "metadata": {},
   "outputs": [
    {
     "name": "stdout",
     "output_type": "stream",
     "text": [
      "(1, 1)\n",
      "(2, 4)\n",
      "(3, 9)\n",
      "(4, 16)\n",
      "(5, 25)\n",
      "\n",
      "1\n",
      "2\n",
      "3\n",
      "4\n",
      "5\n",
      "\n",
      "1\n",
      "4\n",
      "9\n",
      "16\n",
      "25\n",
      "\n"
     ]
    }
   ],
   "source": [
    "#iterations\n",
    "\"\"\"\n",
    ".items() return a tuple (key,value)\n",
    "\"\"\"\n",
    "for keynvalue in d.items():\n",
    "    print(keynvalue)  \n",
    "print()\n",
    "\"\"\"\n",
    ".keys() return only the keys\n",
    "\"\"\"\n",
    "for key in d.keys():\n",
    "    print(key)\n",
    "print()\n",
    "\"\"\"\n",
    ".values() return only the values\n",
    "\"\"\"\n",
    "for value in d.values():\n",
    "    print(value)\n",
    "print()"
   ]
  },
  {
   "cell_type": "code",
   "execution_count": 124,
   "metadata": {},
   "outputs": [
    {
     "name": "stdout",
     "output_type": "stream",
     "text": [
      "{} {1: 1, 2: 4, 3: 9, 4: 16, 5: 25}\n"
     ]
    }
   ],
   "source": [
    "#as sets dicts have .copy()\n",
    "\"\"\"\n",
    "create a copy of the original dictionary. The copy won't be affected by any change in the original one\n",
    "\"\"\"\n",
    "dcopy = d.copy()\n",
    "#we have also .clear() with remove all the keys (so also the values)\n",
    "d.clear()\n",
    "print(d,dcopy) #d is empty, bcopy isn't"
   ]
  },
  {
   "cell_type": "code",
   "execution_count": 125,
   "metadata": {},
   "outputs": [
    {
     "data": {
      "text/plain": [
       "{'1': 'the value will be the sameblabla',\n",
       " '2': 'the value will be the sameblabla',\n",
       " '3': 'the value will be the sameblabla',\n",
       " '4': 'the value will be the sameblabla'}"
      ]
     },
     "execution_count": 125,
     "metadata": {},
     "output_type": "execute_result"
    }
   ],
   "source": [
    "#.fromkeys()\n",
    "\"\"\"\n",
    "create keys with by itereting the first parameter and as value it'll assign the second parameter\n",
    "\"\"\"\n",
    "d.fromkeys(\"1234\",\"the value will be the same\"\"blabla\")"
   ]
  },
  {
   "cell_type": "code",
   "execution_count": 126,
   "metadata": {},
   "outputs": [
    {
     "data": {
      "text/plain": [
       "16"
      ]
     },
     "execution_count": 126,
     "metadata": {},
     "output_type": "execute_result"
    }
   ],
   "source": [
    "#.get()\n",
    "\"\"\"\n",
    "Return the value of the written key. If the key doesn't exist nothing will be printed (no error) \n",
    "\"\"\"\n",
    "dcopy.get(4)"
   ]
  },
  {
   "cell_type": "code",
   "execution_count": 127,
   "metadata": {},
   "outputs": [
    {
     "data": {
      "text/plain": [
       "{1: 1, 2: 4, 3: 9, 5: 25}"
      ]
     },
     "execution_count": 127,
     "metadata": {},
     "output_type": "execute_result"
    }
   ],
   "source": [
    "#.pop()\n",
    "\"\"\"\n",
    "remove the key and return the value of the written key\n",
    "\"\"\"\n",
    "dcopy.pop(4)\n",
    "dcopy #there is no key called 4"
   ]
  },
  {
   "cell_type": "code",
   "execution_count": 128,
   "metadata": {},
   "outputs": [
    {
     "data": {
      "text/plain": [
       "(5, 25)"
      ]
     },
     "execution_count": 128,
     "metadata": {},
     "output_type": "execute_result"
    }
   ],
   "source": [
    "#.popitem()\n",
    "\"\"\"\n",
    "pop the last item and return only key,value as a tuple\n",
    "\"\"\"\n",
    "dcopy.popitem()"
   ]
  },
  {
   "cell_type": "code",
   "execution_count": 129,
   "metadata": {},
   "outputs": [
    {
     "data": {
      "text/plain": [
       "(3, 9)"
      ]
     },
     "execution_count": 129,
     "metadata": {},
     "output_type": "execute_result"
    }
   ],
   "source": [
    "dcopy.popitem() #remember that key 4 got removed by .pop(4)"
   ]
  },
  {
   "cell_type": "code",
   "execution_count": 130,
   "metadata": {},
   "outputs": [
    {
     "data": {
      "text/plain": [
       "16"
      ]
     },
     "execution_count": 130,
     "metadata": {},
     "output_type": "execute_result"
    }
   ],
   "source": [
    "#.setdefault()\n",
    "\"\"\"\n",
    "add (key,value) if the key written doesn't exist\n",
    "it also return the value added\n",
    "\"\"\"\n",
    "dcopy.setdefault(4,4**2)"
   ]
  },
  {
   "cell_type": "code",
   "execution_count": 131,
   "metadata": {},
   "outputs": [
    {
     "data": {
      "text/plain": [
       "{1: 1, 2: 4, 4: 16}"
      ]
     },
     "execution_count": 131,
     "metadata": {},
     "output_type": "execute_result"
    }
   ],
   "source": [
    "dcopy #key 3 and key 5 got removed. The key 4 got added by .setdefault()"
   ]
  },
  {
   "cell_type": "code",
   "execution_count": 144,
   "metadata": {},
   "outputs": [
    {
     "name": "stdout",
     "output_type": "stream",
     "text": [
      "{1: 1, 2: 4}\n",
      "{1: 4, 2: 7, 3: 12, 4: 19}\n"
     ]
    }
   ],
   "source": [
    "#.update()\n",
    "\"\"\"\n",
    "If d1's key exist in d: d's keys will get d1's values\n",
    "if d1's key DO NOT exist in d: add to d the d1's keys with thei value\n",
    "\"\"\"\n",
    "d = {x:x**2 for x in range(1,3)}\n",
    "d1 = {x:x**2+3 for x in range(1,5)}\n",
    "print(d)\n",
    "print(d1)"
   ]
  },
  {
   "cell_type": "code",
   "execution_count": 145,
   "metadata": {},
   "outputs": [
    {
     "data": {
      "text/plain": [
       "{1: 4, 2: 7, 3: 12, 4: 19}"
      ]
     },
     "execution_count": 145,
     "metadata": {},
     "output_type": "execute_result"
    }
   ],
   "source": [
    "d.update(d1)\n",
    "\"\"\"\n",
    "d keys (1,2) became d1 keys and earn the others d1 keys that do not exist in d\n",
    "\"\"\"\n",
    "d"
   ]
  },
  {
   "cell_type": "code",
   "execution_count": 150,
   "metadata": {},
   "outputs": [
    {
     "data": {
      "text/plain": [
       "7"
      ]
     },
     "execution_count": 150,
     "metadata": {},
     "output_type": "execute_result"
    }
   ],
   "source": [
    "#you can index dictionaries\n",
    "d[2]"
   ]
  }
 ],
 "metadata": {
  "kernelspec": {
   "display_name": "Python 3",
   "language": "python",
   "name": "python3"
  },
  "language_info": {
   "codemirror_mode": {
    "name": "ipython",
    "version": 3
   },
   "file_extension": ".py",
   "mimetype": "text/x-python",
   "name": "python",
   "nbconvert_exporter": "python",
   "pygments_lexer": "ipython3",
   "version": "3.7.6"
  }
 },
 "nbformat": 4,
 "nbformat_minor": 4
}
