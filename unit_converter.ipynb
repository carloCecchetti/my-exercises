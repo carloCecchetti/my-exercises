{
 "cells": [
  {
   "cell_type": "code",
   "execution_count": 1,
   "metadata": {},
   "outputs": [],
   "source": [
    "#Unit converter\n",
    "\"\"\"\n",
    "For each unit you have to do the same steps:\n",
    "    \n",
    "    if start_unit = \"<what you want>\" and end_unit==\"<what you want>\":\n",
    "        print(<formula to convert the value>)\n",
    "\"\"\"\n",
    "\n",
    "def converter(start_unit=\"\", end_unit=\"\", value=0):\n",
    "    start_unit=input(\"start unit: \")\n",
    "    end_unit = input(\"end unit: \")\n",
    "    value=input(\"Enter the value you want to convert : \")\n",
    "    \n",
    "    if start_unit==\"km\" and end_unit==\"m\":\n",
    "        print(value, \" km = \", int(value)*1000, \" m\")\n",
    "        \n",
    "    if start_unit==\"m/s\" and end_unit==\"km/h\":\n",
    "        print(value, \" m/s = \", int(value)*3.6, \" km/h\")\n",
    "    \n",
    "    if start_unit==\"km/h\" and end_unit==\"m/s\":\n",
    "        print(value, \" km/h = \", int(value)/3.6, \" m/s\")"
   ]
  },
  {
   "cell_type": "code",
   "execution_count": null,
   "metadata": {},
   "outputs": [],
   "source": []
  }
 ],
 "metadata": {
  "kernelspec": {
   "display_name": "Python 3",
   "language": "python",
   "name": "python3"
  },
  "language_info": {
   "codemirror_mode": {
    "name": "ipython",
    "version": 3
   },
   "file_extension": ".py",
   "mimetype": "text/x-python",
   "name": "python",
   "nbconvert_exporter": "python",
   "pygments_lexer": "ipython3",
   "version": "3.7.6"
  }
 },
 "nbformat": 4,
 "nbformat_minor": 4
}
