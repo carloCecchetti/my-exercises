{
 "cells": [
  {
   "cell_type": "markdown",
   "metadata": {},
   "source": [
    "09/08/2020"
   ]
  },
  {
   "cell_type": "code",
   "execution_count": 27,
   "metadata": {},
   "outputs": [
    {
     "data": {
      "text/plain": [
       "'BCDEF ghijk !15'"
      ]
     },
     "execution_count": 27,
     "metadata": {},
     "output_type": "execute_result"
    }
   ],
   "source": [
    "#caesar encryption\n",
    "def caesar_encrypt(text, key):\n",
    "    crypted_text = []\n",
    "    \n",
    "    upper_letters = ['A', 'B', 'C', 'D', 'E', 'F', 'G', 'H', 'I', 'J', 'K', 'L', 'M', 'N', 'O', 'P', 'Q', 'R', 'S', 'T', 'U', 'V', 'W', 'X', 'Y', 'Z']\n",
    "    lower_letters = ['a', 'b', 'c', 'd', 'e', 'f', 'g', 'h', 'i', 'j', 'k', 'l', 'm', 'n', 'o', 'p', 'q', 'r', 's', 't', 'u', 'v', 'w', 'x', 'y', 'z']\n",
    "    \n",
    "    for i in text:\n",
    "        if i.islower():\n",
    "            crypt_index = lower_letters.index(i) + key\n",
    "            if crypt_index >= 26: #to avoid the list index out of range error\n",
    "                crypt_index -= 26\n",
    "                \n",
    "            crypted_text.append(lower_letters[crypt_index])\n",
    "        \n",
    "        elif i.isupper():\n",
    "            crypt_index = upper_letters.index(i) + key\n",
    "            if crypt_index >= 26: #to avoid the list index out of range error\n",
    "                crypt_index -= 26\n",
    "            \n",
    "            crypted_text.append(upper_letters[crypt_index])\n",
    "            \n",
    "        else:\n",
    "            crypted_text.append(i)\n",
    "            \n",
    "    return \"\".join(crypted_text) #spaces or numbers or symbols\n",
    "            \n",
    "caesar_encrypt(\"ABCDE fghij !15\",1)"
   ]
  },
  {
   "cell_type": "code",
   "execution_count": 31,
   "metadata": {},
   "outputs": [
    {
     "name": "stdout",
     "output_type": "stream",
     "text": [
      "923456781\n"
     ]
    }
   ],
   "source": [
    "#exchange the first with the last letter\n",
    "def exchanger(text):\n",
    "    print(text[-1]+text[1:-1]+text[0])\n",
    "    \n",
    "exchanger(\"123456789\")"
   ]
  },
  {
   "cell_type": "code",
   "execution_count": 34,
   "metadata": {},
   "outputs": [
    {
     "data": {
      "text/plain": [
       "{'g': 2, 'o': 2, 'l': 1, 'e': 1}"
      ]
     },
     "execution_count": 34,
     "metadata": {},
     "output_type": "execute_result"
    }
   ],
   "source": [
    "#frequency calculator\n",
    "#it's the same of the first frequency calculator, just give a string instead of a list\n",
    "def freq_calc(l):\n",
    "    freq = {}\n",
    "    \n",
    "    for x in l:\n",
    "        if x not in freq:\n",
    "            x_freq = l.count(x)\n",
    "            freq.update( {x : x_freq} )\n",
    "            \n",
    "    return freq\n",
    "\n",
    "freq_calc(\"google\")"
   ]
  }
 ],
 "metadata": {
  "kernelspec": {
   "display_name": "Python 3",
   "language": "python",
   "name": "python3"
  },
  "language_info": {
   "codemirror_mode": {
    "name": "ipython",
    "version": 3
   },
   "file_extension": ".py",
   "mimetype": "text/x-python",
   "name": "python",
   "nbconvert_exporter": "python",
   "pygments_lexer": "ipython3",
   "version": "3.7.6"
  }
 },
 "nbformat": 4,
 "nbformat_minor": 4
}
