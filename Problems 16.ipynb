{
 "cells": [
  {
   "cell_type": "markdown",
   "metadata": {},
   "source": [
    "17/08/2020"
   ]
  },
  {
   "cell_type": "code",
   "execution_count": 25,
   "metadata": {},
   "outputs": [
    {
     "data": {
      "text/plain": [
       "3"
      ]
     },
     "execution_count": 25,
     "metadata": {},
     "output_type": "execute_result"
    }
   ],
   "source": [
    "#convert from bin to dec\n",
    "def bin_to_dec(n):\n",
    "    return int(n, base = 2) #we can define a second argument which is the base\n",
    "    \n",
    "bin_to_dec(\"11\") #must be given as a str"
   ]
  },
  {
   "cell_type": "code",
   "execution_count": 19,
   "metadata": {},
   "outputs": [
    {
     "name": "stdin",
     "output_type": "stream",
     "text": [
      " 10 1011 1010\n"
     ]
    },
    {
     "name": "stdout",
     "output_type": "stream",
     "text": [
      "698\n"
     ]
    }
   ],
   "source": [
    "#bin to dec without modules\n",
    "def bin_to_dec_no_module():\n",
    "    n = input()\n",
    "    decimal = 0\n",
    "    position = 0\n",
    "    for one_zero in n[::-1]:\n",
    "        if one_zero == \" \": #as the given number, there may be a space each 4 digits\n",
    "            continue\n",
    "        if one_zero == \"1\":\n",
    "            decimal += 2**position\n",
    "        position += 1\n",
    "    \n",
    "    print(decimal)\n",
    "bin_to_dec_no_module()            "
   ]
  },
  {
   "cell_type": "code",
   "execution_count": 48,
   "metadata": {},
   "outputs": [
    {
     "name": "stdout",
     "output_type": "stream",
     "text": [
      "Heads:  504\n",
      "Tails: 496\n"
     ]
    }
   ],
   "source": [
    "#tail-head 1000 times\n",
    "from random import randint\n",
    "def coin_flip():\n",
    "    head_count, tail_count = 0, 0\n",
    "    \n",
    "    for x in range(1000):\n",
    "        flip = randint(0,1)\n",
    "        if flip == 1:\n",
    "            head_count += 1\n",
    "        else:\n",
    "            tail_count += 1\n",
    "        \n",
    "    print(f\"Heads:  {head_count}\\nTails: {tail_count}\")\n",
    "                \n",
    "coin_flip()"
   ]
  },
  {
   "cell_type": "code",
   "execution_count": 67,
   "metadata": {},
   "outputs": [
    {
     "name": "stdout",
     "output_type": "stream",
     "text": [
      "67\n",
      "88\n",
      "137\n",
      "169\n",
      "199\n",
      "225\n",
      "306\n",
      "391\n",
      "418\n",
      "458\n",
      "533\n",
      "573\n",
      "615\n",
      "679\n",
      "685\n",
      "762\n",
      "787\n",
      "825\n",
      "836\n",
      "890\n",
      "938\n",
      "1021\n"
     ]
    }
   ],
   "source": [
    "#random unique numbers\n",
    "from random import randint\n",
    "def random_unique(times):\n",
    "    n = 1\n",
    "    \n",
    "    for i in range(times):\n",
    "        n += randint(1,87) #the 87 is a casual number\n",
    "        print(n)\n",
    "        \n",
    "random_unique(22)"
   ]
  }
 ],
 "metadata": {
  "kernelspec": {
   "display_name": "Python 3",
   "language": "python",
   "name": "python3"
  },
  "language_info": {
   "codemirror_mode": {
    "name": "ipython",
    "version": 3
   },
   "file_extension": ".py",
   "mimetype": "text/x-python",
   "name": "python",
   "nbconvert_exporter": "python",
   "pygments_lexer": "ipython3",
   "version": "3.7.6"
  }
 },
 "nbformat": 4,
 "nbformat_minor": 4
}
