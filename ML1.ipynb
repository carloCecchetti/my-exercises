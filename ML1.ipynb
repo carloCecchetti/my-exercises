{
 "cells": [
  {
   "cell_type": "markdown",
   "metadata": {},
   "source": [
    "## Machine Learning\n",
    "ML is a subfield of AI   \n",
    "It's the study of algos that learn from examples and experience (DATA)  \n",
    "Can you write a code that tell the fifferences between an apple and an orange?\n",
    "Without ML it's nearly impossible (I mean nearly because in a such easy problem, you can code a program that tells if it's an apple or an orange. Things become **impossible** when there are changing light condition, changing backgrounds, changing subject position, ...) You should write an infinite set of rules to make it work.\n",
    "\n",
    "For my first ML project I'm going to use [**scikit-learn**](https://scikit-learn.org/stable/install.html) library. This project is based on Supervised Learning Algorithm\n",
    "\n",
    ">Starting by import scikit-learn library   \n",
    ">\n",
    ">features : In Supervised Learning Algorithm, features are the characteristics of the stuff we want to elaborate in our algorithm. They might be color, texture, dimensions, shape, etc etc       \n",
    ">\n",
    ">labels : In Supervised Learning Algorithm, labels are the possible results we want to get -> If we want to make it tell the difference between a car and a bike, car and bike will be the elements of labels' list   \n",
    ">"
   ]
  },
  {
   "cell_type": "code",
   "execution_count": 60,
   "metadata": {},
   "outputs": [
    {
     "name": "stdout",
     "output_type": "stream",
     "text": [
      "[0]\n"
     ]
    }
   ],
   "source": [
    "from sklearn import tree\n",
    "#training data set\n",
    "features = [[2,90,50],[2,138,650],[2,107,200],[4,900,1400],[2,170,1200],[4,1800,2500]] #[[number of wheels, weight (kg), displacement (cc)]]\n",
    "labels = [1,1,1,0,1,0] #1 = bike, 0 = car\n",
    "#creating our classifier tree\n",
    "classifier = tree.DecisionTreeClassifier()\n",
    "#training classifier (decision tree). There are different classifiers but input and output are always the same\n",
    "classifier = classifier.fit(features, labels) #.fit() is like saying find patterns in the data\n",
    "#now that the classifier is trained, let's \n",
    "print(classifier.predict([[4,1300,1600,]]))"
   ]
  },
  {
   "cell_type": "code",
   "execution_count": 61,
   "metadata": {},
   "outputs": [
    {
     "name": "stdout",
     "output_type": "stream",
     "text": [
      "[1]\n"
     ]
    }
   ],
   "source": [
    "#3 wheels car\n",
    "print(classifier.predict([[3,536,1441]])) #three wheels car."
   ]
  },
  {
   "cell_type": "code",
   "execution_count": 62,
   "metadata": {},
   "outputs": [
    {
     "name": "stdout",
     "output_type": "stream",
     "text": [
      "[1]\n"
     ]
    }
   ],
   "source": [
    "#ducati 999 \n",
    "print(classifier.predict([[2,186,999]]))"
   ]
  },
  {
   "cell_type": "markdown",
   "metadata": {},
   "source": [
    "The results are what we are looking for.  \n",
    "But there's a problem with the 3 wheels car example. It return 0 (Car) because in the training data I put the characteristics of a lightweight car.  \n",
    "If I wrote only normal cars, maybe the result would be 1 (Bike)."
   ]
  }
 ],
 "metadata": {
  "kernelspec": {
   "display_name": "Python 3",
   "language": "python",
   "name": "python3"
  },
  "language_info": {
   "codemirror_mode": {
    "name": "ipython",
    "version": 3
   },
   "file_extension": ".py",
   "mimetype": "text/x-python",
   "name": "python",
   "nbconvert_exporter": "python",
   "pygments_lexer": "ipython3",
   "version": "3.8.3"
  }
 },
 "nbformat": 4,
 "nbformat_minor": 4
}
