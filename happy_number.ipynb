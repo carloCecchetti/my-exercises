{
 "cells": [
  {
   "cell_type": "code",
   "execution_count": 15,
   "metadata": {},
   "outputs": [],
   "source": [
    "#happy numbers\n",
    "\"\"\"\n",
    "user writes the number to check\n",
    "n_print will be used to print at the end of all\n",
    "sum_of_all = will be the sum of the squares of each digit of the number\n",
    "\n",
    "finishes if the n is 1\n",
    "    sum_of_all must change each time\n",
    "    index the str(number)\n",
    "        sum_of_all = the sum of the squares of each digit of the number\n",
    "        \n",
    "    print each sum\n",
    "    the new number to check is the sum of all\n",
    "    \n",
    "print if it's a happy number\n",
    "\"\"\"\n",
    "def happy_n():\n",
    "    n = input(\"What number do you want to check? \")\n",
    "    n_print = n\n",
    "    sum_of_all= 0 \n",
    "    \n",
    "    while n != \"1\":\n",
    "        sum_of_all=0\n",
    "        for x in range(len(n)):\n",
    "            sum_of_all += int(n[x])**2\n",
    "        \n",
    "        print(sum_of_all)\n",
    "        n=str(sum_of_all)\n",
    "        \n",
    "    print(\"\\n\",n_print, \" is a happy number!\")"
   ]
  }
 ],
 "metadata": {
  "kernelspec": {
   "display_name": "Python 3",
   "language": "python",
   "name": "python3"
  },
  "language_info": {
   "codemirror_mode": {
    "name": "ipython",
    "version": 3
   },
   "file_extension": ".py",
   "mimetype": "text/x-python",
   "name": "python",
   "nbconvert_exporter": "python",
   "pygments_lexer": "ipython3",
   "version": "3.7.6"
  }
 },
 "nbformat": 4,
 "nbformat_minor": 4
}
