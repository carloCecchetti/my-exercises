{
 "cells": [
  {
   "cell_type": "code",
   "execution_count": 2,
   "metadata": {},
   "outputs": [],
   "source": [
    "#pig latin\n",
    "\"\"\"\n",
    "if starts with a vowel:\n",
    "examples -> xampleeay\n",
    "if starts with a consonat:\n",
    "add \"way\" to the end: banana -> bananaway \n",
    "\"\"\"\n",
    "def pig_latin(string):\n",
    "\tif string.lower()[0] in [\"a\",\"e\",\"i\",\"o\",\"u\"]:\n",
    "\t\t print(f\"{string[1:]}{string[0]}ay\")\n",
    "\telse:\n",
    "\t\tprint(f\"{string}way\")"
   ]
  }
 ],
 "metadata": {
  "kernelspec": {
   "display_name": "Python 3",
   "language": "python",
   "name": "python3"
  },
  "language_info": {
   "codemirror_mode": {
    "name": "ipython",
    "version": 3
   },
   "file_extension": ".py",
   "mimetype": "text/x-python",
   "name": "python",
   "nbconvert_exporter": "python",
   "pygments_lexer": "ipython3",
   "version": "3.7.6"
  }
 },
 "nbformat": 4,
 "nbformat_minor": 4
}
