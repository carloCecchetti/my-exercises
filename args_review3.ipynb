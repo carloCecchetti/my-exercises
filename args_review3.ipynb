{
 "cells": [
  {
   "cell_type": "markdown",
   "metadata": {},
   "source": [
    "Review other arguments 14/06/2020"
   ]
  },
  {
   "cell_type": "code",
   "execution_count": 7,
   "metadata": {},
   "outputs": [
    {
     "name": "stdout",
     "output_type": "stream",
     "text": [
      "dict_keys(['__name__', '__doc__', '__package__', '__loader__', '__spec__', '__builtin__', '__builtins__', '_ih', '_oh', '_dh', 'In', 'Out', 'get_ipython', 'exit', 'quit', '_', '__', '___', '_i', '_ii', '_iii', '_i1', '_i2', '_i3', '_i4', '_i5', '_i6', '_i7'])\n",
      "\n",
      "\n",
      "\n",
      "dict_keys(['__name__', '__doc__', '__package__', '__loader__', '__spec__', '__builtin__', '__builtins__', '_ih', '_oh', '_dh', 'In', 'Out', 'get_ipython', 'exit', 'quit', '_', '__', '___', '_i', '_ii', '_iii', '_i1', '_i2', '_i3', '_i4', '_i5', '_i6', '_i7'])\n",
      "['C:\\\\Users\\\\carlo\\\\OneDrive\\\\Desktop\\\\Coding']\n"
     ]
    }
   ],
   "source": [
    "#decorators\n",
    "\"\"\"\n",
    "A function that modify other functions\n",
    "\"\"\"\n",
    "#before continuing I'd like to talk about locals and globals\n",
    "\"\"\"\n",
    "Because we are not in a function or a class the output will be the same.\n",
    "\"\"\"\n",
    "print(locals().keys())\n",
    "print(\"\\n\\n\")\n",
    "print(globals().keys())\n",
    "#they are the same and these are the stuff already declared\n",
    "print(_dh) #in fact we can call print them even if we haven't declared them"
   ]
  },
  {
   "cell_type": "code",
   "execution_count": 14,
   "metadata": {},
   "outputs": [],
   "source": [
    "glob_str = \"This is global string (outside the func)\"\n",
    "def glob_loc():\n",
    "    loc_str = \"This is local string (inside the func)\"\n",
    "    print(locals().keys()) #as output we will find only the local string\n",
    "    print(\"\\n\\n\")\n",
    "    print(globals().keys()) #here we will get only the global string"
   ]
  },
  {
   "cell_type": "code",
   "execution_count": 15,
   "metadata": {},
   "outputs": [
    {
     "name": "stdout",
     "output_type": "stream",
     "text": [
      "dict_keys(['loc_str'])\n",
      "\n",
      "\n",
      "\n",
      "dict_keys(['__name__', '__doc__', '__package__', '__loader__', '__spec__', '__builtin__', '__builtins__', '_ih', '_oh', '_dh', 'In', 'Out', 'get_ipython', 'exit', 'quit', '_', '__', '___', '_i', '_ii', '_iii', '_i1', '_i2', '_i3', '_i4', '_i5', '_i6', '_i7', '_i8', 'glob_loc', '_i9', '_i10', '_i11', '_i12', '_i13', '_i14', 'glob_str', '_i15'])\n"
     ]
    }
   ],
   "source": [
    "glob_loc()"
   ]
  },
  {
   "cell_type": "code",
   "execution_count": 20,
   "metadata": {},
   "outputs": [
    {
     "name": "stdout",
     "output_type": "stream",
     "text": [
      "This is global string (outside the func)\n"
     ]
    },
    {
     "ename": "KeyError",
     "evalue": "'loc_str'",
     "output_type": "error",
     "traceback": [
      "\u001b[1;31m---------------------------------------------------------------------------\u001b[0m",
      "\u001b[1;31mKeyError\u001b[0m                                  Traceback (most recent call last)",
      "\u001b[1;32m<ipython-input-20-4865c3159c0c>\u001b[0m in \u001b[0;36m<module>\u001b[1;34m\u001b[0m\n\u001b[0;32m      1\u001b[0m \u001b[0mprint\u001b[0m\u001b[1;33m(\u001b[0m\u001b[0mglobals\u001b[0m\u001b[1;33m(\u001b[0m\u001b[1;33m)\u001b[0m\u001b[1;33m[\u001b[0m\u001b[1;34m\"glob_str\"\u001b[0m\u001b[1;33m]\u001b[0m\u001b[1;33m)\u001b[0m \u001b[1;31m#since that's a global one we get an output\u001b[0m\u001b[1;33m\u001b[0m\u001b[1;33m\u001b[0m\u001b[0m\n\u001b[1;32m----> 2\u001b[1;33m \u001b[0mprint\u001b[0m\u001b[1;33m(\u001b[0m\u001b[0mglobals\u001b[0m\u001b[1;33m(\u001b[0m\u001b[1;33m)\u001b[0m\u001b[1;33m[\u001b[0m\u001b[1;34m\"loc_str\"\u001b[0m\u001b[1;33m]\u001b[0m\u001b[1;33m)\u001b[0m \u001b[1;31m#this is local so globals function returns an error\u001b[0m\u001b[1;33m\u001b[0m\u001b[1;33m\u001b[0m\u001b[0m\n\u001b[0m",
      "\u001b[1;31mKeyError\u001b[0m: 'loc_str'"
     ]
    }
   ],
   "source": [
    "print(globals()[\"glob_str\"]) #since that's a global one we get an output\n",
    "print(globals()[\"loc_str\"]) #this is local so globals function returns an error"
   ]
  },
  {
   "cell_type": "code",
   "execution_count": 23,
   "metadata": {},
   "outputs": [],
   "source": [
    "def hello(name = \"Carlo\"):\n",
    "    return f\"Hello {name}\""
   ]
  },
  {
   "cell_type": "code",
   "execution_count": 24,
   "metadata": {},
   "outputs": [
    {
     "data": {
      "text/plain": [
       "'Hello Carlo'"
      ]
     },
     "execution_count": 24,
     "metadata": {},
     "output_type": "execute_result"
    }
   ],
   "source": [
    "hello()"
   ]
  },
  {
   "cell_type": "code",
   "execution_count": 27,
   "metadata": {},
   "outputs": [
    {
     "data": {
      "text/plain": [
       "'Hello Carlo'"
      ]
     },
     "execution_count": 27,
     "metadata": {},
     "output_type": "execute_result"
    }
   ],
   "source": [
    "greet = hello #we can \"copy\" a func\n",
    "greet()"
   ]
  },
  {
   "cell_type": "code",
   "execution_count": 28,
   "metadata": {},
   "outputs": [
    {
     "data": {
      "text/plain": [
       "'Hello Carlo'"
      ]
     },
     "execution_count": 28,
     "metadata": {},
     "output_type": "execute_result"
    }
   ],
   "source": [
    "hello() #and both work"
   ]
  },
  {
   "cell_type": "code",
   "execution_count": 32,
   "metadata": {},
   "outputs": [
    {
     "ename": "NameError",
     "evalue": "name 'hello' is not defined",
     "output_type": "error",
     "traceback": [
      "\u001b[1;31m---------------------------------------------------------------------------\u001b[0m",
      "\u001b[1;31mNameError\u001b[0m                                 Traceback (most recent call last)",
      "\u001b[1;32m<ipython-input-32-605856891f8a>\u001b[0m in \u001b[0;36m<module>\u001b[1;34m\u001b[0m\n\u001b[1;32m----> 1\u001b[1;33m \u001b[1;32mdel\u001b[0m \u001b[0mhello\u001b[0m\u001b[1;33m\u001b[0m\u001b[1;33m\u001b[0m\u001b[0m\n\u001b[0m\u001b[0;32m      2\u001b[0m \u001b[0mhello\u001b[0m\u001b[1;33m(\u001b[0m\u001b[1;33m)\u001b[0m\u001b[1;33m\u001b[0m\u001b[1;33m\u001b[0m\u001b[0m\n",
      "\u001b[1;31mNameError\u001b[0m: name 'hello' is not defined"
     ]
    }
   ],
   "source": [
    "del hello \n",
    "hello() #then we delete the original "
   ]
  },
  {
   "cell_type": "code",
   "execution_count": 33,
   "metadata": {},
   "outputs": [
    {
     "data": {
      "text/plain": [
       "'Hello Carlo'"
      ]
     },
     "execution_count": 33,
     "metadata": {},
     "output_type": "execute_result"
    }
   ],
   "source": [
    "greet() #but the copy still works so they are not attached"
   ]
  },
  {
   "cell_type": "code",
   "execution_count": 52,
   "metadata": {},
   "outputs": [],
   "source": [
    "#let's talk about functions inside functions\n",
    "def start(n=1):\n",
    "    print(\"start() is done\")\n",
    "    \n",
    "    def first():\n",
    "        return \"\\t we are inside the first func\"\n",
    "    def second():\n",
    "        return \"\\t we are inside the second func\"\n",
    "    print(first())\n",
    "    print(second())\n",
    "    print(\"we are outside all\")"
   ]
  },
  {
   "cell_type": "code",
   "execution_count": 53,
   "metadata": {},
   "outputs": [
    {
     "name": "stdout",
     "output_type": "stream",
     "text": [
      "start() is done\n",
      "\t we are inside the first func\n",
      "\t we are inside the second func\n",
      "we are outside all\n"
     ]
    }
   ],
   "source": [
    "start() #all the func so also the 2 inside function will get initialized and called"
   ]
  },
  {
   "cell_type": "code",
   "execution_count": 55,
   "metadata": {},
   "outputs": [
    {
     "ename": "NameError",
     "evalue": "name 'first' is not defined",
     "output_type": "error",
     "traceback": [
      "\u001b[1;31m---------------------------------------------------------------------------\u001b[0m",
      "\u001b[1;31mNameError\u001b[0m                                 Traceback (most recent call last)",
      "\u001b[1;32m<ipython-input-55-5b6fc961b60b>\u001b[0m in \u001b[0;36m<module>\u001b[1;34m\u001b[0m\n\u001b[1;32m----> 1\u001b[1;33m \u001b[0mprint\u001b[0m\u001b[1;33m(\u001b[0m\u001b[0mfirst\u001b[0m\u001b[1;33m(\u001b[0m\u001b[1;33m)\u001b[0m\u001b[1;33m)\u001b[0m \u001b[1;31m#but we cannot call the inner func without calling the first\u001b[0m\u001b[1;33m\u001b[0m\u001b[1;33m\u001b[0m\u001b[0m\n\u001b[0m",
      "\u001b[1;31mNameError\u001b[0m: name 'first' is not defined"
     ]
    }
   ],
   "source": [
    "print(first()) #but we cannot call the inner func without calling the first"
   ]
  },
  {
   "cell_type": "code",
   "execution_count": 81,
   "metadata": {},
   "outputs": [],
   "source": [
    "\"\"\"\n",
    "In this 3 cells we are doing:\n",
    "\n",
    "defining start() func\n",
    "    where we define first() and second() funcs\n",
    "    and check if the start()'s parameter is 1 to return first() func\n",
    "    \n",
    "we assign x to hello() executed\n",
    "since the parameter is 2, hello is now second() func\n",
    "so if we print x() executed we get the second function\n",
    "\"\"\"\n",
    "def start(n=2):\n",
    "    \n",
    "    def first():\n",
    "        return \"\\t we are inside the first func\"\n",
    "    def second():\n",
    "        return \"\\t we are inside the second func\"\n",
    "    if n == 1:\n",
    "        return first\n",
    "    else:\n",
    "        return second"
   ]
  },
  {
   "cell_type": "code",
   "execution_count": 79,
   "metadata": {},
   "outputs": [],
   "source": [
    "x = start()"
   ]
  },
  {
   "cell_type": "code",
   "execution_count": 80,
   "metadata": {},
   "outputs": [
    {
     "name": "stdout",
     "output_type": "stream",
     "text": [
      "\t we are inside the second func\n"
     ]
    }
   ],
   "source": [
    "print(x())"
   ]
  },
  {
   "cell_type": "code",
   "execution_count": 161,
   "metadata": {},
   "outputs": [],
   "source": [
    "#we can set functions as arguments\n",
    "\"\"\"\n",
    "defining one() func\n",
    "\n",
    "defining numbers() func which takes any function as arguments\n",
    "    print(\"I talk ..\")\n",
    "    print(<the result of what would do the function written as parameter>)\n",
    "\"\"\"\n",
    "def one():\n",
    "    return \"1 is a good number\"\n",
    "def numbers(function):\n",
    "    print(\"I talk about numbers\")\n",
    "    print(function())"
   ]
  },
  {
   "cell_type": "code",
   "execution_count": 162,
   "metadata": {},
   "outputs": [
    {
     "name": "stdout",
     "output_type": "stream",
     "text": [
      "I talk about numbers\n",
      "1 is a good number\n"
     ]
    }
   ],
   "source": [
    "numbers(one) "
   ]
  },
  {
   "cell_type": "code",
   "execution_count": 165,
   "metadata": {},
   "outputs": [],
   "source": [
    "\"\"\"\n",
    "definig a func that requires another func\n",
    "defininf the required func\n",
    "\n",
    "saying that the required function = the first(required function) function\n",
    "and whene we call the required function we see what a decorator does\n",
    "\n",
    "\n",
    "defining only a func that requires another func\n",
    "saying that @ the func that requires another func we want to give the following func\n",
    "\n",
    "this is what a decorator basically does\n",
    "\"\"\"\n",
    "def new_decorator(func):\n",
    "    def wrap_func():\n",
    "        print(\"Before func()\")\n",
    "        func()\n",
    "        print(\"After func()\")\n",
    "    return wrap_func\n",
    "def needs_deco():\n",
    "    print(\"This is the func()\")"
   ]
  },
  {
   "cell_type": "code",
   "execution_count": 126,
   "metadata": {},
   "outputs": [
    {
     "name": "stdout",
     "output_type": "stream",
     "text": [
      "This is the func()\n"
     ]
    }
   ],
   "source": [
    "needs_deco()"
   ]
  },
  {
   "cell_type": "code",
   "execution_count": 127,
   "metadata": {},
   "outputs": [],
   "source": [
    "needs_deco = new_decorator(needs_deco)"
   ]
  },
  {
   "cell_type": "code",
   "execution_count": 128,
   "metadata": {},
   "outputs": [
    {
     "name": "stdout",
     "output_type": "stream",
     "text": [
      "Before func()\n",
      "This is the func()\n",
      "After func()\n"
     ]
    }
   ],
   "source": [
    "needs_deco()"
   ]
  },
  {
   "cell_type": "code",
   "execution_count": 136,
   "metadata": {},
   "outputs": [],
   "source": [
    "def new_decorator(func):\n",
    "    def wrap_func():\n",
    "        print(\"Before func()\")\n",
    "        func()\n",
    "        print(\"After func()\")\n",
    "    return wrap_func"
   ]
  },
  {
   "cell_type": "code",
   "execution_count": 137,
   "metadata": {},
   "outputs": [
    {
     "name": "stdout",
     "output_type": "stream",
     "text": [
      "Before func()\n",
      "This is the func()\n",
      "After func()\n"
     ]
    }
   ],
   "source": [
    "needs_deco()"
   ]
  },
  {
   "cell_type": "code",
   "execution_count": 141,
   "metadata": {},
   "outputs": [],
   "source": [
    "@new_decorator\n",
    "def needs_deco():\n",
    "    print(\"This is the func()\")"
   ]
  },
  {
   "cell_type": "code",
   "execution_count": 139,
   "metadata": {},
   "outputs": [
    {
     "name": "stdout",
     "output_type": "stream",
     "text": [
      "Before func()\n",
      "This is the func()\n",
      "After func()\n"
     ]
    }
   ],
   "source": [
    "needs_deco()"
   ]
  }
 ],
 "metadata": {
  "kernelspec": {
   "display_name": "Python 3",
   "language": "python",
   "name": "python3"
  },
  "language_info": {
   "codemirror_mode": {
    "name": "ipython",
    "version": 3
   },
   "file_extension": ".py",
   "mimetype": "text/x-python",
   "name": "python",
   "nbconvert_exporter": "python",
   "pygments_lexer": "ipython3",
   "version": "3.7.6"
  }
 },
 "nbformat": 4,
 "nbformat_minor": 4
}
