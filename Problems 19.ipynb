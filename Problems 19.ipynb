{
 "cells": [
  {
   "cell_type": "markdown",
   "metadata": {},
   "source": [
    "20/08/2020"
   ]
  },
  {
   "cell_type": "code",
   "execution_count": 5,
   "metadata": {},
   "outputs": [
    {
     "data": {
      "text/plain": [
       "'PythonExercises12'"
      ]
     },
     "execution_count": 5,
     "metadata": {},
     "output_type": "execute_result"
    }
   ],
   "source": [
    "#remove non alphanumeric chars\n",
    "def nonalphanum_remove(s):\n",
    "    alphanum = []\n",
    "    for char in s:\n",
    "        if char.isalnum(): #or char == \" \": (to maintain spaces)\n",
    "            alphanum.append(char)\n",
    "        return \"\".join(alphanum)\n",
    "    \n",
    "nonalphanum_remove('**//Python Exercises// - 12. ')"
   ]
  },
  {
   "cell_type": "code",
   "execution_count": 13,
   "metadata": {},
   "outputs": [
    {
     "data": {
      "text/plain": [
       "'PythonExercises12'"
      ]
     },
     "execution_count": 13,
     "metadata": {},
     "output_type": "execute_result"
    }
   ],
   "source": [
    "def nonalphanum_remove_onemove(s):\n",
    "    return \"\".join([char for char in s if char.isalnum()])\n",
    "\n",
    "nonalphanum_remove_onemove('**//Python Exercises// - 12. ')"
   ]
  },
  {
   "cell_type": "code",
   "execution_count": 17,
   "metadata": {},
   "outputs": [
    {
     "data": {
      "text/plain": [
       "'PythonExercises'"
      ]
     },
     "execution_count": 17,
     "metadata": {},
     "output_type": "execute_result"
    }
   ],
   "source": [
    "#remove white spaces\n",
    "def space_remove(s):\n",
    "    return \"\".join([char for char in s if char != \" \"])\n",
    "\n",
    "space_remove(' Python    Exercises ')"
   ]
  },
  {
   "cell_type": "code",
   "execution_count": 18,
   "metadata": {},
   "outputs": [
    {
     "data": {
      "text/plain": [
       "'**//Python Exercises// - 12. '"
      ]
     },
     "execution_count": 18,
     "metadata": {},
     "output_type": "execute_result"
    }
   ],
   "source": [
    "#remove 0s from IPs\n",
    "def zeros_remove(ip):\n",
    "    return \"\".join([char for char in s if char != 0])\n",
    "\n",
    "zeros_remove(\"216.8.94.196\")"
   ]
  }
 ],
 "metadata": {
  "kernelspec": {
   "display_name": "Python 3",
   "language": "python",
   "name": "python3"
  },
  "language_info": {
   "codemirror_mode": {
    "name": "ipython",
    "version": 3
   },
   "file_extension": ".py",
   "mimetype": "text/x-python",
   "name": "python",
   "nbconvert_exporter": "python",
   "pygments_lexer": "ipython3",
   "version": "3.7.6"
  }
 },
 "nbformat": 4,
 "nbformat_minor": 4
}
