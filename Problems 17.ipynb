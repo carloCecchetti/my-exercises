{
 "cells": [
  {
   "cell_type": "markdown",
   "metadata": {},
   "source": [
    "18/08/2020"
   ]
  },
  {
   "cell_type": "code",
   "execution_count": 36,
   "metadata": {},
   "outputs": [
    {
     "name": "stdout",
     "output_type": "stream",
     "text": [
      "01:02:16\n"
     ]
    }
   ],
   "source": [
    "#get current time\n",
    "import datetime\n",
    "def current_time():\n",
    "    print(datetime.datetime.now().time().strftime(\"%H:%M:%S\"))\n",
    "    \n",
    "current_time()"
   ]
  },
  {
   "cell_type": "code",
   "execution_count": 116,
   "metadata": {},
   "outputs": [
    {
     "name": "stdout",
     "output_type": "stream",
     "text": [
      "Date and time:\n",
      "2020-08-19 \n",
      "01:32:55\n",
      "\n",
      "Year: 2020\n",
      "\n",
      "Month number: 08\n",
      "\n",
      "Week number: 33.0\n",
      "\n",
      "Day number: 231\n",
      "\n"
     ]
    }
   ],
   "source": [
    "# a) Current date and time\n",
    "# b) Current year\n",
    "# c) Month of year\n",
    "# d) Week number of the year\n",
    "# e) Day of year\n",
    "class DT():\n",
    "    def date_and_time(self):\n",
    "        return \"Date and time:\\n\" + datetime.datetime.now().strftime(\"%Y-%m-%d \\n%H:%M:%S\\n\")\n",
    "    def year(self):\n",
    "        return \"Year: \" + datetime.datetime.now().strftime(\"%Y\\n\")\n",
    "    def month(self):\n",
    "        return \"Month number: \" + datetime.datetime.now().strftime(\"%m\\n\")\n",
    "    def week_n(self):\n",
    "        today = datetime.datetime.now()\n",
    "        d0 = datetime.date(2020, 1, 1)\n",
    "        d1 = datetime.date(today.year, today.month, today.day)\n",
    "        delta = d1 - d0\n",
    "        return f\"Week number: {delta.days/7}\\n\" #7 days/week\n",
    "    def day_of_year(self):\n",
    "        today = datetime.datetime.now()\n",
    "        d0 = datetime.date(2020, 1, 1)\n",
    "        d1 = datetime.date(today.year, today.month, today.day)\n",
    "        delta = d1 - d0\n",
    "        return f\"Day number: {delta.days}\\n\"\n",
    "        \n",
    "        \n",
    "dt = DT()\n",
    "print(dt.date_and_time())\n",
    "print(dt.year())\n",
    "print(dt.month())\n",
    "print(dt.week_n())\n",
    "print(dt.day_of_year())"
   ]
  }
 ],
 "metadata": {
  "kernelspec": {
   "display_name": "Python 3",
   "language": "python",
   "name": "python3"
  },
  "language_info": {
   "codemirror_mode": {
    "name": "ipython",
    "version": 3
   },
   "file_extension": ".py",
   "mimetype": "text/x-python",
   "name": "python",
   "nbconvert_exporter": "python",
   "pygments_lexer": "ipython3",
   "version": "3.7.6"
  }
 },
 "nbformat": 4,
 "nbformat_minor": 4
}
