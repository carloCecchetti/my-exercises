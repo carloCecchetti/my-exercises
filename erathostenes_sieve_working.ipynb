{
 "cells": [
  {
   "cell_type": "code",
   "execution_count": 2,
   "metadata": {},
   "outputs": [],
   "source": [
    "#Sieve of Eratosthenes full\n",
    "\"\"\"\n",
    "Erathostenes'sieve is the most effiecient way to find prime numbers\n",
    "\n",
    "It doesn't start with a complete list.\n",
    "\n",
    "makes a for loop from 2 to n (input):\n",
    "    another for the goes from 2 to num which is the var in prevoius loop:\n",
    "        checks if the num (first var)%i(second var) == 0:\n",
    "            if yes break the block and continue with the second for\n",
    "        \n",
    "        when i in the second for reaches num: #it means that num not % i with all its values\n",
    "            add num to the list\n",
    "            \n",
    "    repeat this till n and then return the prime_num list    \n",
    "\"\"\"\n",
    "\n",
    "def era_sieve(n):\n",
    "    prime_num = []\n",
    "    \n",
    "    for num in range(2,n):\n",
    "        for i in range(2, num):\n",
    "            if num % i == 0:\n",
    "                break\n",
    "        else:\n",
    "            prime_num.append(num)\n",
    "\n",
    "    return prime_num"
   ]
  }
 ],
 "metadata": {
  "kernelspec": {
   "display_name": "Python 3",
   "language": "python",
   "name": "python3"
  },
  "language_info": {
   "codemirror_mode": {
    "name": "ipython",
    "version": 3
   },
   "file_extension": ".py",
   "mimetype": "text/x-python",
   "name": "python",
   "nbconvert_exporter": "python",
   "pygments_lexer": "ipython3",
   "version": "3.7.6"
  }
 },
 "nbformat": 4,
 "nbformat_minor": 4
}
