{
 "cells": [
  {
   "cell_type": "code",
   "execution_count": 2,
   "metadata": {},
   "outputs": [],
   "source": [
    "#Sieve of Eratosthenes\n",
    "\"\"\"\n",
    "PRE ALPHA (doesn't work)\n",
    "\n",
    "Erathostenes'sieve is the most effiecient way to find prime numbers\n",
    "\n",
    "defining a list that contains all the number from 2 to n\n",
    "\n",
    "for each number(x) in the list:\n",
    "    for each number(y) in the list:\n",
    "    \n",
    "\"\"\"\n",
    "def era_sieve():\n",
    "    number_list=[]\n",
    "    \n",
    "    for x in range(1,100000):\n",
    "        number_list.append(x)\n",
    "    \n",
    "    for x in number_list:\n",
    "        for y in number_list:\n",
    "            if y!=x and y%x==0:\n",
    "                number_list.remove(y)\n",
    "                \n",
    "            if y<x/2:\n",
    "                break\n",
    "    \n",
    "    return number_list"
   ]
  }
 ],
 "metadata": {
  "kernelspec": {
   "display_name": "Python 3",
   "language": "python",
   "name": "python3"
  },
  "language_info": {
   "codemirror_mode": {
    "name": "ipython",
    "version": 3
   },
   "file_extension": ".py",
   "mimetype": "text/x-python",
   "name": "python",
   "nbconvert_exporter": "python",
   "pygments_lexer": "ipython3",
   "version": "3.7.6"
  }
 },
 "nbformat": 4,
 "nbformat_minor": 4
}
