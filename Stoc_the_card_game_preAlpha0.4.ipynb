{
 "cells": [
  {
   "cell_type": "markdown",
   "metadata": {},
   "source": [
    "Stoc 30/06/2020"
   ]
  },
  {
   "cell_type": "code",
   "execution_count": 3,
   "metadata": {},
   "outputs": [],
   "source": [
    "\"\"\"\n",
    "Today we made lot of progress\n",
    "We get an error because there is nothing that stops to script to draw cards\n",
    "Anyway we add the block that allows to the script to redraw cards till it has to stop\n",
    "We add the input stuff so each turn it has to wait\n",
    "We made it clearer since we figured out how make each passage as a function. It's hard because some steps are so basic that you don't even think about\n",
    "We add a way to print the table (which is not already complete) with colors and right positions\n",
    "We figured out that we need a way to clean the board. Using IPtython.display we just have to write clear_output() and it works as we need\n",
    "\"\"\"\n",
    "\n",
    "import random\n",
    "from termcolor import colored\n",
    "from IPython.display import clear_output\n",
    "\n",
    "suits = ('Hearts', 'Diamonds', 'Spades', 'Clubs')\n",
    "ranks = (\"Ace\",'Two', 'Three', 'Four', 'Five', 'Six', 'Seven', 'Jack', 'Queen', 'King')\n",
    "values = {'Ace':1, 'Two':2, 'Three':3, 'Four':4, 'Five':5, 'Six':6, 'Seven':7, 'Jack':8, 'Queen':9, 'King':10}\n",
    "\n",
    "deck = []\n",
    "for suit in suits:\n",
    "    for rank in ranks:\n",
    "        deck.append(f\"{rank} of {suit}\")\n",
    "random.shuffle(deck)\n",
    "\n",
    "pl1_cov_deck = [\"Two of Hearts\",\"Ace of Hearts\"]#deck[:20]\n",
    "pl1_uncov_deck = []\n",
    "cpu_cov_deck = deck[20:]\n",
    "cpu_uncov_deck = [\"Four of Hearts\"]\n",
    "\n",
    "hearts = []\n",
    "diamonds = []\n",
    "spades = []\n",
    "clubs = []\n",
    "\n",
    "#global pl1_cov_deck,pl1_uncov_deck,cpu_cov_deck,cpu_uncov_deck,global,diamonds,spades,clubs\n",
    "def pl1_uncov_draws():\n",
    "    global pl1_uncov_deck\n",
    "    return pl1_uncov_deck.pop()\n",
    "\n",
    "def pl1_cov_draws():\n",
    "    global pl1_cov_deck\n",
    "    return pl1_cov_deck.pop()\n",
    "    \n",
    "def on_hearts(card):\n",
    "    print(\"A\")\n",
    "    if card.split(\" \")[0] == \"Ace\":\n",
    "        hearts.append(card)\n",
    "    elif len(hearts) != 0:     \n",
    "        if values[card.split(\" \")[0]] == values[hearts[-1].split(\" \")[0]]+1 and len(hearts) != 0:\n",
    "            hearts.append(card)\n",
    "    else:\n",
    "        not_in_middle_pl1(card)    \n",
    "def on_diamonds(card):\n",
    "    if card.split(\" \")[0] == \"Ace\":\n",
    "            diamonds.append(card)\n",
    "    elif len(diamonds) != 0:    \n",
    "        if values[card.split(\" \")[0]] == values[diamonds[-1].split(\" \")[0]]+1 and len(diamonds) != 0:\n",
    "            diamonds.append(card)\n",
    "    else:\n",
    "        not_in_middle_pl1(card)    \n",
    "def on_spades(card):\n",
    "    if card.split(\" \")[0] == \"Ace\":\n",
    "            diamonds.append(card)\n",
    "    elif len(spades) != 0:  \n",
    "        if values[card.split(\" \")[0]] == values[diamonds[-1].split(\" \")[0]]+1 and len(spades) != 0:\n",
    "            diamonds.append(card)\n",
    "    else:\n",
    "        not_in_middle_pl1(card)\n",
    "def on_clubs(card):\n",
    "    if card.split(\" \")[0] == \"Ace\":\n",
    "            clubs.append(card)\n",
    "    elif len(clubs) != 0:    \n",
    "        if values[card.split(\" \")[0]] == values[clubs[-1].split(\" \")[0]]+1 and len(clubs) != 0:\n",
    "            clubs.append(card)\n",
    "    else:\n",
    "        not_in_middle_pl1(card)\n",
    "        \n",
    "    \n",
    "def not_in_middle_pl1(card):\n",
    "    if len(cpu_uncov_deck) != 0 and  values[card.split(\" \")[0]] == values[cpu_uncov_deck[-1].split(\" \")[0]]+1: #Checking if drawn card can be given to the cpu\n",
    "        cpu_uncov_deck.append(card)\n",
    "    else:\n",
    "        pl1_uncov_deck.append(card)\n",
    "        #return False\n",
    "\n",
    "def formatting(hearts,diamonds,spades,clubs):  \n",
    "    \"\"\"\n",
    "    Formatting parts\n",
    "    \"\"\"\n",
    "    #last card for hearts\n",
    "    if len(hearts) != 0:\n",
    "        last_heart_card = colored(hearts[-1],\"red\")\n",
    "    else:\n",
    "        last_heart_card = colored(\"No card for HEARTS yet\",\"green\")\n",
    "    #last card for diamonds\n",
    "    if len(diamonds) != 0:\n",
    "        last_diamond_card = colored(diamonds[-1],\"red\")\n",
    "    else:\n",
    "        last_diamond_card = colored(\"No card for DIAMONDS yet\",\"green\")\n",
    "    #last card for spades\n",
    "    if len(spades) != 0:\n",
    "        last_spade_card = colored(spades[-1],\"blue\")\n",
    "    else:\n",
    "        last_spade_card = colored(\"No card for SPADES yet\",\"green\")\n",
    "    #last card for clubs\n",
    "    if len(clubs) != 0:\n",
    "        last_club_card = colored(clubs[-1],\"blue\")\n",
    "    else:\n",
    "        last_club_card = colored(\"No card for CLUBS yet\",\"green\")\n",
    "    \n",
    "    print(f\"Cards:\\n\\n\\t\\t{last_heart_card}\\t\\t{last_club_card}\\n\\t\\t{last_spade_card}\\t\\t{last_diamond_card}\")\n",
    "\n",
    "def pl1_plays():\n",
    "    playing = True\n",
    "    while playing != False:\n",
    "        if len(pl1_uncov_deck)!=0:\n",
    "            card = pl1_uncov_draws()\n",
    "        else:\n",
    "            card = pl1_cov_draws()\n",
    "        print(card)   \n",
    "\n",
    "        if card.split(\" \")[2] == \"Hearts\": #Checking if card with HEARTS suite can go in the middle   \n",
    "            playing = on_hearts(card)    \n",
    "\n",
    "        elif card.split(\" \")[2] == \"Diamonds\": #Checking if card with DIAMOND suite can go in the middle\n",
    "            playing = on_diamonds(card)\n",
    "\n",
    "        elif card.split(\" \")[2] == \"Spades\": #Checking if card with SPADE suite can go in the middle\n",
    "            playing = on_spades(card)    \n",
    "\n",
    "        elif card.split(\" \")[2] == \"Clubs\": #Checking if card with CLUB suite can go in the middle\n",
    "            playing = on_clubs(card) \n",
    "    \n",
    "        formatting(hearts,diamonds,spades,clubs)           \n",
    "        input(\"Press enter to continue\")\n",
    "        clear_output(wait = True) #clean the output"
   ]
  },
  {
   "cell_type": "code",
   "execution_count": 4,
   "metadata": {},
   "outputs": [
    {
     "ename": "IndexError",
     "evalue": "pop from empty list",
     "output_type": "error",
     "traceback": [
      "\u001b[1;31m---------------------------------------------------------------------------\u001b[0m",
      "\u001b[1;31mIndexError\u001b[0m                                Traceback (most recent call last)",
      "\u001b[1;32m<ipython-input-4-2d6c71db1efb>\u001b[0m in \u001b[0;36m<module>\u001b[1;34m\u001b[0m\n\u001b[1;32m----> 1\u001b[1;33m \u001b[0mpl1_played\u001b[0m \u001b[1;33m=\u001b[0m \u001b[0mpl1_plays\u001b[0m\u001b[1;33m(\u001b[0m\u001b[1;33m)\u001b[0m\u001b[1;33m\u001b[0m\u001b[1;33m\u001b[0m\u001b[0m\n\u001b[0m",
      "\u001b[1;32m<ipython-input-3-ad1e827cde17>\u001b[0m in \u001b[0;36mpl1_plays\u001b[1;34m()\u001b[0m\n\u001b[0;32m    117\u001b[0m             \u001b[0mcard\u001b[0m \u001b[1;33m=\u001b[0m \u001b[0mpl1_uncov_draws\u001b[0m\u001b[1;33m(\u001b[0m\u001b[1;33m)\u001b[0m\u001b[1;33m\u001b[0m\u001b[1;33m\u001b[0m\u001b[0m\n\u001b[0;32m    118\u001b[0m         \u001b[1;32melse\u001b[0m\u001b[1;33m:\u001b[0m\u001b[1;33m\u001b[0m\u001b[1;33m\u001b[0m\u001b[0m\n\u001b[1;32m--> 119\u001b[1;33m             \u001b[0mcard\u001b[0m \u001b[1;33m=\u001b[0m \u001b[0mpl1_cov_draws\u001b[0m\u001b[1;33m(\u001b[0m\u001b[1;33m)\u001b[0m\u001b[1;33m\u001b[0m\u001b[1;33m\u001b[0m\u001b[0m\n\u001b[0m\u001b[0;32m    120\u001b[0m         \u001b[0mprint\u001b[0m\u001b[1;33m(\u001b[0m\u001b[0mcard\u001b[0m\u001b[1;33m)\u001b[0m\u001b[1;33m\u001b[0m\u001b[1;33m\u001b[0m\u001b[0m\n\u001b[0;32m    121\u001b[0m \u001b[1;33m\u001b[0m\u001b[0m\n",
      "\u001b[1;32m<ipython-input-3-ad1e827cde17>\u001b[0m in \u001b[0;36mpl1_cov_draws\u001b[1;34m()\u001b[0m\n\u001b[0;32m     40\u001b[0m \u001b[1;32mdef\u001b[0m \u001b[0mpl1_cov_draws\u001b[0m\u001b[1;33m(\u001b[0m\u001b[1;33m)\u001b[0m\u001b[1;33m:\u001b[0m\u001b[1;33m\u001b[0m\u001b[1;33m\u001b[0m\u001b[0m\n\u001b[0;32m     41\u001b[0m     \u001b[1;32mglobal\u001b[0m \u001b[0mpl1_cov_deck\u001b[0m\u001b[1;33m\u001b[0m\u001b[1;33m\u001b[0m\u001b[0m\n\u001b[1;32m---> 42\u001b[1;33m     \u001b[1;32mreturn\u001b[0m \u001b[0mpl1_cov_deck\u001b[0m\u001b[1;33m.\u001b[0m\u001b[0mpop\u001b[0m\u001b[1;33m(\u001b[0m\u001b[1;33m)\u001b[0m\u001b[1;33m\u001b[0m\u001b[1;33m\u001b[0m\u001b[0m\n\u001b[0m\u001b[0;32m     43\u001b[0m \u001b[1;33m\u001b[0m\u001b[0m\n\u001b[0;32m     44\u001b[0m \u001b[1;32mdef\u001b[0m \u001b[0mon_hearts\u001b[0m\u001b[1;33m(\u001b[0m\u001b[0mcard\u001b[0m\u001b[1;33m)\u001b[0m\u001b[1;33m:\u001b[0m\u001b[1;33m\u001b[0m\u001b[1;33m\u001b[0m\u001b[0m\n",
      "\u001b[1;31mIndexError\u001b[0m: pop from empty list"
     ]
    }
   ],
   "source": [
    "pl1_played = pl1_plays()"
   ]
  },
  {
   "cell_type": "code",
   "execution_count": 303,
   "metadata": {},
   "outputs": [
    {
     "name": "stdout",
     "output_type": "stream",
     "text": [
      "\u001b[44m\u001b[31mHello, World!\u001b[0m\n"
     ]
    }
   ],
   "source": [
    "#how colored works\n",
    "from termcolor import colored\n",
    "print(colored('Hello, World!', 'red', 'on_blue'))"
   ]
  },
  {
   "cell_type": "code",
   "execution_count": 6,
   "metadata": {},
   "outputs": [
    {
     "name": "stdout",
     "output_type": "stream",
     "text": [
      "a\n"
     ]
    }
   ],
   "source": [
    "#showing that if you define a var where you call function you will get the output function and the variable is now what it should return\n",
    "def a():\n",
    "    print(\"a\")\n",
    "    return True\n",
    "test = a()"
   ]
  },
  {
   "cell_type": "code",
   "execution_count": 7,
   "metadata": {},
   "outputs": [
    {
     "data": {
      "text/plain": [
       "True"
      ]
     },
     "execution_count": 7,
     "metadata": {},
     "output_type": "execute_result"
    }
   ],
   "source": [
    "test"
   ]
  },
  {
   "cell_type": "code",
   "execution_count": 8,
   "metadata": {},
   "outputs": [],
   "source": [
    "def a():\n",
    "    return \"a\"\n",
    "test = a()"
   ]
  },
  {
   "cell_type": "code",
   "execution_count": 9,
   "metadata": {},
   "outputs": [
    {
     "data": {
      "text/plain": [
       "'a'"
      ]
     },
     "execution_count": 9,
     "metadata": {},
     "output_type": "execute_result"
    }
   ],
   "source": [
    "test"
   ]
  }
 ],
 "metadata": {
  "kernelspec": {
   "display_name": "Python 3",
   "language": "python",
   "name": "python3"
  },
  "language_info": {
   "codemirror_mode": {
    "name": "ipython",
    "version": 3
   },
   "file_extension": ".py",
   "mimetype": "text/x-python",
   "name": "python",
   "nbconvert_exporter": "python",
   "pygments_lexer": "ipython3",
   "version": "3.7.6"
  }
 },
 "nbformat": 4,
 "nbformat_minor": 4
}
