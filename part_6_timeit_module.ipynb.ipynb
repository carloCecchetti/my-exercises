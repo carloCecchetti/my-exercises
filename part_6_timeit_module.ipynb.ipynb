{
 "cells": [
  {
   "cell_type": "markdown",
   "metadata": {},
   "source": [
    "part 6 1/06/2020"
   ]
  },
  {
   "cell_type": "code",
   "execution_count": 1,
   "metadata": {},
   "outputs": [
    {
     "data": {
      "text/plain": [
       "0.18550150000000087"
      ]
     },
     "execution_count": 1,
     "metadata": {},
     "output_type": "execute_result"
    }
   ],
   "source": [
    "#python timer\n",
    "\"\"\"\n",
    "Sometimes we need to check how long does a certain operation take to get completed\n",
    "This is a python built-in module to check the time.\n",
    "There is timeit normal module and some magic functions\n",
    "\"\"\"\n",
    "import timeit\n",
    "#we need to creat a string that goes from 1 to 99 \n",
    "\"1-2-3-4-5-6-7-8-....-99\"\n",
    "#so we use a for loop \n",
    "\"-\".join(str(n) for n in range(1,100))\n",
    "#we have to calculate the time to create this string\n",
    "timeit.timeit('\"-\".join(str(n) for n in range(1,100))', number = 10000)\n",
    "#now we know that to create that string*1000 times we use 0.186 seconds"
   ]
  },
  {
   "cell_type": "code",
   "execution_count": 5,
   "metadata": {},
   "outputs": [
    {
     "data": {
      "text/plain": [
       "0.16668289999999786"
      ]
     },
     "execution_count": 5,
     "metadata": {},
     "output_type": "execute_result"
    }
   ],
   "source": [
    "#do we need to make it in a faster way?\n",
    "\"-\".join([str(n) for n in range(1,100)])\n",
    "#check if this way is faster\n",
    "timeit.timeit('\"-\".join([str(n) for n in range(1,100)])', number = 10000)\n",
    "#about 0.02 second every 10000 runs"
   ]
  },
  {
   "cell_type": "code",
   "execution_count": 11,
   "metadata": {},
   "outputs": [
    {
     "data": {
      "text/plain": [
       "0.13112219999999297"
      ]
     },
     "execution_count": 11,
     "metadata": {},
     "output_type": "execute_result"
    }
   ],
   "source": [
    "\"-\".join(map(str, range(1,100)))\n",
    "timeit.timeit('\"-\".join(map(str, range(1,100)))', number = 10000)\n",
    "#this is faster"
   ]
  },
  {
   "cell_type": "code",
   "execution_count": 20,
   "metadata": {},
   "outputs": [
    {
     "name": "stdout",
     "output_type": "stream",
     "text": [
      "13.4 µs ± 81 ns per loop (mean ± std. dev. of 7 runs, 100000 loops each)\n",
      "1.4110840000000735e-05\n"
     ]
    }
   ],
   "source": [
    "#now let's talk about the magic functions. They are followed by \"%\"\n",
    "%timeit \"-\".join(map(str, range(1,100)))\n",
    "#where map way uses 13.3 microseconds to create this string\n",
    "\"\"\"\n",
    "via timeit.timeit module we will get the total of time to make that operation*number of time performed that action\n",
    "\n",
    "via %timeit we will get the time to perform one single operation based on 10,000/100,000 try/loops =\n",
    "= \n",
    "x = timeit.timet(\"blablabla\", counter=10000)\n",
    "print(x/10000)\n",
    "\"\"\"\n",
    "x = timeit.timeit('\"-\".join(map(str, range(1,100)))', number = 10000)\n",
    "print(x/10000)"
   ]
  },
  {
   "cell_type": "code",
   "execution_count": 23,
   "metadata": {},
   "outputs": [
    {
     "name": "stdout",
     "output_type": "stream",
     "text": [
      "13.1 µs ± 103 ns per loop (mean ± std. dev. of 7 runs, 100000 loops each)\n"
     ]
    }
   ],
   "source": [
    "#because of the number of times is dicided by the magic function\n",
    "%timeit \"-\".join(map(str, range(1,100)))\n",
    "#this fast operation is tested 100,000 times"
   ]
  },
  {
   "cell_type": "code",
   "execution_count": 26,
   "metadata": {},
   "outputs": [
    {
     "name": "stdout",
     "output_type": "stream",
     "text": [
      "15.6 ms ± 67.5 µs per loop (mean ± std. dev. of 7 runs, 100 loops each)\n"
     ]
    }
   ],
   "source": [
    "%timeit \"-\".join(map(str, range(1,100000)))\n",
    "#this slower only 100 times"
   ]
  },
  {
   "cell_type": "code",
   "execution_count": 41,
   "metadata": {},
   "outputs": [
    {
     "data": {
      "text/plain": [
       "[0.00014059999989513017, 0.00013209999997343402]"
      ]
     },
     "execution_count": 41,
     "metadata": {},
     "output_type": "execute_result"
    }
   ],
   "source": [
    "\"\"\"\n",
    "timeit.reapeat() is timeit.timeit*(5 by default) but it will repeat the timer the number of time of repeat parameter\n",
    "you can still add the number of loops for each timer\n",
    "\"\"\"\n",
    "timeit.repeat('\"-\".join(map(str, range(1,100)))',number=10,repeat=2)"
   ]
  }
 ],
 "metadata": {
  "kernelspec": {
   "display_name": "Python 3",
   "language": "python",
   "name": "python3"
  },
  "language_info": {
   "codemirror_mode": {
    "name": "ipython",
    "version": 3
   },
   "file_extension": ".py",
   "mimetype": "text/x-python",
   "name": "python",
   "nbconvert_exporter": "python",
   "pygments_lexer": "ipython3",
   "version": "3.7.6"
  }
 },
 "nbformat": 4,
 "nbformat_minor": 4
}
