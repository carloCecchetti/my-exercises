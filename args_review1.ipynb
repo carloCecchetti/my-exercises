{
 "cells": [
  {
   "cell_type": "markdown",
   "metadata": {},
   "source": [
    "Reviewing some arguments 12/06/2020"
   ]
  },
  {
   "cell_type": "code",
   "execution_count": 1,
   "metadata": {},
   "outputs": [],
   "source": [
    "\"\"\"\n",
    "Today I'd like to review all the things that personally I've not understood at all\n",
    "\"\"\"\n",
    "#map()\n",
    "\"\"\"\n",
    "map work with one function and one iterable element (list,string,tuples)\n",
    "\n",
    "Take the func (called or written via lambda) and execute it for each value in the iterable element\n",
    "\"\"\"\n",
    "rays = [1,4,7] #our iterable element\n",
    "\n",
    "def area_cir(r): #our func\n",
    "    return r**2*3.14"
   ]
  },
  {
   "cell_type": "code",
   "execution_count": 2,
   "metadata": {},
   "outputs": [
    {
     "data": {
      "text/plain": [
       "[3.14, 50.24, 153.86]"
      ]
     },
     "execution_count": 2,
     "metadata": {},
     "output_type": "execute_result"
    }
   ],
   "source": [
    "list(map(area_cir,rays)) #remember to list the map function to get the outputs"
   ]
  },
  {
   "cell_type": "code",
   "execution_count": 3,
   "metadata": {},
   "outputs": [
    {
     "data": {
      "text/plain": [
       "[3.14, 50.24, 153.86]"
      ]
     },
     "execution_count": 3,
     "metadata": {},
     "output_type": "execute_result"
    }
   ],
   "source": [
    "list(map(lambda r: (r**2)*3.14,rays)) #we can use lambda function to use the comprhension"
   ]
  },
  {
   "cell_type": "code",
   "execution_count": 4,
   "metadata": {},
   "outputs": [],
   "source": [
    "#how we may use it \n",
    "from math import sqrt\n",
    "num_to_sqr = [x for x in range (17)]\n",
    "def sqrer(n):\n",
    "    return sqrt(n)"
   ]
  },
  {
   "cell_type": "code",
   "execution_count": 5,
   "metadata": {},
   "outputs": [
    {
     "data": {
      "text/plain": [
       "[0.0,\n",
       " 1.0,\n",
       " 1.4142135623730951,\n",
       " 1.7320508075688772,\n",
       " 2.0,\n",
       " 2.23606797749979,\n",
       " 2.449489742783178,\n",
       " 2.6457513110645907,\n",
       " 2.8284271247461903,\n",
       " 3.0,\n",
       " 3.1622776601683795,\n",
       " 3.3166247903554,\n",
       " 3.4641016151377544,\n",
       " 3.605551275463989,\n",
       " 3.7416573867739413,\n",
       " 3.872983346207417,\n",
       " 4.0]"
      ]
     },
     "execution_count": 5,
     "metadata": {},
     "output_type": "execute_result"
    }
   ],
   "source": [
    "list(map(sqrer, num_to_sqr))"
   ]
  },
  {
   "cell_type": "code",
   "execution_count": 6,
   "metadata": {},
   "outputs": [
    {
     "data": {
      "text/plain": [
       "[0.0,\n",
       " 1.0,\n",
       " 1.4142135623730951,\n",
       " 1.7320508075688772,\n",
       " 2.0,\n",
       " 2.23606797749979,\n",
       " 2.449489742783178,\n",
       " 2.6457513110645907,\n",
       " 2.8284271247461903,\n",
       " 3.0,\n",
       " 3.1622776601683795,\n",
       " 3.3166247903554,\n",
       " 3.4641016151377544,\n",
       " 3.605551275463989,\n",
       " 3.7416573867739413,\n",
       " 3.872983346207417,\n",
       " 4.0]"
      ]
     },
     "execution_count": 6,
     "metadata": {},
     "output_type": "execute_result"
    }
   ],
   "source": [
    "list(map(lambda n: sqrt(n), num_to_sqr)) #this is a faster and shorter way to use map function. It may be less readable than the first way."
   ]
  },
  {
   "cell_type": "code",
   "execution_count": 7,
   "metadata": {},
   "outputs": [
    {
     "data": {
      "text/plain": [
       "28"
      ]
     },
     "execution_count": 7,
     "metadata": {},
     "output_type": "execute_result"
    }
   ],
   "source": [
    "#reduce\n",
    "\"\"\"\n",
    "reduce is the same as map but it doesn't run a certaing function for each iterable element.\n",
    "in this case it execute the program in this way:\n",
    "the func says that I have to take 2 values and return the sum.\n",
    "I take the first to values and I sum it. 1+2=3\n",
    "Now I already have the first value for the second time to execure the func and I have to get the 2nd one. 3+4=7\n",
    "repeat till there is no more values.\n",
    "\n",
    "here the output is the sum of all the numbers\n",
    "\"\"\"\n",
    "from functools import reduce\n",
    "def summer(n1,n2):\n",
    "    return n1+n2\n",
    "nums = [1,2,3,4,5,6,7]\n",
    "reduce(summer,nums)"
   ]
  },
  {
   "cell_type": "code",
   "execution_count": 8,
   "metadata": {},
   "outputs": [],
   "source": [
    "#filter()\n",
    "\"\"\"\n",
    "Basically its a filter for iterable items that return True in a certain function\n",
    "\n",
    "filter(function,iterable element) -> we already know that we need a function (defined or lambda) and a iterable element (list,tuple,...)\n",
    "the function need to return boolean values because filter works with elements that return True in the func\n",
    "if the element return True after passing the function, it'll be part of the result\n",
    "\"\"\"\n",
    "nums = [x for x in range(11)] #a list from 0 to 10\n",
    "def check_even(n):\n",
    "    return n%2==0 #if the number is even, return True"
   ]
  },
  {
   "cell_type": "code",
   "execution_count": 9,
   "metadata": {},
   "outputs": [
    {
     "data": {
      "text/plain": [
       "[0, 2, 4, 6, 8, 10]"
      ]
     },
     "execution_count": 9,
     "metadata": {},
     "output_type": "execute_result"
    }
   ],
   "source": [
    "list(filter(check_even,nums))"
   ]
  },
  {
   "cell_type": "code",
   "execution_count": 10,
   "metadata": {},
   "outputs": [
    {
     "data": {
      "text/plain": [
       "[0, 2, 4, 6, 8, 10]"
      ]
     },
     "execution_count": 10,
     "metadata": {},
     "output_type": "execute_result"
    }
   ],
   "source": [
    "list(filter(lambda n:n%2==0,nums))"
   ]
  },
  {
   "cell_type": "code",
   "execution_count": 11,
   "metadata": {},
   "outputs": [
    {
     "data": {
      "text/plain": [
       "[(1, 2, 5, 4), (2, 3, 6, 5), (3, 4, 7, 6)]"
      ]
     },
     "execution_count": 11,
     "metadata": {},
     "output_type": "execute_result"
    }
   ],
   "source": [
    "#zip()\n",
    "\"\"\"\n",
    "generates a pair of tuple of two or more iterables\n",
    "\n",
    "first tuple = l1[0],l2[0],l3[0],l4[0]\n",
    "ecc\n",
    "\"\"\"\n",
    "l1 = [1,2,3]\n",
    "l2 = [2,3,4]\n",
    "l3 = [5,6,7]\n",
    "l4 = [4,5,6]\n",
    "list(zip(l1,l2,l3,l4))"
   ]
  },
  {
   "cell_type": "code",
   "execution_count": 12,
   "metadata": {},
   "outputs": [
    {
     "data": {
      "text/plain": [
       "[(1, 3), (2, 4)]"
      ]
     },
     "execution_count": 12,
     "metadata": {},
     "output_type": "execute_result"
    }
   ],
   "source": [
    "d1 = {1:\"one\",2:\"two\"}\n",
    "d2 = {3:\"three\",4:\"four\"}\n",
    "list(zip(d1,d2)) #basically we get only the keys"
   ]
  },
  {
   "cell_type": "code",
   "execution_count": 13,
   "metadata": {},
   "outputs": [
    {
     "data": {
      "text/plain": [
       "[('one', 'three'), ('two', 'four')]"
      ]
     },
     "execution_count": 13,
     "metadata": {},
     "output_type": "execute_result"
    }
   ],
   "source": [
    "#if we want values we use .valuer() method\n",
    "list(zip(d1.values(),(d2.values())))"
   ]
  },
  {
   "cell_type": "code",
   "execution_count": 14,
   "metadata": {},
   "outputs": [
    {
     "data": {
      "text/plain": [
       "('two', 'four')"
      ]
     },
     "execution_count": 14,
     "metadata": {},
     "output_type": "execute_result"
    }
   ],
   "source": [
    "max(list(zip(d1.values(),(d2.values())))) #then we can use other and other methods"
   ]
  }
 ],
 "metadata": {
  "kernelspec": {
   "display_name": "Python 3",
   "language": "python",
   "name": "python3"
  },
  "language_info": {
   "codemirror_mode": {
    "name": "ipython",
    "version": 3
   },
   "file_extension": ".py",
   "mimetype": "text/x-python",
   "name": "python",
   "nbconvert_exporter": "python",
   "pygments_lexer": "ipython3",
   "version": "3.7.6"
  }
 },
 "nbformat": 4,
 "nbformat_minor": 4
}
