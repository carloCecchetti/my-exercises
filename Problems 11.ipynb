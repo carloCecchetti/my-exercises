{
 "cells": [
  {
   "cell_type": "markdown",
   "metadata": {},
   "source": [
    "02/08/2020"
   ]
  },
  {
   "cell_type": "code",
   "execution_count": null,
   "metadata": {},
   "outputs": [],
   "source": [
    "#Printing format\n",
    "print(\"Twinkle, twinkle, little star, \\n\\tHow I wonder what you are! \\n\\tUp above the world so high, \\n\\tLike a diamond in the sky. \\nTwinkle, twinkle, little star, \\n\\tHow I wonder what you are\")"
   ]
  },
  {
   "cell_type": "code",
   "execution_count": null,
   "metadata": {},
   "outputs": [],
   "source": [
    "#Calculate 100\n",
    "import datetime\n",
    "\n",
    "today = datetime.date.today() #getting today's date\n",
    "name = input(\"What's your name? \")\n",
    "\n",
    "while True:\n",
    "    dob = input(\"When were you born? dd/mm/yyyy \")\n",
    "    dob_split = dob.split(\"/\")\n",
    "    \n",
    "    try:\n",
    "        dob_date = datetime.date(int(dob_split[2]), int(dob_split[1]), int(dob_split[0]))\n",
    "        difference = today - dob_date\n",
    "    except:\n",
    "        print(\"Error, retry\")\n",
    "        continue\n",
    "    \n",
    "    break\n",
    "    \n",
    "age = difference // datetime.timedelta(days=365)\n",
    "hundred = 100 - age\n",
    "\n",
    "print(f\"\\n\\n{name}\\nDate of birthday: {dob_date}\\nAge: {age}\\nYou will be 100 years old in {hundred} years\\n{datetime.date(int(dob_split[2])+100, int(dob_split[1]), int(dob_split[0]))} will be the date of your 100th birthday!!\")\n"
   ]
  },
  {
   "cell_type": "code",
   "execution_count": null,
   "metadata": {},
   "outputs": [],
   "source": [
    "dob_split"
   ]
  },
  {
   "cell_type": "code",
   "execution_count": null,
   "metadata": {},
   "outputs": [],
   "source": [
    "print(str(today)[0])"
   ]
  },
  {
   "cell_type": "code",
   "execution_count": null,
   "metadata": {},
   "outputs": [],
   "source": [
    "dob_date"
   ]
  },
  {
   "cell_type": "code",
   "execution_count": null,
   "metadata": {},
   "outputs": [],
   "source": [
    "today"
   ]
  },
  {
   "cell_type": "code",
   "execution_count": null,
   "metadata": {},
   "outputs": [],
   "source": [
    "difference = today - dob_date"
   ]
  },
  {
   "cell_type": "code",
   "execution_count": null,
   "metadata": {},
   "outputs": [],
   "source": [
    "difference"
   ]
  },
  {
   "cell_type": "code",
   "execution_count": null,
   "metadata": {},
   "outputs": [],
   "source": [
    "str(difference)[0]"
   ]
  },
  {
   "cell_type": "code",
   "execution_count": null,
   "metadata": {},
   "outputs": [],
   "source": [
    "#A stupid calculator: make n + nn + nnn\n",
    "n = input(\"n: \")\n",
    "print(int(n)+int(n*2)+int(n*3))"
   ]
  },
  {
   "cell_type": "markdown",
   "metadata": {},
   "source": [
    "03/08/2020"
   ]
  },
  {
   "cell_type": "code",
   "execution_count": null,
   "metadata": {},
   "outputs": [],
   "source": [
    "#Using Arrays\n",
    "\n",
    "rows = int(input(\"Rows: \"))\n",
    "columns = int(input(\"Columns: \"))\n",
    "\n",
    "array = [[0 for column in range(columns)] for row in range(rows)]\n",
    "\n",
    "print(array)\n",
    "\n",
    "for row in range(rows):\n",
    "    for column in range(columns):\n",
    "        array[row][column] = row*column\n",
    "print(array)"
   ]
  },
  {
   "cell_type": "code",
   "execution_count": null,
   "metadata": {},
   "outputs": [],
   "source": [
    "#Triangle checker\n",
    "\"\"\"\n",
    "The sum of the 2 shortest sides must be higher than the biggest side\n",
    "\"\"\"\n",
    "\n",
    "def triangle(l1,l2,l3):\n",
    "    if (l1 < l2 + l3) and (l2 < l1 + l3) and (l3 < l1 + l2): #If the sum of 2 sides is bigger than a side, repeated for each couple, you can build a triangle\n",
    "        print(\"Yes\")\n",
    "    else:\n",
    "        print(\"No\")\n",
    "    "
   ]
  },
  {
   "cell_type": "code",
   "execution_count": null,
   "metadata": {},
   "outputs": [],
   "source": [
    "triangle(8,10,5)"
   ]
  },
  {
   "cell_type": "code",
   "execution_count": null,
   "metadata": {},
   "outputs": [],
   "source": [
    "#Half christmas tree\n",
    "for x in range(int(input())+1):\n",
    "    print(str(x)*x)"
   ]
  },
  {
   "cell_type": "code",
   "execution_count": null,
   "metadata": {},
   "outputs": [],
   "source": [
    "#useless pattern\n",
    "x = 1\n",
    "while x != 0:\n",
    "    print(\"-\" * x)\n",
    "    x += 1"
   ]
  },
  {
   "cell_type": "markdown",
   "metadata": {},
   "source": [
    "04/08/2020"
   ]
  },
  {
   "cell_type": "code",
   "execution_count": null,
   "metadata": {},
   "outputs": [],
   "source": [
    "#AlphaNum counter\n",
    "def alphanum_counter(text):\n",
    "    digits = letters = 0\n",
    "    for i in text:\n",
    "        if i.isdigit():\n",
    "            digits += 1\n",
    "        elif i.isalpha():\n",
    "            letters += 1\n",
    "    print(f\"Letters: {letters}; Digits: {digits}\")\n",
    "\n",
    "alphanum_counter(\"fff33\") #calling func"
   ]
  },
  {
   "cell_type": "code",
   "execution_count": null,
   "metadata": {},
   "outputs": [],
   "source": [
    "#EvenOdder\n",
    "def evenodd(nums):\n",
    "    evens = odds = 0\n",
    "    for n in nums:\n",
    "        if n % 2 == 0:\n",
    "            evens += 1\n",
    "        else:\n",
    "            odds += 1\n",
    "    print(f\"Evens: {evens}; Odds: {odds}\")\n",
    "\n",
    "evenodd((1, 2, 3, 4, 5, 6, 7, 8, 9)) #calling func"
   ]
  },
  {
   "cell_type": "code",
   "execution_count": null,
   "metadata": {},
   "outputs": [],
   "source": [
    "#Fibonacci\n",
    "def fib(n):\n",
    "    a = 0\n",
    "    b = 1\n",
    "    while b<n:\n",
    "        print(b)\n",
    "        a, b = b, a+b #This is the only way (fast) to follow the formula. You cannot put this on multiple line because the a or b value will change during the process of assigning the values. You should use several lines to remember a/b value to reassign to a/b if you want to make it clearer\n",
    "        \n",
    "fib(50) #calling func"
   ]
  },
  {
   "cell_type": "code",
   "execution_count": null,
   "metadata": {},
   "outputs": [],
   "source": [
    "#Write a Python program to find those numbers which are divisible by 7 and multiple of 5, between 1500 and 2700\n",
    "def finder():\n",
    "    numbers = []\n",
    "    for x in range(1500,2701):\n",
    "        if x % 7 == 0 and x % 5 == 0:\n",
    "            numbers.append(x)\n",
    "    print(numbers)\n",
    "\n",
    "finder() #calling func      "
   ]
  },
  {
   "cell_type": "markdown",
   "metadata": {},
   "source": [
    "05/08/2020"
   ]
  },
  {
   "cell_type": "code",
   "execution_count": 13,
   "metadata": {},
   "outputs": [],
   "source": [
    "#Validator\n",
    "import re\n",
    "def validator():\n",
    "    while True:\n",
    "        password = input(\"Input your password\")\n",
    "        \n",
    "        if (len(password)<6 or len(password)>12):\n",
    "            break\n",
    "        elif not re.search(\"[a-z]\",password): #search a list in the password string\n",
    "            break\n",
    "        elif not re.search(\"[0-9]\",password):\n",
    "            break\n",
    "        elif not re.search(\"[A-Z]\",password):\n",
    "            break\n",
    "        elif not re.search(\"[$#@]\",password):\n",
    "            break\n",
    "        elif re.search(\"\\s\",password):\n",
    "            break\n",
    "        else:\n",
    "            print(\"Valid Password\")\n",
    "            break\n",
    "        \n",
    "        print(\"Retry\")\n",
    "        continue"
   ]
  },
  {
   "cell_type": "code",
   "execution_count": 14,
   "metadata": {},
   "outputs": [
    {
     "name": "stdout",
     "output_type": "stream",
     "text": [
      "Input your passwordaf83@ADS\n",
      "Valid Password\n"
     ]
    }
   ],
   "source": [
    "validator()"
   ]
  },
  {
   "cell_type": "code",
   "execution_count": 15,
   "metadata": {},
   "outputs": [
    {
     "name": "stdout",
     "output_type": "stream",
     "text": [
      "Input your password332\n"
     ]
    }
   ],
   "source": [
    "validator()"
   ]
  },
  {
   "cell_type": "code",
   "execution_count": 16,
   "metadata": {},
   "outputs": [],
   "source": [
    "#Triangle type\n",
    "def trian():\n",
    "    l1 = input(\"l1: \")\n",
    "    l2 = input(\"l2: \")\n",
    "    l3 = input(\"l3: \")\n",
    "    \n",
    "    if l1 == l2 == l3:\n",
    "        print(\"Euquiteral\")\n",
    "    elif l1 == l2 != l3  or l1 == l3 != l2 or l1 != l2 == l3:\n",
    "        print(\"Isosceles\")\n",
    "    else:\n",
    "        print(\"Scalene\")"
   ]
  },
  {
   "cell_type": "code",
   "execution_count": 18,
   "metadata": {},
   "outputs": [
    {
     "name": "stdout",
     "output_type": "stream",
     "text": [
      "l1: 8\n",
      "l2: 8\n",
      "l3: 8\n",
      "Euquiteral\n"
     ]
    }
   ],
   "source": [
    "trian()"
   ]
  },
  {
   "cell_type": "code",
   "execution_count": 19,
   "metadata": {},
   "outputs": [
    {
     "name": "stdout",
     "output_type": "stream",
     "text": [
      "l1: 6\n",
      "l2: 4\n",
      "l3: 6\n",
      "Isosceles\n"
     ]
    }
   ],
   "source": [
    "trian()"
   ]
  },
  {
   "cell_type": "code",
   "execution_count": 20,
   "metadata": {},
   "outputs": [
    {
     "name": "stdout",
     "output_type": "stream",
     "text": [
      "l1: 5\n",
      "l2: 6\n",
      "l3: 7\n",
      "Scalene\n"
     ]
    }
   ],
   "source": [
    "trian()"
   ]
  },
  {
   "cell_type": "code",
   "execution_count": 1,
   "metadata": {},
   "outputs": [
    {
     "name": "stdin",
     "output_type": "stream",
     "text": [
      "Letter:  da233AD@\n"
     ]
    },
    {
     "name": "stdout",
     "output_type": "stream",
     "text": [
      "da233AD@ is a consonant\n"
     ]
    }
   ],
   "source": [
    "#wovel - consonant\n",
    "def wovnsonant():\n",
    "    l = input(\"Letter: \")\n",
    "    if l in [\"a\",\"e\",\"i\",\"o\",\"u\"]:\n",
    "        print(f\"{l} is a wovel\")\n",
    "    else:\n",
    "        print(f\"{l} is a consonant\")\n",
    "        \n",
    "wovnsonant()"
   ]
  },
  {
   "cell_type": "code",
   "execution_count": 2,
   "metadata": {},
   "outputs": [
    {
     "name": "stdin",
     "output_type": "stream",
     "text": [
      "Letter:  a\n"
     ]
    },
    {
     "name": "stdout",
     "output_type": "stream",
     "text": [
      "a is a wovel\n"
     ]
    }
   ],
   "source": [
    "wovnsonant()"
   ]
  },
  {
   "cell_type": "markdown",
   "metadata": {},
   "source": [
    "06/08/2020"
   ]
  },
  {
   "cell_type": "code",
   "execution_count": 7,
   "metadata": {},
   "outputs": [
    {
     "data": {
      "text/plain": [
       "'ab'"
      ]
     },
     "execution_count": 7,
     "metadata": {},
     "output_type": "execute_result"
    }
   ],
   "source": [
    "#Convert a list of characters into a string\n",
    "def conv(l):\n",
    "    l\n",
    "    return \"\".join(l)\n",
    "\n",
    "conv([\"a\",\"b\"])"
   ]
  },
  {
   "cell_type": "code",
   "execution_count": 8,
   "metadata": {},
   "outputs": [
    {
     "data": {
      "text/plain": [
       "True"
      ]
     },
     "execution_count": 8,
     "metadata": {},
     "output_type": "execute_result"
    }
   ],
   "source": [
    "#check whether a list contains a sublist.\n",
    "def sublist(a,b):\n",
    "    for i in a:\n",
    "        if i in b:\n",
    "            return True\n",
    "        \n",
    "sublist([1,2,3,6],[4,8,9,3])   "
   ]
  },
  {
   "cell_type": "markdown",
   "metadata": {},
   "source": [
    "07/08/2020"
   ]
  },
  {
   "cell_type": "code",
   "execution_count": 7,
   "metadata": {},
   "outputs": [
    {
     "name": "stdout",
     "output_type": "stream",
     "text": [
      "{'Black'}\n"
     ]
    }
   ],
   "source": [
    "#find items in common\n",
    "l1 = [\"Red\",\"Green\",\"Blue\",\"Grey\",\"Black\"]\n",
    "l2 = [\"Purple\",\"White\",\"Black\"]\n",
    "print(set(l1) & set(l2))"
   ]
  },
  {
   "cell_type": "code",
   "execution_count": 8,
   "metadata": {},
   "outputs": [
    {
     "name": "stdout",
     "output_type": "stream",
     "text": [
      "{'Red', 'Blue', 'Green', 'Grey'}\n"
     ]
    }
   ],
   "source": [
    "#the opposite of & is -\n",
    "print(set(l1) - set(l2))"
   ]
  },
  {
   "cell_type": "code",
   "execution_count": 9,
   "metadata": {},
   "outputs": [
    {
     "data": {
      "text/plain": [
       "34"
      ]
     },
     "execution_count": 9,
     "metadata": {},
     "output_type": "execute_result"
    }
   ],
   "source": [
    "#find max number in a list\n",
    "def max_finder(l):\n",
    "    return max(l)\n",
    "\n",
    "max_finder([1,34,5])"
   ]
  },
  {
   "cell_type": "code",
   "execution_count": 1,
   "metadata": {},
   "outputs": [
    {
     "data": {
      "text/plain": [
       "{1: 2, 2: 3, 3: 5, 4: 4, 5: 3}"
      ]
     },
     "execution_count": 1,
     "metadata": {},
     "output_type": "execute_result"
    }
   ],
   "source": [
    "#frequency calculator\n",
    "def freq_calc(l):\n",
    "    freq = {}\n",
    "    \n",
    "    for x in l:\n",
    "        if x not in freq:\n",
    "            x_freq = l.count(x)\n",
    "            freq.update( {x : x_freq} )\n",
    "            \n",
    "    return freq\n",
    "\n",
    "freq_calc([1,2,3,4,5,1,4,3,2,4,5,3,2,3,4,3,5])"
   ]
  },
  {
   "cell_type": "markdown",
   "metadata": {},
   "source": [
    "08/08/2020"
   ]
  },
  {
   "cell_type": "code",
   "execution_count": 2,
   "metadata": {},
   "outputs": [
    {
     "name": "stdout",
     "output_type": "stream",
     "text": [
      "[40, 10, 80, 50, 20, 60, 30]\n"
     ]
    }
   ],
   "source": [
    "#remove duplicate\n",
    "a = [10,20,30,20,10,50,60,40,80,50,40]\n",
    "print(list(set(a)))"
   ]
  },
  {
   "cell_type": "code",
   "execution_count": 11,
   "metadata": {},
   "outputs": [
    {
     "data": {
      "text/plain": [
       "-2"
      ]
     },
     "execution_count": 11,
     "metadata": {},
     "output_type": "execute_result"
    }
   ],
   "source": [
    "#return the second smallest\n",
    "def sec_small(l):\n",
    "    l = list(set(l)) #removing duplicates\n",
    "    x = min(l) #getting the smallest\n",
    "    l.remove(x) #removing the smallest \n",
    "    return min(l) #returning the second smallest\n",
    "    \n",
    "sec_small([1,2,5,8,-2,-8,-8])"
   ]
  },
  {
   "cell_type": "code",
   "execution_count": 12,
   "metadata": {},
   "outputs": [
    {
     "data": {
      "text/plain": [
       "6"
      ]
     },
     "execution_count": 12,
     "metadata": {},
     "output_type": "execute_result"
    }
   ],
   "source": [
    "#list sum\n",
    "def l_sum(nums):\n",
    "    tot = 0\n",
    "    for i in nums:\n",
    "        tot += i\n",
    "    return tot\n",
    "\n",
    "l_sum([1,2,3])"
   ]
  },
  {
   "cell_type": "markdown",
   "metadata": {},
   "source": [
    "09/08/2020"
   ]
  },
  {
   "cell_type": "code",
   "execution_count": 27,
   "metadata": {},
   "outputs": [
    {
     "data": {
      "text/plain": [
       "'BCDEF ghijk !15'"
      ]
     },
     "execution_count": 27,
     "metadata": {},
     "output_type": "execute_result"
    }
   ],
   "source": [
    "#caesar encryption\n",
    "def caesar_encrypt(text, key):\n",
    "    crypted_text = []\n",
    "    \n",
    "    upper_letters = ['A', 'B', 'C', 'D', 'E', 'F', 'G', 'H', 'I', 'J', 'K', 'L', 'M', 'N', 'O', 'P', 'Q', 'R', 'S', 'T', 'U', 'V', 'W', 'X', 'Y', 'Z']\n",
    "    lower_letters = ['a', 'b', 'c', 'd', 'e', 'f', 'g', 'h', 'i', 'j', 'k', 'l', 'm', 'n', 'o', 'p', 'q', 'r', 's', 't', 'u', 'v', 'w', 'x', 'y', 'z']\n",
    "    \n",
    "    for i in text:\n",
    "        if i.islower():\n",
    "            crypt_index = lower_letters.index(i) + key\n",
    "            if crypt_index >= 26: #to avoid the list index out of range error\n",
    "                crypt_index -= 26\n",
    "                \n",
    "            crypted_text.append(lower_letters[crypt_index])\n",
    "        \n",
    "        elif i.isupper():\n",
    "            crypt_index = upper_letters.index(i) + key\n",
    "            if crypt_index >= 26: #to avoid the list index out of range error\n",
    "                crypt_index -= 26\n",
    "            \n",
    "            crypted_text.append(upper_letters[crypt_index])\n",
    "            \n",
    "        else:\n",
    "            crypted_text.append(i)\n",
    "            \n",
    "    return \"\".join(crypted_text) #spaces or numbers or symbols\n",
    "            \n",
    "caesar_encrypt(\"ABCDE fghij !15\",1)"
   ]
  },
  {
   "cell_type": "code",
   "execution_count": 31,
   "metadata": {},
   "outputs": [
    {
     "name": "stdout",
     "output_type": "stream",
     "text": [
      "923456781\n"
     ]
    }
   ],
   "source": [
    "#exchange the first with the last letter\n",
    "def exchanger(text):\n",
    "    print(text[-1]+text[1:-1]+text[0])\n",
    "    \n",
    "exchanger(\"123456789\")"
   ]
  },
  {
   "cell_type": "code",
   "execution_count": 1,
   "metadata": {},
   "outputs": [
    {
     "data": {
      "text/plain": [
       "{'g': 2, 'o': 2, 'l': 1, 'e': 1}"
      ]
     },
     "execution_count": 1,
     "metadata": {},
     "output_type": "execute_result"
    }
   ],
   "source": [
    "#frequency calculator\n",
    "#it's the same of the first frequency calculator, just give a string instead of a list\n",
    "def freq_calc(l):\n",
    "    freq = {}\n",
    "    \n",
    "    for x in l:\n",
    "        if x not in freq:\n",
    "            x_freq = l.count(x)\n",
    "            freq.update( {x : x_freq} )\n",
    "            \n",
    "    return freq\n",
    "\n",
    "freq_calc(\"google\")"
   ]
  },
  {
   "cell_type": "markdown",
   "metadata": {},
   "source": [
    "10/08/2020"
   ]
  },
  {
   "cell_type": "code",
   "execution_count": 5,
   "metadata": {},
   "outputs": [
    {
     "name": "stdout",
     "output_type": "stream",
     "text": [
      "<a>Hello World!</a>\n"
     ]
    }
   ],
   "source": [
    "#HTML tag\n",
    "def tagger(tag, text):\n",
    "    print(f\"<{tag}>{text}</{tag}>\")\n",
    "\n",
    "tagger(\"a\",\"Hello World!\")"
   ]
  },
  {
   "cell_type": "code",
   "execution_count": 6,
   "metadata": {},
   "outputs": [
    {
     "data": {
      "text/plain": [
       "[5, 'NiHao']"
      ]
     },
     "execution_count": 6,
     "metadata": {},
     "output_type": "execute_result"
    }
   ],
   "source": [
    "#Return the longest word\n",
    "def long(l):\n",
    "    longer = [0,\" \"]\n",
    "    for x in l:\n",
    "        if len(x) > longer[0]:\n",
    "            longer[0] = len(x)\n",
    "            longer[1] = x\n",
    "    return longer\n",
    "\n",
    "long([\"Hi\",\"Hola\",\"Ciao\",\"NiHao\",\"Salut\"])"
   ]
  },
  {
   "cell_type": "code",
   "execution_count": 16,
   "metadata": {},
   "outputs": [
    {
     "data": {
      "text/plain": [
       "'M name is Carlo'"
      ]
     },
     "execution_count": 16,
     "metadata": {},
     "output_type": "execute_result"
    }
   ],
   "source": [
    "#remove the index char\n",
    "def remover(text,position):\n",
    "    return text[:position-1] + text[position:] #index based on numbers of counted letters, so i put a -1 at first index\n",
    "            \n",
    "remover(\"My name is Carlo\", 2) "
   ]
  },
  {
   "cell_type": "code",
   "execution_count": 33,
   "metadata": {},
   "outputs": [
    {
     "data": {
      "text/plain": [
       "['15', \"I'm\", 'and', 'Carlo', 'is', 'name', 'My']"
      ]
     },
     "execution_count": 33,
     "metadata": {},
     "output_type": "execute_result"
    }
   ],
   "source": [
    "#revert words in a phrase\n",
    "def reverter(text):\n",
    "    list_of_text = text.split()\n",
    "    \n",
    "    return list_of_text[::-1]\n",
    "\n",
    "reverter(\"My name is Carlo and I'm 15\")"
   ]
  },
  {
   "cell_type": "code",
   "execution_count": 39,
   "metadata": {},
   "outputs": [
    {
     "data": {
      "text/plain": [
       "25"
      ]
     },
     "execution_count": 39,
     "metadata": {},
     "output_type": "execute_result"
    }
   ],
   "source": [
    "#string length\n",
    "def length(s):\n",
    "    return len(s)\n",
    "\n",
    "length(\"wojiao Carlo，nijiaoshenne?\")"
   ]
  },
  {
   "cell_type": "code",
   "execution_count": 1,
   "metadata": {},
   "outputs": [
    {
     "data": {
      "text/plain": [
       "{'the': 2,\n",
       " 'quick': 1,\n",
       " 'brown': 1,\n",
       " 'fox': 1,\n",
       " 'jumps': 1,\n",
       " 'over': 1,\n",
       " 'lazy': 1,\n",
       " 'dog.': 1}"
      ]
     },
     "execution_count": 1,
     "metadata": {},
     "output_type": "execute_result"
    }
   ],
   "source": [
    "#words' freq\n",
    "def word_freq(s):\n",
    "    freq = {}\n",
    "    words = s.split()\n",
    "    for x in words:\n",
    "        if x in freq:\n",
    "            freq[x] += 1\n",
    "        else:\n",
    "            freq.update( {x : 1} )\n",
    "    \n",
    "    return freq\n",
    "\n",
    "word_freq(\"the quick brown fox jumps over the lazy dog.\")\n"
   ]
  },
  {
   "cell_type": "markdown",
   "metadata": {},
   "source": [
    "11/08/2020"
   ]
  },
  {
   "cell_type": "code",
   "execution_count": 5,
   "metadata": {},
   "outputs": [
    {
     "data": {
      "text/plain": [
       "False"
      ]
     },
     "execution_count": 5,
     "metadata": {},
     "output_type": "execute_result"
    }
   ],
   "source": [
    "#check if key exists\n",
    "def keyer(k, d):\n",
    "    if k in d:\n",
    "        return True\n",
    "    else:\n",
    "        return False\n",
    "    \n",
    "keyer(4,{1:2,2:3,5:6,5:4})\n",
    "    "
   ]
  },
  {
   "cell_type": "code",
   "execution_count": 8,
   "metadata": {},
   "outputs": [
    {
     "name": "stdout",
     "output_type": "stream",
     "text": [
      "{1: 10, 2: 20, 3: 30, 4: 40, 5: 50, 6: 60}\n"
     ]
    }
   ],
   "source": [
    "#concatenate\n",
    "dic1={1:10, 2:20}\n",
    "dic2={3:30, 4:40}\n",
    "dic3={5:50,6:60}\n",
    "for i in dic2,dic3:\n",
    "    dic1.update(i)\n",
    "    \n",
    "print(dic1)"
   ]
  },
  {
   "cell_type": "code",
   "execution_count": 1,
   "metadata": {},
   "outputs": [
    {
     "name": "stdout",
     "output_type": "stream",
     "text": [
      "x = 10\n",
      "y = 20\n",
      "z = 30\n"
     ]
    }
   ],
   "source": [
    "#iterate\n",
    "d = {'x': 10, 'y': 20, 'z': 30} \n",
    "for k,v in d.items():\n",
    "    print(f\"{k} = {v}\")"
   ]
  },
  {
   "cell_type": "markdown",
   "metadata": {},
   "source": [
    "12/08/2020"
   ]
  },
  {
   "cell_type": "code",
   "execution_count": 12,
   "metadata": {},
   "outputs": [
    {
     "name": "stdout",
     "output_type": "stream",
     "text": [
      "[0, 1, 2, 3, 4]\n",
      "[4, 3, 2, 1, 0]\n"
     ]
    }
   ],
   "source": [
    "#sort ascending/descending\n",
    "d = {0: 0, 1: 2, 2: 1, 3: 4, 5: 3}\n",
    "print(sorted(d.values()))\n",
    "print(sorted(d.values(), reverse = True))"
   ]
  },
  {
   "cell_type": "code",
   "execution_count": 37,
   "metadata": {},
   "outputs": [
    {
     "name": "stdout",
     "output_type": "stream",
     "text": [
      "{1: 1, 2: 4, 3: 9, 4: 16, 5: 25, 6: 36, 7: 49, 8: 64, 9: 81, 10: 100, 11: 121, 12: 144, 13: 169, 14: 196, 15: 225}\n"
     ]
    }
   ],
   "source": [
    "#dict comprehension\n",
    "d = {x: x**2 for x in range(1,16)}\n",
    "print(d)"
   ]
  },
  {
   "cell_type": "code",
   "execution_count": 38,
   "metadata": {},
   "outputs": [
    {
     "data": {
      "text/plain": [
       "1240"
      ]
     },
     "execution_count": 38,
     "metadata": {},
     "output_type": "execute_result"
    }
   ],
   "source": [
    "d = {x: x**2 for x in range(1,16)}\n",
    "sum(d.values())\n"
   ]
  },
  {
   "cell_type": "code",
   "execution_count": null,
   "metadata": {},
   "outputs": [],
   "source": []
  }
 ],
 "metadata": {
  "kernelspec": {
   "display_name": "Python 3",
   "language": "python",
   "name": "python3"
  },
  "language_info": {
   "codemirror_mode": {
    "name": "ipython",
    "version": 3
   },
   "file_extension": ".py",
   "mimetype": "text/x-python",
   "name": "python",
   "nbconvert_exporter": "python",
   "pygments_lexer": "ipython3",
   "version": "3.7.6"
  }
 },
 "nbformat": 4,
 "nbformat_minor": 4
}
